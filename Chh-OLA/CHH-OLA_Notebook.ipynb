{
 "cells": [
  {
   "cell_type": "code",
   "execution_count": 4,
   "metadata": {},
   "outputs": [],
   "source": [
    "import numpy as np\n",
    "import pandas as pd\n",
    "import matplotlib.pyplot as plt\n",
    "from sklearn import linear_model, metrics"
   ]
  },
  {
   "cell_type": "code",
   "execution_count": null,
   "metadata": {},
   "outputs": [],
   "source": [
    "from sklearn.preprocessing import LabelEncoder\n",
    "le = LabelEncoder()"
   ]
  },
  {
   "cell_type": "code",
   "execution_count": 5,
   "metadata": {},
   "outputs": [],
   "source": [
    "df = pd.read_csv(\"train.csv\",low_memory=False)"
   ]
  },
  {
   "cell_type": "code",
   "execution_count": 6,
   "metadata": {},
   "outputs": [
    {
     "data": {
      "text/plain": [
       "(1048575, 17)"
      ]
     },
     "execution_count": 6,
     "metadata": {},
     "output_type": "execute_result"
    }
   ],
   "source": [
    "df.shape"
   ]
  },
  {
   "cell_type": "code",
   "execution_count": 7,
   "metadata": {},
   "outputs": [],
   "source": [
    "df.columns = ['ID','vendor_id','pickup_loc','drop_loc','driver_tip','mta_tax','distance','pickup_time','drop_time','num_passengers','toll_amount','payment_method','rate_code','stored_flag','extra_charges','improvement_charge','total_amount']"
   ]
  },
  {
   "cell_type": "code",
   "execution_count": 8,
   "metadata": {},
   "outputs": [
    {
     "data": {
      "text/html": [
       "<div>\n",
       "<style scoped>\n",
       "    .dataframe tbody tr th:only-of-type {\n",
       "        vertical-align: middle;\n",
       "    }\n",
       "\n",
       "    .dataframe tbody tr th {\n",
       "        vertical-align: top;\n",
       "    }\n",
       "\n",
       "    .dataframe thead th {\n",
       "        text-align: right;\n",
       "    }\n",
       "</style>\n",
       "<table border=\"1\" class=\"dataframe\">\n",
       "  <thead>\n",
       "    <tr style=\"text-align: right;\">\n",
       "      <th></th>\n",
       "      <th>ID</th>\n",
       "      <th>vendor_id</th>\n",
       "      <th>pickup_loc</th>\n",
       "      <th>drop_loc</th>\n",
       "      <th>driver_tip</th>\n",
       "      <th>mta_tax</th>\n",
       "      <th>distance</th>\n",
       "      <th>pickup_time</th>\n",
       "      <th>drop_time</th>\n",
       "      <th>num_passengers</th>\n",
       "      <th>toll_amount</th>\n",
       "      <th>payment_method</th>\n",
       "      <th>rate_code</th>\n",
       "      <th>stored_flag</th>\n",
       "      <th>extra_charges</th>\n",
       "      <th>improvement_charge</th>\n",
       "      <th>total_amount</th>\n",
       "    </tr>\n",
       "  </thead>\n",
       "  <tbody>\n",
       "    <tr>\n",
       "      <th>0</th>\n",
       "      <td>0</td>\n",
       "      <td>1</td>\n",
       "      <td>170.0</td>\n",
       "      <td>233.0</td>\n",
       "      <td>1.83</td>\n",
       "      <td>0.5</td>\n",
       "      <td>0.70</td>\n",
       "      <td>04/04/2017 05:59:43 PM</td>\n",
       "      <td>04/04/2017 06:05:04 PM</td>\n",
       "      <td>1.0</td>\n",
       "      <td>0</td>\n",
       "      <td>1.0</td>\n",
       "      <td>1.0</td>\n",
       "      <td>N</td>\n",
       "      <td>1</td>\n",
       "      <td>0.3</td>\n",
       "      <td>9.13</td>\n",
       "    </tr>\n",
       "    <tr>\n",
       "      <th>1</th>\n",
       "      <td>1</td>\n",
       "      <td>2</td>\n",
       "      <td>151.0</td>\n",
       "      <td>243.0</td>\n",
       "      <td>3.56</td>\n",
       "      <td>0.5</td>\n",
       "      <td>4.64</td>\n",
       "      <td>04/03/2017 07:03:34 PM</td>\n",
       "      <td>04/03/2017 07:20:04 PM</td>\n",
       "      <td>1.0</td>\n",
       "      <td>0</td>\n",
       "      <td>1.0</td>\n",
       "      <td>1.0</td>\n",
       "      <td>N</td>\n",
       "      <td>1</td>\n",
       "      <td>0.3</td>\n",
       "      <td>21.36</td>\n",
       "    </tr>\n",
       "    <tr>\n",
       "      <th>2</th>\n",
       "      <td>2</td>\n",
       "      <td>2</td>\n",
       "      <td>68.0</td>\n",
       "      <td>90.0</td>\n",
       "      <td>1.5</td>\n",
       "      <td>0.5</td>\n",
       "      <td>1.29</td>\n",
       "      <td>04/03/2017 03:06:13 PM</td>\n",
       "      <td>04/03/2017 03:12:30 PM</td>\n",
       "      <td>2.0</td>\n",
       "      <td>0</td>\n",
       "      <td>1.0</td>\n",
       "      <td>1.0</td>\n",
       "      <td>N</td>\n",
       "      <td>0</td>\n",
       "      <td>0.3</td>\n",
       "      <td>8.8</td>\n",
       "    </tr>\n",
       "    <tr>\n",
       "      <th>3</th>\n",
       "      <td>3</td>\n",
       "      <td>2</td>\n",
       "      <td>142.0</td>\n",
       "      <td>234.0</td>\n",
       "      <td>1.5</td>\n",
       "      <td>0.5</td>\n",
       "      <td>2.74</td>\n",
       "      <td>04/04/2017 08:10:52 AM</td>\n",
       "      <td>04/04/2017 08:27:00 AM</td>\n",
       "      <td>1.0</td>\n",
       "      <td>0</td>\n",
       "      <td>1.0</td>\n",
       "      <td>1.0</td>\n",
       "      <td>N</td>\n",
       "      <td>0</td>\n",
       "      <td>0.3</td>\n",
       "      <td>14.8</td>\n",
       "    </tr>\n",
       "    <tr>\n",
       "      <th>4</th>\n",
       "      <td>4</td>\n",
       "      <td>2</td>\n",
       "      <td>238.0</td>\n",
       "      <td>238.0</td>\n",
       "      <td>0</td>\n",
       "      <td>0.5</td>\n",
       "      <td>0.45</td>\n",
       "      <td>04/05/2017 02:02:59 PM</td>\n",
       "      <td>04/05/2017 02:05:41 PM</td>\n",
       "      <td>6.0</td>\n",
       "      <td>0</td>\n",
       "      <td>2.0</td>\n",
       "      <td>1.0</td>\n",
       "      <td>N</td>\n",
       "      <td>0</td>\n",
       "      <td>0.3</td>\n",
       "      <td>4.8</td>\n",
       "    </tr>\n",
       "  </tbody>\n",
       "</table>\n",
       "</div>"
      ],
      "text/plain": [
       "   ID vendor_id  pickup_loc  drop_loc driver_tip mta_tax  distance  \\\n",
       "0   0         1       170.0     233.0       1.83     0.5      0.70   \n",
       "1   1         2       151.0     243.0       3.56     0.5      4.64   \n",
       "2   2         2        68.0      90.0        1.5     0.5      1.29   \n",
       "3   3         2       142.0     234.0        1.5     0.5      2.74   \n",
       "4   4         2       238.0     238.0          0     0.5      0.45   \n",
       "\n",
       "              pickup_time               drop_time  num_passengers toll_amount  \\\n",
       "0  04/04/2017 05:59:43 PM  04/04/2017 06:05:04 PM             1.0           0   \n",
       "1  04/03/2017 07:03:34 PM  04/03/2017 07:20:04 PM             1.0           0   \n",
       "2  04/03/2017 03:06:13 PM  04/03/2017 03:12:30 PM             2.0           0   \n",
       "3  04/04/2017 08:10:52 AM  04/04/2017 08:27:00 AM             1.0           0   \n",
       "4  04/05/2017 02:02:59 PM  04/05/2017 02:05:41 PM             6.0           0   \n",
       "\n",
       "   payment_method  rate_code stored_flag extra_charges improvement_charge  \\\n",
       "0             1.0        1.0           N             1                0.3   \n",
       "1             1.0        1.0           N             1                0.3   \n",
       "2             1.0        1.0           N             0                0.3   \n",
       "3             1.0        1.0           N             0                0.3   \n",
       "4             2.0        1.0           N             0                0.3   \n",
       "\n",
       "  total_amount  \n",
       "0         9.13  \n",
       "1        21.36  \n",
       "2          8.8  \n",
       "3         14.8  \n",
       "4          4.8  "
      ]
     },
     "execution_count": 8,
     "metadata": {},
     "output_type": "execute_result"
    }
   ],
   "source": [
    "df.head()"
   ]
  },
  {
   "cell_type": "code",
   "execution_count": 9,
   "metadata": {},
   "outputs": [],
   "source": [
    "df = df.dropna()"
   ]
  },
  {
   "cell_type": "code",
   "execution_count": 10,
   "metadata": {},
   "outputs": [
    {
     "data": {
      "text/plain": [
       "Index(['ID', 'vendor_id', 'pickup_loc', 'drop_loc', 'driver_tip', 'mta_tax',\n",
       "       'distance', 'pickup_time', 'drop_time', 'num_passengers', 'toll_amount',\n",
       "       'payment_method', 'rate_code', 'stored_flag', 'extra_charges',\n",
       "       'improvement_charge', 'total_amount'],\n",
       "      dtype='object')"
      ]
     },
     "execution_count": 10,
     "metadata": {},
     "output_type": "execute_result"
    }
   ],
   "source": [
    "df.columns"
   ]
  },
  {
   "cell_type": "code",
   "execution_count": 11,
   "metadata": {},
   "outputs": [
    {
     "data": {
      "text/plain": [
       "ID                      int64\n",
       "vendor_id              object\n",
       "pickup_loc            float64\n",
       "drop_loc              float64\n",
       "driver_tip             object\n",
       "mta_tax                object\n",
       "distance              float64\n",
       "pickup_time            object\n",
       "drop_time              object\n",
       "num_passengers        float64\n",
       "toll_amount            object\n",
       "payment_method        float64\n",
       "rate_code             float64\n",
       "stored_flag            object\n",
       "extra_charges          object\n",
       "improvement_charge     object\n",
       "total_amount           object\n",
       "dtype: object"
      ]
     },
     "execution_count": 11,
     "metadata": {},
     "output_type": "execute_result"
    }
   ],
   "source": [
    "df.dtypes"
   ]
  },
  {
   "cell_type": "code",
   "execution_count": 12,
   "metadata": {},
   "outputs": [
    {
     "data": {
      "text/plain": [
       "ID                    0\n",
       "vendor_id             0\n",
       "pickup_loc            0\n",
       "drop_loc              0\n",
       "driver_tip            0\n",
       "mta_tax               0\n",
       "distance              0\n",
       "pickup_time           0\n",
       "drop_time             0\n",
       "num_passengers        0\n",
       "toll_amount           0\n",
       "payment_method        0\n",
       "rate_code             0\n",
       "stored_flag           0\n",
       "extra_charges         0\n",
       "improvement_charge    0\n",
       "total_amount          0\n",
       "dtype: int64"
      ]
     },
     "execution_count": 12,
     "metadata": {},
     "output_type": "execute_result"
    }
   ],
   "source": [
    "df.isna().sum()"
   ]
  },
  {
   "cell_type": "code",
   "execution_count": 196,
   "metadata": {},
   "outputs": [],
   "source": [
    "df = df.dropna()"
   ]
  },
  {
   "cell_type": "code",
   "execution_count": 198,
   "metadata": {},
   "outputs": [
    {
     "data": {
      "text/plain": [
       "(1048573, 17)"
      ]
     },
     "execution_count": 198,
     "metadata": {},
     "output_type": "execute_result"
    }
   ],
   "source": [
    "df.isna().sum()\n",
    "df.shape"
   ]
  },
  {
   "cell_type": "code",
   "execution_count": 199,
   "metadata": {},
   "outputs": [
    {
     "data": {
      "text/plain": [
       "array(['1', '2'], dtype=object)"
      ]
     },
     "execution_count": 199,
     "metadata": {},
     "output_type": "execute_result"
    }
   ],
   "source": [
    "df['vendor_id'].unique()"
   ]
  },
  {
   "cell_type": "code",
   "execution_count": 200,
   "metadata": {},
   "outputs": [],
   "source": [
    "df['vendor_id'] = df['vendor_id'].apply(pd.to_numeric, errors='coerce')"
   ]
  },
  {
   "cell_type": "code",
   "execution_count": 201,
   "metadata": {},
   "outputs": [
    {
     "data": {
      "text/plain": [
       "ID                      int64\n",
       "vendor_id               int64\n",
       "pickup_loc            float64\n",
       "drop_loc              float64\n",
       "driver_tip             object\n",
       "mta_tax                object\n",
       "distance              float64\n",
       "pickup_time            object\n",
       "drop_time              object\n",
       "num_passengers        float64\n",
       "toll_amount            object\n",
       "payment_method        float64\n",
       "rate_code             float64\n",
       "stored_flag            object\n",
       "extra_charges          object\n",
       "improvement_charge     object\n",
       "total_amount           object\n",
       "dtype: object"
      ]
     },
     "execution_count": 201,
     "metadata": {},
     "output_type": "execute_result"
    }
   ],
   "source": [
    "df.dtypes"
   ]
  },
  {
   "cell_type": "code",
   "execution_count": 202,
   "metadata": {},
   "outputs": [
    {
     "data": {
      "text/plain": [
       "ID                    0\n",
       "vendor_id             0\n",
       "pickup_loc            0\n",
       "drop_loc              0\n",
       "driver_tip            0\n",
       "mta_tax               0\n",
       "distance              0\n",
       "pickup_time           0\n",
       "drop_time             0\n",
       "num_passengers        0\n",
       "toll_amount           0\n",
       "payment_method        0\n",
       "rate_code             0\n",
       "stored_flag           0\n",
       "extra_charges         0\n",
       "improvement_charge    0\n",
       "total_amount          0\n",
       "dtype: int64"
      ]
     },
     "execution_count": 202,
     "metadata": {},
     "output_type": "execute_result"
    }
   ],
   "source": [
    "df.isna().sum()"
   ]
  },
  {
   "cell_type": "code",
   "execution_count": 203,
   "metadata": {},
   "outputs": [
    {
     "data": {
      "text/plain": [
       "array([170., 151.,  68., 142., 238., 230., 236., 229., 132., 114., 264.,\n",
       "       166., 263., 137.,  90., 141., 211., 138., 164., 148., 237., 261.,\n",
       "       234., 186., 161., 107., 140.,  24., 113.,  13., 231., 143., 239.,\n",
       "       249.,  48.,   4., 162., 158., 163.,  79., 224., 223., 179.,  75.,\n",
       "       125.,  87., 100., 233.,  12., 262., 144.,  43.,  74., 152.,  66.,\n",
       "       226., 112.,   7.,  41., 246.,  50.,  88., 256., 193.,  45.,  65.,\n",
       "       146.,  42.,  85.,  34., 209., 145., 189.,  61., 232., 116.,  52.,\n",
       "       244.,  80.,  56.,  33., 260., 181.,  17., 194., 196., 259.,  37.,\n",
       "       197., 188., 127., 255., 228., 247.,  25.,  93.,  49., 265., 215.,\n",
       "        40., 198., 220., 129., 106.,  82., 130.,  10., 217.,  97.,  95.,\n",
       "       190., 195.,  18., 167., 157.,  36.,  89., 219.,  28., 119., 168.,\n",
       "       208.,  62., 243., 225.,  92., 169.,  54., 136., 134., 242.,   9.,\n",
       "        70.,   1., 124., 156., 227., 159., 207.,  83., 135.,  35., 216.,\n",
       "        73.,  47., 235., 173.,  26., 218., 108., 123.,  91.,  76., 153.,\n",
       "        86., 165., 111., 202., 257., 213.,   8.,  19., 178.,  20., 160.,\n",
       "       203., 205., 200., 182.,  69., 126., 241., 254., 101.,  57., 177.,\n",
       "       102.,  72.,  71., 128., 191.,  11.,   6.,  39.,  14.,  32., 133.,\n",
       "       149.,  31.,  22.,  78., 171.,  64.,  53.,  60.,  55.,  67., 248.,\n",
       "       222., 212., 192.,  51., 155., 253., 147.,  94., 131., 175., 185.,\n",
       "        98.,  96., 221., 258., 154., 174., 250.,  77., 252., 180., 118.,\n",
       "       210.,  16.,  81., 120., 139.,  84., 206.,  21., 201.,  23., 183.,\n",
       "       121., 122., 109.,  29., 214., 184.,  63., 150.,  99., 240., 204.,\n",
       "       176.,   3.])"
      ]
     },
     "execution_count": 203,
     "metadata": {},
     "output_type": "execute_result"
    }
   ],
   "source": [
    "df['pickup_loc'].unique()"
   ]
  },
  {
   "cell_type": "code",
   "execution_count": 204,
   "metadata": {},
   "outputs": [
    {
     "data": {
      "text/plain": [
       "237.0    46432\n",
       "161.0    45895\n",
       "236.0    42986\n",
       "162.0    40625\n",
       "230.0    36620\n",
       "170.0    36102\n",
       "234.0    35692\n",
       "186.0    35417\n",
       "48.0     30838\n",
       "163.0    30222\n",
       "142.0    29798\n",
       "138.0    28914\n",
       "239.0    26289\n",
       "164.0    25270\n",
       "107.0    24290\n",
       "132.0    24231\n",
       "141.0    24107\n",
       "68.0     22955\n",
       "79.0     22806\n",
       "100.0    22431\n",
       "229.0    20618\n",
       "238.0    20592\n",
       "231.0    20483\n",
       "140.0    19732\n",
       "249.0    18720\n",
       "90.0     18529\n",
       "113.0    17850\n",
       "263.0    17367\n",
       "264.0    14736\n",
       "233.0    14550\n",
       "         ...  \n",
       "64.0         2\n",
       "31.0         2\n",
       "21.0         2\n",
       "73.0         2\n",
       "101.0        2\n",
       "77.0         2\n",
       "248.0        2\n",
       "3.0          2\n",
       "81.0         2\n",
       "86.0         2\n",
       "23.0         2\n",
       "240.0        1\n",
       "29.0         1\n",
       "259.0        1\n",
       "131.0        1\n",
       "183.0        1\n",
       "204.0        1\n",
       "139.0        1\n",
       "122.0        1\n",
       "118.0        1\n",
       "221.0        1\n",
       "109.0        1\n",
       "150.0        1\n",
       "176.0        1\n",
       "214.0        1\n",
       "99.0         1\n",
       "206.0        1\n",
       "201.0        1\n",
       "84.0         1\n",
       "184.0        1\n",
       "Name: pickup_loc, Length: 244, dtype: int64"
      ]
     },
     "execution_count": 204,
     "metadata": {},
     "output_type": "execute_result"
    }
   ],
   "source": [
    "df['pickup_loc'].value_counts()"
   ]
  },
  {
   "cell_type": "code",
   "execution_count": 205,
   "metadata": {},
   "outputs": [
    {
     "data": {
      "text/plain": [
       "array([233., 243.,  90., 234., 238.,  48., 140.,  13., 141., 164., 170.,\n",
       "       264., 151., 246., 138.,  79., 230., 263., 232., 143., 229.,  50.,\n",
       "       237., 144.,  24., 142., 100., 161.,  75., 236., 239., 261.,  41.,\n",
       "       162., 125.,   7., 137., 158., 107., 116.,  74., 113., 211., 186.,\n",
       "        68., 132.,  87., 179., 226., 249., 145., 262.,  42.,  33., 166.,\n",
       "       218.,  82., 163.,  45., 224., 231., 222., 244., 152., 220., 256.,\n",
       "        66., 265., 216., 225., 102.,  80., 148., 202.,  25., 255.,  12.,\n",
       "       223., 114.,  43., 193.,   1.,  85.,  88.,  14., 149., 181., 112.,\n",
       "       169., 248.,  40.,  49., 257.,  52.,  39.,   4., 196.,  65.,  61.,\n",
       "       146., 127., 209.,  91., 200., 168., 180., 195., 130.,  95., 228.,\n",
       "        36.,  97., 173., 203.,  89., 129., 189.,  18.,  67.,  83.,  37.,\n",
       "        70., 201., 134., 247.,  69., 135., 259.,  10., 121.,  59., 252.,\n",
       "         9.,  98., 188., 198., 213.,  17., 182.,  28., 241., 106.,  63.,\n",
       "        54.,  26., 126.,  60.,  76., 160., 217.,  31.,  22., 133., 219.,\n",
       "        21., 157., 165., 205.,  34., 177.,  96.,  62.,  92., 260.,  93.,\n",
       "        51.,  20., 208., 258., 178., 197.,  56., 192., 221.,  71., 159.,\n",
       "       250.,  23., 167., 210., 150., 174., 147., 227., 235., 124., 155.,\n",
       "        38.,  35.,  15.,  55.,  72., 185.,   3., 123.,  64.,  78., 191.,\n",
       "        58.,  53., 131.,  94.,   6.,  16., 108., 242., 119., 156.,  77.,\n",
       "        47., 128., 206., 207., 139.,  73., 212., 101.,  32., 120., 190.,\n",
       "       117., 171., 136.,  57., 251., 183., 215.,  86.,  81., 240.,  11.,\n",
       "       115., 194., 153.,  19., 254., 175.,  29., 184., 214.,  44., 122.,\n",
       "       253., 245.,  27.,   8., 109., 154., 204., 172.,  46., 111., 118.,\n",
       "         5.,   2., 105.,  84.,  30., 176., 187.])"
      ]
     },
     "execution_count": 205,
     "metadata": {},
     "output_type": "execute_result"
    }
   ],
   "source": [
    "df['drop_loc'].unique()"
   ]
  },
  {
   "cell_type": "code",
   "execution_count": 206,
   "metadata": {},
   "outputs": [
    {
     "data": {
      "text/plain": [
       "161.0    46018\n",
       "236.0    44228\n",
       "237.0    41105\n",
       "162.0    36951\n",
       "170.0    35574\n",
       "230.0    33323\n",
       "234.0    31895\n",
       "163.0    27852\n",
       "142.0    26747\n",
       "186.0    25552\n",
       "239.0    25368\n",
       "48.0     25146\n",
       "141.0    24180\n",
       "164.0    22750\n",
       "68.0     21969\n",
       "238.0    21688\n",
       "107.0    21668\n",
       "79.0     19961\n",
       "140.0    19957\n",
       "231.0    19820\n",
       "229.0    18480\n",
       "263.0    17265\n",
       "246.0    17149\n",
       "100.0    17108\n",
       "113.0    15907\n",
       "233.0    15727\n",
       "249.0    15391\n",
       "90.0     15062\n",
       "137.0    14678\n",
       "138.0    13720\n",
       "         ...  \n",
       "122.0       27\n",
       "58.0        27\n",
       "214.0       24\n",
       "221.0       23\n",
       "6.0         23\n",
       "251.0       19\n",
       "206.0       19\n",
       "96.0        16\n",
       "109.0       15\n",
       "172.0       14\n",
       "46.0        13\n",
       "111.0       12\n",
       "115.0       12\n",
       "8.0         12\n",
       "118.0       10\n",
       "176.0       10\n",
       "253.0        9\n",
       "245.0        8\n",
       "5.0          8\n",
       "184.0        8\n",
       "84.0         7\n",
       "204.0        7\n",
       "27.0         6\n",
       "154.0        6\n",
       "59.0         5\n",
       "44.0         5\n",
       "30.0         3\n",
       "105.0        3\n",
       "187.0        2\n",
       "2.0          1\n",
       "Name: drop_loc, Length: 260, dtype: int64"
      ]
     },
     "execution_count": 206,
     "metadata": {},
     "output_type": "execute_result"
    }
   ],
   "source": [
    "df['drop_loc'].value_counts()"
   ]
  },
  {
   "cell_type": "code",
   "execution_count": 207,
   "metadata": {},
   "outputs": [
    {
     "data": {
      "text/plain": [
       "ID                      int64\n",
       "vendor_id               int64\n",
       "pickup_loc            float64\n",
       "drop_loc              float64\n",
       "driver_tip             object\n",
       "mta_tax                object\n",
       "distance              float64\n",
       "pickup_time            object\n",
       "drop_time              object\n",
       "num_passengers        float64\n",
       "toll_amount            object\n",
       "payment_method        float64\n",
       "rate_code             float64\n",
       "stored_flag            object\n",
       "extra_charges          object\n",
       "improvement_charge     object\n",
       "total_amount           object\n",
       "dtype: object"
      ]
     },
     "execution_count": 207,
     "metadata": {},
     "output_type": "execute_result"
    }
   ],
   "source": [
    "df.dtypes"
   ]
  },
  {
   "cell_type": "code",
   "execution_count": 13,
   "metadata": {},
   "outputs": [
    {
     "data": {
      "text/plain": [
       "array(['1.83', '3.56', '1.5', ..., '99', '9.42', '37.2'], dtype=object)"
      ]
     },
     "execution_count": 13,
     "metadata": {},
     "output_type": "execute_result"
    }
   ],
   "source": [
    "df['driver_tip'].unique()"
   ]
  },
  {
   "cell_type": "code",
   "execution_count": 14,
   "metadata": {},
   "outputs": [
    {
     "data": {
      "text/plain": [
       "dtype('O')"
      ]
     },
     "execution_count": 14,
     "metadata": {},
     "output_type": "execute_result"
    }
   ],
   "source": [
    "df['driver_tip'].dtypes"
   ]
  },
  {
   "cell_type": "code",
   "execution_count": 15,
   "metadata": {},
   "outputs": [
    {
     "data": {
      "text/plain": [
       "0        351304\n",
       "1         64393\n",
       "2         34024\n",
       "1.5       14669\n",
       "3         10931\n",
       "1.95      10629\n",
       "1.56      10257\n",
       "1.45      10238\n",
       "1.66      10238\n",
       "1.46       9965\n",
       "1.76       9887\n",
       "1.36       9826\n",
       "1.55       9807\n",
       "1.86       9542\n",
       "1.7        9101\n",
       "1.96       8957\n",
       "1.26       8888\n",
       "1.25       8763\n",
       "1.2        8736\n",
       "2.06       8592\n",
       "2.45       8502\n",
       "2.16       8067\n",
       "1.85       7993\n",
       "1.75       7928\n",
       "2.05       7913\n",
       "1.16       7361\n",
       "1.65       7294\n",
       "5          7187\n",
       "2.26       7180\n",
       "1.35       7035\n",
       "          ...  \n",
       "24.64         1\n",
       "10.57         1\n",
       "17.83         1\n",
       "19.44         1\n",
       "35.36         1\n",
       "21.15         1\n",
       "18.22         1\n",
       "5.24          1\n",
       "24.69         1\n",
       "17.51         1\n",
       "25.96         1\n",
       "40.8          1\n",
       "16.49         1\n",
       "15.81         1\n",
       "17.04         1\n",
       "15.74         1\n",
       "15.59         1\n",
       "40.55         1\n",
       "30.24         1\n",
       "47.77         1\n",
       "41.81         1\n",
       "72.2          1\n",
       "19.81         1\n",
       "24.76         1\n",
       "14.24         1\n",
       "16.78         1\n",
       "9.42          1\n",
       "2.54          1\n",
       "13.69         1\n",
       "25.21         1\n",
       "Name: driver_tip, Length: 2141, dtype: int64"
      ]
     },
     "execution_count": 15,
     "metadata": {},
     "output_type": "execute_result"
    }
   ],
   "source": [
    "df['driver_tip'].value_counts()"
   ]
  },
  {
   "cell_type": "code",
   "execution_count": 16,
   "metadata": {},
   "outputs": [],
   "source": [
    "df['driver_tip'] = df['driver_tip'].apply(pd.to_numeric, errors='coerce')"
   ]
  },
  {
   "cell_type": "code",
   "execution_count": 17,
   "metadata": {},
   "outputs": [
    {
     "data": {
      "text/plain": [
       "12"
      ]
     },
     "execution_count": 17,
     "metadata": {},
     "output_type": "execute_result"
    }
   ],
   "source": [
    "df['driver_tip'].isna().sum()"
   ]
  },
  {
   "cell_type": "code",
   "execution_count": 18,
   "metadata": {},
   "outputs": [
    {
     "data": {
      "text/plain": [
       "array([ 1.83,  3.56,  1.5 , ..., 99.  ,  9.42, 37.2 ])"
      ]
     },
     "execution_count": 18,
     "metadata": {},
     "output_type": "execute_result"
    }
   ],
   "source": [
    "df['driver_tip'].unique()"
   ]
  },
  {
   "cell_type": "code",
   "execution_count": 217,
   "metadata": {},
   "outputs": [],
   "source": [
    "df['driver_tip'].fillna(0.0,inplace=True)"
   ]
  },
  {
   "cell_type": "code",
   "execution_count": 218,
   "metadata": {},
   "outputs": [
    {
     "data": {
      "text/plain": [
       "ID                      int64\n",
       "vendor_id               int64\n",
       "pickup_loc            float64\n",
       "drop_loc              float64\n",
       "driver_tip            float64\n",
       "mta_tax                object\n",
       "distance              float64\n",
       "pickup_time            object\n",
       "drop_time              object\n",
       "num_passengers        float64\n",
       "toll_amount            object\n",
       "payment_method        float64\n",
       "rate_code             float64\n",
       "stored_flag            object\n",
       "extra_charges          object\n",
       "improvement_charge     object\n",
       "total_amount           object\n",
       "dtype: object"
      ]
     },
     "execution_count": 218,
     "metadata": {},
     "output_type": "execute_result"
    }
   ],
   "source": [
    "df.dtypes"
   ]
  },
  {
   "cell_type": "code",
   "execution_count": 219,
   "metadata": {},
   "outputs": [
    {
     "data": {
      "text/plain": [
       "ID                    0\n",
       "vendor_id             0\n",
       "pickup_loc            0\n",
       "drop_loc              0\n",
       "driver_tip            0\n",
       "mta_tax               0\n",
       "distance              0\n",
       "pickup_time           0\n",
       "drop_time             0\n",
       "num_passengers        0\n",
       "toll_amount           0\n",
       "payment_method        0\n",
       "rate_code             0\n",
       "stored_flag           0\n",
       "extra_charges         0\n",
       "improvement_charge    0\n",
       "total_amount          0\n",
       "dtype: int64"
      ]
     },
     "execution_count": 219,
     "metadata": {},
     "output_type": "execute_result"
    }
   ],
   "source": [
    "df.isna().sum()"
   ]
  },
  {
   "cell_type": "code",
   "execution_count": 220,
   "metadata": {},
   "outputs": [
    {
     "data": {
      "text/plain": [
       "0.5         1042799\n",
       "0              5269\n",
       "+AC0-0.5        505\n",
       "Name: mta_tax, dtype: int64"
      ]
     },
     "execution_count": 220,
     "metadata": {},
     "output_type": "execute_result"
    }
   ],
   "source": [
    "df['mta_tax'].value_counts()"
   ]
  },
  {
   "cell_type": "code",
   "execution_count": 221,
   "metadata": {},
   "outputs": [
    {
     "data": {
      "text/plain": [
       "array(['0.5', '0', '+AC0-0.5'], dtype=object)"
      ]
     },
     "execution_count": 221,
     "metadata": {},
     "output_type": "execute_result"
    }
   ],
   "source": [
    "df['mta_tax'].unique()"
   ]
  },
  {
   "cell_type": "code",
   "execution_count": 222,
   "metadata": {},
   "outputs": [],
   "source": [
    "df['mta_tax'].replace('+AC0-0.5','-0.5',inplace=True)"
   ]
  },
  {
   "cell_type": "code",
   "execution_count": 71,
   "metadata": {},
   "outputs": [],
   "source": [
    "df['mta_tax'].fillna('0.5',inplace=True)"
   ]
  },
  {
   "cell_type": "code",
   "execution_count": 76,
   "metadata": {},
   "outputs": [
    {
     "data": {
      "text/plain": [
       "0"
      ]
     },
     "execution_count": 76,
     "metadata": {},
     "output_type": "execute_result"
    }
   ],
   "source": [
    "df['mta_tax'].isna().sum()"
   ]
  },
  {
   "cell_type": "code",
   "execution_count": 223,
   "metadata": {},
   "outputs": [],
   "source": [
    "df['mta_tax'] = df['mta_tax'].apply(pd.to_numeric, errors='coerce')"
   ]
  },
  {
   "cell_type": "code",
   "execution_count": 224,
   "metadata": {},
   "outputs": [
    {
     "data": {
      "text/plain": [
       "ID                    0\n",
       "vendor_id             0\n",
       "pickup_loc            0\n",
       "drop_loc              0\n",
       "driver_tip            0\n",
       "mta_tax               0\n",
       "distance              0\n",
       "pickup_time           0\n",
       "drop_time             0\n",
       "num_passengers        0\n",
       "toll_amount           0\n",
       "payment_method        0\n",
       "rate_code             0\n",
       "stored_flag           0\n",
       "extra_charges         0\n",
       "improvement_charge    0\n",
       "total_amount          0\n",
       "dtype: int64"
      ]
     },
     "execution_count": 224,
     "metadata": {},
     "output_type": "execute_result"
    }
   ],
   "source": [
    "df.isna().sum()"
   ]
  },
  {
   "cell_type": "code",
   "execution_count": 225,
   "metadata": {},
   "outputs": [
    {
     "data": {
      "text/plain": [
       "ID                      int64\n",
       "vendor_id               int64\n",
       "pickup_loc            float64\n",
       "drop_loc              float64\n",
       "driver_tip            float64\n",
       "mta_tax               float64\n",
       "distance              float64\n",
       "pickup_time            object\n",
       "drop_time              object\n",
       "num_passengers        float64\n",
       "toll_amount            object\n",
       "payment_method        float64\n",
       "rate_code             float64\n",
       "stored_flag            object\n",
       "extra_charges          object\n",
       "improvement_charge     object\n",
       "total_amount           object\n",
       "dtype: object"
      ]
     },
     "execution_count": 225,
     "metadata": {},
     "output_type": "execute_result"
    }
   ],
   "source": [
    "df.dtypes"
   ]
  },
  {
   "cell_type": "code",
   "execution_count": 226,
   "metadata": {},
   "outputs": [
    {
     "data": {
      "text/plain": [
       "04/05/2017 12:00:00 AM    38\n",
       "04/07/2017 12:00:00 AM    37\n",
       "04/04/2017 12:00:00 AM    33\n",
       "04/06/2017 12:00:00 AM    29\n",
       "04/08/2017 12:00:00 AM    19\n",
       "04/05/2017 08:13:10 AM    17\n",
       "04/06/2017 08:47:42 AM    15\n",
       "04/05/2017 11:29:04 PM    15\n",
       "04/05/2017 07:03:48 PM    14\n",
       "04/04/2017 07:20:00 PM    14\n",
       "04/05/2017 06:57:28 PM    14\n",
       "04/05/2017 07:55:44 PM    14\n",
       "04/04/2017 10:17:26 PM    14\n",
       "04/05/2017 10:43:46 PM    14\n",
       "04/05/2017 07:37:22 PM    14\n",
       "04/05/2017 09:40:16 PM    13\n",
       "04/05/2017 09:37:07 PM    13\n",
       "04/06/2017 08:16:30 PM    13\n",
       "04/07/2017 08:31:20 AM    13\n",
       "04/05/2017 06:24:01 PM    13\n",
       "04/05/2017 02:20:25 PM    13\n",
       "04/05/2017 09:23:41 PM    13\n",
       "04/04/2017 08:51:11 AM    13\n",
       "04/03/2017 08:51:55 PM    13\n",
       "04/06/2017 08:48:38 AM    13\n",
       "04/05/2017 05:41:13 PM    13\n",
       "04/05/2017 09:51:43 PM    13\n",
       "04/06/2017 03:20:39 PM    13\n",
       "04/05/2017 07:42:27 PM    13\n",
       "04/04/2017 07:00:20 PM    13\n",
       "                          ..\n",
       "04/06/2017 08:28:55 PM     1\n",
       "04/04/2017 01:36:31 AM     1\n",
       "04/05/2017 01:06:04 AM     1\n",
       "04/30/2017 06:40:15 PM     1\n",
       "04/06/2017 10:04:42 PM     1\n",
       "04/05/2017 06:33:23 AM     1\n",
       "04/03/2017 07:55:25 AM     1\n",
       "04/07/2017 01:00:13 PM     1\n",
       "04/06/2017 05:38:23 AM     1\n",
       "04/04/2017 12:41:15 AM     1\n",
       "04/05/2017 04:25:23 AM     1\n",
       "04/05/2017 02:58:46 AM     1\n",
       "04/03/2017 07:33:30 AM     1\n",
       "04/04/2017 10:41:20 PM     1\n",
       "04/07/2017 01:13:56 AM     1\n",
       "04/06/2017 03:40:31 AM     1\n",
       "04/03/2017 02:44:38 PM     1\n",
       "04/04/2017 12:49:24 AM     1\n",
       "04/07/2017 02:36:05 AM     1\n",
       "04/06/2017 03:22:15 AM     1\n",
       "04/03/2017 11:35:32 AM     1\n",
       "04/04/2017 09:20:19 AM     1\n",
       "04/07/2017 05:07:45 AM     1\n",
       "04/07/2017 12:22:41 AM     1\n",
       "04/04/2017 06:38:11 PM     1\n",
       "04/04/2017 11:58:53 PM     1\n",
       "04/04/2017 09:14:04 AM     1\n",
       "04/07/2017 12:43:28 PM     1\n",
       "04/06/2017 04:01:21 AM     1\n",
       "04/05/2017 03:38:51 AM     1\n",
       "Name: drop_time, Length: 326900, dtype: int64"
      ]
     },
     "execution_count": 226,
     "metadata": {},
     "output_type": "execute_result"
    }
   ],
   "source": [
    "df['drop_time'].value_counts()"
   ]
  },
  {
   "cell_type": "code",
   "execution_count": 89,
   "metadata": {},
   "outputs": [],
   "source": [
    "df['drop_time'].fillna('04/05/2017 12:00:00 AM',inplace=True)"
   ]
  },
  {
   "cell_type": "code",
   "execution_count": 227,
   "metadata": {},
   "outputs": [],
   "source": [
    "df['drop_time']= pd.to_datetime(df['drop_time'], dayfirst=True, errors='coerce')"
   ]
  },
  {
   "cell_type": "code",
   "execution_count": 93,
   "metadata": {},
   "outputs": [],
   "source": [
    "df['pickup_time']= pd.to_datetime(df['pickup_time'], dayfirst=True, errors='coerce')"
   ]
  },
  {
   "cell_type": "code",
   "execution_count": 95,
   "metadata": {},
   "outputs": [
    {
     "data": {
      "text/plain": [
       "ID                             int64\n",
       "vendor_id                      int64\n",
       "pickup_loc                   float64\n",
       "drop_loc                     float64\n",
       "driver_tip                   float64\n",
       "mta_tax                      float64\n",
       "distance                     float64\n",
       "pickup_time           datetime64[ns]\n",
       "drop_time             datetime64[ns]\n",
       "num_passengers               float64\n",
       "toll_amount                   object\n",
       "payment_method               float64\n",
       "rate_code                    float64\n",
       "stored_flag                   object\n",
       "extra_charges                 object\n",
       "improvement_charge            object\n",
       "total_amount                  object\n",
       "dtype: object"
      ]
     },
     "execution_count": 95,
     "metadata": {},
     "output_type": "execute_result"
    }
   ],
   "source": [
    "df.dtypes"
   ]
  },
  {
   "cell_type": "code",
   "execution_count": 96,
   "metadata": {},
   "outputs": [
    {
     "data": {
      "text/plain": [
       "ID                    0\n",
       "vendor_id             0\n",
       "pickup_loc            0\n",
       "drop_loc              0\n",
       "driver_tip            0\n",
       "mta_tax               0\n",
       "distance              0\n",
       "pickup_time           0\n",
       "drop_time             0\n",
       "num_passengers        1\n",
       "toll_amount           2\n",
       "payment_method        1\n",
       "rate_code             1\n",
       "stored_flag           1\n",
       "extra_charges         1\n",
       "improvement_charge    2\n",
       "total_amount          2\n",
       "dtype: int64"
      ]
     },
     "execution_count": 96,
     "metadata": {},
     "output_type": "execute_result"
    }
   ],
   "source": [
    "df.isna().sum()"
   ]
  },
  {
   "cell_type": "code",
   "execution_count": 102,
   "metadata": {},
   "outputs": [],
   "source": [
    "df = df.dropna()"
   ]
  },
  {
   "cell_type": "code",
   "execution_count": 103,
   "metadata": {},
   "outputs": [
    {
     "data": {
      "text/plain": [
       "(1048573, 17)"
      ]
     },
     "execution_count": 103,
     "metadata": {},
     "output_type": "execute_result"
    }
   ],
   "source": [
    "df.shape"
   ]
  },
  {
   "cell_type": "code",
   "execution_count": 114,
   "metadata": {},
   "outputs": [
    {
     "data": {
      "text/plain": [
       "ID                    0\n",
       "vendor_id             0\n",
       "pickup_loc            0\n",
       "drop_loc              0\n",
       "driver_tip            0\n",
       "mta_tax               0\n",
       "distance              0\n",
       "pickup_time           0\n",
       "drop_time             0\n",
       "num_passengers        0\n",
       "toll_amount           0\n",
       "payment_method        0\n",
       "rate_code             0\n",
       "stored_flag           0\n",
       "extra_charges         0\n",
       "improvement_charge    0\n",
       "total_amount          0\n",
       "dtype: int64"
      ]
     },
     "execution_count": 114,
     "metadata": {},
     "output_type": "execute_result"
    }
   ],
   "source": [
    "df.isna().sum()"
   ]
  },
  {
   "cell_type": "code",
   "execution_count": 113,
   "metadata": {},
   "outputs": [
    {
     "data": {
      "text/plain": [
       "ID                             int64\n",
       "vendor_id                      int64\n",
       "pickup_loc                   float64\n",
       "drop_loc                     float64\n",
       "driver_tip                   float64\n",
       "mta_tax                      float64\n",
       "distance                     float64\n",
       "pickup_time           datetime64[ns]\n",
       "drop_time             datetime64[ns]\n",
       "num_passengers               float64\n",
       "toll_amount                  float64\n",
       "payment_method               float64\n",
       "rate_code                    float64\n",
       "stored_flag                   object\n",
       "extra_charges                 object\n",
       "improvement_charge            object\n",
       "total_amount                  object\n",
       "dtype: object"
      ]
     },
     "execution_count": 113,
     "metadata": {},
     "output_type": "execute_result"
    }
   ],
   "source": [
    "df.dtypes"
   ]
  },
  {
   "cell_type": "code",
   "execution_count": 109,
   "metadata": {},
   "outputs": [
    {
     "data": {
      "text/plain": [
       "array(['0', '5.76', '5.54', '2.64', '17.5', '15', '11.52', '7', '2.16',\n",
       "       '10.5', '16.26', '20', '5.78', '15.5', '16.5', '12.5', '10.08',\n",
       "       '18.25', '15.01', '10.05', '22.02', '14.65', '5.11', '8.5', '14.1',\n",
       "       '2.7', '27.5', '11', '5.5', '6.5', '17.28', '26.26', '14.95',\n",
       "       '10.2', '29', '5.4', '15.1', '19.5', '16', '17', '13.5', '25',\n",
       "       '17.58', '23.26', '21', '18.5', '14.82', '6', '17.1', '18.26',\n",
       "       '5.56', '14.5', '15.45', '13', '26.7', '15.3', '5', '5.74', '20.5',\n",
       "       '18', '24', '24.5', '5.55', '12.65', '18.8', '14.58', '8.76',\n",
       "       '0.02', '0.06', '15.4', '14.06', '1.5', '12.95', '11.08', '19',\n",
       "       '2.54', '14', '30.76', '14.8', '16.9', '21.26', '67.5', '57.76',\n",
       "       '5.46', '16.95', '24.76', '8.4', '20.76', '24.02', '15.05', '19.8',\n",
       "       '17.4', '7.92', '16.1', '95.76', '3', '21.9', '5.77', '16.04',\n",
       "       '15.35', '5.75', '7.51', '9.53', '5.28', '16.8', '5.88', '5.73',\n",
       "       '13.75', '8', '5.7', '21.5', '14.26', '5.84', '54', '15.95',\n",
       "       '21.76', '5.72', '4', '22.22', '45.76', '5.44', '22.25', '5.14',\n",
       "       '12', '14.66', '15.25', '31.5', '5.86', '24.26', '2.56', '0.01',\n",
       "       '5.34', '16.7', '0.04', '5.79', '2', '5.85', '17.45', '26.76',\n",
       "       '405.84', '17.25', '5.67', '17.05', '16.25', '23.5', '20.9',\n",
       "       '18.04', '3.5', '12.3', '14.75', '15.75', '22.2', '5.87', '17.7',\n",
       "       '18.38', '18.7', '12.32', '30.02', '0.09', '11.26', '16.45',\n",
       "       '9.99', '16.24', '25.54', '26.97', '7.76', '18.55', '16.75',\n",
       "       '19.1', '15.7', '14.7', '50.5', '19.49', '27.02', '34', '2.44',\n",
       "       '19.7', '2.18', '5.94', '20.09', '10', '14.9', '9.76', '5.57',\n",
       "       '15.14', '13.03', '7.56', '5.65', '16.55', '24.56', '31', '13.44',\n",
       "       '12.9', '9.89', '2.45', '22', '86', '2.5', '18.3', '23', '6.56',\n",
       "       '13.25', '5.45', '16.52', '5.64', '33.3', '20.42', '7.1', '5.8',\n",
       "       '15.2', '5.13', '18.1', '26.52', '17.6', '7.2', '22.15', '11.09',\n",
       "       '11.9', '16.76', '11.54', '19.75', '21.05', '21.01', '19.3',\n",
       "       '19.4', '22.76', '17.78', '17.76', '5.96', '19.01', '1', '17.26',\n",
       "       '7.01', '18.6', '5.83', '19.85', '8.01', '52.26', '14.52', '28.52',\n",
       "       '17.75', '765.34', '905.76', '0.07', '17.8', '12.25', '25.7',\n",
       "       '5.58', '13.7', '12.84', '15.04', '22.5', '30.26', '5.08', '27.7',\n",
       "       '28.26', '5.42', '571.32', '17.35', '16.62', '23.8', '22.26',\n",
       "       '22.16', '15.9', '25.76', '12.75', '20.56', '0.3', '19.02', '12.2',\n",
       "       '13.15', '6.59', '5.89', '8.26', '6.7', '17.2', '13.14', '24.01',\n",
       "       '40', '4.32', '6.79', '13.04', '57.59', '56.97', '24.21', '7.25',\n",
       "       '8.8', '19.2', '0.76', '8.78', '29.02', '26.62', '5.71', '14.4',\n",
       "       '6.06', '15.19', '20.26', '26.55', '13.95', '17.9', '25.9',\n",
       "       '15.08', '14.3', '13.8', '5.59', '19.86', '70.5', '18.9', '12.59',\n",
       "       '18.76', '38.02', '40.02', '0.5', '5.62', '13.3', '17.3', '6.43',\n",
       "       '9.26', '11.3', '575.09', '10.8', '17.08', '16.82', '8.48',\n",
       "       '14.25', '18.2', '96.52', '11.75', '32.5', '24.7', '5.33', '9',\n",
       "       '1.26', '50', '2.25', '5.68', '12.8', '85.76', '16.15', '5.6',\n",
       "       '25.26', '5.95', '28.6', '17.29', '16.05', '12.04', '19.71',\n",
       "       '18.65', '46', '18.35', '25.35', '18.05', '11.65', '13.45', '5.53',\n",
       "       '7.64', '2.2', '0.08', '1.75', '19.9', '25.46', '37.78', '10.76',\n",
       "       '6.72', '13.27', '19.45', '78.5', '55', '2.76', '7.52', '11.76',\n",
       "       '22.06', '16.38', '4.76', '54.55', '6.88', '18.4', '45', '19.76',\n",
       "       '14.71', '26.02', '21.31', '21.06', '23.91', '29.5', '13.36',\n",
       "       '85.55', '16.3', '10.26', '18.96', '6.54', '11.33', '20.46',\n",
       "       '15.02', '15.15', '14.38', '23.36', '4.5', '15.76', '20.71',\n",
       "       '17.42', '12.66', '26', '16.42', '55.76', '1.25', '18.24', '39.76',\n",
       "       '97', '36.26', '11.43', '2.55', '11.5', '17.06', '7.8', '11.51',\n",
       "       '17.19'], dtype=object)"
      ]
     },
     "execution_count": 109,
     "metadata": {},
     "output_type": "execute_result"
    }
   ],
   "source": [
    "df['toll_amount'].unique()"
   ]
  },
  {
   "cell_type": "code",
   "execution_count": 110,
   "metadata": {},
   "outputs": [
    {
     "data": {
      "text/plain": [
       "0         991573\n",
       "5.76       51321\n",
       "10.5        1106\n",
       "5.54         669\n",
       "12.5         606\n",
       "2.64         532\n",
       "11.52        269\n",
       "15.5         123\n",
       "16.26        121\n",
       "17.5         119\n",
       "8.5          102\n",
       "17.28         91\n",
       "16.5          82\n",
       "18.5          77\n",
       "18.26         70\n",
       "15            60\n",
       "18            59\n",
       "16            46\n",
       "17            46\n",
       "5.75          45\n",
       "2.16          43\n",
       "21            40\n",
       "6             37\n",
       "5.74          36\n",
       "25            35\n",
       "5.78          32\n",
       "14.5          31\n",
       "19.5          29\n",
       "5.56          28\n",
       "15.4          27\n",
       "           ...  \n",
       "16.95          1\n",
       "2.7            1\n",
       "5.83           1\n",
       "17.29          1\n",
       "22.76          1\n",
       "18.76          1\n",
       "5.08           1\n",
       "28.26          1\n",
       "5.62           1\n",
       "55             1\n",
       "405.84         1\n",
       "0.3            1\n",
       "24.01          1\n",
       "25.7           1\n",
       "22.22          1\n",
       "25.26          1\n",
       "7.25           1\n",
       "40             1\n",
       "26             1\n",
       "6.43           1\n",
       "23.91          1\n",
       "5.68           1\n",
       "7.2            1\n",
       "571.32         1\n",
       "16.42          1\n",
       "18.4           1\n",
       "11.09          1\n",
       "21.01          1\n",
       "18.38          1\n",
       "7.52           1\n",
       "Name: toll_amount, Length: 417, dtype: int64"
      ]
     },
     "execution_count": 110,
     "metadata": {},
     "output_type": "execute_result"
    }
   ],
   "source": [
    "df['toll_amount'].value_counts()"
   ]
  },
  {
   "cell_type": "code",
   "execution_count": 108,
   "metadata": {},
   "outputs": [
    {
     "name": "stderr",
     "output_type": "stream",
     "text": [
      "C:\\Users\\Vivek Rai\\Anaconda3\\lib\\site-packages\\pandas\\core\\generic.py:6586: SettingWithCopyWarning: \n",
      "A value is trying to be set on a copy of a slice from a DataFrame\n",
      "\n",
      "See the caveats in the documentation: http://pandas.pydata.org/pandas-docs/stable/indexing.html#indexing-view-versus-copy\n",
      "  self._update_inplace(new_data)\n"
     ]
    }
   ],
   "source": [
    "df['toll_amount'].replace('+AC0-5.76','0',inplace=True)"
   ]
  },
  {
   "cell_type": "code",
   "execution_count": 111,
   "metadata": {},
   "outputs": [
    {
     "data": {
      "text/plain": [
       "ID                    0\n",
       "vendor_id             0\n",
       "pickup_loc            0\n",
       "drop_loc              0\n",
       "driver_tip            0\n",
       "mta_tax               0\n",
       "distance              0\n",
       "pickup_time           0\n",
       "drop_time             0\n",
       "num_passengers        0\n",
       "toll_amount           0\n",
       "payment_method        0\n",
       "rate_code             0\n",
       "stored_flag           0\n",
       "extra_charges         0\n",
       "improvement_charge    0\n",
       "total_amount          0\n",
       "dtype: int64"
      ]
     },
     "execution_count": 111,
     "metadata": {},
     "output_type": "execute_result"
    }
   ],
   "source": [
    "df.isna().sum()"
   ]
  },
  {
   "cell_type": "code",
   "execution_count": 112,
   "metadata": {},
   "outputs": [
    {
     "name": "stderr",
     "output_type": "stream",
     "text": [
      "C:\\Users\\Vivek Rai\\Anaconda3\\lib\\site-packages\\ipykernel_launcher.py:1: SettingWithCopyWarning: \n",
      "A value is trying to be set on a copy of a slice from a DataFrame.\n",
      "Try using .loc[row_indexer,col_indexer] = value instead\n",
      "\n",
      "See the caveats in the documentation: http://pandas.pydata.org/pandas-docs/stable/indexing.html#indexing-view-versus-copy\n",
      "  \"\"\"Entry point for launching an IPython kernel.\n"
     ]
    }
   ],
   "source": [
    "df['toll_amount'] = df['toll_amount'].apply(pd.to_numeric, errors='coerce')"
   ]
  },
  {
   "cell_type": "code",
   "execution_count": 116,
   "metadata": {},
   "outputs": [
    {
     "data": {
      "text/plain": [
       "1.0    774452\n",
       "2.0    138018\n",
       "5.0     49555\n",
       "3.0     38301\n",
       "6.0     30971\n",
       "4.0     17217\n",
       "0.0        46\n",
       "7.0         6\n",
       "8.0         4\n",
       "9.0         3\n",
       "Name: num_passengers, dtype: int64"
      ]
     },
     "execution_count": 116,
     "metadata": {},
     "output_type": "execute_result"
    }
   ],
   "source": [
    "df['num_passengers'].value_counts()"
   ]
  },
  {
   "cell_type": "code",
   "execution_count": 118,
   "metadata": {},
   "outputs": [
    {
     "data": {
      "text/plain": [
       "array([ 1.,  2.,  3.,  4.,  5., 99.,  6.])"
      ]
     },
     "execution_count": 118,
     "metadata": {},
     "output_type": "execute_result"
    }
   ],
   "source": [
    "df['rate_code'].unique()"
   ]
  },
  {
   "cell_type": "code",
   "execution_count": 119,
   "metadata": {},
   "outputs": [],
   "source": [
    "df = df.drop(columns=['stored_flag','payment_method'])"
   ]
  },
  {
   "cell_type": "code",
   "execution_count": 120,
   "metadata": {},
   "outputs": [
    {
     "data": {
      "text/plain": [
       "(1048573, 15)"
      ]
     },
     "execution_count": 120,
     "metadata": {},
     "output_type": "execute_result"
    }
   ],
   "source": [
    "df.shape"
   ]
  },
  {
   "cell_type": "code",
   "execution_count": 131,
   "metadata": {},
   "outputs": [
    {
     "data": {
      "text/plain": [
       "ID                             int64\n",
       "vendor_id                      int64\n",
       "pickup_loc                   float64\n",
       "drop_loc                     float64\n",
       "driver_tip                   float64\n",
       "mta_tax                      float64\n",
       "distance                     float64\n",
       "pickup_time           datetime64[ns]\n",
       "drop_time             datetime64[ns]\n",
       "num_passengers               float64\n",
       "toll_amount                  float64\n",
       "rate_code                    float64\n",
       "extra_charges                float64\n",
       "improvement_charge           float64\n",
       "total_amount                  object\n",
       "dtype: object"
      ]
     },
     "execution_count": 131,
     "metadata": {},
     "output_type": "execute_result"
    }
   ],
   "source": [
    "df.dtypes"
   ]
  },
  {
   "cell_type": "code",
   "execution_count": 122,
   "metadata": {},
   "outputs": [
    {
     "data": {
      "text/plain": [
       "array(['1', '0', '0.5', '4.5', '+AC0-0.5', '+AC0-1', '1.8', '0.8', '0.05',\n",
       "       '+AC0-4.5', '6.5', '1.5', '0.2', '0.1', '1.3'], dtype=object)"
      ]
     },
     "execution_count": 122,
     "metadata": {},
     "output_type": "execute_result"
    }
   ],
   "source": [
    "df['extra_charges'].unique()"
   ]
  },
  {
   "cell_type": "code",
   "execution_count": 125,
   "metadata": {},
   "outputs": [
    {
     "data": {
      "text/plain": [
       "0       573701\n",
       "0.5     267377\n",
       "1       202493\n",
       "4.5       4847\n",
       "-0.5       139\n",
       "-4.5         6\n",
       "1.8          3\n",
       "0.2          1\n",
       "1.5          1\n",
       "0.1          1\n",
       "1.3          1\n",
       "0.05         1\n",
       "0.8          1\n",
       "6.5          1\n",
       "Name: extra_charges, dtype: int64"
      ]
     },
     "execution_count": 125,
     "metadata": {},
     "output_type": "execute_result"
    }
   ],
   "source": [
    "df['extra_charges'].value_counts()"
   ]
  },
  {
   "cell_type": "code",
   "execution_count": 124,
   "metadata": {},
   "outputs": [],
   "source": [
    "df['extra_charges'].replace('+AC0-0.5','-0.5',inplace=True)\n",
    "df['extra_charges'].replace('+AC0-4.5','-4.5',inplace=True)\n",
    "df['extra_charges'].replace('+AC0-1','1',inplace=True)"
   ]
  },
  {
   "cell_type": "code",
   "execution_count": 126,
   "metadata": {},
   "outputs": [],
   "source": [
    "df['extra_charges'] = df['extra_charges'].apply(pd.to_numeric, errors='coerce')"
   ]
  },
  {
   "cell_type": "code",
   "execution_count": 128,
   "metadata": {},
   "outputs": [
    {
     "data": {
      "text/plain": [
       "0.3         1047768\n",
       "+AC0-0.3        521\n",
       "0               284\n",
       "Name: improvement_charge, dtype: int64"
      ]
     },
     "execution_count": 128,
     "metadata": {},
     "output_type": "execute_result"
    }
   ],
   "source": [
    "df['improvement_charge'].value_counts()"
   ]
  },
  {
   "cell_type": "code",
   "execution_count": 129,
   "metadata": {},
   "outputs": [],
   "source": [
    "df['improvement_charge'].replace('+AC0-0.3','-0.3',inplace=True)"
   ]
  },
  {
   "cell_type": "code",
   "execution_count": 130,
   "metadata": {},
   "outputs": [],
   "source": [
    "df['improvement_charge'] = df['improvement_charge'].apply(pd.to_numeric, errors='coerce')"
   ]
  },
  {
   "cell_type": "code",
   "execution_count": 133,
   "metadata": {},
   "outputs": [
    {
     "data": {
      "text/plain": [
       "7.8       24068\n",
       "7.3       23958\n",
       "8.3       23315\n",
       "8.8       23300\n",
       "6.8       23275\n",
       "6.3       20777\n",
       "9.3       20726\n",
       "9.8       19627\n",
       "10.3      18466\n",
       "5.8       17992\n",
       "10.8      16853\n",
       "11.3      15467\n",
       "11.8      14548\n",
       "5.3       13870\n",
       "12.3      13332\n",
       "12.8      12426\n",
       "13.3      11573\n",
       "13.8      10523\n",
       "9.36      10214\n",
       "9.96      10176\n",
       "8.76       9919\n",
       "10.56      9784\n",
       "8.16       9757\n",
       "14.3       9668\n",
       "11.16      9477\n",
       "4.8        9476\n",
       "11.76      8913\n",
       "7.56       8859\n",
       "15.3       8776\n",
       "14.8       8762\n",
       "          ...  \n",
       "121.62        1\n",
       "17.24         1\n",
       "49.9          1\n",
       "15.79         1\n",
       "130.4         1\n",
       "28.35         1\n",
       "102.97        1\n",
       "202.27        1\n",
       "83.44         1\n",
       "109.27        1\n",
       "84.24         1\n",
       "29.22         1\n",
       "49.99         1\n",
       "79.22         1\n",
       "5.58          1\n",
       "84.44         1\n",
       "255.82        1\n",
       "36.73         1\n",
       "16.79         1\n",
       "81.23         1\n",
       "86.53         1\n",
       "179.06        1\n",
       "44.29         1\n",
       "30.15         1\n",
       "17.92         1\n",
       "95.28         1\n",
       "59.31         1\n",
       "138.97        1\n",
       "4.84          1\n",
       "70.75         1\n",
       "Name: total_amount, Length: 6106, dtype: int64"
      ]
     },
     "execution_count": 133,
     "metadata": {},
     "output_type": "execute_result"
    }
   ],
   "source": [
    "df['total_amount'].value_counts()"
   ]
  },
  {
   "cell_type": "code",
   "execution_count": 134,
   "metadata": {},
   "outputs": [],
   "source": [
    "df['total_amount'] = df['total_amount'].apply(pd.to_numeric, errors='coerce')"
   ]
  },
  {
   "cell_type": "code",
   "execution_count": 135,
   "metadata": {},
   "outputs": [
    {
     "data": {
      "text/plain": [
       "ID                             int64\n",
       "vendor_id                      int64\n",
       "pickup_loc                   float64\n",
       "drop_loc                     float64\n",
       "driver_tip                   float64\n",
       "mta_tax                      float64\n",
       "distance                     float64\n",
       "pickup_time           datetime64[ns]\n",
       "drop_time             datetime64[ns]\n",
       "num_passengers               float64\n",
       "toll_amount                  float64\n",
       "rate_code                    float64\n",
       "extra_charges                float64\n",
       "improvement_charge           float64\n",
       "total_amount                 float64\n",
       "dtype: object"
      ]
     },
     "execution_count": 135,
     "metadata": {},
     "output_type": "execute_result"
    }
   ],
   "source": [
    "df.dtypes"
   ]
  },
  {
   "cell_type": "code",
   "execution_count": 136,
   "metadata": {},
   "outputs": [],
   "source": [
    "y = df.pop('total_amount')"
   ]
  },
  {
   "cell_type": "code",
   "execution_count": 179,
   "metadata": {},
   "outputs": [
    {
     "data": {
      "text/plain": [
       "(1048573,)"
      ]
     },
     "execution_count": 179,
     "metadata": {},
     "output_type": "execute_result"
    }
   ],
   "source": [
    "y.shape"
   ]
  },
  {
   "cell_type": "code",
   "execution_count": 137,
   "metadata": {},
   "outputs": [],
   "source": [
    "X = df\n"
   ]
  },
  {
   "cell_type": "code",
   "execution_count": 178,
   "metadata": {},
   "outputs": [
    {
     "data": {
      "text/plain": [
       "(1048573, 15)"
      ]
     },
     "execution_count": 178,
     "metadata": {},
     "output_type": "execute_result"
    }
   ],
   "source": [
    "X.shape"
   ]
  },
  {
   "cell_type": "code",
   "execution_count": 180,
   "metadata": {},
   "outputs": [],
   "source": [
    "from sklearn.model_selection import train_test_split\n",
    "X_train,X_test,y_train,y_test = train_test_split(X,y,test_size=0.4)"
   ]
  },
  {
   "cell_type": "code",
   "execution_count": 146,
   "metadata": {},
   "outputs": [
    {
     "data": {
      "image/png": "[encoded data removed]",
      "text/plain": [
       "<Figure size 432x288 with 1 Axes>"
      ]
     },
     "metadata": {
      "needs_background": "light"
     },
     "output_type": "display_data"
    }
   ],
   "source": [
    "def scatter_plot(x_data, y_data, x_label, y_label, title):\n",
    "    \n",
    "    plt.scatter(x_data, y_data, s = 15, color = '#539caf', alpha = 0.75)\n",
    "    plt.title(title)\n",
    "    plt.xlabel(x_label)\n",
    "    plt.ylabel(y_label)\n",
    "    \n",
    "    \n",
    "    \n",
    "scatter_plot(x_data = X['distance']\n",
    "            , y_data = y \n",
    "            , x_label = 'distance'\n",
    "            , y_label = 'amount'\n",
    "            , title = 'regression loss calculation')"
   ]
  },
  {
   "cell_type": "code",
   "execution_count": 154,
   "metadata": {},
   "outputs": [
    {
     "data": {
      "image/png": "[encoded data removed]",
      "text/plain": [
       "<Figure size 432x288 with 1 Axes>"
      ]
     },
     "metadata": {
      "needs_background": "light"
     },
     "output_type": "display_data"
    }
   ],
   "source": [
    "scatter_plot(x_data = X['rate_code']\n",
    "            , y_data = y \n",
    "            , x_label = 'rate_code'\n",
    "            , y_label = 'amount'\n",
    "            , title = 'regression loss calculation')"
   ]
  },
  {
   "cell_type": "code",
   "execution_count": 155,
   "metadata": {},
   "outputs": [
    {
     "data": {
      "image/png": "[encoded data removed]",
      "text/plain": [
       "<Figure size 432x288 with 1 Axes>"
      ]
     },
     "metadata": {
      "needs_background": "light"
     },
     "output_type": "display_data"
    }
   ],
   "source": [
    "scatter_plot(x_data = X['extra_charges']\n",
    "            , y_data = y \n",
    "            , x_label = 'extra_charges'\n",
    "            , y_label = 'amount'\n",
    "            , title = 'regression loss calculation')"
   ]
  },
  {
   "cell_type": "code",
   "execution_count": 157,
   "metadata": {},
   "outputs": [
    {
     "data": {
      "image/png": "[encoded data removed]",
      "text/plain": [
       "<Figure size 432x288 with 1 Axes>"
      ]
     },
     "metadata": {
      "needs_background": "light"
     },
     "output_type": "display_data"
    }
   ],
   "source": [
    "scatter_plot(x_data = X['improvement_charge']\n",
    "            , y_data = y \n",
    "            , x_label = 'improvement_charge'\n",
    "            , y_label = 'amount'\n",
    "            , title = 'regression loss calculation')"
   ]
  },
  {
   "cell_type": "code",
   "execution_count": 159,
   "metadata": {},
   "outputs": [
    {
     "data": {
      "text/html": [
       "<style  type=\"text/css\" >\n",
       "    #T_56e538da_d13a_11e9_b922_95e83037ebderow0_col0 {\n",
       "            background-color:  #b40426;\n",
       "            color:  #f1f1f1;\n",
       "        }    #T_56e538da_d13a_11e9_b922_95e83037ebderow0_col1 {\n",
       "            background-color:  #5470de;\n",
       "            color:  #000000;\n",
       "        }    #T_56e538da_d13a_11e9_b922_95e83037ebderow0_col2 {\n",
       "            background-color:  #5673e0;\n",
       "            color:  #000000;\n",
       "        }    #T_56e538da_d13a_11e9_b922_95e83037ebderow0_col3 {\n",
       "            background-color:  #5875e1;\n",
       "            color:  #000000;\n",
       "        }    #T_56e538da_d13a_11e9_b922_95e83037ebderow0_col4 {\n",
       "            background-color:  #3c4ec2;\n",
       "            color:  #f1f1f1;\n",
       "        }    #T_56e538da_d13a_11e9_b922_95e83037ebderow0_col5 {\n",
       "            background-color:  #4961d2;\n",
       "            color:  #f1f1f1;\n",
       "        }    #T_56e538da_d13a_11e9_b922_95e83037ebderow0_col6 {\n",
       "            background-color:  #3c4ec2;\n",
       "            color:  #f1f1f1;\n",
       "        }    #T_56e538da_d13a_11e9_b922_95e83037ebderow1_col0 {\n",
       "            background-color:  #3b4cc0;\n",
       "            color:  #f1f1f1;\n",
       "        }    #T_56e538da_d13a_11e9_b922_95e83037ebderow1_col1 {\n",
       "            background-color:  #b40426;\n",
       "            color:  #f1f1f1;\n",
       "        }    #T_56e538da_d13a_11e9_b922_95e83037ebderow1_col2 {\n",
       "            background-color:  #7a9df8;\n",
       "            color:  #000000;\n",
       "        }    #T_56e538da_d13a_11e9_b922_95e83037ebderow1_col3 {\n",
       "            background-color:  #3d50c3;\n",
       "            color:  #f1f1f1;\n",
       "        }    #T_56e538da_d13a_11e9_b922_95e83037ebderow1_col4 {\n",
       "            background-color:  #3b4cc0;\n",
       "            color:  #f1f1f1;\n",
       "        }    #T_56e538da_d13a_11e9_b922_95e83037ebderow1_col5 {\n",
       "            background-color:  #465ecf;\n",
       "            color:  #f1f1f1;\n",
       "        }    #T_56e538da_d13a_11e9_b922_95e83037ebderow1_col6 {\n",
       "            background-color:  #3b4cc0;\n",
       "            color:  #f1f1f1;\n",
       "        }    #T_56e538da_d13a_11e9_b922_95e83037ebderow2_col0 {\n",
       "            background-color:  #3b4cc0;\n",
       "            color:  #f1f1f1;\n",
       "        }    #T_56e538da_d13a_11e9_b922_95e83037ebderow2_col1 {\n",
       "            background-color:  #7699f6;\n",
       "            color:  #000000;\n",
       "        }    #T_56e538da_d13a_11e9_b922_95e83037ebderow2_col2 {\n",
       "            background-color:  #b40426;\n",
       "            color:  #f1f1f1;\n",
       "        }    #T_56e538da_d13a_11e9_b922_95e83037ebderow2_col3 {\n",
       "            background-color:  #3b4cc0;\n",
       "            color:  #f1f1f1;\n",
       "        }    #T_56e538da_d13a_11e9_b922_95e83037ebderow2_col4 {\n",
       "            background-color:  #3b4cc0;\n",
       "            color:  #f1f1f1;\n",
       "        }    #T_56e538da_d13a_11e9_b922_95e83037ebderow2_col5 {\n",
       "            background-color:  #485fd1;\n",
       "            color:  #f1f1f1;\n",
       "        }    #T_56e538da_d13a_11e9_b922_95e83037ebderow2_col6 {\n",
       "            background-color:  #3c4ec2;\n",
       "            color:  #f1f1f1;\n",
       "        }    #T_56e538da_d13a_11e9_b922_95e83037ebderow3_col0 {\n",
       "            background-color:  #3b4cc0;\n",
       "            color:  #f1f1f1;\n",
       "        }    #T_56e538da_d13a_11e9_b922_95e83037ebderow3_col1 {\n",
       "            background-color:  #3b4cc0;\n",
       "            color:  #f1f1f1;\n",
       "        }    #T_56e538da_d13a_11e9_b922_95e83037ebderow3_col2 {\n",
       "            background-color:  #3b4cc0;\n",
       "            color:  #f1f1f1;\n",
       "        }    #T_56e538da_d13a_11e9_b922_95e83037ebderow3_col3 {\n",
       "            background-color:  #b40426;\n",
       "            color:  #f1f1f1;\n",
       "        }    #T_56e538da_d13a_11e9_b922_95e83037ebderow3_col4 {\n",
       "            background-color:  #4257c9;\n",
       "            color:  #f1f1f1;\n",
       "        }    #T_56e538da_d13a_11e9_b922_95e83037ebderow3_col5 {\n",
       "            background-color:  #3b4cc0;\n",
       "            color:  #f1f1f1;\n",
       "        }    #T_56e538da_d13a_11e9_b922_95e83037ebderow3_col6 {\n",
       "            background-color:  #82a6fb;\n",
       "            color:  #000000;\n",
       "        }    #T_56e538da_d13a_11e9_b922_95e83037ebderow4_col0 {\n",
       "            background-color:  #3b4cc0;\n",
       "            color:  #f1f1f1;\n",
       "        }    #T_56e538da_d13a_11e9_b922_95e83037ebderow4_col1 {\n",
       "            background-color:  #516ddb;\n",
       "            color:  #000000;\n",
       "        }    #T_56e538da_d13a_11e9_b922_95e83037ebderow4_col2 {\n",
       "            background-color:  #5673e0;\n",
       "            color:  #000000;\n",
       "        }    #T_56e538da_d13a_11e9_b922_95e83037ebderow4_col3 {\n",
       "            background-color:  #5d7ce6;\n",
       "            color:  #000000;\n",
       "        }    #T_56e538da_d13a_11e9_b922_95e83037ebderow4_col4 {\n",
       "            background-color:  #b40426;\n",
       "            color:  #f1f1f1;\n",
       "        }    #T_56e538da_d13a_11e9_b922_95e83037ebderow4_col5 {\n",
       "            background-color:  #4c66d6;\n",
       "            color:  #000000;\n",
       "        }    #T_56e538da_d13a_11e9_b922_95e83037ebderow4_col6 {\n",
       "            background-color:  #3b4cc0;\n",
       "            color:  #f1f1f1;\n",
       "        }    #T_56e538da_d13a_11e9_b922_95e83037ebderow5_col0 {\n",
       "            background-color:  #3b4cc0;\n",
       "            color:  #f1f1f1;\n",
       "        }    #T_56e538da_d13a_11e9_b922_95e83037ebderow5_col1 {\n",
       "            background-color:  #516ddb;\n",
       "            color:  #000000;\n",
       "        }    #T_56e538da_d13a_11e9_b922_95e83037ebderow5_col2 {\n",
       "            background-color:  #5572df;\n",
       "            color:  #000000;\n",
       "        }    #T_56e538da_d13a_11e9_b922_95e83037ebderow5_col3 {\n",
       "            background-color:  #485fd1;\n",
       "            color:  #f1f1f1;\n",
       "        }    #T_56e538da_d13a_11e9_b922_95e83037ebderow5_col4 {\n",
       "            background-color:  #3f53c6;\n",
       "            color:  #f1f1f1;\n",
       "        }    #T_56e538da_d13a_11e9_b922_95e83037ebderow5_col5 {\n",
       "            background-color:  #b40426;\n",
       "            color:  #f1f1f1;\n",
       "        }    #T_56e538da_d13a_11e9_b922_95e83037ebderow5_col6 {\n",
       "            background-color:  #3c4ec2;\n",
       "            color:  #f1f1f1;\n",
       "        }    #T_56e538da_d13a_11e9_b922_95e83037ebderow6_col0 {\n",
       "            background-color:  #3b4cc0;\n",
       "            color:  #f1f1f1;\n",
       "        }    #T_56e538da_d13a_11e9_b922_95e83037ebderow6_col1 {\n",
       "            background-color:  #536edd;\n",
       "            color:  #000000;\n",
       "        }    #T_56e538da_d13a_11e9_b922_95e83037ebderow6_col2 {\n",
       "            background-color:  #5875e1;\n",
       "            color:  #000000;\n",
       "        }    #T_56e538da_d13a_11e9_b922_95e83037ebderow6_col3 {\n",
       "            background-color:  #9bbcff;\n",
       "            color:  #000000;\n",
       "        }    #T_56e538da_d13a_11e9_b922_95e83037ebderow6_col4 {\n",
       "            background-color:  #3b4cc0;\n",
       "            color:  #f1f1f1;\n",
       "        }    #T_56e538da_d13a_11e9_b922_95e83037ebderow6_col5 {\n",
       "            background-color:  #4961d2;\n",
       "            color:  #f1f1f1;\n",
       "        }    #T_56e538da_d13a_11e9_b922_95e83037ebderow6_col6 {\n",
       "            background-color:  #b40426;\n",
       "            color:  #f1f1f1;\n",
       "        }</style><table id=\"T_56e538da_d13a_11e9_b922_95e83037ebde\" ><thead>    <tr>        <th class=\"blank level0\" ></th>        <th class=\"col_heading level0 col0\" >ID</th>        <th class=\"col_heading level0 col1\" >pickup+AF8-loc</th>        <th class=\"col_heading level0 col2\" >drop+AF8-loc</th>        <th class=\"col_heading level0 col3\" >distance</th>        <th class=\"col_heading level0 col4\" >num+AF8-passengers</th>        <th class=\"col_heading level0 col5\" >payment+AF8-method</th>        <th class=\"col_heading level0 col6\" >rate+AF8-code</th>    </tr></thead><tbody>\n",
       "                <tr>\n",
       "                        <th id=\"T_56e538da_d13a_11e9_b922_95e83037ebdelevel0_row0\" class=\"row_heading level0 row0\" >ID</th>\n",
       "                        <td id=\"T_56e538da_d13a_11e9_b922_95e83037ebderow0_col0\" class=\"data row0 col0\" >1</td>\n",
       "                        <td id=\"T_56e538da_d13a_11e9_b922_95e83037ebderow0_col1\" class=\"data row0 col1\" >-0.00042329</td>\n",
       "                        <td id=\"T_56e538da_d13a_11e9_b922_95e83037ebderow0_col2\" class=\"data row0 col2\" >-0.00110081</td>\n",
       "                        <td id=\"T_56e538da_d13a_11e9_b922_95e83037ebderow0_col3\" class=\"data row0 col3\" >0.00150603</td>\n",
       "                        <td id=\"T_56e538da_d13a_11e9_b922_95e83037ebderow0_col4\" class=\"data row0 col4\" >0.000272397</td>\n",
       "                        <td id=\"T_56e538da_d13a_11e9_b922_95e83037ebderow0_col5\" class=\"data row0 col5\" >-0.000106945</td>\n",
       "                        <td id=\"T_56e538da_d13a_11e9_b922_95e83037ebderow0_col6\" class=\"data row0 col6\" >0.000333966</td>\n",
       "            </tr>\n",
       "            <tr>\n",
       "                        <th id=\"T_56e538da_d13a_11e9_b922_95e83037ebdelevel0_row1\" class=\"row_heading level0 row1\" >pickup+AF8-loc</th>\n",
       "                        <td id=\"T_56e538da_d13a_11e9_b922_95e83037ebderow1_col0\" class=\"data row1 col0\" >-0.00042329</td>\n",
       "                        <td id=\"T_56e538da_d13a_11e9_b922_95e83037ebderow1_col1\" class=\"data row1 col1\" >1</td>\n",
       "                        <td id=\"T_56e538da_d13a_11e9_b922_95e83037ebderow1_col2\" class=\"data row1 col2\" >0.111652</td>\n",
       "                        <td id=\"T_56e538da_d13a_11e9_b922_95e83037ebderow1_col3\" class=\"data row1 col3\" >-0.0916372</td>\n",
       "                        <td id=\"T_56e538da_d13a_11e9_b922_95e83037ebderow1_col4\" class=\"data row1 col4\" >-0.00658825</td>\n",
       "                        <td id=\"T_56e538da_d13a_11e9_b922_95e83037ebderow1_col5\" class=\"data row1 col5\" >-0.00893897</td>\n",
       "                        <td id=\"T_56e538da_d13a_11e9_b922_95e83037ebderow1_col6\" class=\"data row1 col6\" >-0.00496046</td>\n",
       "            </tr>\n",
       "            <tr>\n",
       "                        <th id=\"T_56e538da_d13a_11e9_b922_95e83037ebdelevel0_row2\" class=\"row_heading level0 row2\" >drop+AF8-loc</th>\n",
       "                        <td id=\"T_56e538da_d13a_11e9_b922_95e83037ebderow2_col0\" class=\"data row2 col0\" >-0.00110081</td>\n",
       "                        <td id=\"T_56e538da_d13a_11e9_b922_95e83037ebderow2_col1\" class=\"data row2 col1\" >0.111652</td>\n",
       "                        <td id=\"T_56e538da_d13a_11e9_b922_95e83037ebderow2_col2\" class=\"data row2 col2\" >1</td>\n",
       "                        <td id=\"T_56e538da_d13a_11e9_b922_95e83037ebderow2_col3\" class=\"data row2 col3\" >-0.104494</td>\n",
       "                        <td id=\"T_56e538da_d13a_11e9_b922_95e83037ebderow2_col4\" class=\"data row2 col4\" >-0.00507197</td>\n",
       "                        <td id=\"T_56e538da_d13a_11e9_b922_95e83037ebderow2_col5\" class=\"data row2 col5\" >-0.0059193</td>\n",
       "                        <td id=\"T_56e538da_d13a_11e9_b922_95e83037ebderow2_col6\" class=\"data row2 col6\" >2.88572e-05</td>\n",
       "            </tr>\n",
       "            <tr>\n",
       "                        <th id=\"T_56e538da_d13a_11e9_b922_95e83037ebdelevel0_row3\" class=\"row_heading level0 row3\" >distance</th>\n",
       "                        <td id=\"T_56e538da_d13a_11e9_b922_95e83037ebderow3_col0\" class=\"data row3 col0\" >0.00150603</td>\n",
       "                        <td id=\"T_56e538da_d13a_11e9_b922_95e83037ebderow3_col1\" class=\"data row3 col1\" >-0.0916372</td>\n",
       "                        <td id=\"T_56e538da_d13a_11e9_b922_95e83037ebderow3_col2\" class=\"data row3 col2\" >-0.104494</td>\n",
       "                        <td id=\"T_56e538da_d13a_11e9_b922_95e83037ebderow3_col3\" class=\"data row3 col3\" >1</td>\n",
       "                        <td id=\"T_56e538da_d13a_11e9_b922_95e83037ebderow3_col4\" class=\"data row3 col4\" >0.0182215</td>\n",
       "                        <td id=\"T_56e538da_d13a_11e9_b922_95e83037ebderow3_col5\" class=\"data row3 col5\" >-0.0533546</td>\n",
       "                        <td id=\"T_56e538da_d13a_11e9_b922_95e83037ebderow3_col6\" class=\"data row3 col6\" >0.215275</td>\n",
       "            </tr>\n",
       "            <tr>\n",
       "                        <th id=\"T_56e538da_d13a_11e9_b922_95e83037ebdelevel0_row4\" class=\"row_heading level0 row4\" >num+AF8-passengers</th>\n",
       "                        <td id=\"T_56e538da_d13a_11e9_b922_95e83037ebderow4_col0\" class=\"data row4 col0\" >0.000272397</td>\n",
       "                        <td id=\"T_56e538da_d13a_11e9_b922_95e83037ebderow4_col1\" class=\"data row4 col1\" >-0.00658825</td>\n",
       "                        <td id=\"T_56e538da_d13a_11e9_b922_95e83037ebderow4_col2\" class=\"data row4 col2\" >-0.00507197</td>\n",
       "                        <td id=\"T_56e538da_d13a_11e9_b922_95e83037ebderow4_col3\" class=\"data row4 col3\" >0.0182215</td>\n",
       "                        <td id=\"T_56e538da_d13a_11e9_b922_95e83037ebderow4_col4\" class=\"data row4 col4\" >1</td>\n",
       "                        <td id=\"T_56e538da_d13a_11e9_b922_95e83037ebderow4_col5\" class=\"data row4 col5\" >0.0096334</td>\n",
       "                        <td id=\"T_56e538da_d13a_11e9_b922_95e83037ebderow4_col6\" class=\"data row4 col6\" >-0.00554423</td>\n",
       "            </tr>\n",
       "            <tr>\n",
       "                        <th id=\"T_56e538da_d13a_11e9_b922_95e83037ebdelevel0_row5\" class=\"row_heading level0 row5\" >payment+AF8-method</th>\n",
       "                        <td id=\"T_56e538da_d13a_11e9_b922_95e83037ebderow5_col0\" class=\"data row5 col0\" >-0.000106945</td>\n",
       "                        <td id=\"T_56e538da_d13a_11e9_b922_95e83037ebderow5_col1\" class=\"data row5 col1\" >-0.00893897</td>\n",
       "                        <td id=\"T_56e538da_d13a_11e9_b922_95e83037ebderow5_col2\" class=\"data row5 col2\" >-0.0059193</td>\n",
       "                        <td id=\"T_56e538da_d13a_11e9_b922_95e83037ebderow5_col3\" class=\"data row5 col3\" >-0.0533546</td>\n",
       "                        <td id=\"T_56e538da_d13a_11e9_b922_95e83037ebderow5_col4\" class=\"data row5 col4\" >0.0096334</td>\n",
       "                        <td id=\"T_56e538da_d13a_11e9_b922_95e83037ebderow5_col5\" class=\"data row5 col5\" >1</td>\n",
       "                        <td id=\"T_56e538da_d13a_11e9_b922_95e83037ebderow5_col6\" class=\"data row5 col6\" >-0.00065175</td>\n",
       "            </tr>\n",
       "            <tr>\n",
       "                        <th id=\"T_56e538da_d13a_11e9_b922_95e83037ebdelevel0_row6\" class=\"row_heading level0 row6\" >rate+AF8-code</th>\n",
       "                        <td id=\"T_56e538da_d13a_11e9_b922_95e83037ebderow6_col0\" class=\"data row6 col0\" >0.000333966</td>\n",
       "                        <td id=\"T_56e538da_d13a_11e9_b922_95e83037ebderow6_col1\" class=\"data row6 col1\" >-0.00496046</td>\n",
       "                        <td id=\"T_56e538da_d13a_11e9_b922_95e83037ebderow6_col2\" class=\"data row6 col2\" >2.88572e-05</td>\n",
       "                        <td id=\"T_56e538da_d13a_11e9_b922_95e83037ebderow6_col3\" class=\"data row6 col3\" >0.215275</td>\n",
       "                        <td id=\"T_56e538da_d13a_11e9_b922_95e83037ebderow6_col4\" class=\"data row6 col4\" >-0.00554423</td>\n",
       "                        <td id=\"T_56e538da_d13a_11e9_b922_95e83037ebderow6_col5\" class=\"data row6 col5\" >-0.00065175</td>\n",
       "                        <td id=\"T_56e538da_d13a_11e9_b922_95e83037ebderow6_col6\" class=\"data row6 col6\" >1</td>\n",
       "            </tr>\n",
       "    </tbody></table>"
      ],
      "text/plain": [
       "<pandas.io.formats.style.Styler at 0x1c8ff57c240>"
      ]
     },
     "execution_count": 159,
     "metadata": {},
     "output_type": "execute_result"
    }
   ],
   "source": [
    "corr = df2.corr()\n",
    "corr.style.background_gradient(cmap='coolwarm')"
   ]
  },
  {
   "cell_type": "code",
   "execution_count": null,
   "metadata": {},
   "outputs": [],
   "source": []
  },
  {
   "cell_type": "code",
   "execution_count": 149,
   "metadata": {},
   "outputs": [
    {
     "data": {
      "image/png": "[encoded data removed]",
      "text/plain": [
       "<Figure size 432x288 with 1 Axes>"
      ]
     },
     "metadata": {
      "needs_background": "light"
     },
     "output_type": "display_data"
    }
   ],
   "source": [
    "scatter_plot(x_data = X['mta_tax']\n",
    "            , y_data = y \n",
    "            , x_label = 'mta_tax'\n",
    "            , y_label = 'amount'\n",
    "            , title = 'regression loss calculation')"
   ]
  },
  {
   "cell_type": "code",
   "execution_count": 148,
   "metadata": {},
   "outputs": [
    {
     "data": {
      "image/png": "[encoded data removed]",
      "text/plain": [
       "<Figure size 432x288 with 1 Axes>"
      ]
     },
     "metadata": {
      "needs_background": "light"
     },
     "output_type": "display_data"
    }
   ],
   "source": [
    "scatter_plot(x_data = X['driver_tip']\n",
    "            , y_data = y \n",
    "            , x_label = 'driver_tip'\n",
    "            , y_label = 'amount'\n",
    "            , title = 'regression loss calculation')"
   ]
  },
  {
   "cell_type": "code",
   "execution_count": 150,
   "metadata": {},
   "outputs": [
    {
     "data": {
      "image/png": "[encoded data removed]",
      "text/plain": [
       "<Figure size 432x288 with 1 Axes>"
      ]
     },
     "metadata": {
      "needs_background": "light"
     },
     "output_type": "display_data"
    }
   ],
   "source": [
    "scatter_plot(x_data = X['vendor_id']\n",
    "            , y_data = y \n",
    "            , x_label = 'vendor_id'\n",
    "            , y_label = 'amount'\n",
    "            , title = 'regression loss calculation')"
   ]
  },
  {
   "cell_type": "code",
   "execution_count": 151,
   "metadata": {},
   "outputs": [
    {
     "data": {
      "image/png": "[encoded data removed]",
      "text/plain": [
       "<Figure size 432x288 with 1 Axes>"
      ]
     },
     "metadata": {
      "needs_background": "light"
     },
     "output_type": "display_data"
    }
   ],
   "source": [
    "scatter_plot(x_data = X['pickup_loc']\n",
    "            , y_data = y \n",
    "            , x_label = 'pickup_loc'\n",
    "            , y_label = 'amount'\n",
    "            , title = 'regression loss calculation')"
   ]
  },
  {
   "cell_type": "code",
   "execution_count": 152,
   "metadata": {},
   "outputs": [
    {
     "data": {
      "image/png": "[encoded data removed]",
      "text/plain": [
       "<Figure size 432x288 with 1 Axes>"
      ]
     },
     "metadata": {
      "needs_background": "light"
     },
     "output_type": "display_data"
    }
   ],
   "source": [
    "scatter_plot(x_data = X['drop_loc']\n",
    "            , y_data = y \n",
    "            , x_label = 'drop_loc'\n",
    "            , y_label = 'amount'\n",
    "            , title = 'regression loss calculation')"
   ]
  },
  {
   "cell_type": "code",
   "execution_count": 153,
   "metadata": {},
   "outputs": [
    {
     "data": {
      "image/png": "[encoded data removed]",
      "text/plain": [
       "<Figure size 432x288 with 1 Axes>"
      ]
     },
     "metadata": {
      "needs_background": "light"
     },
     "output_type": "display_data"
    }
   ],
   "source": [
    "scatter_plot(x_data = X['toll_amount']\n",
    "            , y_data = y \n",
    "            , x_label = 'toll_amount'\n",
    "            , y_label = 'amount'\n",
    "            , title = 'regression loss calculation')"
   ]
  },
  {
   "cell_type": "code",
   "execution_count": 163,
   "metadata": {},
   "outputs": [
    {
     "name": "stderr",
     "output_type": "stream",
     "text": [
      "C:\\Users\\Vivek Rai\\Anaconda3\\lib\\site-packages\\pandas\\plotting\\_converter.py:129: FutureWarning: Using an implicitly registered datetime converter for a matplotlib plotting method. The converter was registered by pandas on import. Future versions of pandas will require you to explicitly register matplotlib converters.\n",
      "\n",
      "To register the converters:\n",
      "\t>>> from pandas.plotting import register_matplotlib_converters\n",
      "\t>>> register_matplotlib_converters()\n",
      "  warnings.warn(msg, FutureWarning)\n"
     ]
    },
    {
     "data": {
      "image/png": "[encoded data removed]",
      "text/plain": [
       "<Figure size 432x288 with 1 Axes>"
      ]
     },
     "metadata": {
      "needs_background": "light"
     },
     "output_type": "display_data"
    }
   ],
   "source": [
    "scatter_plot(x_data = X['pickup_time']\n",
    "            , y_data = y \n",
    "            , x_label = 'pickup_time'\n",
    "            , y_label = 'amount'\n",
    "            , title = 'regression loss calculation')"
   ]
  },
  {
   "cell_type": "code",
   "execution_count": 164,
   "metadata": {},
   "outputs": [
    {
     "data": {
      "image/png": "[encoded data removed]",
      "text/plain": [
       "<Figure size 432x288 with 1 Axes>"
      ]
     },
     "metadata": {
      "needs_background": "light"
     },
     "output_type": "display_data"
    }
   ],
   "source": [
    "scatter_plot(x_data = X['drop_time']\n",
    "            , y_data = y \n",
    "            , x_label = 'drop_time'\n",
    "            , y_label = 'amount'\n",
    "            , title = 'regression loss calculation')"
   ]
  },
  {
   "cell_type": "code",
   "execution_count": 165,
   "metadata": {},
   "outputs": [],
   "source": [
    "df['journey_time'] = df['drop_time'] - df['pickup_time']"
   ]
  },
  {
   "cell_type": "code",
   "execution_count": 170,
   "metadata": {},
   "outputs": [
    {
     "data": {
      "text/plain": [
       "dtype('int64')"
      ]
     },
     "execution_count": 170,
     "metadata": {},
     "output_type": "execute_result"
    }
   ],
   "source": [
    "df['journey_time'].dtypes"
   ]
  },
  {
   "cell_type": "code",
   "execution_count": 169,
   "metadata": {},
   "outputs": [],
   "source": [
    "df['journey_time'] = df['journey_time'].dt.days"
   ]
  },
  {
   "cell_type": "code",
   "execution_count": 171,
   "metadata": {},
   "outputs": [
    {
     "data": {
      "image/png": "[encoded data removed]",
      "text/plain": [
       "<Figure size 432x288 with 1 Axes>"
      ]
     },
     "metadata": {
      "needs_background": "light"
     },
     "output_type": "display_data"
    }
   ],
   "source": [
    "scatter_plot(x_data = X['journey_time']\n",
    "            , y_data = y \n",
    "            , x_label = 'journey_time'\n",
    "            , y_label = 'amount'\n",
    "            , title = 'regression loss calculation')"
   ]
  },
  {
   "cell_type": "code",
   "execution_count": 175,
   "metadata": {},
   "outputs": [
    {
     "data": {
      "text/plain": [
       "Index(['ID', 'vendor_id', 'pickup_loc', 'drop_loc', 'driver_tip', 'mta_tax',\n",
       "       'distance', 'num_passengers', 'toll_amount', 'rate_code',\n",
       "       'extra_charges', 'improvement_charge', 'journey_time'],\n",
       "      dtype='object')"
      ]
     },
     "execution_count": 175,
     "metadata": {},
     "output_type": "execute_result"
    }
   ],
   "source": [
    "df.columns"
   ]
  },
  {
   "cell_type": "code",
   "execution_count": 174,
   "metadata": {},
   "outputs": [],
   "source": [
    "cols = ['pickup_time','drop_time']\n",
    "df = df.drop(columns=cols)"
   ]
  },
  {
   "cell_type": "code",
   "execution_count": 184,
   "metadata": {},
   "outputs": [],
   "source": [
    "X_train = X_train.drop(columns=cols)"
   ]
  },
  {
   "cell_type": "code",
   "execution_count": 187,
   "metadata": {},
   "outputs": [
    {
     "data": {
      "text/plain": [
       "ID                    0\n",
       "vendor_id             0\n",
       "pickup_loc            0\n",
       "drop_loc              0\n",
       "driver_tip            0\n",
       "mta_tax               0\n",
       "distance              0\n",
       "num_passengers        0\n",
       "toll_amount           0\n",
       "rate_code             0\n",
       "extra_charges         0\n",
       "improvement_charge    0\n",
       "journey_time          0\n",
       "dtype: int64"
      ]
     },
     "execution_count": 187,
     "metadata": {},
     "output_type": "execute_result"
    }
   ],
   "source": [
    "X_train.isna().sum()"
   ]
  },
  {
   "cell_type": "code",
   "execution_count": 183,
   "metadata": {},
   "outputs": [
    {
     "data": {
      "text/plain": [
       "ID                      int64\n",
       "vendor_id               int64\n",
       "pickup_loc            float64\n",
       "drop_loc              float64\n",
       "driver_tip            float64\n",
       "mta_tax               float64\n",
       "distance              float64\n",
       "num_passengers        float64\n",
       "toll_amount           float64\n",
       "rate_code             float64\n",
       "extra_charges         float64\n",
       "improvement_charge    float64\n",
       "journey_time            int64\n",
       "dtype: object"
      ]
     },
     "execution_count": 183,
     "metadata": {},
     "output_type": "execute_result"
    }
   ],
   "source": [
    "df.dtypes"
   ]
  },
  {
   "cell_type": "code",
   "execution_count": 186,
   "metadata": {},
   "outputs": [
    {
     "ename": "ValueError",
     "evalue": "Input contains NaN, infinity or a value too large for dtype('float64').",
     "output_type": "error",
     "traceback": [
      "\u001b[1;31m---------------------------------------------------------------------------\u001b[0m",
      "\u001b[1;31mValueError\u001b[0m                                Traceback (most recent call last)",
      "\u001b[1;32m<ipython-input-186-8654d7e9d16b>\u001b[0m in \u001b[0;36m<module>\u001b[1;34m\u001b[0m\n\u001b[0;32m      3\u001b[0m \u001b[1;33m\u001b[0m\u001b[0m\n\u001b[0;32m      4\u001b[0m \u001b[1;31m# train the model using the training sets\u001b[0m\u001b[1;33m\u001b[0m\u001b[1;33m\u001b[0m\u001b[1;33m\u001b[0m\u001b[0m\n\u001b[1;32m----> 5\u001b[1;33m \u001b[0mreg\u001b[0m\u001b[1;33m.\u001b[0m\u001b[0mfit\u001b[0m\u001b[1;33m(\u001b[0m\u001b[0mX_train\u001b[0m\u001b[1;33m,\u001b[0m \u001b[0my_train\u001b[0m\u001b[1;33m)\u001b[0m\u001b[1;33m\u001b[0m\u001b[1;33m\u001b[0m\u001b[0m\n\u001b[0m",
      "\u001b[1;32m~\\Anaconda3\\lib\\site-packages\\sklearn\\linear_model\\base.py\u001b[0m in \u001b[0;36mfit\u001b[1;34m(self, X, y, sample_weight)\u001b[0m\n\u001b[0;32m    461\u001b[0m         \u001b[0mn_jobs_\u001b[0m \u001b[1;33m=\u001b[0m \u001b[0mself\u001b[0m\u001b[1;33m.\u001b[0m\u001b[0mn_jobs\u001b[0m\u001b[1;33m\u001b[0m\u001b[1;33m\u001b[0m\u001b[0m\n\u001b[0;32m    462\u001b[0m         X, y = check_X_y(X, y, accept_sparse=['csr', 'csc', 'coo'],\n\u001b[1;32m--> 463\u001b[1;33m                          y_numeric=True, multi_output=True)\n\u001b[0m\u001b[0;32m    464\u001b[0m \u001b[1;33m\u001b[0m\u001b[0m\n\u001b[0;32m    465\u001b[0m         \u001b[1;32mif\u001b[0m \u001b[0msample_weight\u001b[0m \u001b[1;32mis\u001b[0m \u001b[1;32mnot\u001b[0m \u001b[1;32mNone\u001b[0m \u001b[1;32mand\u001b[0m \u001b[0mnp\u001b[0m\u001b[1;33m.\u001b[0m\u001b[0matleast_1d\u001b[0m\u001b[1;33m(\u001b[0m\u001b[0msample_weight\u001b[0m\u001b[1;33m)\u001b[0m\u001b[1;33m.\u001b[0m\u001b[0mndim\u001b[0m \u001b[1;33m>\u001b[0m \u001b[1;36m1\u001b[0m\u001b[1;33m:\u001b[0m\u001b[1;33m\u001b[0m\u001b[1;33m\u001b[0m\u001b[0m\n",
      "\u001b[1;32m~\\Anaconda3\\lib\\site-packages\\sklearn\\utils\\validation.py\u001b[0m in \u001b[0;36mcheck_X_y\u001b[1;34m(X, y, accept_sparse, accept_large_sparse, dtype, order, copy, force_all_finite, ensure_2d, allow_nd, multi_output, ensure_min_samples, ensure_min_features, y_numeric, warn_on_dtype, estimator)\u001b[0m\n\u001b[0;32m    720\u001b[0m     \u001b[1;32mif\u001b[0m \u001b[0mmulti_output\u001b[0m\u001b[1;33m:\u001b[0m\u001b[1;33m\u001b[0m\u001b[1;33m\u001b[0m\u001b[0m\n\u001b[0;32m    721\u001b[0m         y = check_array(y, 'csr', force_all_finite=True, ensure_2d=False,\n\u001b[1;32m--> 722\u001b[1;33m                         dtype=None)\n\u001b[0m\u001b[0;32m    723\u001b[0m     \u001b[1;32melse\u001b[0m\u001b[1;33m:\u001b[0m\u001b[1;33m\u001b[0m\u001b[1;33m\u001b[0m\u001b[0m\n\u001b[0;32m    724\u001b[0m         \u001b[0my\u001b[0m \u001b[1;33m=\u001b[0m \u001b[0mcolumn_or_1d\u001b[0m\u001b[1;33m(\u001b[0m\u001b[0my\u001b[0m\u001b[1;33m,\u001b[0m \u001b[0mwarn\u001b[0m\u001b[1;33m=\u001b[0m\u001b[1;32mTrue\u001b[0m\u001b[1;33m)\u001b[0m\u001b[1;33m\u001b[0m\u001b[1;33m\u001b[0m\u001b[0m\n",
      "\u001b[1;32m~\\Anaconda3\\lib\\site-packages\\sklearn\\utils\\validation.py\u001b[0m in \u001b[0;36mcheck_array\u001b[1;34m(array, accept_sparse, accept_large_sparse, dtype, order, copy, force_all_finite, ensure_2d, allow_nd, ensure_min_samples, ensure_min_features, warn_on_dtype, estimator)\u001b[0m\n\u001b[0;32m    540\u001b[0m         \u001b[1;32mif\u001b[0m \u001b[0mforce_all_finite\u001b[0m\u001b[1;33m:\u001b[0m\u001b[1;33m\u001b[0m\u001b[1;33m\u001b[0m\u001b[0m\n\u001b[0;32m    541\u001b[0m             _assert_all_finite(array,\n\u001b[1;32m--> 542\u001b[1;33m                                allow_nan=force_all_finite == 'allow-nan')\n\u001b[0m\u001b[0;32m    543\u001b[0m \u001b[1;33m\u001b[0m\u001b[0m\n\u001b[0;32m    544\u001b[0m     \u001b[1;32mif\u001b[0m \u001b[0mensure_min_samples\u001b[0m \u001b[1;33m>\u001b[0m \u001b[1;36m0\u001b[0m\u001b[1;33m:\u001b[0m\u001b[1;33m\u001b[0m\u001b[1;33m\u001b[0m\u001b[0m\n",
      "\u001b[1;32m~\\Anaconda3\\lib\\site-packages\\sklearn\\utils\\validation.py\u001b[0m in \u001b[0;36m_assert_all_finite\u001b[1;34m(X, allow_nan)\u001b[0m\n\u001b[0;32m     54\u001b[0m                 not allow_nan and not np.isfinite(X).all()):\n\u001b[0;32m     55\u001b[0m             \u001b[0mtype_err\u001b[0m \u001b[1;33m=\u001b[0m \u001b[1;34m'infinity'\u001b[0m \u001b[1;32mif\u001b[0m \u001b[0mallow_nan\u001b[0m \u001b[1;32melse\u001b[0m \u001b[1;34m'NaN, infinity'\u001b[0m\u001b[1;33m\u001b[0m\u001b[1;33m\u001b[0m\u001b[0m\n\u001b[1;32m---> 56\u001b[1;33m             \u001b[1;32mraise\u001b[0m \u001b[0mValueError\u001b[0m\u001b[1;33m(\u001b[0m\u001b[0mmsg_err\u001b[0m\u001b[1;33m.\u001b[0m\u001b[0mformat\u001b[0m\u001b[1;33m(\u001b[0m\u001b[0mtype_err\u001b[0m\u001b[1;33m,\u001b[0m \u001b[0mX\u001b[0m\u001b[1;33m.\u001b[0m\u001b[0mdtype\u001b[0m\u001b[1;33m)\u001b[0m\u001b[1;33m)\u001b[0m\u001b[1;33m\u001b[0m\u001b[1;33m\u001b[0m\u001b[0m\n\u001b[0m\u001b[0;32m     57\u001b[0m     \u001b[1;31m# for object dtype data, we only check for NaNs (GH-13254)\u001b[0m\u001b[1;33m\u001b[0m\u001b[1;33m\u001b[0m\u001b[1;33m\u001b[0m\u001b[0m\n\u001b[0;32m     58\u001b[0m     \u001b[1;32melif\u001b[0m \u001b[0mX\u001b[0m\u001b[1;33m.\u001b[0m\u001b[0mdtype\u001b[0m \u001b[1;33m==\u001b[0m \u001b[0mnp\u001b[0m\u001b[1;33m.\u001b[0m\u001b[0mdtype\u001b[0m\u001b[1;33m(\u001b[0m\u001b[1;34m'object'\u001b[0m\u001b[1;33m)\u001b[0m \u001b[1;32mand\u001b[0m \u001b[1;32mnot\u001b[0m \u001b[0mallow_nan\u001b[0m\u001b[1;33m:\u001b[0m\u001b[1;33m\u001b[0m\u001b[1;33m\u001b[0m\u001b[0m\n",
      "\u001b[1;31mValueError\u001b[0m: Input contains NaN, infinity or a value too large for dtype('float64')."
     ]
    }
   ],
   "source": [
    "# create linear regression object \n",
    "reg = linear_model.LinearRegression() \n",
    "  \n",
    "# train the model using the training sets \n",
    "reg.fit(X_train, y_train)"
   ]
  },
  {
   "cell_type": "code",
   "execution_count": 2,
   "metadata": {},
   "outputs": [
    {
     "name": "stdout",
     "output_type": "stream",
     "text": [
      "Coefficients: \n",
      " [938.23786125]\n",
      "Mean squared error: 2548.07\n",
      "Variance score: 0.47\n"
     ]
    },
    {
     "data": {
      "image/png": "[encoded data removed]",
      "text/plain": [
       "<Figure size 432x288 with 1 Axes>"
      ]
     },
     "metadata": {},
     "output_type": "display_data"
    }
   ],
   "source": [
    "import matplotlib.pyplot as plt\n",
    "import numpy as np\n",
    "from sklearn import datasets, linear_model\n",
    "from sklearn.metrics import mean_squared_error, r2_score\n",
    "\n",
    "# Load the diabetes dataset\n",
    "diabetes = datasets.load_diabetes()\n",
    "\n",
    "\n",
    "# Use only one feature\n",
    "diabetes_X = diabetes.data[:, np.newaxis, 2]\n",
    "\n",
    "# Split the data into training/testing sets\n",
    "diabetes_X_train = diabetes_X[:-20]\n",
    "diabetes_X_test = diabetes_X[-20:]\n",
    "\n",
    "# Split the targets into training/testing sets\n",
    "diabetes_y_train = diabetes.target[:-20]\n",
    "diabetes_y_test = diabetes.target[-20:]\n",
    "\n",
    "# Create linear regression object\n",
    "regr = linear_model.LinearRegression()\n",
    "\n",
    "# Train the model using the training sets\n",
    "regr.fit(diabetes_X_train, diabetes_y_train)\n",
    "\n",
    "# Make predictions using the testing set\n",
    "diabetes_y_pred = regr.predict(diabetes_X_test)\n",
    "\n",
    "# The coefficients\n",
    "print('Coefficients: \\n', regr.coef_)\n",
    "# The mean squared error\n",
    "print(\"Mean squared error: %.2f\"\n",
    "      % mean_squared_error(diabetes_y_test, diabetes_y_pred))\n",
    "# Explained variance score: 1 is perfect prediction\n",
    "print('Variance score: %.2f' % r2_score(diabetes_y_test, diabetes_y_pred))\n",
    "\n",
    "# Plot outputs\n",
    "plt.scatter(diabetes_X_test, diabetes_y_test,  color='black')\n",
    "plt.plot(diabetes_X_test, diabetes_y_pred, color='blue', linewidth=3)\n",
    "\n",
    "plt.xticks(())\n",
    "plt.yticks(())\n",
    "\n",
    "plt.show()"
   ]
  },
  {
   "cell_type": "code",
   "execution_count": 3,
   "metadata": {},
   "outputs": [
    {
     "data": {
      "text/plain": [
       "(20, 1)"
      ]
     },
     "execution_count": 3,
     "metadata": {},
     "output_type": "execute_result"
    }
   ],
   "source": [
    "diabetes_X_test.shape"
   ]
  },
  {
   "cell_type": "code",
   "execution_count": null,
   "metadata": {},
   "outputs": [],
   "source": []
  }
 ],
 "metadata": {
  "kernelspec": {
   "display_name": "Python 3",
   "language": "python",
   "name": "python3"
  },
  "language_info": {
   "codemirror_mode": {
    "name": "ipython",
    "version": 3
   },
   "file_extension": ".py",
   "mimetype": "text/x-python",
   "name": "python",
   "nbconvert_exporter": "python",
   "pygments_lexer": "ipython3",
   "version": "3.7.3"
  }
 },
 "nbformat": 4,
 "nbformat_minor": 2
}
