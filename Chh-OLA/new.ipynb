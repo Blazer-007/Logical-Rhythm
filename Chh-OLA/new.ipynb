{
 "cells": [
  {
   "cell_type": "code",
   "execution_count": 1,
   "metadata": {},
   "outputs": [],
   "source": [
    "import numpy as np\n",
    "import pandas as pd\n",
    "import matplotlib.pyplot as plt\n",
    "from sklearn import linear_model, metrics\n",
    "from sklearn.preprocessing import PolynomialFeatures"
   ]
  },
  {
   "cell_type": "code",
   "execution_count": 2,
   "metadata": {},
   "outputs": [],
   "source": [
    "df = pd.read_csv(\"train.csv\",low_memory=False)"
   ]
  },
  {
   "cell_type": "code",
   "execution_count": 3,
   "metadata": {},
   "outputs": [
    {
     "data": {
      "text/plain": [
       "(1048575, 17)"
      ]
     },
     "execution_count": 3,
     "metadata": {},
     "output_type": "execute_result"
    }
   ],
   "source": [
    "df.shape"
   ]
  },
  {
   "cell_type": "code",
   "execution_count": 4,
   "metadata": {},
   "outputs": [
    {
     "data": {
      "text/plain": [
       "Index(['ID', 'vendor+AF8-id', 'pickup+AF8-loc', 'drop+AF8-loc',\n",
       "       'driver+AF8-tip', 'mta+AF8-tax', 'distance', 'pickup+AF8-time',\n",
       "       'drop+AF8-time', 'num+AF8-passengers', 'toll+AF8-amount',\n",
       "       'payment+AF8-method', 'rate+AF8-code', 'stored+AF8-flag',\n",
       "       'extra+AF8-charges', 'improvement+AF8-charge', 'total+AF8-amount'],\n",
       "      dtype='object')"
      ]
     },
     "execution_count": 4,
     "metadata": {},
     "output_type": "execute_result"
    }
   ],
   "source": [
    "df.columns"
   ]
  },
  {
   "cell_type": "code",
   "execution_count": 5,
   "metadata": {},
   "outputs": [],
   "source": [
    "df.columns = ['ID','vendor_id','pickup_loc','drop_loc','driver_tip','mta_tax','distance','pickup_time','drop_time','num_passengers','toll_amount','payment_method','rate_code','stored_flag','extra_charges','improvement_charge','total_amount']"
   ]
  },
  {
   "cell_type": "code",
   "execution_count": 6,
   "metadata": {},
   "outputs": [
    {
     "data": {
      "text/html": [
       "<div>\n",
       "<style scoped>\n",
       "    .dataframe tbody tr th:only-of-type {\n",
       "        vertical-align: middle;\n",
       "    }\n",
       "\n",
       "    .dataframe tbody tr th {\n",
       "        vertical-align: top;\n",
       "    }\n",
       "\n",
       "    .dataframe thead th {\n",
       "        text-align: right;\n",
       "    }\n",
       "</style>\n",
       "<table border=\"1\" class=\"dataframe\">\n",
       "  <thead>\n",
       "    <tr style=\"text-align: right;\">\n",
       "      <th></th>\n",
       "      <th>ID</th>\n",
       "      <th>vendor_id</th>\n",
       "      <th>pickup_loc</th>\n",
       "      <th>drop_loc</th>\n",
       "      <th>driver_tip</th>\n",
       "      <th>mta_tax</th>\n",
       "      <th>distance</th>\n",
       "      <th>pickup_time</th>\n",
       "      <th>drop_time</th>\n",
       "      <th>num_passengers</th>\n",
       "      <th>toll_amount</th>\n",
       "      <th>payment_method</th>\n",
       "      <th>rate_code</th>\n",
       "      <th>stored_flag</th>\n",
       "      <th>extra_charges</th>\n",
       "      <th>improvement_charge</th>\n",
       "      <th>total_amount</th>\n",
       "    </tr>\n",
       "  </thead>\n",
       "  <tbody>\n",
       "    <tr>\n",
       "      <th>0</th>\n",
       "      <td>0</td>\n",
       "      <td>1</td>\n",
       "      <td>170.0</td>\n",
       "      <td>233.0</td>\n",
       "      <td>1.83</td>\n",
       "      <td>0.5</td>\n",
       "      <td>0.70</td>\n",
       "      <td>04/04/2017 05:59:43 PM</td>\n",
       "      <td>04/04/2017 06:05:04 PM</td>\n",
       "      <td>1.0</td>\n",
       "      <td>0</td>\n",
       "      <td>1.0</td>\n",
       "      <td>1.0</td>\n",
       "      <td>N</td>\n",
       "      <td>1</td>\n",
       "      <td>0.3</td>\n",
       "      <td>9.13</td>\n",
       "    </tr>\n",
       "    <tr>\n",
       "      <th>1</th>\n",
       "      <td>1</td>\n",
       "      <td>2</td>\n",
       "      <td>151.0</td>\n",
       "      <td>243.0</td>\n",
       "      <td>3.56</td>\n",
       "      <td>0.5</td>\n",
       "      <td>4.64</td>\n",
       "      <td>04/03/2017 07:03:34 PM</td>\n",
       "      <td>04/03/2017 07:20:04 PM</td>\n",
       "      <td>1.0</td>\n",
       "      <td>0</td>\n",
       "      <td>1.0</td>\n",
       "      <td>1.0</td>\n",
       "      <td>N</td>\n",
       "      <td>1</td>\n",
       "      <td>0.3</td>\n",
       "      <td>21.36</td>\n",
       "    </tr>\n",
       "    <tr>\n",
       "      <th>2</th>\n",
       "      <td>2</td>\n",
       "      <td>2</td>\n",
       "      <td>68.0</td>\n",
       "      <td>90.0</td>\n",
       "      <td>1.5</td>\n",
       "      <td>0.5</td>\n",
       "      <td>1.29</td>\n",
       "      <td>04/03/2017 03:06:13 PM</td>\n",
       "      <td>04/03/2017 03:12:30 PM</td>\n",
       "      <td>2.0</td>\n",
       "      <td>0</td>\n",
       "      <td>1.0</td>\n",
       "      <td>1.0</td>\n",
       "      <td>N</td>\n",
       "      <td>0</td>\n",
       "      <td>0.3</td>\n",
       "      <td>8.8</td>\n",
       "    </tr>\n",
       "    <tr>\n",
       "      <th>3</th>\n",
       "      <td>3</td>\n",
       "      <td>2</td>\n",
       "      <td>142.0</td>\n",
       "      <td>234.0</td>\n",
       "      <td>1.5</td>\n",
       "      <td>0.5</td>\n",
       "      <td>2.74</td>\n",
       "      <td>04/04/2017 08:10:52 AM</td>\n",
       "      <td>04/04/2017 08:27:00 AM</td>\n",
       "      <td>1.0</td>\n",
       "      <td>0</td>\n",
       "      <td>1.0</td>\n",
       "      <td>1.0</td>\n",
       "      <td>N</td>\n",
       "      <td>0</td>\n",
       "      <td>0.3</td>\n",
       "      <td>14.8</td>\n",
       "    </tr>\n",
       "    <tr>\n",
       "      <th>4</th>\n",
       "      <td>4</td>\n",
       "      <td>2</td>\n",
       "      <td>238.0</td>\n",
       "      <td>238.0</td>\n",
       "      <td>0</td>\n",
       "      <td>0.5</td>\n",
       "      <td>0.45</td>\n",
       "      <td>04/05/2017 02:02:59 PM</td>\n",
       "      <td>04/05/2017 02:05:41 PM</td>\n",
       "      <td>6.0</td>\n",
       "      <td>0</td>\n",
       "      <td>2.0</td>\n",
       "      <td>1.0</td>\n",
       "      <td>N</td>\n",
       "      <td>0</td>\n",
       "      <td>0.3</td>\n",
       "      <td>4.8</td>\n",
       "    </tr>\n",
       "  </tbody>\n",
       "</table>\n",
       "</div>"
      ],
      "text/plain": [
       "   ID vendor_id  pickup_loc  drop_loc driver_tip mta_tax  distance  \\\n",
       "0   0         1       170.0     233.0       1.83     0.5      0.70   \n",
       "1   1         2       151.0     243.0       3.56     0.5      4.64   \n",
       "2   2         2        68.0      90.0        1.5     0.5      1.29   \n",
       "3   3         2       142.0     234.0        1.5     0.5      2.74   \n",
       "4   4         2       238.0     238.0          0     0.5      0.45   \n",
       "\n",
       "              pickup_time               drop_time  num_passengers toll_amount  \\\n",
       "0  04/04/2017 05:59:43 PM  04/04/2017 06:05:04 PM             1.0           0   \n",
       "1  04/03/2017 07:03:34 PM  04/03/2017 07:20:04 PM             1.0           0   \n",
       "2  04/03/2017 03:06:13 PM  04/03/2017 03:12:30 PM             2.0           0   \n",
       "3  04/04/2017 08:10:52 AM  04/04/2017 08:27:00 AM             1.0           0   \n",
       "4  04/05/2017 02:02:59 PM  04/05/2017 02:05:41 PM             6.0           0   \n",
       "\n",
       "   payment_method  rate_code stored_flag extra_charges improvement_charge  \\\n",
       "0             1.0        1.0           N             1                0.3   \n",
       "1             1.0        1.0           N             1                0.3   \n",
       "2             1.0        1.0           N             0                0.3   \n",
       "3             1.0        1.0           N             0                0.3   \n",
       "4             2.0        1.0           N             0                0.3   \n",
       "\n",
       "  total_amount  \n",
       "0         9.13  \n",
       "1        21.36  \n",
       "2          8.8  \n",
       "3         14.8  \n",
       "4          4.8  "
      ]
     },
     "execution_count": 6,
     "metadata": {},
     "output_type": "execute_result"
    }
   ],
   "source": [
    "df.head()"
   ]
  },
  {
   "cell_type": "code",
   "execution_count": 7,
   "metadata": {},
   "outputs": [
    {
     "data": {
      "text/plain": [
       "ID                    0\n",
       "vendor_id             0\n",
       "pickup_loc            1\n",
       "drop_loc              1\n",
       "driver_tip            2\n",
       "mta_tax               1\n",
       "distance              1\n",
       "pickup_time           1\n",
       "drop_time             1\n",
       "num_passengers        1\n",
       "toll_amount           2\n",
       "payment_method        1\n",
       "rate_code             1\n",
       "stored_flag           1\n",
       "extra_charges         1\n",
       "improvement_charge    2\n",
       "total_amount          2\n",
       "dtype: int64"
      ]
     },
     "execution_count": 7,
     "metadata": {},
     "output_type": "execute_result"
    }
   ],
   "source": [
    "df.isna().sum()"
   ]
  },
  {
   "cell_type": "code",
   "execution_count": 8,
   "metadata": {},
   "outputs": [],
   "source": [
    "df = df.dropna()"
   ]
  },
  {
   "cell_type": "code",
   "execution_count": 9,
   "metadata": {},
   "outputs": [
    {
     "data": {
      "text/plain": [
       "(1048573, 17)"
      ]
     },
     "execution_count": 9,
     "metadata": {},
     "output_type": "execute_result"
    }
   ],
   "source": [
    "df.shape"
   ]
  },
  {
   "cell_type": "code",
   "execution_count": 10,
   "metadata": {},
   "outputs": [
    {
     "data": {
      "text/plain": [
       "ID                    0\n",
       "vendor_id             0\n",
       "pickup_loc            0\n",
       "drop_loc              0\n",
       "driver_tip            0\n",
       "mta_tax               0\n",
       "distance              0\n",
       "pickup_time           0\n",
       "drop_time             0\n",
       "num_passengers        0\n",
       "toll_amount           0\n",
       "payment_method        0\n",
       "rate_code             0\n",
       "stored_flag           0\n",
       "extra_charges         0\n",
       "improvement_charge    0\n",
       "total_amount          0\n",
       "dtype: int64"
      ]
     },
     "execution_count": 10,
     "metadata": {},
     "output_type": "execute_result"
    }
   ],
   "source": [
    "df.isna().sum()"
   ]
  },
  {
   "cell_type": "code",
   "execution_count": 11,
   "metadata": {},
   "outputs": [
    {
     "data": {
      "text/plain": [
       "ID                      int64\n",
       "vendor_id              object\n",
       "pickup_loc            float64\n",
       "drop_loc              float64\n",
       "driver_tip             object\n",
       "mta_tax                object\n",
       "distance              float64\n",
       "pickup_time            object\n",
       "drop_time              object\n",
       "num_passengers        float64\n",
       "toll_amount            object\n",
       "payment_method        float64\n",
       "rate_code             float64\n",
       "stored_flag            object\n",
       "extra_charges          object\n",
       "improvement_charge     object\n",
       "total_amount           object\n",
       "dtype: object"
      ]
     },
     "execution_count": 11,
     "metadata": {},
     "output_type": "execute_result"
    }
   ],
   "source": [
    "df.dtypes"
   ]
  },
  {
   "cell_type": "code",
   "execution_count": 12,
   "metadata": {},
   "outputs": [
    {
     "data": {
      "text/plain": [
       "0"
      ]
     },
     "execution_count": 12,
     "metadata": {},
     "output_type": "execute_result"
    }
   ],
   "source": [
    "df['vendor_id'].isna().sum()"
   ]
  },
  {
   "cell_type": "code",
   "execution_count": 13,
   "metadata": {},
   "outputs": [
    {
     "data": {
      "text/plain": [
       "array(['1', '2'], dtype=object)"
      ]
     },
     "execution_count": 13,
     "metadata": {},
     "output_type": "execute_result"
    }
   ],
   "source": [
    "df['vendor_id'].unique()"
   ]
  },
  {
   "cell_type": "code",
   "execution_count": 14,
   "metadata": {},
   "outputs": [],
   "source": [
    "df['vendor_id'] = df['vendor_id'].apply(pd.to_numeric, errors='coerce')"
   ]
  },
  {
   "cell_type": "code",
   "execution_count": 15,
   "metadata": {},
   "outputs": [
    {
     "data": {
      "text/plain": [
       "dtype('int64')"
      ]
     },
     "execution_count": 15,
     "metadata": {},
     "output_type": "execute_result"
    }
   ],
   "source": [
    "df['vendor_id'].dtypes"
   ]
  },
  {
   "cell_type": "code",
   "execution_count": 16,
   "metadata": {},
   "outputs": [
    {
     "data": {
      "text/plain": [
       "ID                    0\n",
       "vendor_id             0\n",
       "pickup_loc            0\n",
       "drop_loc              0\n",
       "driver_tip            0\n",
       "mta_tax               0\n",
       "distance              0\n",
       "pickup_time           0\n",
       "drop_time             0\n",
       "num_passengers        0\n",
       "toll_amount           0\n",
       "payment_method        0\n",
       "rate_code             0\n",
       "stored_flag           0\n",
       "extra_charges         0\n",
       "improvement_charge    0\n",
       "total_amount          0\n",
       "dtype: int64"
      ]
     },
     "execution_count": 16,
     "metadata": {},
     "output_type": "execute_result"
    }
   ],
   "source": [
    "df.isna().sum()"
   ]
  },
  {
   "cell_type": "code",
   "execution_count": 17,
   "metadata": {},
   "outputs": [
    {
     "data": {
      "text/plain": [
       "array([170., 151.,  68., 142., 238., 230., 236., 229., 132., 114., 264.,\n",
       "       166., 263., 137.,  90., 141., 211., 138., 164., 148., 237., 261.,\n",
       "       234., 186., 161., 107., 140.,  24., 113.,  13., 231., 143., 239.,\n",
       "       249.,  48.,   4., 162., 158., 163.,  79., 224., 223., 179.,  75.,\n",
       "       125.,  87., 100., 233.,  12., 262., 144.,  43.,  74., 152.,  66.,\n",
       "       226., 112.,   7.,  41., 246.,  50.,  88., 256., 193.,  45.,  65.,\n",
       "       146.,  42.,  85.,  34., 209., 145., 189.,  61., 232., 116.,  52.,\n",
       "       244.,  80.,  56.,  33., 260., 181.,  17., 194., 196., 259.,  37.,\n",
       "       197., 188., 127., 255., 228., 247.,  25.,  93.,  49., 265., 215.,\n",
       "        40., 198., 220., 129., 106.,  82., 130.,  10., 217.,  97.,  95.,\n",
       "       190., 195.,  18., 167., 157.,  36.,  89., 219.,  28., 119., 168.,\n",
       "       208.,  62., 243., 225.,  92., 169.,  54., 136., 134., 242.,   9.,\n",
       "        70.,   1., 124., 156., 227., 159., 207.,  83., 135.,  35., 216.,\n",
       "        73.,  47., 235., 173.,  26., 218., 108., 123.,  91.,  76., 153.,\n",
       "        86., 165., 111., 202., 257., 213.,   8.,  19., 178.,  20., 160.,\n",
       "       203., 205., 200., 182.,  69., 126., 241., 254., 101.,  57., 177.,\n",
       "       102.,  72.,  71., 128., 191.,  11.,   6.,  39.,  14.,  32., 133.,\n",
       "       149.,  31.,  22.,  78., 171.,  64.,  53.,  60.,  55.,  67., 248.,\n",
       "       222., 212., 192.,  51., 155., 253., 147.,  94., 131., 175., 185.,\n",
       "        98.,  96., 221., 258., 154., 174., 250.,  77., 252., 180., 118.,\n",
       "       210.,  16.,  81., 120., 139.,  84., 206.,  21., 201.,  23., 183.,\n",
       "       121., 122., 109.,  29., 214., 184.,  63., 150.,  99., 240., 204.,\n",
       "       176.,   3.])"
      ]
     },
     "execution_count": 17,
     "metadata": {},
     "output_type": "execute_result"
    }
   ],
   "source": [
    "df['pickup_loc'].unique()"
   ]
  },
  {
   "cell_type": "code",
   "execution_count": 18,
   "metadata": {},
   "outputs": [
    {
     "data": {
      "text/plain": [
       "<matplotlib.axes._subplots.AxesSubplot at 0x24280925cc0>"
      ]
     },
     "execution_count": 18,
     "metadata": {},
     "output_type": "execute_result"
    },
    {
     "data": {
      "image/png": "[encoded data removed]",
      "text/plain": [
       "<Figure size 432x288 with 1 Axes>"
      ]
     },
     "metadata": {
      "needs_background": "light"
     },
     "output_type": "display_data"
    }
   ],
   "source": [
    "pd.DataFrame(df['pickup_loc']).plot(kind='density')"
   ]
  },
  {
   "cell_type": "code",
   "execution_count": 19,
   "metadata": {},
   "outputs": [
    {
     "data": {
      "text/plain": [
       "array([233., 243.,  90., 234., 238.,  48., 140.,  13., 141., 164., 170.,\n",
       "       264., 151., 246., 138.,  79., 230., 263., 232., 143., 229.,  50.,\n",
       "       237., 144.,  24., 142., 100., 161.,  75., 236., 239., 261.,  41.,\n",
       "       162., 125.,   7., 137., 158., 107., 116.,  74., 113., 211., 186.,\n",
       "        68., 132.,  87., 179., 226., 249., 145., 262.,  42.,  33., 166.,\n",
       "       218.,  82., 163.,  45., 224., 231., 222., 244., 152., 220., 256.,\n",
       "        66., 265., 216., 225., 102.,  80., 148., 202.,  25., 255.,  12.,\n",
       "       223., 114.,  43., 193.,   1.,  85.,  88.,  14., 149., 181., 112.,\n",
       "       169., 248.,  40.,  49., 257.,  52.,  39.,   4., 196.,  65.,  61.,\n",
       "       146., 127., 209.,  91., 200., 168., 180., 195., 130.,  95., 228.,\n",
       "        36.,  97., 173., 203.,  89., 129., 189.,  18.,  67.,  83.,  37.,\n",
       "        70., 201., 134., 247.,  69., 135., 259.,  10., 121.,  59., 252.,\n",
       "         9.,  98., 188., 198., 213.,  17., 182.,  28., 241., 106.,  63.,\n",
       "        54.,  26., 126.,  60.,  76., 160., 217.,  31.,  22., 133., 219.,\n",
       "        21., 157., 165., 205.,  34., 177.,  96.,  62.,  92., 260.,  93.,\n",
       "        51.,  20., 208., 258., 178., 197.,  56., 192., 221.,  71., 159.,\n",
       "       250.,  23., 167., 210., 150., 174., 147., 227., 235., 124., 155.,\n",
       "        38.,  35.,  15.,  55.,  72., 185.,   3., 123.,  64.,  78., 191.,\n",
       "        58.,  53., 131.,  94.,   6.,  16., 108., 242., 119., 156.,  77.,\n",
       "        47., 128., 206., 207., 139.,  73., 212., 101.,  32., 120., 190.,\n",
       "       117., 171., 136.,  57., 251., 183., 215.,  86.,  81., 240.,  11.,\n",
       "       115., 194., 153.,  19., 254., 175.,  29., 184., 214.,  44., 122.,\n",
       "       253., 245.,  27.,   8., 109., 154., 204., 172.,  46., 111., 118.,\n",
       "         5.,   2., 105.,  84.,  30., 176., 187.])"
      ]
     },
     "execution_count": 19,
     "metadata": {},
     "output_type": "execute_result"
    }
   ],
   "source": [
    "df['drop_loc'].unique()"
   ]
  },
  {
   "cell_type": "code",
   "execution_count": 20,
   "metadata": {},
   "outputs": [
    {
     "data": {
      "text/plain": [
       "<matplotlib.axes._subplots.AxesSubplot at 0x242808d3f60>"
      ]
     },
     "execution_count": 20,
     "metadata": {},
     "output_type": "execute_result"
    },
    {
     "data": {
      "image/png": "[encoded data removed]",
      "text/plain": [
       "<Figure size 432x288 with 1 Axes>"
      ]
     },
     "metadata": {
      "needs_background": "light"
     },
     "output_type": "display_data"
    }
   ],
   "source": [
    "pd.DataFrame(df['drop_loc']).plot(kind='density')"
   ]
  },
  {
   "cell_type": "code",
   "execution_count": 21,
   "metadata": {},
   "outputs": [
    {
     "data": {
      "text/plain": [
       "array(['9.13', '21.36', '8.8', ..., '58.4', '64.94', '128.75'],\n",
       "      dtype=object)"
      ]
     },
     "execution_count": 21,
     "metadata": {},
     "output_type": "execute_result"
    }
   ],
   "source": [
    "df['total_amount'].unique()"
   ]
  },
  {
   "cell_type": "code",
   "execution_count": 18,
   "metadata": {},
   "outputs": [],
   "source": [
    "df['total_amount'] = df['total_amount'].apply(pd.to_numeric, errors='coerce')"
   ]
  },
  {
   "cell_type": "code",
   "execution_count": 19,
   "metadata": {},
   "outputs": [
    {
     "data": {
      "text/plain": [
       "521"
      ]
     },
     "execution_count": 19,
     "metadata": {},
     "output_type": "execute_result"
    }
   ],
   "source": [
    "df['total_amount'].isna().sum()"
   ]
  },
  {
   "cell_type": "code",
   "execution_count": 20,
   "metadata": {},
   "outputs": [],
   "source": [
    "df = df.dropna()"
   ]
  },
  {
   "cell_type": "code",
   "execution_count": 21,
   "metadata": {},
   "outputs": [
    {
     "data": {
      "text/plain": [
       "(1048052, 17)"
      ]
     },
     "execution_count": 21,
     "metadata": {},
     "output_type": "execute_result"
    }
   ],
   "source": [
    "df.shape"
   ]
  },
  {
   "cell_type": "code",
   "execution_count": 22,
   "metadata": {},
   "outputs": [
    {
     "data": {
      "image/png": "[encoded data removed]",
      "text/plain": [
       "<Figure size 432x288 with 1 Axes>"
      ]
     },
     "metadata": {
      "needs_background": "light"
     },
     "output_type": "display_data"
    }
   ],
   "source": [
    "def scatter_plot(x_data, y_data, x_label, y_label, title):\n",
    "    \n",
    "    plt.scatter(x_data, y_data, s = 15, color = '#539caf')\n",
    "    plt.title(title)\n",
    "    plt.xlabel(x_label)\n",
    "    plt.ylabel(y_label)\n",
    "    \n",
    "    \n",
    "    \n",
    "scatter_plot(x_data = df['drop_loc']\n",
    "            , y_data = df['total_amount'] \n",
    "            , x_label = 'drop_loc'\n",
    "            , y_label = 'amount'\n",
    "            , title = 'drop_loc vs total amount')"
   ]
  },
  {
   "cell_type": "code",
   "execution_count": 35,
   "metadata": {},
   "outputs": [
    {
     "data": {
      "image/png": "[encoded data removed]",
      "text/plain": [
       "<Figure size 432x288 with 1 Axes>"
      ]
     },
     "metadata": {
      "needs_background": "light"
     },
     "output_type": "display_data"
    }
   ],
   "source": [
    "def scatter_plot(x_data, y_data, x_label, y_label, title):\n",
    "    \n",
    "    plt.scatter(x_data, y_data, s = 15, color = '#539caf', alpha = 0.75)\n",
    "    plt.title(title)\n",
    "    plt.xlabel(x_label)\n",
    "    plt.ylabel(y_label)\n",
    "    \n",
    "    \n",
    "    \n",
    "scatter_plot(x_data = df['pickup_loc']\n",
    "            , y_data = df['total_amount'] \n",
    "            , x_label = 'pickup_loc'\n",
    "            , y_label = 'amount'\n",
    "            , title = 'pickup_loc vs total amount')"
   ]
  },
  {
   "cell_type": "code",
   "execution_count": null,
   "metadata": {},
   "outputs": [],
   "source": [
    "#Since the graph of pickup_loc vs total_amount and drop_loc vs total_amount has "
   ]
  },
  {
   "cell_type": "code",
   "execution_count": 30,
   "metadata": {},
   "outputs": [
    {
     "data": {
      "text/plain": [
       "array(['1.83', '3.56', '1.5', ..., '99', '9.42', '37.2'], dtype=object)"
      ]
     },
     "execution_count": 30,
     "metadata": {},
     "output_type": "execute_result"
    }
   ],
   "source": [
    "df['driver_tip'].unique()"
   ]
  },
  {
   "cell_type": "code",
   "execution_count": 23,
   "metadata": {},
   "outputs": [],
   "source": [
    "df['driver_tip'] = df['driver_tip'].apply(pd.to_numeric, errors='coerce')"
   ]
  },
  {
   "cell_type": "code",
   "execution_count": 24,
   "metadata": {},
   "outputs": [],
   "source": [
    "df['driver_tip'].fillna(0.0,inplace=True)"
   ]
  },
  {
   "cell_type": "code",
   "execution_count": 33,
   "metadata": {},
   "outputs": [
    {
     "data": {
      "text/plain": [
       "<matplotlib.axes._subplots.AxesSubplot at 0x242800a75f8>"
      ]
     },
     "execution_count": 33,
     "metadata": {},
     "output_type": "execute_result"
    },
    {
     "data": {
      "image/png": "[encoded data removed]",
      "text/plain": [
       "<Figure size 432x288 with 1 Axes>"
      ]
     },
     "metadata": {
      "needs_background": "light"
     },
     "output_type": "display_data"
    }
   ],
   "source": [
    "pd.DataFrame(df['driver_tip']).plot(kind='density')"
   ]
  },
  {
   "cell_type": "code",
   "execution_count": 36,
   "metadata": {},
   "outputs": [
    {
     "data": {
      "image/png": "[encoded data removed]",
      "text/plain": [
       "<Figure size 432x288 with 1 Axes>"
      ]
     },
     "metadata": {
      "needs_background": "light"
     },
     "output_type": "display_data"
    }
   ],
   "source": [
    "scatter_plot(x_data = df['driver_tip']\n",
    "            , y_data = df['total_amount'] \n",
    "            , x_label = 'driver_tip'\n",
    "            , y_label = 'amount'\n",
    "            , title = 'driver_tip vs total amount')"
   ]
  },
  {
   "cell_type": "code",
   "execution_count": 37,
   "metadata": {},
   "outputs": [
    {
     "data": {
      "text/plain": [
       "0.6753047280115074"
      ]
     },
     "execution_count": 37,
     "metadata": {},
     "output_type": "execute_result"
    }
   ],
   "source": [
    "df['driver_tip'].corr(df['total_amount'])"
   ]
  },
  {
   "cell_type": "code",
   "execution_count": 38,
   "metadata": {},
   "outputs": [
    {
     "data": {
      "text/plain": [
       "0.5    1042799\n",
       "0         5253\n",
       "Name: mta_tax, dtype: int64"
      ]
     },
     "execution_count": 38,
     "metadata": {},
     "output_type": "execute_result"
    }
   ],
   "source": [
    "df['mta_tax'].value_counts()"
   ]
  },
  {
   "cell_type": "code",
   "execution_count": 25,
   "metadata": {},
   "outputs": [],
   "source": [
    "df['mta_tax'] = df['mta_tax'].apply(pd.to_numeric, errors='coerce')"
   ]
  },
  {
   "cell_type": "code",
   "execution_count": 26,
   "metadata": {},
   "outputs": [
    {
     "data": {
      "text/plain": [
       "ID                      int64\n",
       "vendor_id               int64\n",
       "pickup_loc            float64\n",
       "drop_loc              float64\n",
       "driver_tip            float64\n",
       "mta_tax               float64\n",
       "distance              float64\n",
       "pickup_time            object\n",
       "drop_time              object\n",
       "num_passengers        float64\n",
       "toll_amount            object\n",
       "payment_method        float64\n",
       "rate_code             float64\n",
       "stored_flag            object\n",
       "extra_charges          object\n",
       "improvement_charge     object\n",
       "total_amount          float64\n",
       "dtype: object"
      ]
     },
     "execution_count": 26,
     "metadata": {},
     "output_type": "execute_result"
    }
   ],
   "source": [
    "df.dtypes"
   ]
  },
  {
   "cell_type": "code",
   "execution_count": 41,
   "metadata": {},
   "outputs": [
    {
     "data": {
      "image/png": "[encoded data removed]",
      "text/plain": [
       "<Figure size 432x288 with 1 Axes>"
      ]
     },
     "metadata": {
      "needs_background": "light"
     },
     "output_type": "display_data"
    }
   ],
   "source": [
    "scatter_plot(x_data = df['mta_tax']\n",
    "            , y_data = df['total_amount'] \n",
    "            , x_label = 'mta_tax'\n",
    "            , y_label = 'amount'\n",
    "            , title = 'mta_tax vs total amount')"
   ]
  },
  {
   "cell_type": "code",
   "execution_count": 42,
   "metadata": {},
   "outputs": [
    {
     "data": {
      "text/plain": [
       "array(['0', '5.76', '5.54', '2.64', '17.5', '15', '11.52', '7', '2.16',\n",
       "       '10.5', '16.26', '20', '5.78', '15.5', '16.5', '12.5', '10.08',\n",
       "       '18.25', '15.01', '10.05', '22.02', '14.65', '5.11', '8.5', '14.1',\n",
       "       '2.7', '27.5', '11', '5.5', '6.5', '17.28', '26.26', '14.95',\n",
       "       '10.2', '29', '5.4', '15.1', '19.5', '16', '17', '13.5', '25',\n",
       "       '17.58', '23.26', '21', '18.5', '14.82', '6', '17.1', '18.26',\n",
       "       '5.56', '14.5', '15.45', '13', '26.7', '15.3', '5', '5.74', '20.5',\n",
       "       '18', '24', '24.5', '5.55', '12.65', '18.8', '14.58', '8.76',\n",
       "       '0.02', '0.06', '15.4', '14.06', '1.5', '12.95', '11.08', '19',\n",
       "       '2.54', '14', '30.76', '14.8', '16.9', '21.26', '67.5', '57.76',\n",
       "       '5.46', '16.95', '24.76', '8.4', '20.76', '24.02', '15.05', '19.8',\n",
       "       '17.4', '7.92', '16.1', '95.76', '3', '21.9', '5.77', '16.04',\n",
       "       '15.35', '5.75', '7.51', '9.53', '5.28', '16.8', '5.88', '5.73',\n",
       "       '13.75', '8', '5.7', '21.5', '14.26', '5.84', '54', '15.95',\n",
       "       '21.76', '5.72', '4', '22.22', '45.76', '5.44', '22.25', '5.14',\n",
       "       '12', '14.66', '15.25', '31.5', '5.86', '24.26', '2.56', '0.01',\n",
       "       '5.34', '16.7', '0.04', '5.79', '2', '5.85', '17.45', '26.76',\n",
       "       '405.84', '17.25', '5.67', '17.05', '16.25', '23.5', '20.9',\n",
       "       '18.04', '3.5', '12.3', '14.75', '15.75', '22.2', '5.87', '17.7',\n",
       "       '18.38', '18.7', '12.32', '30.02', '0.09', '11.26', '16.45',\n",
       "       '9.99', '16.24', '25.54', '26.97', '7.76', '18.55', '16.75',\n",
       "       '19.1', '15.7', '14.7', '50.5', '19.49', '27.02', '34', '2.44',\n",
       "       '19.7', '2.18', '5.94', '20.09', '10', '14.9', '9.76', '5.57',\n",
       "       '15.14', '13.03', '7.56', '5.65', '16.55', '24.56', '31', '13.44',\n",
       "       '12.9', '9.89', '2.45', '22', '86', '2.5', '18.3', '23', '6.56',\n",
       "       '13.25', '5.45', '16.52', '5.64', '33.3', '20.42', '7.1', '5.8',\n",
       "       '15.2', '5.13', '18.1', '26.52', '17.6', '7.2', '22.15', '11.09',\n",
       "       '11.9', '16.76', '11.54', '19.75', '21.05', '21.01', '19.3',\n",
       "       '19.4', '22.76', '17.78', '17.76', '5.96', '19.01', '1', '17.26',\n",
       "       '7.01', '18.6', '5.83', '19.85', '8.01', '52.26', '14.52', '28.52',\n",
       "       '17.75', '765.34', '905.76', '0.07', '17.8', '12.25', '25.7',\n",
       "       '5.58', '13.7', '12.84', '15.04', '22.5', '30.26', '5.08', '27.7',\n",
       "       '28.26', '5.42', '571.32', '17.35', '16.62', '23.8', '22.26',\n",
       "       '22.16', '15.9', '25.76', '12.75', '20.56', '0.3', '19.02', '12.2',\n",
       "       '13.15', '6.59', '5.89', '8.26', '6.7', '17.2', '13.14', '24.01',\n",
       "       '40', '4.32', '6.79', '13.04', '57.59', '56.97', '24.21', '7.25',\n",
       "       '8.8', '19.2', '0.76', '8.78', '29.02', '26.62', '5.71', '14.4',\n",
       "       '6.06', '15.19', '20.26', '26.55', '13.95', '17.9', '25.9',\n",
       "       '15.08', '14.3', '13.8', '5.59', '19.86', '70.5', '18.9', '12.59',\n",
       "       '18.76', '38.02', '40.02', '0.5', '5.62', '13.3', '17.3', '6.43',\n",
       "       '9.26', '11.3', '575.09', '10.8', '17.08', '16.82', '8.48',\n",
       "       '14.25', '18.2', '96.52', '11.75', '32.5', '24.7', '5.33', '9',\n",
       "       '1.26', '50', '2.25', '5.68', '12.8', '85.76', '16.15', '5.6',\n",
       "       '25.26', '5.95', '28.6', '17.29', '16.05', '12.04', '19.71',\n",
       "       '18.65', '46', '18.35', '25.35', '18.05', '11.65', '13.45', '5.53',\n",
       "       '7.64', '2.2', '0.08', '1.75', '19.9', '25.46', '37.78', '10.76',\n",
       "       '6.72', '13.27', '19.45', '78.5', '55', '2.76', '7.52', '11.76',\n",
       "       '22.06', '16.38', '4.76', '54.55', '6.88', '18.4', '45', '19.76',\n",
       "       '14.71', '26.02', '21.31', '21.06', '23.91', '29.5', '13.36',\n",
       "       '85.55', '16.3', '10.26', '18.96', '6.54', '11.33', '20.46',\n",
       "       '15.02', '15.15', '14.38', '23.36', '4.5', '15.76', '20.71',\n",
       "       '17.42', '12.66', '26', '16.42', '55.76', '1.25', '18.24', '39.76',\n",
       "       '97', '36.26', '11.43', '2.55', '11.5', '17.06', '7.8', '11.51',\n",
       "       '17.19'], dtype=object)"
      ]
     },
     "execution_count": 42,
     "metadata": {},
     "output_type": "execute_result"
    }
   ],
   "source": [
    "df['toll_amount'].unique()"
   ]
  },
  {
   "cell_type": "code",
   "execution_count": 27,
   "metadata": {},
   "outputs": [],
   "source": [
    "df['toll_amount'] = df['toll_amount'].apply(pd.to_numeric, errors='coerce')"
   ]
  },
  {
   "cell_type": "code",
   "execution_count": 44,
   "metadata": {},
   "outputs": [
    {
     "data": {
      "image/png": "[encoded data removed]",
      "text/plain": [
       "<Figure size 432x288 with 1 Axes>"
      ]
     },
     "metadata": {
      "needs_background": "light"
     },
     "output_type": "display_data"
    }
   ],
   "source": [
    "scatter_plot(x_data = df['toll_amount']\n",
    "            , y_data = df['total_amount'] \n",
    "            , x_label = 'toll_amount'\n",
    "            , y_label = 'amount'\n",
    "            , title = 'toll_amount vs total amount')"
   ]
  },
  {
   "cell_type": "code",
   "execution_count": 45,
   "metadata": {},
   "outputs": [
    {
     "data": {
      "text/plain": [
       "array([1., 2., 6., 3., 4., 5., 0., 8., 7., 9.])"
      ]
     },
     "execution_count": 45,
     "metadata": {},
     "output_type": "execute_result"
    }
   ],
   "source": [
    "df['num_passengers'].unique()"
   ]
  },
  {
   "cell_type": "code",
   "execution_count": 46,
   "metadata": {},
   "outputs": [
    {
     "data": {
      "text/plain": [
       "array([ 1.,  2.,  3.,  4.,  5., 99.,  6.])"
      ]
     },
     "execution_count": 46,
     "metadata": {},
     "output_type": "execute_result"
    }
   ],
   "source": [
    "df['rate_code'].unique()"
   ]
  },
  {
   "cell_type": "code",
   "execution_count": 28,
   "metadata": {},
   "outputs": [],
   "source": [
    "df = df.drop(columns=['stored_flag','payment_method'])"
   ]
  },
  {
   "cell_type": "code",
   "execution_count": 48,
   "metadata": {},
   "outputs": [
    {
     "data": {
      "text/plain": [
       "array(['1', '0', '0.5', '4.5', '1.8', '0.8', '0.05', '6.5', '1.5', '0.2',\n",
       "       '0.1', '1.3'], dtype=object)"
      ]
     },
     "execution_count": 48,
     "metadata": {},
     "output_type": "execute_result"
    }
   ],
   "source": [
    "df['extra_charges'].unique()"
   ]
  },
  {
   "cell_type": "code",
   "execution_count": 49,
   "metadata": {},
   "outputs": [
    {
     "data": {
      "text/plain": [
       "<matplotlib.axes._subplots.AxesSubplot at 0x2428025b518>"
      ]
     },
     "execution_count": 49,
     "metadata": {},
     "output_type": "execute_result"
    },
    {
     "data": {
      "image/png": "[encoded data removed]",
      "text/plain": [
       "<Figure size 432x288 with 1 Axes>"
      ]
     },
     "metadata": {
      "needs_background": "light"
     },
     "output_type": "display_data"
    }
   ],
   "source": [
    "fig, ax = plt.subplots()\n",
    "df['extra_charges'].value_counts().plot(ax=ax, kind='bar')"
   ]
  },
  {
   "cell_type": "code",
   "execution_count": 29,
   "metadata": {},
   "outputs": [
    {
     "data": {
      "text/plain": [
       "ID                      int64\n",
       "vendor_id               int64\n",
       "pickup_loc            float64\n",
       "drop_loc              float64\n",
       "driver_tip            float64\n",
       "mta_tax               float64\n",
       "distance              float64\n",
       "pickup_time            object\n",
       "drop_time              object\n",
       "num_passengers        float64\n",
       "toll_amount           float64\n",
       "rate_code             float64\n",
       "extra_charges          object\n",
       "improvement_charge     object\n",
       "total_amount          float64\n",
       "dtype: object"
      ]
     },
     "execution_count": 29,
     "metadata": {},
     "output_type": "execute_result"
    }
   ],
   "source": [
    "df.dtypes"
   ]
  },
  {
   "cell_type": "code",
   "execution_count": 30,
   "metadata": {},
   "outputs": [],
   "source": [
    "df['extra_charges'] = df['extra_charges'].apply(pd.to_numeric, errors='coerce')"
   ]
  },
  {
   "cell_type": "code",
   "execution_count": 52,
   "metadata": {},
   "outputs": [
    {
     "data": {
      "text/plain": [
       "array(['0.3', '0'], dtype=object)"
      ]
     },
     "execution_count": 52,
     "metadata": {},
     "output_type": "execute_result"
    }
   ],
   "source": [
    "df['improvement_charge'].unique()"
   ]
  },
  {
   "cell_type": "code",
   "execution_count": 53,
   "metadata": {},
   "outputs": [
    {
     "data": {
      "text/plain": [
       "<matplotlib.axes._subplots.AxesSubplot at 0x242802d0ef0>"
      ]
     },
     "execution_count": 53,
     "metadata": {},
     "output_type": "execute_result"
    },
    {
     "data": {
      "image/png": "[encoded data removed]",
      "text/plain": [
       "<Figure size 432x288 with 1 Axes>"
      ]
     },
     "metadata": {
      "needs_background": "light"
     },
     "output_type": "display_data"
    }
   ],
   "source": [
    "fig, ax = plt.subplots()\n",
    "df['improvement_charge'].value_counts().plot(ax=ax, kind='bar')"
   ]
  },
  {
   "cell_type": "code",
   "execution_count": 31,
   "metadata": {},
   "outputs": [],
   "source": [
    "df['improvement_charge'] = df['improvement_charge'].apply(pd.to_numeric, errors='coerce')"
   ]
  },
  {
   "cell_type": "code",
   "execution_count": 55,
   "metadata": {},
   "outputs": [
    {
     "data": {
      "text/plain": [
       "-0.0068108804212601735"
      ]
     },
     "execution_count": 55,
     "metadata": {},
     "output_type": "execute_result"
    }
   ],
   "source": [
    "df['improvement_charge'].corr(df['total_amount'])"
   ]
  },
  {
   "cell_type": "code",
   "execution_count": 32,
   "metadata": {},
   "outputs": [
    {
     "data": {
      "text/plain": [
       "ID                      int64\n",
       "vendor_id               int64\n",
       "pickup_loc            float64\n",
       "drop_loc              float64\n",
       "driver_tip            float64\n",
       "mta_tax               float64\n",
       "distance              float64\n",
       "pickup_time            object\n",
       "drop_time              object\n",
       "num_passengers        float64\n",
       "toll_amount           float64\n",
       "rate_code             float64\n",
       "extra_charges         float64\n",
       "improvement_charge    float64\n",
       "total_amount          float64\n",
       "dtype: object"
      ]
     },
     "execution_count": 32,
     "metadata": {},
     "output_type": "execute_result"
    }
   ],
   "source": [
    "df.dtypes"
   ]
  },
  {
   "cell_type": "code",
   "execution_count": 57,
   "metadata": {},
   "outputs": [
    {
     "data": {
      "text/html": [
       "<style  type=\"text/css\" >\n",
       "    #T_e42badcc_d7ec_11e9_b5d8_3024326fe11crow0_col0 {\n",
       "            background-color:  #b40426;\n",
       "            color:  #f1f1f1;\n",
       "        }    #T_e42badcc_d7ec_11e9_b5d8_3024326fe11crow0_col1 {\n",
       "            background-color:  #3f53c6;\n",
       "            color:  #f1f1f1;\n",
       "        }    #T_e42badcc_d7ec_11e9_b5d8_3024326fe11crow0_col2 {\n",
       "            background-color:  #5470de;\n",
       "            color:  #000000;\n",
       "        }    #T_e42badcc_d7ec_11e9_b5d8_3024326fe11crow0_col3 {\n",
       "            background-color:  #5673e0;\n",
       "            color:  #000000;\n",
       "        }    #T_e42badcc_d7ec_11e9_b5d8_3024326fe11crow0_col4 {\n",
       "            background-color:  #6e90f2;\n",
       "            color:  #000000;\n",
       "        }    #T_e42badcc_d7ec_11e9_b5d8_3024326fe11crow0_col5 {\n",
       "            background-color:  #97b8ff;\n",
       "            color:  #000000;\n",
       "        }    #T_e42badcc_d7ec_11e9_b5d8_3024326fe11crow0_col6 {\n",
       "            background-color:  #6788ee;\n",
       "            color:  #000000;\n",
       "        }    #T_e42badcc_d7ec_11e9_b5d8_3024326fe11crow0_col7 {\n",
       "            background-color:  #3c4ec2;\n",
       "            color:  #f1f1f1;\n",
       "        }    #T_e42badcc_d7ec_11e9_b5d8_3024326fe11crow0_col8 {\n",
       "            background-color:  #7da0f9;\n",
       "            color:  #000000;\n",
       "        }    #T_e42badcc_d7ec_11e9_b5d8_3024326fe11crow0_col9 {\n",
       "            background-color:  #97b8ff;\n",
       "            color:  #000000;\n",
       "        }    #T_e42badcc_d7ec_11e9_b5d8_3024326fe11crow0_col10 {\n",
       "            background-color:  #3f53c6;\n",
       "            color:  #f1f1f1;\n",
       "        }    #T_e42badcc_d7ec_11e9_b5d8_3024326fe11crow0_col11 {\n",
       "            background-color:  #7a9df8;\n",
       "            color:  #000000;\n",
       "        }    #T_e42badcc_d7ec_11e9_b5d8_3024326fe11crow0_col12 {\n",
       "            background-color:  #85a8fc;\n",
       "            color:  #000000;\n",
       "        }    #T_e42badcc_d7ec_11e9_b5d8_3024326fe11crow1_col0 {\n",
       "            background-color:  #3b4cc0;\n",
       "            color:  #f1f1f1;\n",
       "        }    #T_e42badcc_d7ec_11e9_b5d8_3024326fe11crow1_col1 {\n",
       "            background-color:  #b40426;\n",
       "            color:  #f1f1f1;\n",
       "        }    #T_e42badcc_d7ec_11e9_b5d8_3024326fe11crow1_col2 {\n",
       "            background-color:  #4f69d9;\n",
       "            color:  #000000;\n",
       "        }    #T_e42badcc_d7ec_11e9_b5d8_3024326fe11crow1_col3 {\n",
       "            background-color:  #5470de;\n",
       "            color:  #000000;\n",
       "        }    #T_e42badcc_d7ec_11e9_b5d8_3024326fe11crow1_col4 {\n",
       "            background-color:  #7295f4;\n",
       "            color:  #000000;\n",
       "        }    #T_e42badcc_d7ec_11e9_b5d8_3024326fe11crow1_col5 {\n",
       "            background-color:  #9bbcff;\n",
       "            color:  #000000;\n",
       "        }    #T_e42badcc_d7ec_11e9_b5d8_3024326fe11crow1_col6 {\n",
       "            background-color:  #6c8ff1;\n",
       "            color:  #000000;\n",
       "        }    #T_e42badcc_d7ec_11e9_b5d8_3024326fe11crow1_col7 {\n",
       "            background-color:  #9ebeff;\n",
       "            color:  #000000;\n",
       "        }    #T_e42badcc_d7ec_11e9_b5d8_3024326fe11crow1_col8 {\n",
       "            background-color:  #7ea1fa;\n",
       "            color:  #000000;\n",
       "        }    #T_e42badcc_d7ec_11e9_b5d8_3024326fe11crow1_col9 {\n",
       "            background-color:  #97b8ff;\n",
       "            color:  #000000;\n",
       "        }    #T_e42badcc_d7ec_11e9_b5d8_3024326fe11crow1_col10 {\n",
       "            background-color:  #4358cb;\n",
       "            color:  #f1f1f1;\n",
       "        }    #T_e42badcc_d7ec_11e9_b5d8_3024326fe11crow1_col11 {\n",
       "            background-color:  #799cf8;\n",
       "            color:  #000000;\n",
       "        }    #T_e42badcc_d7ec_11e9_b5d8_3024326fe11crow1_col12 {\n",
       "            background-color:  #89acfd;\n",
       "            color:  #000000;\n",
       "        }    #T_e42badcc_d7ec_11e9_b5d8_3024326fe11crow2_col0 {\n",
       "            background-color:  #3b4cc0;\n",
       "            color:  #f1f1f1;\n",
       "        }    #T_e42badcc_d7ec_11e9_b5d8_3024326fe11crow2_col1 {\n",
       "            background-color:  #3b4cc0;\n",
       "            color:  #f1f1f1;\n",
       "        }    #T_e42badcc_d7ec_11e9_b5d8_3024326fe11crow2_col2 {\n",
       "            background-color:  #b40426;\n",
       "            color:  #f1f1f1;\n",
       "        }    #T_e42badcc_d7ec_11e9_b5d8_3024326fe11crow2_col3 {\n",
       "            background-color:  #7a9df8;\n",
       "            color:  #000000;\n",
       "        }    #T_e42badcc_d7ec_11e9_b5d8_3024326fe11crow2_col4 {\n",
       "            background-color:  #6282ea;\n",
       "            color:  #000000;\n",
       "        }    #T_e42badcc_d7ec_11e9_b5d8_3024326fe11crow2_col5 {\n",
       "            background-color:  #97b8ff;\n",
       "            color:  #000000;\n",
       "        }    #T_e42badcc_d7ec_11e9_b5d8_3024326fe11crow2_col6 {\n",
       "            background-color:  #4c66d6;\n",
       "            color:  #000000;\n",
       "        }    #T_e42badcc_d7ec_11e9_b5d8_3024326fe11crow2_col7 {\n",
       "            background-color:  #3b4cc0;\n",
       "            color:  #f1f1f1;\n",
       "        }    #T_e42badcc_d7ec_11e9_b5d8_3024326fe11crow2_col8 {\n",
       "            background-color:  #7396f5;\n",
       "            color:  #000000;\n",
       "        }    #T_e42badcc_d7ec_11e9_b5d8_3024326fe11crow2_col9 {\n",
       "            background-color:  #96b7ff;\n",
       "            color:  #000000;\n",
       "        }    #T_e42badcc_d7ec_11e9_b5d8_3024326fe11crow2_col10 {\n",
       "            background-color:  #3d50c3;\n",
       "            color:  #f1f1f1;\n",
       "        }    #T_e42badcc_d7ec_11e9_b5d8_3024326fe11crow2_col11 {\n",
       "            background-color:  #799cf8;\n",
       "            color:  #000000;\n",
       "        }    #T_e42badcc_d7ec_11e9_b5d8_3024326fe11crow2_col12 {\n",
       "            background-color:  #7295f4;\n",
       "            color:  #000000;\n",
       "        }    #T_e42badcc_d7ec_11e9_b5d8_3024326fe11crow3_col0 {\n",
       "            background-color:  #3b4cc0;\n",
       "            color:  #f1f1f1;\n",
       "        }    #T_e42badcc_d7ec_11e9_b5d8_3024326fe11crow3_col1 {\n",
       "            background-color:  #3c4ec2;\n",
       "            color:  #f1f1f1;\n",
       "        }    #T_e42badcc_d7ec_11e9_b5d8_3024326fe11crow3_col2 {\n",
       "            background-color:  #7699f6;\n",
       "            color:  #000000;\n",
       "        }    #T_e42badcc_d7ec_11e9_b5d8_3024326fe11crow3_col3 {\n",
       "            background-color:  #b40426;\n",
       "            color:  #f1f1f1;\n",
       "        }    #T_e42badcc_d7ec_11e9_b5d8_3024326fe11crow3_col4 {\n",
       "            background-color:  #5e7de7;\n",
       "            color:  #000000;\n",
       "        }    #T_e42badcc_d7ec_11e9_b5d8_3024326fe11crow3_col5 {\n",
       "            background-color:  #a3c2fe;\n",
       "            color:  #000000;\n",
       "        }    #T_e42badcc_d7ec_11e9_b5d8_3024326fe11crow3_col6 {\n",
       "            background-color:  #4a63d3;\n",
       "            color:  #f1f1f1;\n",
       "        }    #T_e42badcc_d7ec_11e9_b5d8_3024326fe11crow3_col7 {\n",
       "            background-color:  #3b4cc0;\n",
       "            color:  #f1f1f1;\n",
       "        }    #T_e42badcc_d7ec_11e9_b5d8_3024326fe11crow3_col8 {\n",
       "            background-color:  #7093f3;\n",
       "            color:  #000000;\n",
       "        }    #T_e42badcc_d7ec_11e9_b5d8_3024326fe11crow3_col9 {\n",
       "            background-color:  #97b8ff;\n",
       "            color:  #000000;\n",
       "        }    #T_e42badcc_d7ec_11e9_b5d8_3024326fe11crow3_col10 {\n",
       "            background-color:  #3b4cc0;\n",
       "            color:  #f1f1f1;\n",
       "        }    #T_e42badcc_d7ec_11e9_b5d8_3024326fe11crow3_col11 {\n",
       "            background-color:  #799cf8;\n",
       "            color:  #000000;\n",
       "        }    #T_e42badcc_d7ec_11e9_b5d8_3024326fe11crow3_col12 {\n",
       "            background-color:  #6e90f2;\n",
       "            color:  #000000;\n",
       "        }    #T_e42badcc_d7ec_11e9_b5d8_3024326fe11crow4_col0 {\n",
       "            background-color:  #3b4cc0;\n",
       "            color:  #f1f1f1;\n",
       "        }    #T_e42badcc_d7ec_11e9_b5d8_3024326fe11crow4_col1 {\n",
       "            background-color:  #4358cb;\n",
       "            color:  #f1f1f1;\n",
       "        }    #T_e42badcc_d7ec_11e9_b5d8_3024326fe11crow4_col2 {\n",
       "            background-color:  #485fd1;\n",
       "            color:  #f1f1f1;\n",
       "        }    #T_e42badcc_d7ec_11e9_b5d8_3024326fe11crow4_col3 {\n",
       "            background-color:  #485fd1;\n",
       "            color:  #f1f1f1;\n",
       "        }    #T_e42badcc_d7ec_11e9_b5d8_3024326fe11crow4_col4 {\n",
       "            background-color:  #b40426;\n",
       "            color:  #f1f1f1;\n",
       "        }    #T_e42badcc_d7ec_11e9_b5d8_3024326fe11crow4_col5 {\n",
       "            background-color:  #6788ee;\n",
       "            color:  #000000;\n",
       "        }    #T_e42badcc_d7ec_11e9_b5d8_3024326fe11crow4_col6 {\n",
       "            background-color:  #f5c2aa;\n",
       "            color:  #000000;\n",
       "        }    #T_e42badcc_d7ec_11e9_b5d8_3024326fe11crow4_col7 {\n",
       "            background-color:  #3c4ec2;\n",
       "            color:  #f1f1f1;\n",
       "        }    #T_e42badcc_d7ec_11e9_b5d8_3024326fe11crow4_col8 {\n",
       "            background-color:  #d8dce2;\n",
       "            color:  #000000;\n",
       "        }    #T_e42badcc_d7ec_11e9_b5d8_3024326fe11crow4_col9 {\n",
       "            background-color:  #c0d4f5;\n",
       "            color:  #000000;\n",
       "        }    #T_e42badcc_d7ec_11e9_b5d8_3024326fe11crow4_col10 {\n",
       "            background-color:  #5470de;\n",
       "            color:  #000000;\n",
       "        }    #T_e42badcc_d7ec_11e9_b5d8_3024326fe11crow4_col11 {\n",
       "            background-color:  #7b9ff9;\n",
       "            color:  #000000;\n",
       "        }    #T_e42badcc_d7ec_11e9_b5d8_3024326fe11crow4_col12 {\n",
       "            background-color:  #f49a7b;\n",
       "            color:  #000000;\n",
       "        }    #T_e42badcc_d7ec_11e9_b5d8_3024326fe11crow5_col0 {\n",
       "            background-color:  #3b4cc0;\n",
       "            color:  #f1f1f1;\n",
       "        }    #T_e42badcc_d7ec_11e9_b5d8_3024326fe11crow5_col1 {\n",
       "            background-color:  #445acc;\n",
       "            color:  #f1f1f1;\n",
       "        }    #T_e42badcc_d7ec_11e9_b5d8_3024326fe11crow5_col2 {\n",
       "            background-color:  #5470de;\n",
       "            color:  #000000;\n",
       "        }    #T_e42badcc_d7ec_11e9_b5d8_3024326fe11crow5_col3 {\n",
       "            background-color:  #6687ed;\n",
       "            color:  #000000;\n",
       "        }    #T_e42badcc_d7ec_11e9_b5d8_3024326fe11crow5_col4 {\n",
       "            background-color:  #3b4cc0;\n",
       "            color:  #f1f1f1;\n",
       "        }    #T_e42badcc_d7ec_11e9_b5d8_3024326fe11crow5_col5 {\n",
       "            background-color:  #b40426;\n",
       "            color:  #f1f1f1;\n",
       "        }    #T_e42badcc_d7ec_11e9_b5d8_3024326fe11crow5_col6 {\n",
       "            background-color:  #3b4cc0;\n",
       "            color:  #f1f1f1;\n",
       "        }    #T_e42badcc_d7ec_11e9_b5d8_3024326fe11crow5_col7 {\n",
       "            background-color:  #3e51c5;\n",
       "            color:  #f1f1f1;\n",
       "        }    #T_e42badcc_d7ec_11e9_b5d8_3024326fe11crow5_col8 {\n",
       "            background-color:  #3b4cc0;\n",
       "            color:  #f1f1f1;\n",
       "        }    #T_e42badcc_d7ec_11e9_b5d8_3024326fe11crow5_col9 {\n",
       "            background-color:  #3b4cc0;\n",
       "            color:  #f1f1f1;\n",
       "        }    #T_e42badcc_d7ec_11e9_b5d8_3024326fe11crow5_col10 {\n",
       "            background-color:  #4961d2;\n",
       "            color:  #f1f1f1;\n",
       "        }    #T_e42badcc_d7ec_11e9_b5d8_3024326fe11crow5_col11 {\n",
       "            background-color:  #b6cefa;\n",
       "            color:  #000000;\n",
       "        }    #T_e42badcc_d7ec_11e9_b5d8_3024326fe11crow5_col12 {\n",
       "            background-color:  #3b4cc0;\n",
       "            color:  #f1f1f1;\n",
       "        }    #T_e42badcc_d7ec_11e9_b5d8_3024326fe11crow6_col0 {\n",
       "            background-color:  #3b4cc0;\n",
       "            color:  #f1f1f1;\n",
       "        }    #T_e42badcc_d7ec_11e9_b5d8_3024326fe11crow6_col1 {\n",
       "            background-color:  #455cce;\n",
       "            color:  #f1f1f1;\n",
       "        }    #T_e42badcc_d7ec_11e9_b5d8_3024326fe11crow6_col2 {\n",
       "            background-color:  #3b4cc0;\n",
       "            color:  #f1f1f1;\n",
       "        }    #T_e42badcc_d7ec_11e9_b5d8_3024326fe11crow6_col3 {\n",
       "            background-color:  #3b4cc0;\n",
       "            color:  #f1f1f1;\n",
       "        }    #T_e42badcc_d7ec_11e9_b5d8_3024326fe11crow6_col4 {\n",
       "            background-color:  #f5c0a7;\n",
       "            color:  #000000;\n",
       "        }    #T_e42badcc_d7ec_11e9_b5d8_3024326fe11crow6_col5 {\n",
       "            background-color:  #6e90f2;\n",
       "            color:  #000000;\n",
       "        }    #T_e42badcc_d7ec_11e9_b5d8_3024326fe11crow6_col6 {\n",
       "            background-color:  #b40426;\n",
       "            color:  #f1f1f1;\n",
       "        }    #T_e42badcc_d7ec_11e9_b5d8_3024326fe11crow6_col7 {\n",
       "            background-color:  #4257c9;\n",
       "            color:  #f1f1f1;\n",
       "        }    #T_e42badcc_d7ec_11e9_b5d8_3024326fe11crow6_col8 {\n",
       "            background-color:  #edd1c2;\n",
       "            color:  #000000;\n",
       "        }    #T_e42badcc_d7ec_11e9_b5d8_3024326fe11crow6_col9 {\n",
       "            background-color:  #cbd8ee;\n",
       "            color:  #000000;\n",
       "        }    #T_e42badcc_d7ec_11e9_b5d8_3024326fe11crow6_col10 {\n",
       "            background-color:  #6687ed;\n",
       "            color:  #000000;\n",
       "        }    #T_e42badcc_d7ec_11e9_b5d8_3024326fe11crow6_col11 {\n",
       "            background-color:  #7ea1fa;\n",
       "            color:  #000000;\n",
       "        }    #T_e42badcc_d7ec_11e9_b5d8_3024326fe11crow6_col12 {\n",
       "            background-color:  #da5a49;\n",
       "            color:  #000000;\n",
       "        }    #T_e42badcc_d7ec_11e9_b5d8_3024326fe11crow7_col0 {\n",
       "            background-color:  #3b4cc0;\n",
       "            color:  #f1f1f1;\n",
       "        }    #T_e42badcc_d7ec_11e9_b5d8_3024326fe11crow7_col1 {\n",
       "            background-color:  #a1c0ff;\n",
       "            color:  #000000;\n",
       "        }    #T_e42badcc_d7ec_11e9_b5d8_3024326fe11crow7_col2 {\n",
       "            background-color:  #516ddb;\n",
       "            color:  #000000;\n",
       "        }    #T_e42badcc_d7ec_11e9_b5d8_3024326fe11crow7_col3 {\n",
       "            background-color:  #5673e0;\n",
       "            color:  #000000;\n",
       "        }    #T_e42badcc_d7ec_11e9_b5d8_3024326fe11crow7_col4 {\n",
       "            background-color:  #6e90f2;\n",
       "            color:  #000000;\n",
       "        }    #T_e42badcc_d7ec_11e9_b5d8_3024326fe11crow7_col5 {\n",
       "            background-color:  #9abbff;\n",
       "            color:  #000000;\n",
       "        }    #T_e42badcc_d7ec_11e9_b5d8_3024326fe11crow7_col6 {\n",
       "            background-color:  #6c8ff1;\n",
       "            color:  #000000;\n",
       "        }    #T_e42badcc_d7ec_11e9_b5d8_3024326fe11crow7_col7 {\n",
       "            background-color:  #b40426;\n",
       "            color:  #f1f1f1;\n",
       "        }    #T_e42badcc_d7ec_11e9_b5d8_3024326fe11crow7_col8 {\n",
       "            background-color:  #7ea1fa;\n",
       "            color:  #000000;\n",
       "        }    #T_e42badcc_d7ec_11e9_b5d8_3024326fe11crow7_col9 {\n",
       "            background-color:  #96b7ff;\n",
       "            color:  #000000;\n",
       "        }    #T_e42badcc_d7ec_11e9_b5d8_3024326fe11crow7_col10 {\n",
       "            background-color:  #4257c9;\n",
       "            color:  #f1f1f1;\n",
       "        }    #T_e42badcc_d7ec_11e9_b5d8_3024326fe11crow7_col11 {\n",
       "            background-color:  #7b9ff9;\n",
       "            color:  #000000;\n",
       "        }    #T_e42badcc_d7ec_11e9_b5d8_3024326fe11crow7_col12 {\n",
       "            background-color:  #88abfd;\n",
       "            color:  #000000;\n",
       "        }    #T_e42badcc_d7ec_11e9_b5d8_3024326fe11crow8_col0 {\n",
       "            background-color:  #3b4cc0;\n",
       "            color:  #f1f1f1;\n",
       "        }    #T_e42badcc_d7ec_11e9_b5d8_3024326fe11crow8_col1 {\n",
       "            background-color:  #4257c9;\n",
       "            color:  #f1f1f1;\n",
       "        }    #T_e42badcc_d7ec_11e9_b5d8_3024326fe11crow8_col2 {\n",
       "            background-color:  #4a63d3;\n",
       "            color:  #f1f1f1;\n",
       "        }    #T_e42badcc_d7ec_11e9_b5d8_3024326fe11crow8_col3 {\n",
       "            background-color:  #4b64d5;\n",
       "            color:  #f1f1f1;\n",
       "        }    #T_e42badcc_d7ec_11e9_b5d8_3024326fe11crow8_col4 {\n",
       "            background-color:  #d1dae9;\n",
       "            color:  #000000;\n",
       "        }    #T_e42badcc_d7ec_11e9_b5d8_3024326fe11crow8_col5 {\n",
       "            background-color:  #5875e1;\n",
       "            color:  #000000;\n",
       "        }    #T_e42badcc_d7ec_11e9_b5d8_3024326fe11crow8_col6 {\n",
       "            background-color:  #e6d7cf;\n",
       "            color:  #000000;\n",
       "        }    #T_e42badcc_d7ec_11e9_b5d8_3024326fe11crow8_col7 {\n",
       "            background-color:  #3e51c5;\n",
       "            color:  #f1f1f1;\n",
       "        }    #T_e42badcc_d7ec_11e9_b5d8_3024326fe11crow8_col8 {\n",
       "            background-color:  #b40426;\n",
       "            color:  #f1f1f1;\n",
       "        }    #T_e42badcc_d7ec_11e9_b5d8_3024326fe11crow8_col9 {\n",
       "            background-color:  #bfd3f6;\n",
       "            color:  #000000;\n",
       "        }    #T_e42badcc_d7ec_11e9_b5d8_3024326fe11crow8_col10 {\n",
       "            background-color:  #4e68d8;\n",
       "            color:  #000000;\n",
       "        }    #T_e42badcc_d7ec_11e9_b5d8_3024326fe11crow8_col11 {\n",
       "            background-color:  #7b9ff9;\n",
       "            color:  #000000;\n",
       "        }    #T_e42badcc_d7ec_11e9_b5d8_3024326fe11crow8_col12 {\n",
       "            background-color:  #f6bea4;\n",
       "            color:  #000000;\n",
       "        }    #T_e42badcc_d7ec_11e9_b5d8_3024326fe11crow9_col0 {\n",
       "            background-color:  #3b4cc0;\n",
       "            color:  #f1f1f1;\n",
       "        }    #T_e42badcc_d7ec_11e9_b5d8_3024326fe11crow9_col1 {\n",
       "            background-color:  #3f53c6;\n",
       "            color:  #f1f1f1;\n",
       "        }    #T_e42badcc_d7ec_11e9_b5d8_3024326fe11crow9_col2 {\n",
       "            background-color:  #536edd;\n",
       "            color:  #000000;\n",
       "        }    #T_e42badcc_d7ec_11e9_b5d8_3024326fe11crow9_col3 {\n",
       "            background-color:  #5875e1;\n",
       "            color:  #000000;\n",
       "        }    #T_e42badcc_d7ec_11e9_b5d8_3024326fe11crow9_col4 {\n",
       "            background-color:  #9fbfff;\n",
       "            color:  #000000;\n",
       "        }    #T_e42badcc_d7ec_11e9_b5d8_3024326fe11crow9_col5 {\n",
       "            background-color:  #3b4cc0;\n",
       "            color:  #f1f1f1;\n",
       "        }    #T_e42badcc_d7ec_11e9_b5d8_3024326fe11crow9_col6 {\n",
       "            background-color:  #a7c5fe;\n",
       "            color:  #000000;\n",
       "        }    #T_e42badcc_d7ec_11e9_b5d8_3024326fe11crow9_col7 {\n",
       "            background-color:  #3b4cc0;\n",
       "            color:  #f1f1f1;\n",
       "        }    #T_e42badcc_d7ec_11e9_b5d8_3024326fe11crow9_col8 {\n",
       "            background-color:  #aac7fd;\n",
       "            color:  #000000;\n",
       "        }    #T_e42badcc_d7ec_11e9_b5d8_3024326fe11crow9_col9 {\n",
       "            background-color:  #b40426;\n",
       "            color:  #f1f1f1;\n",
       "        }    #T_e42badcc_d7ec_11e9_b5d8_3024326fe11crow9_col10 {\n",
       "            background-color:  #4961d2;\n",
       "            color:  #f1f1f1;\n",
       "        }    #T_e42badcc_d7ec_11e9_b5d8_3024326fe11crow9_col11 {\n",
       "            background-color:  #3b4cc0;\n",
       "            color:  #f1f1f1;\n",
       "        }    #T_e42badcc_d7ec_11e9_b5d8_3024326fe11crow9_col12 {\n",
       "            background-color:  #cdd9ec;\n",
       "            color:  #000000;\n",
       "        }    #T_e42badcc_d7ec_11e9_b5d8_3024326fe11crow10_col0 {\n",
       "            background-color:  #3b4cc0;\n",
       "            color:  #f1f1f1;\n",
       "        }    #T_e42badcc_d7ec_11e9_b5d8_3024326fe11crow10_col1 {\n",
       "            background-color:  #4257c9;\n",
       "            color:  #f1f1f1;\n",
       "        }    #T_e42badcc_d7ec_11e9_b5d8_3024326fe11crow10_col2 {\n",
       "            background-color:  #516ddb;\n",
       "            color:  #000000;\n",
       "        }    #T_e42badcc_d7ec_11e9_b5d8_3024326fe11crow10_col3 {\n",
       "            background-color:  #516ddb;\n",
       "            color:  #000000;\n",
       "        }    #T_e42badcc_d7ec_11e9_b5d8_3024326fe11crow10_col4 {\n",
       "            background-color:  #81a4fb;\n",
       "            color:  #000000;\n",
       "        }    #T_e42badcc_d7ec_11e9_b5d8_3024326fe11crow10_col5 {\n",
       "            background-color:  #9fbfff;\n",
       "            color:  #000000;\n",
       "        }    #T_e42badcc_d7ec_11e9_b5d8_3024326fe11crow10_col6 {\n",
       "            background-color:  #8badfd;\n",
       "            color:  #000000;\n",
       "        }    #T_e42badcc_d7ec_11e9_b5d8_3024326fe11crow10_col7 {\n",
       "            background-color:  #3e51c5;\n",
       "            color:  #f1f1f1;\n",
       "        }    #T_e42badcc_d7ec_11e9_b5d8_3024326fe11crow10_col8 {\n",
       "            background-color:  #89acfd;\n",
       "            color:  #000000;\n",
       "        }    #T_e42badcc_d7ec_11e9_b5d8_3024326fe11crow10_col9 {\n",
       "            background-color:  #9fbfff;\n",
       "            color:  #000000;\n",
       "        }    #T_e42badcc_d7ec_11e9_b5d8_3024326fe11crow10_col10 {\n",
       "            background-color:  #b40426;\n",
       "            color:  #f1f1f1;\n",
       "        }    #T_e42badcc_d7ec_11e9_b5d8_3024326fe11crow10_col11 {\n",
       "            background-color:  #7ea1fa;\n",
       "            color:  #000000;\n",
       "        }    #T_e42badcc_d7ec_11e9_b5d8_3024326fe11crow10_col12 {\n",
       "            background-color:  #a3c2fe;\n",
       "            color:  #000000;\n",
       "        }    #T_e42badcc_d7ec_11e9_b5d8_3024326fe11crow11_col0 {\n",
       "            background-color:  #3b4cc0;\n",
       "            color:  #f1f1f1;\n",
       "        }    #T_e42badcc_d7ec_11e9_b5d8_3024326fe11crow11_col1 {\n",
       "            background-color:  #3e51c5;\n",
       "            color:  #f1f1f1;\n",
       "        }    #T_e42badcc_d7ec_11e9_b5d8_3024326fe11crow11_col2 {\n",
       "            background-color:  #536edd;\n",
       "            color:  #000000;\n",
       "        }    #T_e42badcc_d7ec_11e9_b5d8_3024326fe11crow11_col3 {\n",
       "            background-color:  #5572df;\n",
       "            color:  #000000;\n",
       "        }    #T_e42badcc_d7ec_11e9_b5d8_3024326fe11crow11_col4 {\n",
       "            background-color:  #6f92f3;\n",
       "            color:  #000000;\n",
       "        }    #T_e42badcc_d7ec_11e9_b5d8_3024326fe11crow11_col5 {\n",
       "            background-color:  #cbd8ee;\n",
       "            color:  #000000;\n",
       "        }    #T_e42badcc_d7ec_11e9_b5d8_3024326fe11crow11_col6 {\n",
       "            background-color:  #6a8bef;\n",
       "            color:  #000000;\n",
       "        }    #T_e42badcc_d7ec_11e9_b5d8_3024326fe11crow11_col7 {\n",
       "            background-color:  #3d50c3;\n",
       "            color:  #f1f1f1;\n",
       "        }    #T_e42badcc_d7ec_11e9_b5d8_3024326fe11crow11_col8 {\n",
       "            background-color:  #7da0f9;\n",
       "            color:  #000000;\n",
       "        }    #T_e42badcc_d7ec_11e9_b5d8_3024326fe11crow11_col9 {\n",
       "            background-color:  #5a78e4;\n",
       "            color:  #000000;\n",
       "        }    #T_e42badcc_d7ec_11e9_b5d8_3024326fe11crow11_col10 {\n",
       "            background-color:  #4358cb;\n",
       "            color:  #f1f1f1;\n",
       "        }    #T_e42badcc_d7ec_11e9_b5d8_3024326fe11crow11_col11 {\n",
       "            background-color:  #b40426;\n",
       "            color:  #f1f1f1;\n",
       "        }    #T_e42badcc_d7ec_11e9_b5d8_3024326fe11crow11_col12 {\n",
       "            background-color:  #82a6fb;\n",
       "            color:  #000000;\n",
       "        }    #T_e42badcc_d7ec_11e9_b5d8_3024326fe11crow12_col0 {\n",
       "            background-color:  #3c4ec2;\n",
       "            color:  #f1f1f1;\n",
       "        }    #T_e42badcc_d7ec_11e9_b5d8_3024326fe11crow12_col1 {\n",
       "            background-color:  #445acc;\n",
       "            color:  #f1f1f1;\n",
       "        }    #T_e42badcc_d7ec_11e9_b5d8_3024326fe11crow12_col2 {\n",
       "            background-color:  #4055c8;\n",
       "            color:  #f1f1f1;\n",
       "        }    #T_e42badcc_d7ec_11e9_b5d8_3024326fe11crow12_col3 {\n",
       "            background-color:  #3f53c6;\n",
       "            color:  #f1f1f1;\n",
       "        }    #T_e42badcc_d7ec_11e9_b5d8_3024326fe11crow12_col4 {\n",
       "            background-color:  #f6a283;\n",
       "            color:  #000000;\n",
       "        }    #T_e42badcc_d7ec_11e9_b5d8_3024326fe11crow12_col5 {\n",
       "            background-color:  #4f69d9;\n",
       "            color:  #000000;\n",
       "        }    #T_e42badcc_d7ec_11e9_b5d8_3024326fe11crow12_col6 {\n",
       "            background-color:  #de614d;\n",
       "            color:  #000000;\n",
       "        }    #T_e42badcc_d7ec_11e9_b5d8_3024326fe11crow12_col7 {\n",
       "            background-color:  #3f53c6;\n",
       "            color:  #f1f1f1;\n",
       "        }    #T_e42badcc_d7ec_11e9_b5d8_3024326fe11crow12_col8 {\n",
       "            background-color:  #f5c0a7;\n",
       "            color:  #000000;\n",
       "        }    #T_e42badcc_d7ec_11e9_b5d8_3024326fe11crow12_col9 {\n",
       "            background-color:  #d7dce3;\n",
       "            color:  #000000;\n",
       "        }    #T_e42badcc_d7ec_11e9_b5d8_3024326fe11crow12_col10 {\n",
       "            background-color:  #6384eb;\n",
       "            color:  #000000;\n",
       "        }    #T_e42badcc_d7ec_11e9_b5d8_3024326fe11crow12_col11 {\n",
       "            background-color:  #799cf8;\n",
       "            color:  #000000;\n",
       "        }    #T_e42badcc_d7ec_11e9_b5d8_3024326fe11crow12_col12 {\n",
       "            background-color:  #b40426;\n",
       "            color:  #f1f1f1;\n",
       "        }</style><table id=\"T_e42badcc_d7ec_11e9_b5d8_3024326fe11c\" ><thead>    <tr>        <th class=\"blank level0\" ></th>        <th class=\"col_heading level0 col0\" >ID</th>        <th class=\"col_heading level0 col1\" >vendor_id</th>        <th class=\"col_heading level0 col2\" >pickup_loc</th>        <th class=\"col_heading level0 col3\" >drop_loc</th>        <th class=\"col_heading level0 col4\" >driver_tip</th>        <th class=\"col_heading level0 col5\" >mta_tax</th>        <th class=\"col_heading level0 col6\" >distance</th>        <th class=\"col_heading level0 col7\" >num_passengers</th>        <th class=\"col_heading level0 col8\" >toll_amount</th>        <th class=\"col_heading level0 col9\" >rate_code</th>        <th class=\"col_heading level0 col10\" >extra_charges</th>        <th class=\"col_heading level0 col11\" >improvement_charge</th>        <th class=\"col_heading level0 col12\" >total_amount</th>    </tr></thead><tbody>\n",
       "                <tr>\n",
       "                        <th id=\"T_e42badcc_d7ec_11e9_b5d8_3024326fe11clevel0_row0\" class=\"row_heading level0 row0\" >ID</th>\n",
       "                        <td id=\"T_e42badcc_d7ec_11e9_b5d8_3024326fe11crow0_col0\" class=\"data row0 col0\" >1</td>\n",
       "                        <td id=\"T_e42badcc_d7ec_11e9_b5d8_3024326fe11crow0_col1\" class=\"data row0 col1\" >-0.000409778</td>\n",
       "                        <td id=\"T_e42badcc_d7ec_11e9_b5d8_3024326fe11crow0_col2\" class=\"data row0 col2\" >-0.000452239</td>\n",
       "                        <td id=\"T_e42badcc_d7ec_11e9_b5d8_3024326fe11crow0_col3\" class=\"data row0 col3\" >-0.00112169</td>\n",
       "                        <td id=\"T_e42badcc_d7ec_11e9_b5d8_3024326fe11crow0_col4\" class=\"data row0 col4\" >0.000950021</td>\n",
       "                        <td id=\"T_e42badcc_d7ec_11e9_b5d8_3024326fe11crow0_col5\" class=\"data row0 col5\" >-0.000725773</td>\n",
       "                        <td id=\"T_e42badcc_d7ec_11e9_b5d8_3024326fe11crow0_col6\" class=\"data row0 col6\" >0.00152987</td>\n",
       "                        <td id=\"T_e42badcc_d7ec_11e9_b5d8_3024326fe11crow0_col7\" class=\"data row0 col7\" >0.000202772</td>\n",
       "                        <td id=\"T_e42badcc_d7ec_11e9_b5d8_3024326fe11crow0_col8\" class=\"data row0 col8\" >2.91444e-05</td>\n",
       "                        <td id=\"T_e42badcc_d7ec_11e9_b5d8_3024326fe11crow0_col9\" class=\"data row0 col9\" >0.000300448</td>\n",
       "                        <td id=\"T_e42badcc_d7ec_11e9_b5d8_3024326fe11crow0_col10\" class=\"data row0 col10\" >-0.000355229</td>\n",
       "                        <td id=\"T_e42badcc_d7ec_11e9_b5d8_3024326fe11crow0_col11\" class=\"data row0 col11\" >-0.00207609</td>\n",
       "                        <td id=\"T_e42badcc_d7ec_11e9_b5d8_3024326fe11crow0_col12\" class=\"data row0 col12\" >0.00185946</td>\n",
       "            </tr>\n",
       "            <tr>\n",
       "                        <th id=\"T_e42badcc_d7ec_11e9_b5d8_3024326fe11clevel0_row1\" class=\"row_heading level0 row1\" >vendor_id</th>\n",
       "                        <td id=\"T_e42badcc_d7ec_11e9_b5d8_3024326fe11crow1_col0\" class=\"data row1 col0\" >-0.000409778</td>\n",
       "                        <td id=\"T_e42badcc_d7ec_11e9_b5d8_3024326fe11crow1_col1\" class=\"data row1 col1\" >1</td>\n",
       "                        <td id=\"T_e42badcc_d7ec_11e9_b5d8_3024326fe11crow1_col2\" class=\"data row1 col2\" >-0.0175471</td>\n",
       "                        <td id=\"T_e42badcc_d7ec_11e9_b5d8_3024326fe11crow1_col3\" class=\"data row1 col3\" >-0.0120261</td>\n",
       "                        <td id=\"T_e42badcc_d7ec_11e9_b5d8_3024326fe11crow1_col4\" class=\"data row1 col4\" >0.0136633</td>\n",
       "                        <td id=\"T_e42badcc_d7ec_11e9_b5d8_3024326fe11crow1_col5\" class=\"data row1 col5\" >0.0152961</td>\n",
       "                        <td id=\"T_e42badcc_d7ec_11e9_b5d8_3024326fe11crow1_col6\" class=\"data row1 col6\" >0.0209759</td>\n",
       "                        <td id=\"T_e42badcc_d7ec_11e9_b5d8_3024326fe11crow1_col7\" class=\"data row1 col7\" >0.293962</td>\n",
       "                        <td id=\"T_e42badcc_d7ec_11e9_b5d8_3024326fe11crow1_col8\" class=\"data row1 col8\" >0.0066169</td>\n",
       "                        <td id=\"T_e42badcc_d7ec_11e9_b5d8_3024326fe11crow1_col9\" class=\"data row1 col9\" >-0.00108459</td>\n",
       "                        <td id=\"T_e42badcc_d7ec_11e9_b5d8_3024326fe11crow1_col10\" class=\"data row1 col10\" >0.00823897</td>\n",
       "                        <td id=\"T_e42badcc_d7ec_11e9_b5d8_3024326fe11crow1_col11\" class=\"data row1 col11\" >-0.00491975</td>\n",
       "                        <td id=\"T_e42badcc_d7ec_11e9_b5d8_3024326fe11crow1_col12\" class=\"data row1 col12\" >0.0156509</td>\n",
       "            </tr>\n",
       "            <tr>\n",
       "                        <th id=\"T_e42badcc_d7ec_11e9_b5d8_3024326fe11clevel0_row2\" class=\"row_heading level0 row2\" >pickup_loc</th>\n",
       "                        <td id=\"T_e42badcc_d7ec_11e9_b5d8_3024326fe11crow2_col0\" class=\"data row2 col0\" >-0.000452239</td>\n",
       "                        <td id=\"T_e42badcc_d7ec_11e9_b5d8_3024326fe11crow2_col1\" class=\"data row2 col1\" >-0.0175471</td>\n",
       "                        <td id=\"T_e42badcc_d7ec_11e9_b5d8_3024326fe11crow2_col2\" class=\"data row2 col2\" >1</td>\n",
       "                        <td id=\"T_e42badcc_d7ec_11e9_b5d8_3024326fe11crow2_col3\" class=\"data row2 col3\" >0.111415</td>\n",
       "                        <td id=\"T_e42badcc_d7ec_11e9_b5d8_3024326fe11crow2_col4\" class=\"data row2 col4\" >-0.0419421</td>\n",
       "                        <td id=\"T_e42badcc_d7ec_11e9_b5d8_3024326fe11crow2_col5\" class=\"data row2 col5\" >-0.000117555</td>\n",
       "                        <td id=\"T_e42badcc_d7ec_11e9_b5d8_3024326fe11crow2_col6\" class=\"data row2 col6\" >-0.0916764</td>\n",
       "                        <td id=\"T_e42badcc_d7ec_11e9_b5d8_3024326fe11crow2_col7\" class=\"data row2 col7\" >-0.00657059</td>\n",
       "                        <td id=\"T_e42badcc_d7ec_11e9_b5d8_3024326fe11crow2_col8\" class=\"data row2 col8\" >-0.0323878</td>\n",
       "                        <td id=\"T_e42badcc_d7ec_11e9_b5d8_3024326fe11crow2_col9\" class=\"data row2 col9\" >-0.00501859</td>\n",
       "                        <td id=\"T_e42badcc_d7ec_11e9_b5d8_3024326fe11crow2_col10\" class=\"data row2 col10\" >-0.010393</td>\n",
       "                        <td id=\"T_e42badcc_d7ec_11e9_b5d8_3024326fe11crow2_col11\" class=\"data row2 col11\" >-0.00488512</td>\n",
       "                        <td id=\"T_e42badcc_d7ec_11e9_b5d8_3024326fe11crow2_col12\" class=\"data row2 col12\" >-0.069816</td>\n",
       "            </tr>\n",
       "            <tr>\n",
       "                        <th id=\"T_e42badcc_d7ec_11e9_b5d8_3024326fe11clevel0_row3\" class=\"row_heading level0 row3\" >drop_loc</th>\n",
       "                        <td id=\"T_e42badcc_d7ec_11e9_b5d8_3024326fe11crow3_col0\" class=\"data row3 col0\" >-0.00112169</td>\n",
       "                        <td id=\"T_e42badcc_d7ec_11e9_b5d8_3024326fe11crow3_col1\" class=\"data row3 col1\" >-0.0120261</td>\n",
       "                        <td id=\"T_e42badcc_d7ec_11e9_b5d8_3024326fe11crow3_col2\" class=\"data row3 col2\" >0.111415</td>\n",
       "                        <td id=\"T_e42badcc_d7ec_11e9_b5d8_3024326fe11crow3_col3\" class=\"data row3 col3\" >1</td>\n",
       "                        <td id=\"T_e42badcc_d7ec_11e9_b5d8_3024326fe11crow3_col4\" class=\"data row3 col4\" >-0.0556301</td>\n",
       "                        <td id=\"T_e42badcc_d7ec_11e9_b5d8_3024326fe11crow3_col5\" class=\"data row3 col5\" >0.0474418</td>\n",
       "                        <td id=\"T_e42badcc_d7ec_11e9_b5d8_3024326fe11crow3_col6\" class=\"data row3 col6\" >-0.104543</td>\n",
       "                        <td id=\"T_e42badcc_d7ec_11e9_b5d8_3024326fe11crow3_col7\" class=\"data row3 col7\" >-0.00506119</td>\n",
       "                        <td id=\"T_e42badcc_d7ec_11e9_b5d8_3024326fe11crow3_col8\" class=\"data row3 col8\" >-0.042402</td>\n",
       "                        <td id=\"T_e42badcc_d7ec_11e9_b5d8_3024326fe11crow3_col9\" class=\"data row3 col9\" >-6.58447e-06</td>\n",
       "                        <td id=\"T_e42badcc_d7ec_11e9_b5d8_3024326fe11crow3_col10\" class=\"data row3 col10\" >-0.0199747</td>\n",
       "                        <td id=\"T_e42badcc_d7ec_11e9_b5d8_3024326fe11crow3_col11\" class=\"data row3 col11\" >-0.00808207</td>\n",
       "                        <td id=\"T_e42badcc_d7ec_11e9_b5d8_3024326fe11crow3_col12\" class=\"data row3 col12\" >-0.0861558</td>\n",
       "            </tr>\n",
       "            <tr>\n",
       "                        <th id=\"T_e42badcc_d7ec_11e9_b5d8_3024326fe11clevel0_row4\" class=\"row_heading level0 row4\" >driver_tip</th>\n",
       "                        <td id=\"T_e42badcc_d7ec_11e9_b5d8_3024326fe11crow4_col0\" class=\"data row4 col0\" >0.000950021</td>\n",
       "                        <td id=\"T_e42badcc_d7ec_11e9_b5d8_3024326fe11crow4_col1\" class=\"data row4 col1\" >0.0136633</td>\n",
       "                        <td id=\"T_e42badcc_d7ec_11e9_b5d8_3024326fe11crow4_col2\" class=\"data row4 col2\" >-0.0419421</td>\n",
       "                        <td id=\"T_e42badcc_d7ec_11e9_b5d8_3024326fe11crow4_col3\" class=\"data row4 col3\" >-0.0556301</td>\n",
       "                        <td id=\"T_e42badcc_d7ec_11e9_b5d8_3024326fe11crow4_col4\" class=\"data row4 col4\" >1</td>\n",
       "                        <td id=\"T_e42badcc_d7ec_11e9_b5d8_3024326fe11crow4_col5\" class=\"data row4 col5\" >-0.191502</td>\n",
       "                        <td id=\"T_e42badcc_d7ec_11e9_b5d8_3024326fe11crow4_col6\" class=\"data row4 col6\" >0.570457</td>\n",
       "                        <td id=\"T_e42badcc_d7ec_11e9_b5d8_3024326fe11crow4_col7\" class=\"data row4 col7\" >-0.000574049</td>\n",
       "                        <td id=\"T_e42badcc_d7ec_11e9_b5d8_3024326fe11crow4_col8\" class=\"data row4 col8\" >0.348997</td>\n",
       "                        <td id=\"T_e42badcc_d7ec_11e9_b5d8_3024326fe11crow4_col9\" class=\"data row4 col9\" >0.16725</td>\n",
       "                        <td id=\"T_e42badcc_d7ec_11e9_b5d8_3024326fe11crow4_col10\" class=\"data row4 col10\" >0.0654219</td>\n",
       "                        <td id=\"T_e42badcc_d7ec_11e9_b5d8_3024326fe11crow4_col11\" class=\"data row4 col11\" >0.00495636</td>\n",
       "                        <td id=\"T_e42badcc_d7ec_11e9_b5d8_3024326fe11crow4_col12\" class=\"data row4 col12\" >0.675305</td>\n",
       "            </tr>\n",
       "            <tr>\n",
       "                        <th id=\"T_e42badcc_d7ec_11e9_b5d8_3024326fe11clevel0_row5\" class=\"row_heading level0 row5\" >mta_tax</th>\n",
       "                        <td id=\"T_e42badcc_d7ec_11e9_b5d8_3024326fe11crow5_col0\" class=\"data row5 col0\" >-0.000725773</td>\n",
       "                        <td id=\"T_e42badcc_d7ec_11e9_b5d8_3024326fe11crow5_col1\" class=\"data row5 col1\" >0.0152961</td>\n",
       "                        <td id=\"T_e42badcc_d7ec_11e9_b5d8_3024326fe11crow5_col2\" class=\"data row5 col2\" >-0.000117555</td>\n",
       "                        <td id=\"T_e42badcc_d7ec_11e9_b5d8_3024326fe11crow5_col3\" class=\"data row5 col3\" >0.0474418</td>\n",
       "                        <td id=\"T_e42badcc_d7ec_11e9_b5d8_3024326fe11crow5_col4\" class=\"data row5 col4\" >-0.191502</td>\n",
       "                        <td id=\"T_e42badcc_d7ec_11e9_b5d8_3024326fe11crow5_col5\" class=\"data row5 col5\" >1</td>\n",
       "                        <td id=\"T_e42badcc_d7ec_11e9_b5d8_3024326fe11crow5_col6\" class=\"data row5 col6\" >-0.164368</td>\n",
       "                        <td id=\"T_e42badcc_d7ec_11e9_b5d8_3024326fe11crow5_col7\" class=\"data row5 col7\" >0.00868817</td>\n",
       "                        <td id=\"T_e42badcc_d7ec_11e9_b5d8_3024326fe11crow5_col8\" class=\"data row5 col8\" >-0.256675</td>\n",
       "                        <td id=\"T_e42badcc_d7ec_11e9_b5d8_3024326fe11crow5_col9\" class=\"data row5 col9\" >-0.389614</td>\n",
       "                        <td id=\"T_e42badcc_d7ec_11e9_b5d8_3024326fe11crow5_col10\" class=\"data row5 col10\" >0.0313454</td>\n",
       "                        <td id=\"T_e42badcc_d7ec_11e9_b5d8_3024326fe11crow5_col11\" class=\"data row5 col11\" >0.215548</td>\n",
       "                        <td id=\"T_e42badcc_d7ec_11e9_b5d8_3024326fe11crow5_col12\" class=\"data row5 col12\" >-0.294364</td>\n",
       "            </tr>\n",
       "            <tr>\n",
       "                        <th id=\"T_e42badcc_d7ec_11e9_b5d8_3024326fe11clevel0_row6\" class=\"row_heading level0 row6\" >distance</th>\n",
       "                        <td id=\"T_e42badcc_d7ec_11e9_b5d8_3024326fe11crow6_col0\" class=\"data row6 col0\" >0.00152987</td>\n",
       "                        <td id=\"T_e42badcc_d7ec_11e9_b5d8_3024326fe11crow6_col1\" class=\"data row6 col1\" >0.0209759</td>\n",
       "                        <td id=\"T_e42badcc_d7ec_11e9_b5d8_3024326fe11crow6_col2\" class=\"data row6 col2\" >-0.0916764</td>\n",
       "                        <td id=\"T_e42badcc_d7ec_11e9_b5d8_3024326fe11crow6_col3\" class=\"data row6 col3\" >-0.104543</td>\n",
       "                        <td id=\"T_e42badcc_d7ec_11e9_b5d8_3024326fe11crow6_col4\" class=\"data row6 col4\" >0.570457</td>\n",
       "                        <td id=\"T_e42badcc_d7ec_11e9_b5d8_3024326fe11crow6_col5\" class=\"data row6 col5\" >-0.164368</td>\n",
       "                        <td id=\"T_e42badcc_d7ec_11e9_b5d8_3024326fe11crow6_col6\" class=\"data row6 col6\" >1</td>\n",
       "                        <td id=\"T_e42badcc_d7ec_11e9_b5d8_3024326fe11crow6_col7\" class=\"data row6 col7\" >0.0183202</td>\n",
       "                        <td id=\"T_e42badcc_d7ec_11e9_b5d8_3024326fe11crow6_col8\" class=\"data row6 col8\" >0.462535</td>\n",
       "                        <td id=\"T_e42badcc_d7ec_11e9_b5d8_3024326fe11crow6_col9\" class=\"data row6 col9\" >0.215514</td>\n",
       "                        <td id=\"T_e42badcc_d7ec_11e9_b5d8_3024326fe11crow6_col10\" class=\"data row6 col10\" >0.120161</td>\n",
       "                        <td id=\"T_e42badcc_d7ec_11e9_b5d8_3024326fe11crow6_col11\" class=\"data row6 col11\" >0.0111625</td>\n",
       "                        <td id=\"T_e42badcc_d7ec_11e9_b5d8_3024326fe11crow6_col12\" class=\"data row6 col12\" >0.853042</td>\n",
       "            </tr>\n",
       "            <tr>\n",
       "                        <th id=\"T_e42badcc_d7ec_11e9_b5d8_3024326fe11clevel0_row7\" class=\"row_heading level0 row7\" >num_passengers</th>\n",
       "                        <td id=\"T_e42badcc_d7ec_11e9_b5d8_3024326fe11crow7_col0\" class=\"data row7 col0\" >0.000202772</td>\n",
       "                        <td id=\"T_e42badcc_d7ec_11e9_b5d8_3024326fe11crow7_col1\" class=\"data row7 col1\" >0.293962</td>\n",
       "                        <td id=\"T_e42badcc_d7ec_11e9_b5d8_3024326fe11crow7_col2\" class=\"data row7 col2\" >-0.00657059</td>\n",
       "                        <td id=\"T_e42badcc_d7ec_11e9_b5d8_3024326fe11crow7_col3\" class=\"data row7 col3\" >-0.00506119</td>\n",
       "                        <td id=\"T_e42badcc_d7ec_11e9_b5d8_3024326fe11crow7_col4\" class=\"data row7 col4\" >-0.000574049</td>\n",
       "                        <td id=\"T_e42badcc_d7ec_11e9_b5d8_3024326fe11crow7_col5\" class=\"data row7 col5\" >0.00868817</td>\n",
       "                        <td id=\"T_e42badcc_d7ec_11e9_b5d8_3024326fe11crow7_col6\" class=\"data row7 col6\" >0.0183202</td>\n",
       "                        <td id=\"T_e42badcc_d7ec_11e9_b5d8_3024326fe11crow7_col7\" class=\"data row7 col7\" >1</td>\n",
       "                        <td id=\"T_e42badcc_d7ec_11e9_b5d8_3024326fe11crow7_col8\" class=\"data row7 col8\" >0.00800686</td>\n",
       "                        <td id=\"T_e42badcc_d7ec_11e9_b5d8_3024326fe11crow7_col9\" class=\"data row7 col9\" >-0.00555812</td>\n",
       "                        <td id=\"T_e42badcc_d7ec_11e9_b5d8_3024326fe11crow7_col10\" class=\"data row7 col10\" >0.0060565</td>\n",
       "                        <td id=\"T_e42badcc_d7ec_11e9_b5d8_3024326fe11crow7_col11\" class=\"data row7 col11\" >0.00521236</td>\n",
       "                        <td id=\"T_e42badcc_d7ec_11e9_b5d8_3024326fe11crow7_col12\" class=\"data row7 col12\" >0.0119708</td>\n",
       "            </tr>\n",
       "            <tr>\n",
       "                        <th id=\"T_e42badcc_d7ec_11e9_b5d8_3024326fe11clevel0_row8\" class=\"row_heading level0 row8\" >toll_amount</th>\n",
       "                        <td id=\"T_e42badcc_d7ec_11e9_b5d8_3024326fe11crow8_col0\" class=\"data row8 col0\" >2.91444e-05</td>\n",
       "                        <td id=\"T_e42badcc_d7ec_11e9_b5d8_3024326fe11crow8_col1\" class=\"data row8 col1\" >0.0066169</td>\n",
       "                        <td id=\"T_e42badcc_d7ec_11e9_b5d8_3024326fe11crow8_col2\" class=\"data row8 col2\" >-0.0323878</td>\n",
       "                        <td id=\"T_e42badcc_d7ec_11e9_b5d8_3024326fe11crow8_col3\" class=\"data row8 col3\" >-0.042402</td>\n",
       "                        <td id=\"T_e42badcc_d7ec_11e9_b5d8_3024326fe11crow8_col4\" class=\"data row8 col4\" >0.348997</td>\n",
       "                        <td id=\"T_e42badcc_d7ec_11e9_b5d8_3024326fe11crow8_col5\" class=\"data row8 col5\" >-0.256675</td>\n",
       "                        <td id=\"T_e42badcc_d7ec_11e9_b5d8_3024326fe11crow8_col6\" class=\"data row8 col6\" >0.462535</td>\n",
       "                        <td id=\"T_e42badcc_d7ec_11e9_b5d8_3024326fe11crow8_col7\" class=\"data row8 col7\" >0.00800686</td>\n",
       "                        <td id=\"T_e42badcc_d7ec_11e9_b5d8_3024326fe11crow8_col8\" class=\"data row8 col8\" >1</td>\n",
       "                        <td id=\"T_e42badcc_d7ec_11e9_b5d8_3024326fe11crow8_col9\" class=\"data row8 col9\" >0.16174</td>\n",
       "                        <td id=\"T_e42badcc_d7ec_11e9_b5d8_3024326fe11crow8_col10\" class=\"data row8 col10\" >0.0444447</td>\n",
       "                        <td id=\"T_e42badcc_d7ec_11e9_b5d8_3024326fe11crow8_col11\" class=\"data row8 col11\" >0.0015055</td>\n",
       "                        <td id=\"T_e42badcc_d7ec_11e9_b5d8_3024326fe11crow8_col12\" class=\"data row8 col12\" >0.544119</td>\n",
       "            </tr>\n",
       "            <tr>\n",
       "                        <th id=\"T_e42badcc_d7ec_11e9_b5d8_3024326fe11clevel0_row9\" class=\"row_heading level0 row9\" >rate_code</th>\n",
       "                        <td id=\"T_e42badcc_d7ec_11e9_b5d8_3024326fe11crow9_col0\" class=\"data row9 col0\" >0.000300448</td>\n",
       "                        <td id=\"T_e42badcc_d7ec_11e9_b5d8_3024326fe11crow9_col1\" class=\"data row9 col1\" >-0.00108459</td>\n",
       "                        <td id=\"T_e42badcc_d7ec_11e9_b5d8_3024326fe11crow9_col2\" class=\"data row9 col2\" >-0.00501859</td>\n",
       "                        <td id=\"T_e42badcc_d7ec_11e9_b5d8_3024326fe11crow9_col3\" class=\"data row9 col3\" >-6.58447e-06</td>\n",
       "                        <td id=\"T_e42badcc_d7ec_11e9_b5d8_3024326fe11crow9_col4\" class=\"data row9 col4\" >0.16725</td>\n",
       "                        <td id=\"T_e42badcc_d7ec_11e9_b5d8_3024326fe11crow9_col5\" class=\"data row9 col5\" >-0.389614</td>\n",
       "                        <td id=\"T_e42badcc_d7ec_11e9_b5d8_3024326fe11crow9_col6\" class=\"data row9 col6\" >0.215514</td>\n",
       "                        <td id=\"T_e42badcc_d7ec_11e9_b5d8_3024326fe11crow9_col7\" class=\"data row9 col7\" >-0.00555812</td>\n",
       "                        <td id=\"T_e42badcc_d7ec_11e9_b5d8_3024326fe11crow9_col8\" class=\"data row9 col8\" >0.16174</td>\n",
       "                        <td id=\"T_e42badcc_d7ec_11e9_b5d8_3024326fe11crow9_col9\" class=\"data row9 col9\" >1</td>\n",
       "                        <td id=\"T_e42badcc_d7ec_11e9_b5d8_3024326fe11crow9_col10\" class=\"data row9 col10\" >0.0296209</td>\n",
       "                        <td id=\"T_e42badcc_d7ec_11e9_b5d8_3024326fe11crow9_col11\" class=\"data row9 col11\" >-0.247124</td>\n",
       "                        <td id=\"T_e42badcc_d7ec_11e9_b5d8_3024326fe11crow9_col12\" class=\"data row9 col12\" >0.277144</td>\n",
       "            </tr>\n",
       "            <tr>\n",
       "                        <th id=\"T_e42badcc_d7ec_11e9_b5d8_3024326fe11clevel0_row10\" class=\"row_heading level0 row10\" >extra_charges</th>\n",
       "                        <td id=\"T_e42badcc_d7ec_11e9_b5d8_3024326fe11crow10_col0\" class=\"data row10 col0\" >-0.000355229</td>\n",
       "                        <td id=\"T_e42badcc_d7ec_11e9_b5d8_3024326fe11crow10_col1\" class=\"data row10 col1\" >0.00823897</td>\n",
       "                        <td id=\"T_e42badcc_d7ec_11e9_b5d8_3024326fe11crow10_col2\" class=\"data row10 col2\" >-0.010393</td>\n",
       "                        <td id=\"T_e42badcc_d7ec_11e9_b5d8_3024326fe11crow10_col3\" class=\"data row10 col3\" >-0.0199747</td>\n",
       "                        <td id=\"T_e42badcc_d7ec_11e9_b5d8_3024326fe11crow10_col4\" class=\"data row10 col4\" >0.0654219</td>\n",
       "                        <td id=\"T_e42badcc_d7ec_11e9_b5d8_3024326fe11crow10_col5\" class=\"data row10 col5\" >0.0313454</td>\n",
       "                        <td id=\"T_e42badcc_d7ec_11e9_b5d8_3024326fe11crow10_col6\" class=\"data row10 col6\" >0.120161</td>\n",
       "                        <td id=\"T_e42badcc_d7ec_11e9_b5d8_3024326fe11crow10_col7\" class=\"data row10 col7\" >0.0060565</td>\n",
       "                        <td id=\"T_e42badcc_d7ec_11e9_b5d8_3024326fe11crow10_col8\" class=\"data row10 col8\" >0.0444447</td>\n",
       "                        <td id=\"T_e42badcc_d7ec_11e9_b5d8_3024326fe11crow10_col9\" class=\"data row10 col9\" >0.0296209</td>\n",
       "                        <td id=\"T_e42badcc_d7ec_11e9_b5d8_3024326fe11crow10_col10\" class=\"data row10 col10\" >1</td>\n",
       "                        <td id=\"T_e42badcc_d7ec_11e9_b5d8_3024326fe11crow10_col11\" class=\"data row10 col11\" >0.0115879</td>\n",
       "                        <td id=\"T_e42badcc_d7ec_11e9_b5d8_3024326fe11crow10_col12\" class=\"data row10 col12\" >0.112633</td>\n",
       "            </tr>\n",
       "            <tr>\n",
       "                        <th id=\"T_e42badcc_d7ec_11e9_b5d8_3024326fe11clevel0_row11\" class=\"row_heading level0 row11\" >improvement_charge</th>\n",
       "                        <td id=\"T_e42badcc_d7ec_11e9_b5d8_3024326fe11crow11_col0\" class=\"data row11 col0\" >-0.00207609</td>\n",
       "                        <td id=\"T_e42badcc_d7ec_11e9_b5d8_3024326fe11crow11_col1\" class=\"data row11 col1\" >-0.00491975</td>\n",
       "                        <td id=\"T_e42badcc_d7ec_11e9_b5d8_3024326fe11crow11_col2\" class=\"data row11 col2\" >-0.00488512</td>\n",
       "                        <td id=\"T_e42badcc_d7ec_11e9_b5d8_3024326fe11crow11_col3\" class=\"data row11 col3\" >-0.00808207</td>\n",
       "                        <td id=\"T_e42badcc_d7ec_11e9_b5d8_3024326fe11crow11_col4\" class=\"data row11 col4\" >0.00495636</td>\n",
       "                        <td id=\"T_e42badcc_d7ec_11e9_b5d8_3024326fe11crow11_col5\" class=\"data row11 col5\" >0.215548</td>\n",
       "                        <td id=\"T_e42badcc_d7ec_11e9_b5d8_3024326fe11crow11_col6\" class=\"data row11 col6\" >0.0111625</td>\n",
       "                        <td id=\"T_e42badcc_d7ec_11e9_b5d8_3024326fe11crow11_col7\" class=\"data row11 col7\" >0.00521236</td>\n",
       "                        <td id=\"T_e42badcc_d7ec_11e9_b5d8_3024326fe11crow11_col8\" class=\"data row11 col8\" >0.0015055</td>\n",
       "                        <td id=\"T_e42badcc_d7ec_11e9_b5d8_3024326fe11crow11_col9\" class=\"data row11 col9\" >-0.247124</td>\n",
       "                        <td id=\"T_e42badcc_d7ec_11e9_b5d8_3024326fe11crow11_col10\" class=\"data row11 col10\" >0.0115879</td>\n",
       "                        <td id=\"T_e42badcc_d7ec_11e9_b5d8_3024326fe11crow11_col11\" class=\"data row11 col11\" >1</td>\n",
       "                        <td id=\"T_e42badcc_d7ec_11e9_b5d8_3024326fe11crow11_col12\" class=\"data row11 col12\" >-0.00681088</td>\n",
       "            </tr>\n",
       "            <tr>\n",
       "                        <th id=\"T_e42badcc_d7ec_11e9_b5d8_3024326fe11clevel0_row12\" class=\"row_heading level0 row12\" >total_amount</th>\n",
       "                        <td id=\"T_e42badcc_d7ec_11e9_b5d8_3024326fe11crow12_col0\" class=\"data row12 col0\" >0.00185946</td>\n",
       "                        <td id=\"T_e42badcc_d7ec_11e9_b5d8_3024326fe11crow12_col1\" class=\"data row12 col1\" >0.0156509</td>\n",
       "                        <td id=\"T_e42badcc_d7ec_11e9_b5d8_3024326fe11crow12_col2\" class=\"data row12 col2\" >-0.069816</td>\n",
       "                        <td id=\"T_e42badcc_d7ec_11e9_b5d8_3024326fe11crow12_col3\" class=\"data row12 col3\" >-0.0861558</td>\n",
       "                        <td id=\"T_e42badcc_d7ec_11e9_b5d8_3024326fe11crow12_col4\" class=\"data row12 col4\" >0.675305</td>\n",
       "                        <td id=\"T_e42badcc_d7ec_11e9_b5d8_3024326fe11crow12_col5\" class=\"data row12 col5\" >-0.294364</td>\n",
       "                        <td id=\"T_e42badcc_d7ec_11e9_b5d8_3024326fe11crow12_col6\" class=\"data row12 col6\" >0.853042</td>\n",
       "                        <td id=\"T_e42badcc_d7ec_11e9_b5d8_3024326fe11crow12_col7\" class=\"data row12 col7\" >0.0119708</td>\n",
       "                        <td id=\"T_e42badcc_d7ec_11e9_b5d8_3024326fe11crow12_col8\" class=\"data row12 col8\" >0.544119</td>\n",
       "                        <td id=\"T_e42badcc_d7ec_11e9_b5d8_3024326fe11crow12_col9\" class=\"data row12 col9\" >0.277144</td>\n",
       "                        <td id=\"T_e42badcc_d7ec_11e9_b5d8_3024326fe11crow12_col10\" class=\"data row12 col10\" >0.112633</td>\n",
       "                        <td id=\"T_e42badcc_d7ec_11e9_b5d8_3024326fe11crow12_col11\" class=\"data row12 col11\" >-0.00681088</td>\n",
       "                        <td id=\"T_e42badcc_d7ec_11e9_b5d8_3024326fe11crow12_col12\" class=\"data row12 col12\" >1</td>\n",
       "            </tr>\n",
       "    </tbody></table>"
      ],
      "text/plain": [
       "<pandas.io.formats.style.Styler at 0x24280558be0>"
      ]
     },
     "execution_count": 57,
     "metadata": {},
     "output_type": "execute_result"
    }
   ],
   "source": [
    "corr = df.corr()\n",
    "corr.style.background_gradient(cmap='coolwarm')"
   ]
  },
  {
   "cell_type": "code",
   "execution_count": 33,
   "metadata": {},
   "outputs": [],
   "source": [
    "df=df.drop(columns=['pickup_time','drop_time'])"
   ]
  },
  {
   "cell_type": "code",
   "execution_count": 34,
   "metadata": {},
   "outputs": [
    {
     "data": {
      "text/plain": [
       "ID                      int64\n",
       "vendor_id               int64\n",
       "pickup_loc            float64\n",
       "drop_loc              float64\n",
       "driver_tip            float64\n",
       "mta_tax               float64\n",
       "distance              float64\n",
       "num_passengers        float64\n",
       "toll_amount           float64\n",
       "rate_code             float64\n",
       "extra_charges         float64\n",
       "improvement_charge    float64\n",
       "total_amount          float64\n",
       "dtype: object"
      ]
     },
     "execution_count": 34,
     "metadata": {},
     "output_type": "execute_result"
    }
   ],
   "source": [
    "df.dtypes"
   ]
  },
  {
   "cell_type": "code",
   "execution_count": 35,
   "metadata": {},
   "outputs": [
    {
     "data": {
      "text/plain": [
       "ID                    0\n",
       "vendor_id             0\n",
       "pickup_loc            0\n",
       "drop_loc              0\n",
       "driver_tip            0\n",
       "mta_tax               0\n",
       "distance              0\n",
       "num_passengers        0\n",
       "toll_amount           0\n",
       "rate_code             0\n",
       "extra_charges         0\n",
       "improvement_charge    0\n",
       "total_amount          0\n",
       "dtype: int64"
      ]
     },
     "execution_count": 35,
     "metadata": {},
     "output_type": "execute_result"
    }
   ],
   "source": [
    "df.isna().sum()"
   ]
  },
  {
   "cell_type": "markdown",
   "metadata": {},
   "source": [
    "# Training the model on test data"
   ]
  },
  {
   "cell_type": "code",
   "execution_count": 36,
   "metadata": {},
   "outputs": [],
   "source": [
    "y = df.pop('total_amount')"
   ]
  },
  {
   "cell_type": "code",
   "execution_count": 37,
   "metadata": {},
   "outputs": [],
   "source": [
    "X = df"
   ]
  },
  {
   "cell_type": "code",
   "execution_count": 38,
   "metadata": {},
   "outputs": [],
   "source": [
    "from sklearn.model_selection import train_test_split\n",
    "X_train,X_test,y_train,y_test = train_test_split(X,y,test_size=0.2)"
   ]
  },
  {
   "cell_type": "code",
   "execution_count": 39,
   "metadata": {},
   "outputs": [
    {
     "name": "stdout",
     "output_type": "stream",
     "text": [
      "(838441, 12)\n",
      "(209611, 12)\n",
      "(838441,)\n",
      "(209611,)\n"
     ]
    }
   ],
   "source": [
    "print(X_train.shape)\n",
    "print(X_test.shape)\n",
    "print(y_train.shape)\n",
    "print(y_test.shape)"
   ]
  },
  {
   "cell_type": "code",
   "execution_count": 41,
   "metadata": {},
   "outputs": [
    {
     "ename": "MemoryError",
     "evalue": "",
     "output_type": "error",
     "traceback": [
      "\u001b[1;31m---------------------------------------------------------------------------\u001b[0m",
      "\u001b[1;31mMemoryError\u001b[0m                               Traceback (most recent call last)",
      "\u001b[1;32m<ipython-input-41-2eb58b2fd5eb>\u001b[0m in \u001b[0;36m<module>\u001b[1;34m\u001b[0m\n\u001b[0;32m      1\u001b[0m \u001b[0mpolynomial_features\u001b[0m\u001b[1;33m=\u001b[0m \u001b[0mPolynomialFeatures\u001b[0m\u001b[1;33m(\u001b[0m\u001b[0mdegree\u001b[0m\u001b[1;33m=\u001b[0m\u001b[1;36m2\u001b[0m\u001b[1;33m)\u001b[0m\u001b[1;33m\u001b[0m\u001b[1;33m\u001b[0m\u001b[0m\n\u001b[1;32m----> 2\u001b[1;33m \u001b[0mx_poly\u001b[0m \u001b[1;33m=\u001b[0m \u001b[0mpolynomial_features\u001b[0m\u001b[1;33m.\u001b[0m\u001b[0mfit_transform\u001b[0m\u001b[1;33m(\u001b[0m\u001b[0mX_train\u001b[0m\u001b[1;33m)\u001b[0m\u001b[1;33m\u001b[0m\u001b[1;33m\u001b[0m\u001b[0m\n\u001b[0m\u001b[0;32m      3\u001b[0m \u001b[0mx_poly_test\u001b[0m \u001b[1;33m=\u001b[0m \u001b[0mpolynomial_features\u001b[0m\u001b[1;33m.\u001b[0m\u001b[0mfit_transform\u001b[0m\u001b[1;33m(\u001b[0m\u001b[0mX_test\u001b[0m\u001b[1;33m)\u001b[0m\u001b[1;33m\u001b[0m\u001b[1;33m\u001b[0m\u001b[0m\n\u001b[0;32m      4\u001b[0m \u001b[1;33m\u001b[0m\u001b[0m\n\u001b[0;32m      5\u001b[0m \u001b[0mmodel\u001b[0m \u001b[1;33m=\u001b[0m \u001b[0mLinearRegression\u001b[0m\u001b[1;33m(\u001b[0m\u001b[1;33m)\u001b[0m\u001b[1;33m\u001b[0m\u001b[1;33m\u001b[0m\u001b[0m\n",
      "\u001b[1;32m~\\Anaconda3\\lib\\site-packages\\sklearn\\base.py\u001b[0m in \u001b[0;36mfit_transform\u001b[1;34m(self, X, y, **fit_params)\u001b[0m\n\u001b[0;32m    551\u001b[0m         \u001b[1;32mif\u001b[0m \u001b[0my\u001b[0m \u001b[1;32mis\u001b[0m \u001b[1;32mNone\u001b[0m\u001b[1;33m:\u001b[0m\u001b[1;33m\u001b[0m\u001b[1;33m\u001b[0m\u001b[0m\n\u001b[0;32m    552\u001b[0m             \u001b[1;31m# fit method of arity 1 (unsupervised transformation)\u001b[0m\u001b[1;33m\u001b[0m\u001b[1;33m\u001b[0m\u001b[1;33m\u001b[0m\u001b[0m\n\u001b[1;32m--> 553\u001b[1;33m             \u001b[1;32mreturn\u001b[0m \u001b[0mself\u001b[0m\u001b[1;33m.\u001b[0m\u001b[0mfit\u001b[0m\u001b[1;33m(\u001b[0m\u001b[0mX\u001b[0m\u001b[1;33m,\u001b[0m \u001b[1;33m**\u001b[0m\u001b[0mfit_params\u001b[0m\u001b[1;33m)\u001b[0m\u001b[1;33m.\u001b[0m\u001b[0mtransform\u001b[0m\u001b[1;33m(\u001b[0m\u001b[0mX\u001b[0m\u001b[1;33m)\u001b[0m\u001b[1;33m\u001b[0m\u001b[1;33m\u001b[0m\u001b[0m\n\u001b[0m\u001b[0;32m    554\u001b[0m         \u001b[1;32melse\u001b[0m\u001b[1;33m:\u001b[0m\u001b[1;33m\u001b[0m\u001b[1;33m\u001b[0m\u001b[0m\n\u001b[0;32m    555\u001b[0m             \u001b[1;31m# fit method of arity 2 (supervised transformation)\u001b[0m\u001b[1;33m\u001b[0m\u001b[1;33m\u001b[0m\u001b[1;33m\u001b[0m\u001b[0m\n",
      "\u001b[1;32m~\\Anaconda3\\lib\\site-packages\\sklearn\\preprocessing\\data.py\u001b[0m in \u001b[0;36mtransform\u001b[1;34m(self, X)\u001b[0m\n\u001b[0;32m   1544\u001b[0m             \u001b[1;32melse\u001b[0m\u001b[1;33m:\u001b[0m\u001b[1;33m\u001b[0m\u001b[1;33m\u001b[0m\u001b[0m\n\u001b[0;32m   1545\u001b[0m                 XP = np.empty((n_samples, self.n_output_features_),\n\u001b[1;32m-> 1546\u001b[1;33m                               dtype=X.dtype, order=self.order)\n\u001b[0m\u001b[0;32m   1547\u001b[0m                 \u001b[1;32mfor\u001b[0m \u001b[0mi\u001b[0m\u001b[1;33m,\u001b[0m \u001b[0mcomb\u001b[0m \u001b[1;32min\u001b[0m \u001b[0menumerate\u001b[0m\u001b[1;33m(\u001b[0m\u001b[0mcombinations\u001b[0m\u001b[1;33m)\u001b[0m\u001b[1;33m:\u001b[0m\u001b[1;33m\u001b[0m\u001b[1;33m\u001b[0m\u001b[0m\n\u001b[0;32m   1548\u001b[0m                     \u001b[0mXP\u001b[0m\u001b[1;33m[\u001b[0m\u001b[1;33m:\u001b[0m\u001b[1;33m,\u001b[0m \u001b[0mi\u001b[0m\u001b[1;33m]\u001b[0m \u001b[1;33m=\u001b[0m \u001b[0mX\u001b[0m\u001b[1;33m[\u001b[0m\u001b[1;33m:\u001b[0m\u001b[1;33m,\u001b[0m \u001b[0mcomb\u001b[0m\u001b[1;33m]\u001b[0m\u001b[1;33m.\u001b[0m\u001b[0mprod\u001b[0m\u001b[1;33m(\u001b[0m\u001b[1;36m1\u001b[0m\u001b[1;33m)\u001b[0m\u001b[1;33m\u001b[0m\u001b[1;33m\u001b[0m\u001b[0m\n",
      "\u001b[1;31mMemoryError\u001b[0m: "
     ]
    }
   ],
   "source": [
    "polynomial_features= PolynomialFeatures(degree=2)\n",
    "x_poly = polynomial_features.fit_transform(X_train)\n",
    "x_poly_test = polynomial_features.fit_transform(X_test)\n",
    "\n",
    "model = LinearRegression()\n",
    "model.fit(x_poly, y_train)\n",
    "y_poly_pred = model.predict(x_poly_test)\n",
    "\n",
    "rmse = np.sqrt(mean_squared_error(y_test,y_poly_pred))\n",
    "r2 = r2_score(y_test,y_poly_pred)\n",
    "print(rmse)\n",
    "print(r2)"
   ]
  },
  {
   "cell_type": "code",
   "execution_count": 42,
   "metadata": {},
   "outputs": [],
   "source": [
    "reg = linear_model.LinearRegression()"
   ]
  },
  {
   "cell_type": "code",
   "execution_count": 43,
   "metadata": {},
   "outputs": [
    {
     "data": {
      "text/plain": [
       "LinearRegression(copy_X=True, fit_intercept=True, n_jobs=None, normalize=False)"
      ]
     },
     "execution_count": 43,
     "metadata": {},
     "output_type": "execute_result"
    }
   ],
   "source": [
    "reg.fit(X_train, y_train)"
   ]
  },
  {
   "cell_type": "code",
   "execution_count": 44,
   "metadata": {},
   "outputs": [],
   "source": [
    "y_pred = reg.predict(X_test)"
   ]
  },
  {
   "cell_type": "code",
   "execution_count": 45,
   "metadata": {},
   "outputs": [],
   "source": [
    "from sklearn.metrics import mean_squared_error, r2_score"
   ]
  },
  {
   "cell_type": "code",
   "execution_count": 47,
   "metadata": {},
   "outputs": [
    {
     "name": "stdout",
     "output_type": "stream",
     "text": [
      "Coefficients: \n",
      " [ 5.31254123e-08 -1.00971489e-02  4.64668860e-04  5.22257529e-04\n",
      "  1.37458584e+00 -3.86643226e+01  2.52982023e+00  8.52362852e-03\n",
      "  9.72690036e-01  1.61211203e+00  5.24594346e-01  4.55577113e+01]\n",
      "Mean squared error: 58.54\n",
      "Variance score: 0.76\n"
     ]
    }
   ],
   "source": [
    "# The coefficients\n",
    "print('Coefficients: \\n', reg.coef_)\n",
    "# The mean squared error\n",
    "print(\"Mean squared error: %.2f\"\n",
    "      % mean_squared_error(y_test,y_pred))\n",
    "# Explained variance score: 1 is perfect prediction\n",
    "print('Variance score: %.2f' % r2_score(y_test,y_pred))"
   ]
  },
  {
   "cell_type": "code",
   "execution_count": 65,
   "metadata": {},
   "outputs": [],
   "source": [
    "from sklearn.metrics import accuracy_score\n",
    "from sklearn.svm import SVC\n",
    "from sklearn import svm"
   ]
  },
  {
   "cell_type": "code",
   "execution_count": 66,
   "metadata": {},
   "outputs": [],
   "source": [
    "clf_svm = svm.SVR(gamma='auto')\n",
    "# clf_svm.fit(X_train,y_train)\n",
    "# pred_svm =clf_svm.predict(X_test)\n",
    "# svm_acc=accuracy_score(y_test,pred_svm)\n",
    "# print(svm_acc)"
   ]
  },
  {
   "cell_type": "code",
   "execution_count": null,
   "metadata": {},
   "outputs": [],
   "source": [
    "clf_svm.fit(X_train,y_train)"
   ]
  },
  {
   "cell_type": "code",
   "execution_count": null,
   "metadata": {},
   "outputs": [],
   "source": [
    "pred_svm =clf_svm.predict(X_test)"
   ]
  },
  {
   "cell_type": "code",
   "execution_count": null,
   "metadata": {},
   "outputs": [],
   "source": [
    "svm_acc=accuracy_score(y_test,pred_svm)\n",
    "print(svm_acc)"
   ]
  },
  {
   "cell_type": "markdown",
   "metadata": {},
   "source": [
    "# Predicting on Test Value"
   ]
  },
  {
   "cell_type": "code",
   "execution_count": 71,
   "metadata": {},
   "outputs": [],
   "source": [
    "df2 = pd.read_csv(\"test.csv\",low_memory=False)"
   ]
  },
  {
   "cell_type": "code",
   "execution_count": 72,
   "metadata": {},
   "outputs": [
    {
     "data": {
      "text/plain": [
       "(154235, 16)"
      ]
     },
     "execution_count": 72,
     "metadata": {},
     "output_type": "execute_result"
    }
   ],
   "source": [
    "df2.shape"
   ]
  },
  {
   "cell_type": "code",
   "execution_count": 73,
   "metadata": {},
   "outputs": [
    {
     "data": {
      "text/html": [
       "<div>\n",
       "<style scoped>\n",
       "    .dataframe tbody tr th:only-of-type {\n",
       "        vertical-align: middle;\n",
       "    }\n",
       "\n",
       "    .dataframe tbody tr th {\n",
       "        vertical-align: top;\n",
       "    }\n",
       "\n",
       "    .dataframe thead th {\n",
       "        text-align: right;\n",
       "    }\n",
       "</style>\n",
       "<table border=\"1\" class=\"dataframe\">\n",
       "  <thead>\n",
       "    <tr style=\"text-align: right;\">\n",
       "      <th></th>\n",
       "      <th>ID</th>\n",
       "      <th>vendor_id</th>\n",
       "      <th>pickup_loc</th>\n",
       "      <th>drop_loc</th>\n",
       "      <th>driver_tip</th>\n",
       "      <th>mta_tax</th>\n",
       "      <th>distance</th>\n",
       "      <th>pickup_time</th>\n",
       "      <th>drop_time</th>\n",
       "      <th>num_passengers</th>\n",
       "      <th>toll_amount</th>\n",
       "      <th>payment_method</th>\n",
       "      <th>rate_code</th>\n",
       "      <th>stored_flag</th>\n",
       "      <th>extra_charges</th>\n",
       "      <th>improvement_charge</th>\n",
       "    </tr>\n",
       "  </thead>\n",
       "  <tbody>\n",
       "    <tr>\n",
       "      <th>0</th>\n",
       "      <td>0</td>\n",
       "      <td>1</td>\n",
       "      <td>68.0</td>\n",
       "      <td>186.0</td>\n",
       "      <td>1.00</td>\n",
       "      <td>0.5</td>\n",
       "      <td>0.70</td>\n",
       "      <td>04/05/2017 05:49:46 AM</td>\n",
       "      <td>04/05/2017 05:54:03 AM</td>\n",
       "      <td>1.0</td>\n",
       "      <td>0.0</td>\n",
       "      <td>1.0</td>\n",
       "      <td>1.0</td>\n",
       "      <td>N</td>\n",
       "      <td>0.5</td>\n",
       "      <td>0.3</td>\n",
       "    </tr>\n",
       "    <tr>\n",
       "      <th>1</th>\n",
       "      <td>1</td>\n",
       "      <td>1</td>\n",
       "      <td>170.0</td>\n",
       "      <td>161.0</td>\n",
       "      <td>2.55</td>\n",
       "      <td>0.5</td>\n",
       "      <td>1.00</td>\n",
       "      <td>04/07/2017 08:57:27 AM</td>\n",
       "      <td>04/07/2017 09:16:00 AM</td>\n",
       "      <td>1.0</td>\n",
       "      <td>0.0</td>\n",
       "      <td>1.0</td>\n",
       "      <td>1.0</td>\n",
       "      <td>N</td>\n",
       "      <td>0.0</td>\n",
       "      <td>0.3</td>\n",
       "    </tr>\n",
       "    <tr>\n",
       "      <th>2</th>\n",
       "      <td>2</td>\n",
       "      <td>2</td>\n",
       "      <td>13.0</td>\n",
       "      <td>246.0</td>\n",
       "      <td>2.96</td>\n",
       "      <td>0.5</td>\n",
       "      <td>3.35</td>\n",
       "      <td>04/06/2017 08:06:41 AM</td>\n",
       "      <td>04/06/2017 08:21:33 AM</td>\n",
       "      <td>2.0</td>\n",
       "      <td>0.0</td>\n",
       "      <td>1.0</td>\n",
       "      <td>1.0</td>\n",
       "      <td>N</td>\n",
       "      <td>0.0</td>\n",
       "      <td>0.3</td>\n",
       "    </tr>\n",
       "    <tr>\n",
       "      <th>3</th>\n",
       "      <td>3</td>\n",
       "      <td>1</td>\n",
       "      <td>170.0</td>\n",
       "      <td>233.0</td>\n",
       "      <td>2.00</td>\n",
       "      <td>0.5</td>\n",
       "      <td>0.80</td>\n",
       "      <td>04/04/2017 08:31:34 AM</td>\n",
       "      <td>04/04/2017 08:37:21 AM</td>\n",
       "      <td>2.0</td>\n",
       "      <td>0.0</td>\n",
       "      <td>1.0</td>\n",
       "      <td>1.0</td>\n",
       "      <td>N</td>\n",
       "      <td>0.0</td>\n",
       "      <td>0.3</td>\n",
       "    </tr>\n",
       "    <tr>\n",
       "      <th>4</th>\n",
       "      <td>4</td>\n",
       "      <td>1</td>\n",
       "      <td>237.0</td>\n",
       "      <td>236.0</td>\n",
       "      <td>1.00</td>\n",
       "      <td>0.5</td>\n",
       "      <td>0.70</td>\n",
       "      <td>04/07/2017 10:54:06 AM</td>\n",
       "      <td>04/07/2017 11:00:59 AM</td>\n",
       "      <td>1.0</td>\n",
       "      <td>0.0</td>\n",
       "      <td>1.0</td>\n",
       "      <td>1.0</td>\n",
       "      <td>Y</td>\n",
       "      <td>0.0</td>\n",
       "      <td>0.3</td>\n",
       "    </tr>\n",
       "  </tbody>\n",
       "</table>\n",
       "</div>"
      ],
      "text/plain": [
       "   ID  vendor_id  pickup_loc  drop_loc  driver_tip  mta_tax  distance  \\\n",
       "0   0          1        68.0     186.0        1.00      0.5      0.70   \n",
       "1   1          1       170.0     161.0        2.55      0.5      1.00   \n",
       "2   2          2        13.0     246.0        2.96      0.5      3.35   \n",
       "3   3          1       170.0     233.0        2.00      0.5      0.80   \n",
       "4   4          1       237.0     236.0        1.00      0.5      0.70   \n",
       "\n",
       "              pickup_time               drop_time  num_passengers  \\\n",
       "0  04/05/2017 05:49:46 AM  04/05/2017 05:54:03 AM             1.0   \n",
       "1  04/07/2017 08:57:27 AM  04/07/2017 09:16:00 AM             1.0   \n",
       "2  04/06/2017 08:06:41 AM  04/06/2017 08:21:33 AM             2.0   \n",
       "3  04/04/2017 08:31:34 AM  04/04/2017 08:37:21 AM             2.0   \n",
       "4  04/07/2017 10:54:06 AM  04/07/2017 11:00:59 AM             1.0   \n",
       "\n",
       "   toll_amount  payment_method  rate_code stored_flag  extra_charges  \\\n",
       "0          0.0             1.0        1.0           N            0.5   \n",
       "1          0.0             1.0        1.0           N            0.0   \n",
       "2          0.0             1.0        1.0           N            0.0   \n",
       "3          0.0             1.0        1.0           N            0.0   \n",
       "4          0.0             1.0        1.0           Y            0.0   \n",
       "\n",
       "   improvement_charge  \n",
       "0                 0.3  \n",
       "1                 0.3  \n",
       "2                 0.3  \n",
       "3                 0.3  \n",
       "4                 0.3  "
      ]
     },
     "execution_count": 73,
     "metadata": {},
     "output_type": "execute_result"
    }
   ],
   "source": [
    "df2.head()"
   ]
  },
  {
   "cell_type": "code",
   "execution_count": 74,
   "metadata": {},
   "outputs": [
    {
     "data": {
      "text/plain": [
       "ID                      int64\n",
       "vendor_id               int64\n",
       "pickup_loc            float64\n",
       "drop_loc              float64\n",
       "driver_tip            float64\n",
       "mta_tax               float64\n",
       "distance              float64\n",
       "pickup_time            object\n",
       "drop_time              object\n",
       "num_passengers        float64\n",
       "toll_amount           float64\n",
       "payment_method        float64\n",
       "rate_code             float64\n",
       "stored_flag            object\n",
       "extra_charges         float64\n",
       "improvement_charge    float64\n",
       "dtype: object"
      ]
     },
     "execution_count": 74,
     "metadata": {},
     "output_type": "execute_result"
    }
   ],
   "source": [
    "df2.dtypes"
   ]
  },
  {
   "cell_type": "code",
   "execution_count": 75,
   "metadata": {},
   "outputs": [
    {
     "data": {
      "text/plain": [
       "ID                    0\n",
       "vendor_id             0\n",
       "pickup_loc            0\n",
       "drop_loc              0\n",
       "driver_tip            0\n",
       "mta_tax               0\n",
       "distance              0\n",
       "num_passengers        0\n",
       "toll_amount           0\n",
       "rate_code             0\n",
       "extra_charges         0\n",
       "improvement_charge    0\n",
       "dtype: int64"
      ]
     },
     "execution_count": 75,
     "metadata": {},
     "output_type": "execute_result"
    }
   ],
   "source": [
    "df.isna().sum()"
   ]
  },
  {
   "cell_type": "code",
   "execution_count": 90,
   "metadata": {},
   "outputs": [],
   "source": [
    "df2 = df2.drop(columns=['pickup_loc','drop_loc'])"
   ]
  },
  {
   "cell_type": "code",
   "execution_count": 91,
   "metadata": {},
   "outputs": [
    {
     "data": {
      "text/plain": [
       "array([1, 2], dtype=int64)"
      ]
     },
     "execution_count": 91,
     "metadata": {},
     "output_type": "execute_result"
    }
   ],
   "source": [
    "df2['vendor_id'].unique()"
   ]
  },
  {
   "cell_type": "code",
   "execution_count": 92,
   "metadata": {},
   "outputs": [
    {
     "data": {
      "text/plain": [
       "ID                      int64\n",
       "vendor_id               int64\n",
       "driver_tip            float64\n",
       "mta_tax               float64\n",
       "distance              float64\n",
       "num_passengers        float64\n",
       "toll_amount           float64\n",
       "rate_code             float64\n",
       "extra_charges         float64\n",
       "improvement_charge    float64\n",
       "dtype: object"
      ]
     },
     "execution_count": 92,
     "metadata": {},
     "output_type": "execute_result"
    }
   ],
   "source": [
    "df2.dtypes"
   ]
  },
  {
   "cell_type": "code",
   "execution_count": 93,
   "metadata": {},
   "outputs": [
    {
     "data": {
      "text/plain": [
       "(154235, 10)"
      ]
     },
     "execution_count": 93,
     "metadata": {},
     "output_type": "execute_result"
    }
   ],
   "source": [
    "df2.shape"
   ]
  },
  {
   "cell_type": "code",
   "execution_count": 94,
   "metadata": {},
   "outputs": [],
   "source": [
    "X_TEST = df2"
   ]
  },
  {
   "cell_type": "code",
   "execution_count": 95,
   "metadata": {},
   "outputs": [],
   "source": [
    "Y_pred = reg.predict(X_TEST)"
   ]
  },
  {
   "cell_type": "code",
   "execution_count": 96,
   "metadata": {},
   "outputs": [],
   "source": [
    "submission = pd.DataFrame({ 'ID': X_TEST.ID.values, 'total_amount': Y_pred })\n",
    "submission.to_csv(\"my_submission2.csv\", index=False)"
   ]
  },
  {
   "cell_type": "code",
   "execution_count": null,
   "metadata": {},
   "outputs": [],
   "source": []
  }
 ],
 "metadata": {
  "kernelspec": {
   "display_name": "Python 3",
   "language": "python",
   "name": "python3"
  },
  "language_info": {
   "codemirror_mode": {
    "name": "ipython",
    "version": 3
   },
   "file_extension": ".py",
   "mimetype": "text/x-python",
   "name": "python",
   "nbconvert_exporter": "python",
   "pygments_lexer": "ipython3",
   "version": "3.7.3"
  }
 },
 "nbformat": 4,
 "nbformat_minor": 2
}
