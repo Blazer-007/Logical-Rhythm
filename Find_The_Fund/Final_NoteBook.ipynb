{
 "cells": [
  {
   "cell_type": "code",
   "execution_count": 1,
   "metadata": {},
   "outputs": [],
   "source": [
    "import pandas as pd\n",
    "import numpy as np\n",
    "import matplotlib.pyplot as plt\n",
    "%matplotlib inline"
   ]
  },
  {
   "cell_type": "code",
   "execution_count": 2,
   "metadata": {},
   "outputs": [],
   "source": [
    "df = pd.read_csv('train.csv',low_memory=False)"
   ]
  },
  {
   "cell_type": "code",
   "execution_count": 3,
   "metadata": {},
   "outputs": [
    {
     "data": {
      "text/plain": [
       "(40213, 27)"
      ]
     },
     "execution_count": 3,
     "metadata": {},
     "output_type": "execute_result"
    }
   ],
   "source": [
    "df.shape"
   ]
  },
  {
   "cell_type": "code",
   "execution_count": 4,
   "metadata": {},
   "outputs": [
    {
     "data": {
      "text/plain": [
       "ID                         int64\n",
       "comp_name                 object\n",
       "website                   object\n",
       "op_status                 object\n",
       "domain                    object\n",
       "founded_on                object\n",
       "hq_country_code           object\n",
       "hq_state_code             object\n",
       "hq_region                 object\n",
       "hq_city                   object\n",
       "total_funding_usd         object\n",
       "funding_rounds            object\n",
       "first_funding_date        object\n",
       "last_funding_date         object\n",
       "num_investors             object\n",
       "funding_duration           int64\n",
       "first_funding_utc         object\n",
       "last_funding_utc          object\n",
       "successful_investment      int64\n",
       "Unnamed: 19              float64\n",
       "Unnamed: 20               object\n",
       "Unnamed: 21               object\n",
       "Unnamed: 22              float64\n",
       "Unnamed: 23              float64\n",
       "Unnamed: 24              float64\n",
       "Unnamed: 25              float64\n",
       "Unnamed: 26              float64\n",
       "dtype: object"
      ]
     },
     "execution_count": 4,
     "metadata": {},
     "output_type": "execute_result"
    }
   ],
   "source": [
    "df.dtypes"
   ]
  },
  {
   "cell_type": "code",
   "execution_count": 5,
   "metadata": {},
   "outputs": [
    {
     "data": {
      "text/plain": [
       "ID                           0\n",
       "comp_name                    0\n",
       "website                   2467\n",
       "op_status                    0\n",
       "domain                    2206\n",
       "founded_on               10214\n",
       "hq_country_code           4514\n",
       "hq_state_code             5590\n",
       "hq_region                 5248\n",
       "hq_city                   5246\n",
       "total_funding_usd         7664\n",
       "funding_rounds               1\n",
       "first_funding_date           0\n",
       "last_funding_date            0\n",
       "num_investors                0\n",
       "funding_duration             0\n",
       "first_funding_utc            0\n",
       "last_funding_utc             0\n",
       "successful_investment        0\n",
       "Unnamed: 19              40210\n",
       "Unnamed: 20              40212\n",
       "Unnamed: 21              40212\n",
       "Unnamed: 22              40212\n",
       "Unnamed: 23              40212\n",
       "Unnamed: 24              40212\n",
       "Unnamed: 25              40212\n",
       "Unnamed: 26              40212\n",
       "dtype: int64"
      ]
     },
     "execution_count": 5,
     "metadata": {},
     "output_type": "execute_result"
    }
   ],
   "source": [
    "df.isna().sum()"
   ]
  },
  {
   "cell_type": "code",
   "execution_count": 6,
   "metadata": {},
   "outputs": [],
   "source": [
    "## Dropping all the columns from Unnamed: 19 to Unnamed: 26 \n",
    "## b/c almost all values are nan\n",
    "df = df.drop(columns=['Unnamed: 19','Unnamed: 20','Unnamed: 21','Unnamed: 22','Unnamed: 23','Unnamed: 24','Unnamed: 25','Unnamed: 26'])"
   ]
  },
  {
   "cell_type": "code",
   "execution_count": 7,
   "metadata": {},
   "outputs": [
    {
     "data": {
      "text/plain": [
       "(40213, 19)"
      ]
     },
     "execution_count": 7,
     "metadata": {},
     "output_type": "execute_result"
    }
   ],
   "source": [
    "df.shape"
   ]
  },
  {
   "cell_type": "code",
   "execution_count": 8,
   "metadata": {},
   "outputs": [
    {
     "data": {
      "text/html": [
       "<div>\n",
       "<style scoped>\n",
       "    .dataframe tbody tr th:only-of-type {\n",
       "        vertical-align: middle;\n",
       "    }\n",
       "\n",
       "    .dataframe tbody tr th {\n",
       "        vertical-align: top;\n",
       "    }\n",
       "\n",
       "    .dataframe thead th {\n",
       "        text-align: right;\n",
       "    }\n",
       "</style>\n",
       "<table border=\"1\" class=\"dataframe\">\n",
       "  <thead>\n",
       "    <tr style=\"text-align: right;\">\n",
       "      <th></th>\n",
       "      <th>ID</th>\n",
       "      <th>comp_name</th>\n",
       "      <th>website</th>\n",
       "      <th>op_status</th>\n",
       "      <th>domain</th>\n",
       "      <th>founded_on</th>\n",
       "      <th>hq_country_code</th>\n",
       "      <th>hq_state_code</th>\n",
       "      <th>hq_region</th>\n",
       "      <th>hq_city</th>\n",
       "      <th>total_funding_usd</th>\n",
       "      <th>funding_rounds</th>\n",
       "      <th>first_funding_date</th>\n",
       "      <th>last_funding_date</th>\n",
       "      <th>num_investors</th>\n",
       "      <th>funding_duration</th>\n",
       "      <th>first_funding_utc</th>\n",
       "      <th>last_funding_utc</th>\n",
       "      <th>successful_investment</th>\n",
       "    </tr>\n",
       "  </thead>\n",
       "  <tbody>\n",
       "    <tr>\n",
       "      <th>0</th>\n",
       "      <td>0</td>\n",
       "      <td>Nanotecture</td>\n",
       "      <td>http://www.nanotecture.co.uk</td>\n",
       "      <td>closed</td>\n",
       "      <td>Nanotechnology</td>\n",
       "      <td>NaN</td>\n",
       "      <td>GBR</td>\n",
       "      <td>M4</td>\n",
       "      <td>London</td>\n",
       "      <td>Southampton</td>\n",
       "      <td>6820000</td>\n",
       "      <td>1</td>\n",
       "      <td>2005-05-04</td>\n",
       "      <td>2005-05-04</td>\n",
       "      <td>4</td>\n",
       "      <td>0</td>\n",
       "      <td>12907</td>\n",
       "      <td>12907</td>\n",
       "      <td>0</td>\n",
       "    </tr>\n",
       "    <tr>\n",
       "      <th>1</th>\n",
       "      <td>1</td>\n",
       "      <td>Sybari</td>\n",
       "      <td>http://www.sybari.com</td>\n",
       "      <td>acquired</td>\n",
       "      <td>Email|Security|Software</td>\n",
       "      <td>1995-01-01</td>\n",
       "      <td>USA</td>\n",
       "      <td>NY</td>\n",
       "      <td>Long Island</td>\n",
       "      <td>East Northport</td>\n",
       "      <td>NaN</td>\n",
       "      <td>1</td>\n",
       "      <td>2001-03-30</td>\n",
       "      <td>2001-03-30</td>\n",
       "      <td>1</td>\n",
       "      <td>0</td>\n",
       "      <td>11411</td>\n",
       "      <td>11411</td>\n",
       "      <td>1</td>\n",
       "    </tr>\n",
       "    <tr>\n",
       "      <th>2</th>\n",
       "      <td>2</td>\n",
       "      <td>Futurederm</td>\n",
       "      <td>http://www.futurederm.com</td>\n",
       "      <td>operating</td>\n",
       "      <td>Beauty|Cosmetics|E-Commerce|Social Media</td>\n",
       "      <td>2009-06-07</td>\n",
       "      <td>USA</td>\n",
       "      <td>PA</td>\n",
       "      <td>Pittsburgh</td>\n",
       "      <td>Pittsburgh</td>\n",
       "      <td>165778</td>\n",
       "      <td>5</td>\n",
       "      <td>2012-10-25</td>\n",
       "      <td>2014-05-27</td>\n",
       "      <td>4</td>\n",
       "      <td>579</td>\n",
       "      <td>15638</td>\n",
       "      <td>16217</td>\n",
       "      <td>0</td>\n",
       "    </tr>\n",
       "    <tr>\n",
       "      <th>3</th>\n",
       "      <td>3</td>\n",
       "      <td>Mercora</td>\n",
       "      <td>http://mercora.com</td>\n",
       "      <td>closed</td>\n",
       "      <td>Curated Web</td>\n",
       "      <td>NaN</td>\n",
       "      <td>USA</td>\n",
       "      <td>CA</td>\n",
       "      <td>SF Bay Area</td>\n",
       "      <td>Sunnyvale</td>\n",
       "      <td>5000000</td>\n",
       "      <td>1</td>\n",
       "      <td>2005-01-01</td>\n",
       "      <td>2005-01-01</td>\n",
       "      <td>1</td>\n",
       "      <td>0</td>\n",
       "      <td>12784</td>\n",
       "      <td>12784</td>\n",
       "      <td>0</td>\n",
       "    </tr>\n",
       "    <tr>\n",
       "      <th>4</th>\n",
       "      <td>4</td>\n",
       "      <td>Datos IO</td>\n",
       "      <td>http://www.datos.io</td>\n",
       "      <td>operating</td>\n",
       "      <td>Big Data|Cloud Computing|Databases|Enterprise ...</td>\n",
       "      <td>2014-06-01</td>\n",
       "      <td>USA</td>\n",
       "      <td>CA</td>\n",
       "      <td>SF Bay Area</td>\n",
       "      <td>San Jose</td>\n",
       "      <td>15250000</td>\n",
       "      <td>2</td>\n",
       "      <td>2014-07-01</td>\n",
       "      <td>2015-09-15</td>\n",
       "      <td>4</td>\n",
       "      <td>441</td>\n",
       "      <td>16252</td>\n",
       "      <td>16693</td>\n",
       "      <td>0</td>\n",
       "    </tr>\n",
       "  </tbody>\n",
       "</table>\n",
       "</div>"
      ],
      "text/plain": [
       "   ID    comp_name                       website  op_status  \\\n",
       "0   0  Nanotecture  http://www.nanotecture.co.uk     closed   \n",
       "1   1       Sybari         http://www.sybari.com   acquired   \n",
       "2   2   Futurederm     http://www.futurederm.com  operating   \n",
       "3   3      Mercora            http://mercora.com     closed   \n",
       "4   4     Datos IO           http://www.datos.io  operating   \n",
       "\n",
       "                                              domain  founded_on  \\\n",
       "0                                     Nanotechnology         NaN   \n",
       "1                            Email|Security|Software  1995-01-01   \n",
       "2           Beauty|Cosmetics|E-Commerce|Social Media  2009-06-07   \n",
       "3                                        Curated Web         NaN   \n",
       "4  Big Data|Cloud Computing|Databases|Enterprise ...  2014-06-01   \n",
       "\n",
       "  hq_country_code hq_state_code    hq_region         hq_city  \\\n",
       "0             GBR            M4       London     Southampton   \n",
       "1             USA            NY  Long Island  East Northport   \n",
       "2             USA            PA   Pittsburgh      Pittsburgh   \n",
       "3             USA            CA  SF Bay Area       Sunnyvale   \n",
       "4             USA            CA  SF Bay Area        San Jose   \n",
       "\n",
       "  total_funding_usd funding_rounds first_funding_date last_funding_date  \\\n",
       "0           6820000              1         2005-05-04        2005-05-04   \n",
       "1               NaN              1         2001-03-30        2001-03-30   \n",
       "2            165778              5         2012-10-25        2014-05-27   \n",
       "3           5000000              1         2005-01-01        2005-01-01   \n",
       "4          15250000              2         2014-07-01        2015-09-15   \n",
       "\n",
       "  num_investors  funding_duration first_funding_utc last_funding_utc  \\\n",
       "0             4                 0             12907            12907   \n",
       "1             1                 0             11411            11411   \n",
       "2             4               579             15638            16217   \n",
       "3             1                 0             12784            12784   \n",
       "4             4               441             16252            16693   \n",
       "\n",
       "   successful_investment  \n",
       "0                      0  \n",
       "1                      1  \n",
       "2                      0  \n",
       "3                      0  \n",
       "4                      0  "
      ]
     },
     "execution_count": 8,
     "metadata": {},
     "output_type": "execute_result"
    }
   ],
   "source": [
    "df.head()"
   ]
  },
  {
   "cell_type": "code",
   "execution_count": 9,
   "metadata": {},
   "outputs": [
    {
     "data": {
      "text/plain": [
       "ID                        int64\n",
       "comp_name                object\n",
       "website                  object\n",
       "op_status                object\n",
       "domain                   object\n",
       "founded_on               object\n",
       "hq_country_code          object\n",
       "hq_state_code            object\n",
       "hq_region                object\n",
       "hq_city                  object\n",
       "total_funding_usd        object\n",
       "funding_rounds           object\n",
       "first_funding_date       object\n",
       "last_funding_date        object\n",
       "num_investors            object\n",
       "funding_duration          int64\n",
       "first_funding_utc        object\n",
       "last_funding_utc         object\n",
       "successful_investment     int64\n",
       "dtype: object"
      ]
     },
     "execution_count": 9,
     "metadata": {},
     "output_type": "execute_result"
    }
   ],
   "source": [
    "df.dtypes"
   ]
  },
  {
   "cell_type": "code",
   "execution_count": 51,
   "metadata": {},
   "outputs": [
    {
     "data": {
      "text/plain": [
       "ID                           0\n",
       "comp_name                    0\n",
       "website                   2467\n",
       "op_status                    0\n",
       "domain                    2206\n",
       "founded_on               10214\n",
       "hq_country_code           4514\n",
       "hq_state_code             5590\n",
       "hq_region                 5248\n",
       "hq_city                   5246\n",
       "total_funding_usd         7664\n",
       "funding_rounds               1\n",
       "first_funding_date           0\n",
       "last_funding_date            0\n",
       "num_investors                0\n",
       "funding_duration             0\n",
       "first_funding_utc            0\n",
       "last_funding_utc             0\n",
       "successful_investment        0\n",
       "dtype: int64"
      ]
     },
     "execution_count": 51,
     "metadata": {},
     "output_type": "execute_result"
    }
   ],
   "source": [
    "df.isna().sum()"
   ]
  },
  {
   "cell_type": "code",
   "execution_count": 52,
   "metadata": {},
   "outputs": [
    {
     "data": {
      "text/plain": [
       "array(['4', '1', '2', '3', '5', '6', '21', '11', '8', '13', '7', '10',\n",
       "       '9', '12', '23', '20', '16', '18', '15', '22', '19', '26', '47',\n",
       "       '33', '14', '25', '37', '38', '17', '27', '24', '29', '30', '42',\n",
       "       '36', '35', '31', '46', '28', '61', '34', '55', '40', '39', '43',\n",
       "       '32', 'DEU', '64', '59', '52', '41', '44', '60', '2015-05-15',\n",
       "       '50', '45', '53', '48', '2005-01-01', '0', '57', '49'],\n",
       "      dtype=object)"
      ]
     },
     "execution_count": 52,
     "metadata": {},
     "output_type": "execute_result"
    }
   ],
   "source": [
    "df['num_investors'].unique()"
   ]
  },
  {
   "cell_type": "code",
   "execution_count": 53,
   "metadata": {},
   "outputs": [
    {
     "data": {
      "text/plain": [
       "1             17436\n",
       "2              6630\n",
       "3              3952\n",
       "4              2585\n",
       "5              1826\n",
       "6              1440\n",
       "7              1020\n",
       "8               899\n",
       "9               711\n",
       "10              567\n",
       "11              487\n",
       "12              379\n",
       "13              305\n",
       "14              247\n",
       "15              235\n",
       "16              201\n",
       "17              175\n",
       "19              137\n",
       "18              130\n",
       "20              116\n",
       "21               97\n",
       "23               75\n",
       "22               75\n",
       "25               68\n",
       "24               51\n",
       "27               50\n",
       "26               50\n",
       "28               42\n",
       "30               30\n",
       "29               30\n",
       "              ...  \n",
       "36               17\n",
       "32               15\n",
       "33               12\n",
       "35               12\n",
       "37               11\n",
       "39                7\n",
       "41                6\n",
       "43                5\n",
       "40                5\n",
       "38                5\n",
       "44                4\n",
       "42                3\n",
       "47                3\n",
       "59                3\n",
       "52                3\n",
       "57                2\n",
       "61                2\n",
       "DEU               1\n",
       "60                1\n",
       "50                1\n",
       "49                1\n",
       "53                1\n",
       "45                1\n",
       "2005-01-01        1\n",
       "46                1\n",
       "48                1\n",
       "64                1\n",
       "0                 1\n",
       "55                1\n",
       "2015-05-15        1\n",
       "Name: num_investors, Length: 62, dtype: int64"
      ]
     },
     "execution_count": 53,
     "metadata": {},
     "output_type": "execute_result"
    }
   ],
   "source": [
    "df['num_investors'].value_counts()"
   ]
  },
  {
   "cell_type": "code",
   "execution_count": 54,
   "metadata": {},
   "outputs": [],
   "source": [
    "df['num_investors'].replace('2005-01-01','1',inplace=True)"
   ]
  },
  {
   "cell_type": "code",
   "execution_count": 55,
   "metadata": {},
   "outputs": [],
   "source": [
    "df['num_investors'].replace('2015-05-15','1',inplace=True)"
   ]
  },
  {
   "cell_type": "code",
   "execution_count": 56,
   "metadata": {},
   "outputs": [],
   "source": [
    "df['num_investors'].replace('DEU','1',inplace=True)"
   ]
  },
  {
   "cell_type": "code",
   "execution_count": 57,
   "metadata": {},
   "outputs": [],
   "source": [
    "df['num_investors'] = df['num_investors'].apply(pd.to_numeric, errors='coerce')"
   ]
  },
  {
   "cell_type": "code",
   "execution_count": 58,
   "metadata": {},
   "outputs": [],
   "source": [
    "df['funding_duration'] = df['funding_duration'].apply(pd.to_numeric, errors='coerce')"
   ]
  },
  {
   "cell_type": "code",
   "execution_count": 59,
   "metadata": {},
   "outputs": [
    {
     "data": {
      "text/plain": [
       "ID                           0\n",
       "comp_name                    0\n",
       "website                   2467\n",
       "op_status                    0\n",
       "domain                    2206\n",
       "founded_on               10214\n",
       "hq_country_code           4514\n",
       "hq_state_code             5590\n",
       "hq_region                 5248\n",
       "hq_city                   5246\n",
       "total_funding_usd         7664\n",
       "funding_rounds               1\n",
       "first_funding_date           0\n",
       "last_funding_date            0\n",
       "num_investors                0\n",
       "funding_duration             0\n",
       "first_funding_utc            0\n",
       "last_funding_utc             0\n",
       "successful_investment        0\n",
       "dtype: int64"
      ]
     },
     "execution_count": 59,
     "metadata": {},
     "output_type": "execute_result"
    }
   ],
   "source": [
    "df.isna().sum()"
   ]
  },
  {
   "cell_type": "code",
   "execution_count": 60,
   "metadata": {},
   "outputs": [
    {
     "data": {
      "text/plain": [
       "ID                        int64\n",
       "comp_name                object\n",
       "website                  object\n",
       "op_status                object\n",
       "domain                   object\n",
       "founded_on               object\n",
       "hq_country_code          object\n",
       "hq_state_code            object\n",
       "hq_region                object\n",
       "hq_city                  object\n",
       "total_funding_usd        object\n",
       "funding_rounds           object\n",
       "first_funding_date       object\n",
       "last_funding_date        object\n",
       "num_investors             int64\n",
       "funding_duration          int64\n",
       "first_funding_utc        object\n",
       "last_funding_utc         object\n",
       "successful_investment     int64\n",
       "dtype: object"
      ]
     },
     "execution_count": 60,
     "metadata": {},
     "output_type": "execute_result"
    }
   ],
   "source": [
    "df.dtypes"
   ]
  },
  {
   "cell_type": "code",
   "execution_count": 62,
   "metadata": {},
   "outputs": [],
   "source": [
    "df['first_funding_utc'] = df['first_funding_utc'].apply(pd.to_numeric, errors='coerce')"
   ]
  },
  {
   "cell_type": "code",
   "execution_count": 63,
   "metadata": {},
   "outputs": [
    {
     "data": {
      "text/plain": [
       "ID                           0\n",
       "comp_name                    0\n",
       "website                   2467\n",
       "op_status                    0\n",
       "domain                    2206\n",
       "founded_on               10214\n",
       "hq_country_code           4514\n",
       "hq_state_code             5590\n",
       "hq_region                 5248\n",
       "hq_city                   5246\n",
       "total_funding_usd         7664\n",
       "funding_rounds               1\n",
       "first_funding_date           0\n",
       "last_funding_date            0\n",
       "num_investors                0\n",
       "funding_duration             0\n",
       "first_funding_utc            1\n",
       "last_funding_utc             0\n",
       "successful_investment        0\n",
       "dtype: int64"
      ]
     },
     "execution_count": 63,
     "metadata": {},
     "output_type": "execute_result"
    }
   ],
   "source": [
    "df.isna().sum()"
   ]
  },
  {
   "cell_type": "code",
   "execution_count": 64,
   "metadata": {},
   "outputs": [],
   "source": [
    "df['first_funding_utc'].fillna(0,inplace = True)"
   ]
  },
  {
   "cell_type": "code",
   "execution_count": 65,
   "metadata": {},
   "outputs": [
    {
     "data": {
      "text/plain": [
       "ID                           0\n",
       "comp_name                    0\n",
       "website                   2467\n",
       "op_status                    0\n",
       "domain                    2206\n",
       "founded_on               10214\n",
       "hq_country_code           4514\n",
       "hq_state_code             5590\n",
       "hq_region                 5248\n",
       "hq_city                   5246\n",
       "total_funding_usd         7664\n",
       "funding_rounds               1\n",
       "first_funding_date           0\n",
       "last_funding_date            0\n",
       "num_investors                0\n",
       "funding_duration             0\n",
       "first_funding_utc            0\n",
       "last_funding_utc             0\n",
       "successful_investment        0\n",
       "dtype: int64"
      ]
     },
     "execution_count": 65,
     "metadata": {},
     "output_type": "execute_result"
    }
   ],
   "source": [
    "df.isna().sum()"
   ]
  },
  {
   "cell_type": "code",
   "execution_count": 66,
   "metadata": {},
   "outputs": [],
   "source": [
    "df['last_funding_utc'] = df['last_funding_utc'].apply(pd.to_numeric, errors='coerce')"
   ]
  },
  {
   "cell_type": "code",
   "execution_count": 67,
   "metadata": {},
   "outputs": [
    {
     "data": {
      "text/plain": [
       "ID                           0\n",
       "comp_name                    0\n",
       "website                   2467\n",
       "op_status                    0\n",
       "domain                    2206\n",
       "founded_on               10214\n",
       "hq_country_code           4514\n",
       "hq_state_code             5590\n",
       "hq_region                 5248\n",
       "hq_city                   5246\n",
       "total_funding_usd         7664\n",
       "funding_rounds               1\n",
       "first_funding_date           0\n",
       "last_funding_date            0\n",
       "num_investors                0\n",
       "funding_duration             0\n",
       "first_funding_utc            0\n",
       "last_funding_utc             1\n",
       "successful_investment        0\n",
       "dtype: int64"
      ]
     },
     "execution_count": 67,
     "metadata": {},
     "output_type": "execute_result"
    }
   ],
   "source": [
    "df.isna().sum()"
   ]
  },
  {
   "cell_type": "code",
   "execution_count": 68,
   "metadata": {},
   "outputs": [],
   "source": [
    "df['last_funding_utc'].fillna(0,inplace = True)"
   ]
  },
  {
   "cell_type": "code",
   "execution_count": 69,
   "metadata": {},
   "outputs": [
    {
     "data": {
      "text/plain": [
       "ID                           0\n",
       "comp_name                    0\n",
       "website                   2467\n",
       "op_status                    0\n",
       "domain                    2206\n",
       "founded_on               10214\n",
       "hq_country_code           4514\n",
       "hq_state_code             5590\n",
       "hq_region                 5248\n",
       "hq_city                   5246\n",
       "total_funding_usd         7664\n",
       "funding_rounds               1\n",
       "first_funding_date           0\n",
       "last_funding_date            0\n",
       "num_investors                0\n",
       "funding_duration             0\n",
       "first_funding_utc            0\n",
       "last_funding_utc             0\n",
       "successful_investment        0\n",
       "dtype: int64"
      ]
     },
     "execution_count": 69,
     "metadata": {},
     "output_type": "execute_result"
    }
   ],
   "source": [
    "df.isna().sum()"
   ]
  },
  {
   "cell_type": "code",
   "execution_count": 70,
   "metadata": {},
   "outputs": [
    {
     "data": {
      "text/plain": [
       "ID                         int64\n",
       "comp_name                 object\n",
       "website                   object\n",
       "op_status                 object\n",
       "domain                    object\n",
       "founded_on                object\n",
       "hq_country_code           object\n",
       "hq_state_code             object\n",
       "hq_region                 object\n",
       "hq_city                   object\n",
       "total_funding_usd         object\n",
       "funding_rounds            object\n",
       "first_funding_date        object\n",
       "last_funding_date         object\n",
       "num_investors              int64\n",
       "funding_duration           int64\n",
       "first_funding_utc        float64\n",
       "last_funding_utc         float64\n",
       "successful_investment      int64\n",
       "dtype: object"
      ]
     },
     "execution_count": 70,
     "metadata": {},
     "output_type": "execute_result"
    }
   ],
   "source": [
    "df.dtypes"
   ]
  },
  {
   "cell_type": "code",
   "execution_count": 71,
   "metadata": {},
   "outputs": [
    {
     "data": {
      "text/plain": [
       "array(['1', '5', '2', '3', '6', '4', '11', '7', '10', '8', '12', '14',\n",
       "       '9', '17', '16', 'operating', '13', '15', '1032', '19', '18', nan],\n",
       "      dtype=object)"
      ]
     },
     "execution_count": 71,
     "metadata": {},
     "output_type": "execute_result"
    }
   ],
   "source": [
    "df['funding_rounds'].unique()"
   ]
  },
  {
   "cell_type": "code",
   "execution_count": 72,
   "metadata": {},
   "outputs": [
    {
     "data": {
      "text/plain": [
       "1            22686\n",
       "2             8570\n",
       "3             4243\n",
       "4             2146\n",
       "5             1160\n",
       "6              635\n",
       "7              346\n",
       "8              163\n",
       "9              100\n",
       "10              68\n",
       "11              40\n",
       "12              23\n",
       "13              13\n",
       "16               5\n",
       "15               4\n",
       "14               4\n",
       "17               2\n",
       "operating        1\n",
       "19               1\n",
       "1032             1\n",
       "18               1\n",
       "Name: funding_rounds, dtype: int64"
      ]
     },
     "execution_count": 72,
     "metadata": {},
     "output_type": "execute_result"
    }
   ],
   "source": [
    "df['funding_rounds'].value_counts()"
   ]
  },
  {
   "cell_type": "code",
   "execution_count": 73,
   "metadata": {},
   "outputs": [],
   "source": [
    "df['funding_rounds'].replace('operating','1',inplace = True)"
   ]
  },
  {
   "cell_type": "code",
   "execution_count": 74,
   "metadata": {},
   "outputs": [],
   "source": [
    "df['funding_rounds'].fillna('1',inplace=True)"
   ]
  },
  {
   "cell_type": "code",
   "execution_count": 75,
   "metadata": {},
   "outputs": [
    {
     "data": {
      "text/plain": [
       "array(['1', '5', '2', '3', '6', '4', '11', '7', '10', '8', '12', '14',\n",
       "       '9', '17', '16', '13', '15', '1032', '19', '18'], dtype=object)"
      ]
     },
     "execution_count": 75,
     "metadata": {},
     "output_type": "execute_result"
    }
   ],
   "source": [
    "df['funding_rounds'].unique()"
   ]
  },
  {
   "cell_type": "code",
   "execution_count": 76,
   "metadata": {},
   "outputs": [],
   "source": [
    "df['funding_rounds'] = df['funding_rounds'].apply(pd.to_numeric, errors='coerce')"
   ]
  },
  {
   "cell_type": "code",
   "execution_count": 128,
   "metadata": {},
   "outputs": [
    {
     "data": {
      "text/plain": [
       "ID                         int64\n",
       "comp_name                 object\n",
       "website                   object\n",
       "op_status                  int32\n",
       "domain                     int32\n",
       "founded_on                object\n",
       "hq_country_code            int32\n",
       "hq_state_code              int32\n",
       "hq_region                  int32\n",
       "hq_city                   object\n",
       "total_funding_usd        float64\n",
       "funding_rounds             int64\n",
       "first_funding_date        object\n",
       "last_funding_date         object\n",
       "num_investors              int64\n",
       "funding_duration           int64\n",
       "first_funding_utc        float64\n",
       "last_funding_utc         float64\n",
       "successful_investment      int64\n",
       "dtype: object"
      ]
     },
     "execution_count": 128,
     "metadata": {},
     "output_type": "execute_result"
    }
   ],
   "source": [
    "df.dtypes"
   ]
  },
  {
   "cell_type": "code",
   "execution_count": 78,
   "metadata": {},
   "outputs": [
    {
     "data": {
      "text/plain": [
       "array(['6820000', nan, '165778', ..., '29243184.4131357', '54948',\n",
       "       '64600000'], dtype=object)"
      ]
     },
     "execution_count": 78,
     "metadata": {},
     "output_type": "execute_result"
    }
   ],
   "source": [
    "df['total_funding_usd'].unique()"
   ]
  },
  {
   "cell_type": "code",
   "execution_count": 79,
   "metadata": {},
   "outputs": [
    {
     "data": {
      "text/plain": [
       "1000000             620\n",
       "40000               554\n",
       "2000000             471\n",
       "10000000            469\n",
       "500000              430\n",
       "5000000             414\n",
       "3000000             372\n",
       "1500000             358\n",
       "100000              356\n",
       "50000               332\n",
       "25000               324\n",
       "4000000             305\n",
       "20000               274\n",
       "6000000             272\n",
       "20000000            258\n",
       "15000000            246\n",
       "250000              233\n",
       "2500000             219\n",
       "7000000             188\n",
       "8000000             185\n",
       "12000000            181\n",
       "200000              171\n",
       "150000              168\n",
       "30000000            157\n",
       "1200000             155\n",
       "300000              154\n",
       "25000000            141\n",
       "3500000             137\n",
       "120000              133\n",
       "9000000             129\n",
       "                   ... \n",
       "85381111              1\n",
       "10293718              1\n",
       "10710000              1\n",
       "9309071.62962417      1\n",
       "1250632               1\n",
       "18093000              1\n",
       "5124996               1\n",
       "25795004              1\n",
       "1244661.10413519      1\n",
       "108391875             1\n",
       "17050000              1\n",
       "7658779.53398283      1\n",
       "1503411               1\n",
       "10001228              1\n",
       "243424047             1\n",
       "617000                1\n",
       "88731                 1\n",
       "212550                1\n",
       "29866459              1\n",
       "36682695              1\n",
       "15196305              1\n",
       "992514                1\n",
       "76500                 1\n",
       "1413319               1\n",
       "73360292              1\n",
       "10529998              1\n",
       "45035988              1\n",
       "7320644               1\n",
       "3378194               1\n",
       "299500000             1\n",
       "Name: total_funding_usd, Length: 12307, dtype: int64"
      ]
     },
     "execution_count": 79,
     "metadata": {},
     "output_type": "execute_result"
    }
   ],
   "source": [
    "df['total_funding_usd'].value_counts()"
   ]
  },
  {
   "cell_type": "code",
   "execution_count": 83,
   "metadata": {},
   "outputs": [],
   "source": [
    "df['total_funding_usd'].fillna('0',inplace = True)"
   ]
  },
  {
   "cell_type": "code",
   "execution_count": 127,
   "metadata": {},
   "outputs": [],
   "source": [
    "df['total_funding_usd'] = df['total_funding_usd'].apply(pd.to_numeric, errors='coerce')"
   ]
  },
  {
   "cell_type": "code",
   "execution_count": 84,
   "metadata": {},
   "outputs": [
    {
     "data": {
      "text/plain": [
       "ID                           0\n",
       "comp_name                    0\n",
       "website                   2467\n",
       "op_status                    0\n",
       "domain                    2206\n",
       "founded_on               10214\n",
       "hq_country_code           4514\n",
       "hq_state_code             5590\n",
       "hq_region                 5248\n",
       "hq_city                   5246\n",
       "total_funding_usd            0\n",
       "funding_rounds               0\n",
       "first_funding_date           0\n",
       "last_funding_date            0\n",
       "num_investors                0\n",
       "funding_duration             0\n",
       "first_funding_utc            0\n",
       "last_funding_utc             0\n",
       "successful_investment        0\n",
       "dtype: int64"
      ]
     },
     "execution_count": 84,
     "metadata": {},
     "output_type": "execute_result"
    }
   ],
   "source": [
    "df.isna().sum()"
   ]
  },
  {
   "cell_type": "code",
   "execution_count": 85,
   "metadata": {},
   "outputs": [
    {
     "data": {
      "text/plain": [
       "array(['closed', 'acquired', 'operating', 'ipo',\n",
       "       ' http//www.dreamlines.com.br ', 'http://www.fortodo.com',\n",
       "       'http://centers.fortodo.com'], dtype=object)"
      ]
     },
     "execution_count": 85,
     "metadata": {},
     "output_type": "execute_result"
    }
   ],
   "source": [
    "df['op_status'].unique()"
   ]
  },
  {
   "cell_type": "code",
   "execution_count": 86,
   "metadata": {},
   "outputs": [
    {
     "data": {
      "text/plain": [
       "operating                        31098\n",
       "acquired                          4464\n",
       "closed                            3799\n",
       "ipo                                849\n",
       "http://centers.fortodo.com           1\n",
       "http://www.fortodo.com               1\n",
       " http//www.dreamlines.com.br         1\n",
       "Name: op_status, dtype: int64"
      ]
     },
     "execution_count": 86,
     "metadata": {},
     "output_type": "execute_result"
    }
   ],
   "source": [
    "df['op_status'].value_counts()"
   ]
  },
  {
   "cell_type": "code",
   "execution_count": 87,
   "metadata": {},
   "outputs": [],
   "source": [
    "df['op_status'].replace(' http//www.dreamlines.com.br ','closed',inplace=True)\n",
    "df['op_status'].replace('http://www.fortodo.com','operating',inplace=True)\n",
    "df['op_status'].replace('http://centers.fortodo.com','acquired',inplace=True)"
   ]
  },
  {
   "cell_type": "code",
   "execution_count": 90,
   "metadata": {},
   "outputs": [],
   "source": [
    "from sklearn.preprocessing import LabelEncoder\n",
    "le = LabelEncoder()\n",
    "df['op_status']= le.fit_transform(df['op_status'])"
   ]
  },
  {
   "cell_type": "code",
   "execution_count": 92,
   "metadata": {},
   "outputs": [
    {
     "data": {
      "text/plain": [
       "array([1, 0, 3, 2], dtype=int64)"
      ]
     },
     "execution_count": 92,
     "metadata": {},
     "output_type": "execute_result"
    }
   ],
   "source": [
    "df['op_status'].unique()"
   ]
  },
  {
   "cell_type": "code",
   "execution_count": 93,
   "metadata": {},
   "outputs": [
    {
     "data": {
      "text/plain": [
       "3    31099\n",
       "0     4465\n",
       "1     3800\n",
       "2      849\n",
       "Name: op_status, dtype: int64"
      ]
     },
     "execution_count": 93,
     "metadata": {},
     "output_type": "execute_result"
    }
   ],
   "source": [
    "df['op_status'].value_counts()"
   ]
  },
  {
   "cell_type": "code",
   "execution_count": 94,
   "metadata": {},
   "outputs": [
    {
     "data": {
      "text/plain": [
       "ID                         int64\n",
       "comp_name                 object\n",
       "website                   object\n",
       "op_status                  int32\n",
       "domain                    object\n",
       "founded_on                object\n",
       "hq_country_code           object\n",
       "hq_state_code             object\n",
       "hq_region                 object\n",
       "hq_city                   object\n",
       "total_funding_usd         object\n",
       "funding_rounds             int64\n",
       "first_funding_date        object\n",
       "last_funding_date         object\n",
       "num_investors              int64\n",
       "funding_duration           int64\n",
       "first_funding_utc        float64\n",
       "last_funding_utc         float64\n",
       "successful_investment      int64\n",
       "dtype: object"
      ]
     },
     "execution_count": 94,
     "metadata": {},
     "output_type": "execute_result"
    }
   ],
   "source": [
    "df.dtypes"
   ]
  },
  {
   "cell_type": "code",
   "execution_count": 95,
   "metadata": {},
   "outputs": [
    {
     "data": {
      "text/plain": [
       "ID                           0\n",
       "comp_name                    0\n",
       "website                   2467\n",
       "op_status                    0\n",
       "domain                    2206\n",
       "founded_on               10214\n",
       "hq_country_code           4514\n",
       "hq_state_code             5590\n",
       "hq_region                 5248\n",
       "hq_city                   5246\n",
       "total_funding_usd            0\n",
       "funding_rounds               0\n",
       "first_funding_date           0\n",
       "last_funding_date            0\n",
       "num_investors                0\n",
       "funding_duration             0\n",
       "first_funding_utc            0\n",
       "last_funding_utc             0\n",
       "successful_investment        0\n",
       "dtype: int64"
      ]
     },
     "execution_count": 95,
     "metadata": {},
     "output_type": "execute_result"
    }
   ],
   "source": [
    "df.isna().sum()"
   ]
  },
  {
   "cell_type": "code",
   "execution_count": 97,
   "metadata": {},
   "outputs": [
    {
     "data": {
      "text/plain": [
       "Software                                                                                                                                                                                                                                                                                                                                                 2388\n",
       "Biotechnology                                                                                                                                                                                                                                                                                                                                            1883\n",
       "E-Commerce                                                                                                                                                                                                                                                                                                                                                831\n",
       "Mobile                                                                                                                                                                                                                                                                                                                                                    762\n",
       "Clean Technology                                                                                                                                                                                                                                                                                                                                          678\n",
       "Curated Web                                                                                                                                                                                                                                                                                                                                               677\n",
       "Enterprise Software                                                                                                                                                                                                                                                                                                                                       611\n",
       "Games                                                                                                                                                                                                                                                                                                                                                     595\n",
       "Health Care                                                                                                                                                                                                                                                                                                                                               590\n",
       "Hardware + Software                                                                                                                                                                                                                                                                                                                                       543\n",
       "Advertising                                                                                                                                                                                                                                                                                                                                               457\n",
       "Manufacturing                                                                                                                                                                                                                                                                                                                                             368\n",
       "Semiconductors                                                                                                                                                                                                                                                                                                                                            362\n",
       "Health and Wellness                                                                                                                                                                                                                                                                                                                                       334\n",
       "Education                                                                                                                                                                                                                                                                                                                                                 331\n",
       "Security                                                                                                                                                                                                                                                                                                                                                  287\n",
       "Finance                                                                                                                                                                                                                                                                                                                                                   276\n",
       "Web Hosting                                                                                                                                                                                                                                                                                                                                               270\n",
       "Social Media                                                                                                                                                                                                                                                                                                                                              248\n",
       "Analytics                                                                                                                                                                                                                                                                                                                                                 222\n",
       "Technology                                                                                                                                                                                                                                                                                                                                                171\n",
       "Consulting                                                                                                                                                                                                                                                                                                                                                168\n",
       "Fashion                                                                                                                                                                                                                                                                                                                                                   166\n",
       "Travel                                                                                                                                                                                                                                                                                                                                                    156\n",
       "Hospitality                                                                                                                                                                                                                                                                                                                                               153\n",
       "Internet                                                                                                                                                                                                                                                                                                                                                  141\n",
       "News                                                                                                                                                                                                                                                                                                                                                      127\n",
       "Messaging                                                                                                                                                                                                                                                                                                                                                 126\n",
       "Real Estate                                                                                                                                                                                                                                                                                                                                               126\n",
       "Biotechnology|Health Diagnostics                                                                                                                                                                                                                                                                                                                          126\n",
       "                                                                                                                                                                                                                                                                                                                                                         ... \n",
       "Credit|Mobile                                                                                                                                                                                                                                                                                                                                               1\n",
       "Automotive|Collaboration|CRM|Email|Lead Management|Project Management|Public Relations|Task Management|Tracking                                                                                                                                                                                                                                             1\n",
       "E-Commerce|Fashion|Retail|Subscription Businesses                                                                                                                                                                                                                                                                                                           1\n",
       "Business Services|Market Research|Search Marketing                                                                                                                                                                                                                                                                                                          1\n",
       "Architecture|Design|Green                                                                                                                                                                                                                                                                                                                                   1\n",
       "Analytics|Human Resources|SaaS                                                                                                                                                                                                                                                                                                                              1\n",
       "Data Integration|Employer Benefits Programs|Health and Insurance|Human Resources|Software Compliance                                                                                                                                                                                                                                                        1\n",
       "Entertainment|Internet|Online Gaming                                                                                                                                                                                                                                                                                                                        1\n",
       "E-Commerce|E-Commerce Platforms|Lead Generation|Online Shopping                                                                                                                                                                                                                                                                                             1\n",
       "Government Innovation|Local|Mobile|Real Estate                                                                                                                                                                                                                                                                                                              1\n",
       "Automotive|Business Services|Technology                                                                                                                                                                                                                                                                                                                     1\n",
       "Clean Technology|Internet of Things|Mobile|Renewable Energies                                                                                                                                                                                                                                                                                               1\n",
       "Curated Web|Finance|Identity                                                                                                                                                                                                                                                                                                                                1\n",
       "Clean Technology|Energy|New Product Development                                                                                                                                                                                                                                                                                                             1\n",
       "Databases|Real Time|Software                                                                                                                                                                                                                                                                                                                                1\n",
       "Consumer Goods|Non Profit|Organic                                                                                                                                                                                                                                                                                                                           1\n",
       "Billing|Curated Web|Mobile|Mobile Payments|Personal Finance                                                                                                                                                                                                                                                                                                 1\n",
       "Apps|Identity|Local|Social Media                                                                                                                                                                                                                                                                                                                            1\n",
       "Enterprise Software|Natural Language Processing|Search|Visualization                                                                                                                                                                                                                                                                                        1\n",
       "Android|Apps|Bridging Online and Offline|Home Decor|Home & Garden|Home Renovation|Interior Design|iOS|Landscaping|Local|Local Advertising|Local Based Services|Marketplaces|Mobile Search|Mobile Social|Mobile Video|Online Scheduling|Plumbers|Professional Services|Real Time|Reviews and Recommendations|Service Providers|Social + Mobile + Local       1\n",
       "Comparison Shopping|Events                                                                                                                                                                                                                                                                                                                                  1\n",
       "Analytics|E-Commerce|Supply Chain Management                                                                                                                                                                                                                                                                                                                1\n",
       "Agriculture|Financial Services|Startups                                                                                                                                                                                                                                                                                                                     1\n",
       "Analytics|Computers|Enterprise Software                                                                                                                                                                                                                                                                                                                     1\n",
       "Certification Test|Enterprise Software|Linux|Skill Assessment|Training                                                                                                                                                                                                                                                                                      1\n",
       "Advertising|Internet Marketing|Search Marketing                                                                                                                                                                                                                                                                                                             1\n",
       "Crowdfunding|Finance|Marketing Automation                                                                                                                                                                                                                                                                                                                   1\n",
       "Energy Management|Information Technology                                                                                                                                                                                                                                                                                                                    1\n",
       "Curated Web|Lead Generation|Social Media|Social Media Marketing|Software                                                                                                                                                                                                                                                                                    1\n",
       "Apps|Cloud Computing|Games|Mobile|Portals                                                                                                                                                                                                                                                                                                                   1\n",
       "Name: domain, Length: 17647, dtype: int64"
      ]
     },
     "execution_count": 97,
     "metadata": {},
     "output_type": "execute_result"
    }
   ],
   "source": [
    "df['domain'].value_counts()"
   ]
  },
  {
   "cell_type": "code",
   "execution_count": 98,
   "metadata": {},
   "outputs": [],
   "source": [
    "df['domain'].fillna(\"Software\", inplace = True)"
   ]
  },
  {
   "cell_type": "code",
   "execution_count": 99,
   "metadata": {},
   "outputs": [],
   "source": [
    "df['domain']= le.fit_transform(df['domain'])"
   ]
  },
  {
   "cell_type": "code",
   "execution_count": 100,
   "metadata": {},
   "outputs": [
    {
     "data": {
      "text/plain": [
       "0"
      ]
     },
     "execution_count": 100,
     "metadata": {},
     "output_type": "execute_result"
    }
   ],
   "source": [
    "df['domain'].isna().sum()"
   ]
  },
  {
   "cell_type": "code",
   "execution_count": 102,
   "metadata": {},
   "outputs": [
    {
     "data": {
      "text/plain": [
       "dtype('int32')"
      ]
     },
     "execution_count": 102,
     "metadata": {},
     "output_type": "execute_result"
    }
   ],
   "source": [
    "df['domain'].dtypes"
   ]
  },
  {
   "cell_type": "code",
   "execution_count": 103,
   "metadata": {},
   "outputs": [
    {
     "data": {
      "text/plain": [
       "array([16580, 12292,  4780, ..., 14271,  2856, 11444], dtype=int64)"
      ]
     },
     "execution_count": 103,
     "metadata": {},
     "output_type": "execute_result"
    }
   ],
   "source": [
    "df['domain'].unique()"
   ]
  },
  {
   "cell_type": "code",
   "execution_count": 104,
   "metadata": {},
   "outputs": [
    {
     "data": {
      "text/plain": [
       "17405    4594\n",
       "5375     1883\n",
       "11122     831\n",
       "16190     762\n",
       "6769      678\n",
       "9361      677\n",
       "12514     611\n",
       "13891     595\n",
       "14356     590\n",
       "14218     543\n",
       "385       457\n",
       "15872     368\n",
       "17232     362\n",
       "14571     334\n",
       "11890     331\n",
       "17210     287\n",
       "13420     276\n",
       "17579     270\n",
       "17350     248\n",
       "1739      222\n",
       "17497     171\n",
       "8191      168\n",
       "13285     166\n",
       "17539     156\n",
       "14803     153\n",
       "15284     141\n",
       "16674     127\n",
       "17029     126\n",
       "5468      126\n",
       "16134     126\n",
       "         ... \n",
       "9808        1\n",
       "5750        1\n",
       "3701        1\n",
       "1652        1\n",
       "15987       1\n",
       "13938       1\n",
       "11889       1\n",
       "9840        1\n",
       "7767        1\n",
       "5718        1\n",
       "3669        1\n",
       "1620        1\n",
       "15955       1\n",
       "13906       1\n",
       "7735        1\n",
       "7671        1\n",
       "5686        1\n",
       "3637        1\n",
       "1588        1\n",
       "15923       1\n",
       "13874       1\n",
       "11825       1\n",
       "9776        1\n",
       "5654        1\n",
       "1556        1\n",
       "15891       1\n",
       "13842       1\n",
       "11793       1\n",
       "9744        1\n",
       "0           1\n",
       "Name: domain, Length: 17647, dtype: int64"
      ]
     },
     "execution_count": 104,
     "metadata": {},
     "output_type": "execute_result"
    }
   ],
   "source": [
    "df['domain'].value_counts()"
   ]
  },
  {
   "cell_type": "code",
   "execution_count": 105,
   "metadata": {},
   "outputs": [
    {
     "data": {
      "text/plain": [
       "ID                           0\n",
       "comp_name                    0\n",
       "website                   2467\n",
       "op_status                    0\n",
       "domain                       0\n",
       "founded_on               10214\n",
       "hq_country_code           4514\n",
       "hq_state_code             5590\n",
       "hq_region                 5248\n",
       "hq_city                   5246\n",
       "total_funding_usd            0\n",
       "funding_rounds               0\n",
       "first_funding_date           0\n",
       "last_funding_date            0\n",
       "num_investors                0\n",
       "funding_duration             0\n",
       "first_funding_utc            0\n",
       "last_funding_utc             0\n",
       "successful_investment        0\n",
       "dtype: int64"
      ]
     },
     "execution_count": 105,
     "metadata": {},
     "output_type": "execute_result"
    }
   ],
   "source": [
    "df.isna().sum()"
   ]
  },
  {
   "cell_type": "code",
   "execution_count": 107,
   "metadata": {},
   "outputs": [
    {
     "data": {
      "text/plain": [
       "array(['GBR', 'USA', 'JPN', 'ISR', nan, 'RUS', 'IND', 'CHN', 'FRA', 'NOR',\n",
       "       'CZE', 'IRL', 'MYS', 'NLD', 'BRA', 'CAN', 'DEU', 'CHE', 'SGP',\n",
       "       'BEL', 'LBN', 'ESP', 'ITA', 'KHM', 'SWE', 'KOR', 'SAU', 'SVK',\n",
       "       'DNK', 'TWN', 'CHL', 'AUS', 'VNM', 'LVA', 'THA', 'MEX', 'FIN',\n",
       "       'ROM', 'ARG', 'ARM', 'PRT', 'LTU', 'GRC', 'POL', 'COL', 'JOR',\n",
       "       'BGD', 'HUN', 'PHL', 'HKG', 'AUT', 'IDN', 'SEN', 'MUS', 'ARE',\n",
       "       'EST', 'PER', 'BGR', 'KAZ', 'LUX', 'URY', 'GEO', 'ZAF', 'TAN',\n",
       "       'TUR', 'NZL', 'UKR', 'ISL', 'BLM', 'SVN', 'PAK', 'TTO', 'GTM',\n",
       "       'NGA', 'BHR', 'GHA', 'EGY', 'KEN', 'CYP', 'VEN', 'AZE', 'PSE',\n",
       "       'ZMB', 'MCO', 'MKD', 'UGA', ' http://www.dreamlines.ru ', 'CYM',\n",
       "       'MAR', 'SRB', 'JAM', 'BMU', 'MNE', 'GGY', 'HRV', 'MOZ', 'ZWE',\n",
       "       'MLT', 'HND', 'PAN', 'TGO', 'CRI', 'GRD', 'BWA', 'GIB', 'KNA',\n",
       "       'LKA', 'NIC', '2001-10-01', 'BRN', 'PRI', 'LAO', 'SLV', 'BLR',\n",
       "       'RWA', 'LIE', 'ECU', 'BAH', 'MMR', '2005-01-01', 'NPL', 'PRY',\n",
       "       'TUN', 'CMR', 'ALB', 'MDA', 'MAF'], dtype=object)"
      ]
     },
     "execution_count": 107,
     "metadata": {},
     "output_type": "execute_result"
    }
   ],
   "source": [
    "df['hq_country_code'].unique()"
   ]
  },
  {
   "cell_type": "code",
   "execution_count": 108,
   "metadata": {},
   "outputs": [
    {
     "data": {
      "text/plain": [
       "USA                           20728\n",
       "GBR                            2559\n",
       "CHN                            1243\n",
       "IND                            1113\n",
       "CAN                            1030\n",
       "FRA                             841\n",
       "DEU                             823\n",
       "ISR                             688\n",
       "ESP                             508\n",
       "SWE                             331\n",
       "JPN                             321\n",
       "RUS                             320\n",
       "NLD                             318\n",
       "IRL                             312\n",
       "SGP                             308\n",
       "BRA                             303\n",
       "CHL                             284\n",
       "ITA                             276\n",
       "AUS                             262\n",
       "KOR                             241\n",
       "DNK                             235\n",
       "CHE                             210\n",
       "FIN                             200\n",
       "ARG                             145\n",
       "HKG                             143\n",
       "TUR                             119\n",
       "BEL                             117\n",
       "NOR                             100\n",
       "AUT                              99\n",
       "POL                              92\n",
       "                              ...  \n",
       "LAO                               2\n",
       "KNA                               1\n",
       " http://www.dreamlines.ru         1\n",
       "JAM                               1\n",
       "BWA                               1\n",
       "BRN                               1\n",
       "GEO                               1\n",
       "ZWE                               1\n",
       "NIC                               1\n",
       "MAF                               1\n",
       "GIB                               1\n",
       "2005-01-01                        1\n",
       "MAR                               1\n",
       "2001-10-01                        1\n",
       "ALB                               1\n",
       "BLM                               1\n",
       "MDA                               1\n",
       "KAZ                               1\n",
       "TGO                               1\n",
       "GRD                               1\n",
       "LIE                               1\n",
       "BLR                               1\n",
       "PRY                               1\n",
       "SEN                               1\n",
       "MNE                               1\n",
       "NPL                               1\n",
       "GGY                               1\n",
       "HND                               1\n",
       "CMR                               1\n",
       "MCO                               1\n",
       "Name: hq_country_code, Length: 126, dtype: int64"
      ]
     },
     "execution_count": 108,
     "metadata": {},
     "output_type": "execute_result"
    }
   ],
   "source": [
    "df['hq_country_code'].value_counts()"
   ]
  },
  {
   "cell_type": "code",
   "execution_count": 109,
   "metadata": {},
   "outputs": [],
   "source": [
    "df['hq_country_code'].replace(\" http://www.dreamlines.ru \",\"RUS\",inplace=True)\n",
    "df['hq_country_code'].replace(\"2001-10-01\",\"CHN\",inplace=True)\n",
    "df['hq_country_code'].replace(\"2005-01-01\",\"IND\",inplace=True)\n",
    "df['hq_country_code'].fillna(\"USA\", inplace = True)"
   ]
  },
  {
   "cell_type": "code",
   "execution_count": 110,
   "metadata": {},
   "outputs": [
    {
     "data": {
      "text/plain": [
       "array(['GBR', 'USA', 'JPN', 'ISR', 'RUS', 'IND', 'CHN', 'FRA', 'NOR',\n",
       "       'CZE', 'IRL', 'MYS', 'NLD', 'BRA', 'CAN', 'DEU', 'CHE', 'SGP',\n",
       "       'BEL', 'LBN', 'ESP', 'ITA', 'KHM', 'SWE', 'KOR', 'SAU', 'SVK',\n",
       "       'DNK', 'TWN', 'CHL', 'AUS', 'VNM', 'LVA', 'THA', 'MEX', 'FIN',\n",
       "       'ROM', 'ARG', 'ARM', 'PRT', 'LTU', 'GRC', 'POL', 'COL', 'JOR',\n",
       "       'BGD', 'HUN', 'PHL', 'HKG', 'AUT', 'IDN', 'SEN', 'MUS', 'ARE',\n",
       "       'EST', 'PER', 'BGR', 'KAZ', 'LUX', 'URY', 'GEO', 'ZAF', 'TAN',\n",
       "       'TUR', 'NZL', 'UKR', 'ISL', 'BLM', 'SVN', 'PAK', 'TTO', 'GTM',\n",
       "       'NGA', 'BHR', 'GHA', 'EGY', 'KEN', 'CYP', 'VEN', 'AZE', 'PSE',\n",
       "       'ZMB', 'MCO', 'MKD', 'UGA', 'CYM', 'MAR', 'SRB', 'JAM', 'BMU',\n",
       "       'MNE', 'GGY', 'HRV', 'MOZ', 'ZWE', 'MLT', 'HND', 'PAN', 'TGO',\n",
       "       'CRI', 'GRD', 'BWA', 'GIB', 'KNA', 'LKA', 'NIC', 'BRN', 'PRI',\n",
       "       'LAO', 'SLV', 'BLR', 'RWA', 'LIE', 'ECU', 'BAH', 'MMR', 'NPL',\n",
       "       'PRY', 'TUN', 'CMR', 'ALB', 'MDA', 'MAF'], dtype=object)"
      ]
     },
     "execution_count": 110,
     "metadata": {},
     "output_type": "execute_result"
    }
   ],
   "source": [
    "df['hq_country_code'].unique()"
   ]
  },
  {
   "cell_type": "code",
   "execution_count": 114,
   "metadata": {},
   "outputs": [
    {
     "data": {
      "text/plain": [
       "ID                           0\n",
       "comp_name                    0\n",
       "website                   2467\n",
       "op_status                    0\n",
       "domain                       0\n",
       "founded_on               10214\n",
       "hq_country_code              0\n",
       "hq_state_code             5590\n",
       "hq_region                 5248\n",
       "hq_city                   5246\n",
       "total_funding_usd            0\n",
       "funding_rounds               0\n",
       "first_funding_date           0\n",
       "last_funding_date            0\n",
       "num_investors                0\n",
       "funding_duration             0\n",
       "first_funding_utc            0\n",
       "last_funding_utc             0\n",
       "successful_investment        0\n",
       "dtype: int64"
      ]
     },
     "execution_count": 114,
     "metadata": {},
     "output_type": "execute_result"
    }
   ],
   "source": [
    "df.isna().sum()"
   ]
  },
  {
   "cell_type": "code",
   "execution_count": 115,
   "metadata": {},
   "outputs": [
    {
     "data": {
      "text/plain": [
       "ID                         int64\n",
       "comp_name                 object\n",
       "website                   object\n",
       "op_status                  int32\n",
       "domain                     int32\n",
       "founded_on                object\n",
       "hq_country_code            int32\n",
       "hq_state_code             object\n",
       "hq_region                 object\n",
       "hq_city                   object\n",
       "total_funding_usd         object\n",
       "funding_rounds             int64\n",
       "first_funding_date        object\n",
       "last_funding_date         object\n",
       "num_investors              int64\n",
       "funding_duration           int64\n",
       "first_funding_utc        float64\n",
       "last_funding_utc         float64\n",
       "successful_investment      int64\n",
       "dtype: object"
      ]
     },
     "execution_count": 115,
     "metadata": {},
     "output_type": "execute_result"
    }
   ],
   "source": [
    "df.dtypes"
   ]
  },
  {
   "cell_type": "code",
   "execution_count": 113,
   "metadata": {},
   "outputs": [],
   "source": [
    "df['hq_country_code']= le.fit_transform(df['hq_country_code'])"
   ]
  },
  {
   "cell_type": "code",
   "execution_count": 116,
   "metadata": {},
   "outputs": [
    {
     "data": {
      "text/plain": [
       "array(['M4', 'NY', 'PA', 'CA', 'WA', 'L3', 'IN', '40', '5', nan, 'FL',\n",
       "       '48', '19', '22', 'A8', '13', 'I2', '4', 'MA', 'TX', 'TN', 'H9',\n",
       "       '7', '27', 'ON', '10', 'MI', 'CT', 'BC', '1', 'B9', 'CO', 'MD',\n",
       "       'UT', '16', '2', 'AZ', 'AL', '60', 'OH', '23', 'B4', 'IL', 'SC',\n",
       "       'DE', '56', 'KY', '12', '29', '11', 'E6', 'DC', '21', '26', 'H3',\n",
       "       'NC', 'MB', '30', 'OR', 'H2', 'AB', 'H4', '6', '14', '87', '17',\n",
       "       'B7', 'KS', '24', 'QC', '25', 'P6', 'C8', '51', 'K2', 'R3', 'VA',\n",
       "       '31', 'E4', 'NH', 'NJ', 'A9', 'MN', '3', 'N5', 'NL', 'K7', '9',\n",
       "       'V2', 'D4', 'U8', 'G8', '15', 'Q4', 'MO', '34', 'X1', '52', '28',\n",
       "       'GA', 'H8', 'HI', '20', 'OK', '65', '77', '81', 'Z7', 'NV', 'D9',\n",
       "       'M2', 'WI', '8', '97', 'L9', 'RI', 'VT', '32', '36', 'C5', 'X5',\n",
       "       'ME', '78', '18', 'C3', 'NE', 'V7', 'P9', 'NM', 'A2', 'I6', 'B8',\n",
       "       'N7', 'AK', 'P2', 'D7', 'Q2', '57', 'IA', '59', 'B3', 'SD', 'C9',\n",
       "       '61', 'I7', 'E5', 'F2', 'AR', 'W9', '35', 'WY', '46', 'E7', 'B5',\n",
       "       'NS', 'F7', 'T9', 'MT', 'J8', '42', 'P8', 'C7', '62', 'ID', 'P4',\n",
       "       'C1', 'L1', 'F8', 'E9', 'G2', '98', '73', 'C6', 'A7', 'J6', 'A6',\n",
       "       '54', 'V8', 'B6', 'P3', 'W1', 'Z3', '53', '71', 'Q5', 'I5', 'ND',\n",
       "       '41', 'LA', 'N2', 'X4', 'N1', 'F4', 'G5', 'A1', 'M9', '66', 'J7',\n",
       "       '33', '83', '55', 'D2', 'X3', 'R6', 'D3', 'E2', 'A5', 'K8', 'K3',\n",
       "       'U6', 'C2', 'A3', 'M3', '68', 'J1', 'K4', '88', 'V1', '37', '72',\n",
       "       'B1', '86', ' http://www.1000Kreuzfahrten.de ', '45', 'T6', 'Q3',\n",
       "       '99', 'Z1', 'G7', 'A4', 'D5', 'VI', 'D8', 'I9', 'H5', 'W5', '58',\n",
       "       'W4', 'Y6', 'J2', 'I4', 'WE', 'NB', '43', 'T5', 'U3', 'J9', 'V6',\n",
       "       'N4', 'SK', 'U1', 'E1', 'Y9', '38', 'F1', 'W6', '82', 'V5', 'USA',\n",
       "       'Y2', 'M5', 'MS', 'D6', 'Q1', 'L7', 'N3', 'G1', 'WV', 'W2', '89',\n",
       "       'H7', 'L6', '39', 'E8', 'F5', 'L8', 'J3', 'Y4', 'PE', 'W3', '79',\n",
       "       '47', 'E3', 'Y5', 'J5', '90', 'F9', 'B2', '44', 'O3', '50', 'M8',\n",
       "       'Q6', 'X2', 'Y1', '91'], dtype=object)"
      ]
     },
     "execution_count": 116,
     "metadata": {},
     "output_type": "execute_result"
    }
   ],
   "source": [
    "df['hq_state_code'].unique()"
   ]
  },
  {
   "cell_type": "code",
   "execution_count": 117,
   "metadata": {},
   "outputs": [],
   "source": [
    "df['hq_state_code'].replace(' http://www.1000Kreuzfahrten.de ','NY',inplace=True)\n",
    "df['hq_state_code'].fillna('NY', inplace = True)"
   ]
  },
  {
   "cell_type": "code",
   "execution_count": 118,
   "metadata": {},
   "outputs": [],
   "source": [
    "df['hq_state_code']= le.fit_transform(df['hq_state_code'])"
   ]
  },
  {
   "cell_type": "code",
   "execution_count": 125,
   "metadata": {},
   "outputs": [
    {
     "data": {
      "text/plain": [
       "ID                         int64\n",
       "comp_name                 object\n",
       "website                   object\n",
       "op_status                  int32\n",
       "domain                     int32\n",
       "founded_on                object\n",
       "hq_country_code            int32\n",
       "hq_state_code              int32\n",
       "hq_region                  int32\n",
       "hq_city                   object\n",
       "total_funding_usd         object\n",
       "funding_rounds             int64\n",
       "first_funding_date        object\n",
       "last_funding_date         object\n",
       "num_investors              int64\n",
       "funding_duration           int64\n",
       "first_funding_utc        float64\n",
       "last_funding_utc         float64\n",
       "successful_investment      int64\n",
       "dtype: object"
      ]
     },
     "execution_count": 125,
     "metadata": {},
     "output_type": "execute_result"
    }
   ],
   "source": [
    "df.dtypes"
   ]
  },
  {
   "cell_type": "code",
   "execution_count": 126,
   "metadata": {},
   "outputs": [
    {
     "data": {
      "text/plain": [
       "ID                           0\n",
       "comp_name                    0\n",
       "website                   2467\n",
       "op_status                    0\n",
       "domain                       0\n",
       "founded_on               10214\n",
       "hq_country_code              0\n",
       "hq_state_code                0\n",
       "hq_region                    0\n",
       "hq_city                   5246\n",
       "total_funding_usd            0\n",
       "funding_rounds               0\n",
       "first_funding_date           0\n",
       "last_funding_date            0\n",
       "num_investors                0\n",
       "funding_duration             0\n",
       "first_funding_utc            0\n",
       "last_funding_utc             0\n",
       "successful_investment        0\n",
       "dtype: int64"
      ]
     },
     "execution_count": 126,
     "metadata": {},
     "output_type": "execute_result"
    }
   ],
   "source": [
    "df.isna().sum()"
   ]
  },
  {
   "cell_type": "code",
   "execution_count": 120,
   "metadata": {},
   "outputs": [
    {
     "data": {
      "text/plain": [
       "array([192, 221, 233, 114, 275, 184, 167,  34,  43, 143,  42,  10,  14,\n",
       "        89,   4, 158,  33, 196, 252, 251, 156,  61,  19, 225,   1, 200,\n",
       "       116, 105,   0, 104, 115, 198, 258,   7,  11,  95,  93,  55, 223,\n",
       "        15,  99, 166, 245, 126,  50, 182,   3,  21,   2, 132, 125,  13,\n",
       "        18, 151, 212, 197,  23, 226, 150,  91, 152,  54,   5,  73,   8,\n",
       "       102, 181,  16, 241,  17, 230, 112,  45, 176, 242, 265,  24, 130,\n",
       "       215, 216,  90, 201,  22, 209, 217, 179,  76, 260, 119, 256, 148,\n",
       "         6, 238, 202,  27, 280,  46,  20, 149, 155, 157,  12, 224,  58,\n",
       "        65,  69, 293, 220, 124, 190, 277,  68,  79, 188, 244, 267,  25,\n",
       "        29, 109, 284, 199,  66,   9, 108, 214, 263, 232, 218,  83, 161,\n",
       "       103, 210,  92, 227, 122, 236,  51, 164,  53,  98, 246, 113,  56,\n",
       "       162, 131, 137,  94, 274,  28, 279,  40, 133, 100, 219, 140, 250,\n",
       "       204, 174,  36, 231, 111,  57, 165, 229, 106, 183, 141, 135, 145,\n",
       "        80,  64, 110,  88, 172,  87,  48, 264, 101, 228, 268, 292,  47,\n",
       "        62, 239, 160, 213,  35, 189, 206, 283, 205, 138, 146,  82, 195,\n",
       "        59, 173,  26,  71,  49, 117, 282, 243, 118, 128,  86, 180, 177,\n",
       "       255, 107,  84, 191,  60, 168, 178,  74, 259,  30,  63,  96,  72,\n",
       "        39, 249, 237,  81, 291, 147,  85, 120, 266, 123, 163, 153, 272,\n",
       "        52, 271, 289, 169, 159, 276, 211,  37, 248, 254, 175, 262, 208,\n",
       "       247, 253, 127, 290,  31, 136, 273,  70, 261, 257, 286, 193, 203,\n",
       "       121, 235, 186, 207, 144, 278, 269,  75, 154, 185,  32, 134, 139,\n",
       "       187, 170, 287, 234, 270,  67,  41, 129, 288, 171,  77, 142,  97,\n",
       "        38, 222,  44, 194, 240, 281, 285,  78], dtype=int64)"
      ]
     },
     "execution_count": 120,
     "metadata": {},
     "output_type": "execute_result"
    }
   ],
   "source": [
    "df['hq_state_code'].unique()"
   ]
  },
  {
   "cell_type": "code",
   "execution_count": 122,
   "metadata": {},
   "outputs": [
    {
     "data": {
      "text/plain": [
       "array(['London', 'Long Island', 'Pittsburgh', 'SF Bay Area', 'Seattle',\n",
       "       'Rotherham', nan, 'Tokyo', 'Tel Aviv', 'Tampa', 'Moscow',\n",
       "       'Bangalore', 'Beijing', 'Paris', 'Oslo', 'Manchester', 'Cork',\n",
       "       'Boston', 'Austin', 'MYS - Other', 'Memphis', 'Amsterdam',\n",
       "       'Sao Paulo', 'New York City', 'Toronto', 'CHN - Other', 'Detroit',\n",
       "       'Hartford', 'Vancouver', 'Frankfurt', 'CHE - Other', 'Lyon',\n",
       "       'San Diego', 'Denver', 'Washington, D.C.', 'Singapore', 'Brussels',\n",
       "       'Salt Lake City', 'New Delhi', 'Beirut', 'DEU - Other',\n",
       "       'Los Angeles', 'Phoenix', 'Birmingham', 'Valencia', 'Cleveland',\n",
       "       'Geneva', 'Shanghai', 'Lausanne', 'Lysaker', 'Nashville',\n",
       "       'GBR - Other', 'Chicago', 'Greenville - Spartanburg', 'CA - Other',\n",
       "       'FRA - Other', 'Wilmington, Delaware', 'Cincinnati', 'Barcelona',\n",
       "       'Lexington', 'Turin', 'Amersham', 'Phnom Penh', 'Cirencester',\n",
       "       'Hamburg', 'Rio de Janeiro', 'Stockholm', 'Leeds', 'Raleigh',\n",
       "       'Winnipeg', 'Shenzhen', 'Akron - Canton', 'Seoul', 'Bonn',\n",
       "       'Portland, Oregon', 'Dallas', 'SC - Other', 'Calgary', 'Leicester',\n",
       "       'NLD - Other', 'ITA - Other', 'Malmo', 'Madrid', 'Philadelphia',\n",
       "       'Jeddah', 'CZE - Other', 'Bratislava', 'Copenhagen', 'Bristol',\n",
       "       'KS - Other', 'Taiwan', 'Santiago', 'Zurich', 'Ivry-sur-seine',\n",
       "       'Pune', 'Melbourne', 'Columbus, Ohio', 'Ho Chi Minh', 'Montreal',\n",
       "       'Sydney', 'Riga', 'Haywards Heath', 'TN - Other', 'Palm Beaches',\n",
       "       'Malaga', 'Baltimore', 'TX - Other', 'Spokane', 'Belfast',\n",
       "       'Lansing', 'Anaheim', 'Bangkok', 'Preston', 'Richmond', 'Yucatan',\n",
       "       'Bundangdong', 'Manchester, New Hampshire', 'Newark', 'PA - Other',\n",
       "       'Rotterdam', 'Montpellier', 'Miami', 'Minneapolis', 'ISR - Other',\n",
       "       'Sunderland Bridge', \"St. John's\", 'Dayton', 'Mumbai', 'Dublin',\n",
       "       'Milan', 'Glasgow', 'Mexico City', 'Alexandria', 'Helsinki',\n",
       "       'Bucharest', 'Paignton', 'Edinburgh', 'MN - Other', 'MEX - Other',\n",
       "       'Quebec City', 'BRA - Other', 'Buenos Aires', 'Ulm', 'Guangzhou',\n",
       "       'Fresno', 'St. Louis', 'ESP - Other', 'Liverpool', 'Prague',\n",
       "       'Kolkata', 'Atlanta', 'Kuala Lumpur', 'Alicante', 'Buffalo',\n",
       "       'Ottawa', 'Frederiksberg', 'Leipzig', 'Berlin', 'IND - Other',\n",
       "       'Cologne', 'Honolulu', 'Roncade', 'Linkoping', 'Tulsa',\n",
       "       'Louisville', 'ARM - Other', 'Lisbon', 'Harlingen', 'Vilnius',\n",
       "       'Galway', 'ThessalonÃ\\xadki', 'Krakow', 'Bogota', 'Allentown',\n",
       "       'Amman', 'Netanya', 'Dhaka', 'Tucson', 'Budapest', 'Macclesfield',\n",
       "       'Hagerstown', 'Las Vegas', 'Lancaster', 'Manila', 'AUS - Other',\n",
       "       'Solihull', 'Oklahoma City', 'NOR - Other', 'Braunschweig',\n",
       "       'Kansas City', 'Napoli', 'Napa Valley', 'WI - Other', 'Houston',\n",
       "       'Hong Kong', 'Sheffield', 'Providence', 'Scranton', 'Graz',\n",
       "       'VT - Other', 'Utrecht', 'The Hague', 'Porto Alegre',\n",
       "       'Ft. Lauderdale', 'Dresden', 'MA - Other', 'Haryana', 'Antwerp',\n",
       "       'Chester', 'Indianapolis', 'Cardiff', 'Vellore', 'Jakarta',\n",
       "       'ME - Other', 'Burnaby', 'Martinsried', 'Munich', 'Sacramento',\n",
       "       'SEN - Other', 'JPN - Other', 'Warsaw', 'Milwaukee', 'Vienna',\n",
       "       'Worcester', 'Rome', 'Springfield, Illinois', 'Edmonton',\n",
       "       'Seongnam', 'Grand Rapids', 'IRL - Other', 'New Bedford',\n",
       "       'Bordeaux', 'Chengdu', 'Oulu', 'Yokohama', 'Logrono', 'Rockford',\n",
       "       'Omaha', 'Delhi', 'Bakersfield', 'Mauritius', 'Albuquerque',\n",
       "       'Chattanooga', 'Incheon', 'Basel', 'OH - Other', 'Madison',\n",
       "       'Shandong', 'San Antonio', 'Fuzhou Shi', 'Ancona', 'Nagpur',\n",
       "       'Wuhan', 'Riyadh', 'Green Bay', 'Salford', 'Hyderabad',\n",
       "       'CO - Other', 'Dubai', 'NY - Other', 'Fortaleza', 'Dusseldrof',\n",
       "       'Perth', 'Huddersfield', 'Cordoba', 'CT - Other', 'Haifa',\n",
       "       'AK - Other', 'Warrington', 'Beaconsfield', 'Stourbridge',\n",
       "       'Stuttgart', 'Youngstown', 'Wokingham', 'Kaunas',\n",
       "       'Sarasota - Bradenton', 'Montpelier', 'Des Moines',\n",
       "       'San Sebastian ', 'Xiamen', 'Lima', 'IA - Other', 'Tallinn',\n",
       "       'PRT - Other', 'Groningen', 'Toulouse', 'Vadodara', 'KAZ - Other',\n",
       "       'Sioux Falls', 'Esch-sur-alzette', 'Gothenburg', 'Montevideo',\n",
       "       'South Bend', 'Osaka', 'Tbilisi', 'Great Missenden', 'Sofia',\n",
       "       'Venice', 'Jaipur', 'RUS - Other', 'HKG - Other', 'Montreuil',\n",
       "       'Mannheim', 'Adelaide', 'AL - Other', 'Harrisburg', 'Gateshead',\n",
       "       'Pozuelo De Alarcon', 'Campinas', 'Monterrey', 'Cape Town',\n",
       "       'Ahmedabad', 'DNK - Other', 'Jena', 'Orlando',\n",
       "       \"Florida's Space Coast\", 'Marseille', 'Syracuse', 'Exeter',\n",
       "       'Atlantic City', 'TZA - Other', 'Bochum', 'Jacksonville',\n",
       "       'Little Rock', 'Livingston', 'Charlotte', 'Indore', 'NJ - Other',\n",
       "       'WY - Other', 'GRC - Other', 'Istanbul', 'NZL - Other', 'Auckland',\n",
       "       'MD - Other', 'Nantes', 'Villeurbanne', 'VA - Other', 'Medellin',\n",
       "       'Orange County, California', 'Fredericton', 'Halifax', 'Chennai',\n",
       "       'NoÃ¡in', 'Vail', 'Hanoi', 'Asheville', 'Missoula', 'Brasilia',\n",
       "       'Billings', 'Santa Barbara', 'Bremen', 'Dubendorf', 'Nottingham',\n",
       "       'Peoria', 'MO - Other', 'Chemnitz', 'Cape Cod', 'Nice', 'Reyjavik',\n",
       "       'QC - Other', 'Saint-laurent', 'Huntsville', 'Lulea',\n",
       "       'Charleston, South Carolina', 'Kiev', 'Cadiz', 'Carthage',\n",
       "       'Newcastle', 'Tianjin', 'BLM - Other', 'Coventry', 'Ljubljana',\n",
       "       'Phuket', 'Boise', 'Columbus, Georgia', 'Portland, Maine',\n",
       "       'Strasbourg', 'Stavanger', 'Wan Chai', 'Knoxville', 'Regensburg',\n",
       "       'Welwyn Garden City', 'Hangzhou', 'ItÃ¡', 'Daresbury',\n",
       "       'TUR - Other', 'Fayetteville', 'Wellington', 'Limerick',\n",
       "       'Grenoble', 'PAK - Other', 'Kalamazoo', 'Naples, Florida',\n",
       "       'Curitiba', 'Leudelange', 'Innsbruck', 'Eugene', 'Alcoy',\n",
       "       'Cordoba, ARG', 'Clermont-ferrand', 'Kazan', 'Kuopio',\n",
       "       'Rochester, New York', 'TTO - Other', 'Fort Wayne', 'Malakoff',\n",
       "       'Vejle', 'HUN - Other', 'IN - Other', 'Reno - Sparks', 'Tampere',\n",
       "       'Bellshill', 'Herlev', 'Trondheim', 'AUT - Other', 'Etobicoke',\n",
       "       'Guatemala City', 'Lugano', 'Bologna', 'Lagos', 'Turku',\n",
       "       'AR - Other', 'Bahrain', 'Chongqing', 'Sundsvall', 'Skien',\n",
       "       'Accra', 'Crook Of Devon', 'NC - Other', 'MI - Other', 'Porto',\n",
       "       'Burleigh Heads', 'Cheltenham', 'Toledo', 'Wuxi', 'Flint', 'Perm',\n",
       "       'BEL - Other', 'Sutton Coldfield', 'Tralee', 'Frensham',\n",
       "       'Middlesbrough', 'Anchorage', 'Fargo', 'Guangdong', 'Baton Rouge',\n",
       "       'Stockport', 'Caerphilly', 'Chiasso', 'BC - Other', 'Aarhus',\n",
       "       'Stanmore', 'Ã‡an', 'Fribourg', 'Kent', 'Portsmouth',\n",
       "       'Cedar Rapids', 'ND - Other', 'Albany, New York', 'KY - Other',\n",
       "       'CYP - Other', 'Colorado Springs', 'Landshut', 'COL - Other',\n",
       "       'Cairo', 'Snodland', 'EST - Other', 'SWE - Other', 'Igualada',\n",
       "       'FL - Other', 'Trowbridge', 'Elmira', 'St. Petersburg', 'Nairobi',\n",
       "       'Ely', 'Sandnes', 'Nanjing', 'Harrogate',\n",
       "       'Columbia, South Carolina', 'NGA - Other', 'Baar', 'AZE - Other',\n",
       "       'Odense', 'Verona', 'Dartmouth', 'ZMB - Other', 'Katowice',\n",
       "       'Mendoza, ARG', 'Lahore', 'Brisbane', 'Jinan', 'PHL - Other',\n",
       "       'IDN - Other', 'Oxton', 'Johannesburg', 'Valladolid', 'Derby',\n",
       "       'Rennes', 'Danderyd', 'Bridgend', 'Fort Collins', 'Dover',\n",
       "       'Cluj-Napoca', 'Coleraine', 'Coimbatore', 'Roanoke', 'Alfreton',\n",
       "       'Trivandrum', 'Tallahassee', 'Hanover', 'Eindhoven', 'LabÃ¨ge',\n",
       "       'Gardanne', 'FIN - Other', 'Ontario - Inland Empire',\n",
       "       'Garching Bei Munchen', 'New Orleans', 'Florence', 'WA - Other',\n",
       "       'Daytona Beach', 'Bhopal', 'Ilford', 'KOR - Other', 'Peterborough',\n",
       "       'Branson', 'Duluth', 'Recife', 'Newton-le-willows',\n",
       "       'Le Plessis-robinson', 'Borehamwood', 'Schlieren', 'Camborne',\n",
       "       'Fort Myers', 'Skopje', 'Athens', 'Davao', 'Manaus', 'ZAF - Other',\n",
       "       'Newbury', 'Nuneaton', 'Ankara', 'IL - Other', 'Shreveport',\n",
       "       'Topeka', 'Seville', 'Twickenham', 'Athens, Georgia', 'Zhengzhou',\n",
       "       'Plymouth', 'Pensacola', 'Lafayette, Louisiana', 'Penang',\n",
       "       'Dunfermline', 'Shenyang', 'Kampala', 'ID - Other', 'AB - Other',\n",
       "       'Fornebu', 'Wroclaw', 'Abuja', 'Causeway Bay', 'Royston',\n",
       "       'UT - Other', 'Girona', 'Taastrup', 'Moncton', 'NE - Other',\n",
       "       'Poznan', 'Bromsgrove', 'Thunder Bay', 'Kanata',\n",
       "       ' http://www.dreamlines.nl ', 'Cebu', 'Norfolk - Virginia Beach',\n",
       "       'Hilton Head Island', 'ARG - Other', 'Puteaux',\n",
       "       'Bolton Upon Dearne', 'Cayman Islands', 'Gainesville', 'Trenton',\n",
       "       'Herisau', 'Casablanca', 'York', 'Sacramento Valley',\n",
       "       'Thiruvananthapuram', 'Erlangen', 'Lappeenranta', 'Luxemburg',\n",
       "       'Heilbronn', 'San Luis Obispo', 'PER - Other', 'Iasi',\n",
       "       'NM - Other', 'Tewkesbury', 'Staines-upon-thames', 'Dortmund',\n",
       "       'Secunderabad', 'Swindon', 'SRB - Other', 'JAM - Other',\n",
       "       'Salem, Oregon', 'LA - Other', 'Canberra', 'Wolverhampton',\n",
       "       'Roubaix', 'POL - Other', 'GHA - Other', 'Carlisle',\n",
       "       'San SebastiÃ¡n De Los Reyes', 'Swansea', 'Halmstad', 'Goa',\n",
       "       'Surbiton', 'Palma De Mallorca', 'Gatineau', 'Linz', 'Aachen',\n",
       "       'EGY - Other', 'Clapiers', 'Norrkoping', 'Greensboro', 'Bermuda',\n",
       "       'Valby', 'Kelowna', 'Neuilly-sur-seine', 'Bath',\n",
       "       'Harrow On The Hill', 'West End', 'St. Cloud', 'MNE - Other',\n",
       "       'Ballerup', 'Ecublens', 'Kyoto', 'Myrtle Beach', 'Nuremberg',\n",
       "       'Rostock', 'GGY - Other', 'Terrassa', 'MaroÃºli', 'Holmes Chapel',\n",
       "       'Grand Junction', 'HRV - Other', 'Loughborough', 'Finchley',\n",
       "       'Starnberg', 'Bilbao', 'Durham', 'Naples', 'Cagliari', 'A Coruna',\n",
       "       'HÃ¸rsholm', 'Szczecin', 'Thane', 'Linlithgow', 'Ludhiana',\n",
       "       'Warwick', 'Ayr', 'Newport', 'Bhubaneswar', 'Freiburg',\n",
       "       'RI - Other', 'Bertrange', 'Osnabruck', 'SVN - Other',\n",
       "       'LVA - Other', 'MOZ - Other', 'Salisbury', 'Idaho Falls', 'Pessac',\n",
       "       'Sant Cugat Del VallÃ¨s', 'Jerusalem', 'Wimbledon', 'Guadalajara',\n",
       "       'Harare', 'ON - Other', 'Essen', 'Knutsford', 'Hubli',\n",
       "       'JyvÃ¤skylÃ¤', 'Boulogne', 'Belgrade', 'Kunshan', 'Palermo',\n",
       "       'Catania', 'GA - Other', 'Aldershot', 'Reggio Nell Emilia',\n",
       "       'HND - Other', 'Nyon', 'Aberdeen', 'LTU - Other', 'Panama City',\n",
       "       'Dundee', 'Firenze', 'Zagreb', 'Dornbirn', 'TGO - Other',\n",
       "       'Douglas', 'Stoke-on-trent', 'CÃ¡ceres', 'Leamington Spa',\n",
       "       'Saskatoon', 'Bradford', 'Bidart', 'Ismaning', 'Bismarck',\n",
       "       'CRI - Other', 'SD - Other',\n",
       "       'Wilmington - Cape Fear, North Carolina', 'Brossard',\n",
       "       'GRD - Other', 'Novosibirsk', 'GIB - Other', 'SK - Other',\n",
       "       'Zamudio', 'Karachi', 'Timisoara', 'Bozeman', 'Umea', 'Westmount',\n",
       "       'KNA - Other', 'Doncaster', 'Aix-en-provence',\n",
       "       'Halle An Der Saale', 'Tunbridge Wells', 'Springfield', 'Dunedin',\n",
       "       'Aalborg', 'Hainan', 'Sri Lanka', 'Sligo', 'Northampton',\n",
       "       'Sheung Wan', 'Jakarta Pusat', 'Winston-Salem', 'Traverse City',\n",
       "       'Christchurch', 'State College', 'Zaragoza', 'Stirling', 'Watford',\n",
       "       'Gdynia', 'Santa Cruz De Tenerife', 'NH - Other', 'Ã‰vry', 'Split',\n",
       "       'Farrington Gurney', 'Sittingbourne', 'Islamabad', 'Abu Dhabi',\n",
       "       'Magdeburg', 'CA', 'Wichita', 'Runcorn', 'Maui', 'Jounie',\n",
       "       'Hawaii - Big Island', 'DÃºn Laoghaire', 'Helena', 'Izmir',\n",
       "       'Orsay', 'Mysore', 'Cyprus', 'Orleans', 'Gdansk', 'Vantaa',\n",
       "       'BGR - Other', 'MS - Other', 'Granada', 'Coimbra', 'Brescia',\n",
       "       'Jonkoping', 'Zhuhai', 'Nizhniy Novgorod', 'Pisa', 'Yerevan',\n",
       "       'Salzburg', 'Foshan', 'Strassen', 'Alton Barnes',\n",
       "       \"Florida's Treasure Coast\", 'MUS - Other', 'Alcorcon',\n",
       "       'CHL - Other', 'Oldbury', 'Stockton-on-tees', 'Puerto Rico',\n",
       "       'KEN - Other', 'Brentford', 'LAO - Other', 'Tromso', 'Dki Jakarta',\n",
       "       'WV - Other', 'Weybridge', 'AllerÃ¸d', 'Eight Mile Plains',\n",
       "       'Murcia', 'NS - Other', 'Mangalore', 'Paisley', 'Reigate', 'Baku',\n",
       "       'Lachine', 'Kochi', 'Passau', 'Lyngby', 'Kassel', 'Luzern',\n",
       "       'Trento', 'Costa Rica', 'Cochin', 'Vijayawada', 'Poole',\n",
       "       'Teddington', 'Picardie', 'SLV - Other', 'Bielefeld',\n",
       "       'Palm Springs', 'AZ - Other', 'Faridabad', 'Elche', 'Odessa',\n",
       "       'Jackson', 'Altrincham', 'Oberhaching', 'Saint-denis-sur-loire',\n",
       "       'OK - Other', 'DE - Other', 'Victoria', 'Minsk', 'Birkenhead',\n",
       "       'Surrey', 'Busan', 'Binton', 'ISL - Other', 'Kigali',\n",
       "       'Palma Del RÃ\\xado', 'Daejeon', 'Bromborough', 'UKR - Other',\n",
       "       'Farum', 'Yverdon-les-bains', 'Hungerford', 'Herzogenaurach',\n",
       "       'Wellingborough', 'Reinach', 'Kanpur', 'Hefei', 'La Rochelle',\n",
       "       'NV - Other', 'LIE - Other', 'Chandigarh', 'Hereford',\n",
       "       'Steinhausen', 'Cwmbran', 'Leon', 'Konya', 'Omsk', 'Vevey',\n",
       "       'Nasik', 'ECU - Other', 'Charleston, West Virginia', 'Udupi',\n",
       "       'Charlottetown', \"Champagne-au-mont-d'or\", 'Paterna De Rivera',\n",
       "       'BHS - Other', 'Hellerup', 'Kolding', 'Belgaum', 'Annecy',\n",
       "       'IoÃ¡nnina', 'Pontypridd', 'Bormujos', 'Lucca', 'LUX - Other',\n",
       "       'Castelldefels', 'Monterey', 'Santander', 'Camberley', 'Banbury',\n",
       "       'NB - Other', 'Yangon', 'Rochester, Minnesota',\n",
       "       'Biloxi - Gulfport', 'Moline - Davenport', 'Parma', 'SVK - Other',\n",
       "       'Blackrock', 'Malta', 'Enfield Lock', 'Melbourn', 'Wetzlar',\n",
       "       'Tupelo', 'Medford', 'Kristiansand', 'Monheim', 'Surat', 'NY',\n",
       "       'Halle-neustadt', 'Stratford-upon-avon', 'Hamilton', 'Stafford',\n",
       "       'VNM - Other', 'Kathmandu', 'Heathrow', 'Leonberg', 'KHM - Other',\n",
       "       'Lannion', 'PRY - Other', 'Bushey', 'Saarbrucken', 'Tunis',\n",
       "       'Truro', 'TUN - Other', 'Wexford', 'Seminole', 'Bergamo', 'Modena',\n",
       "       'Limoges', 'Thame', 'Mulgrave', 'Lviv', 'Marlborough',\n",
       "       'Sutton Saint James', 'CMR - Other', 'Quarry Bay', 'MB - Other',\n",
       "       'Almeria', 'Sarnen', 'Rugby', 'Salerno', 'Tirana', 'Unterhaching',\n",
       "       'THA - Other', 'South Grafton', 'SÃ¨te', 'Hove', 'Bahamas',\n",
       "       'Kilkenny', 'Bern', 'Newcastle Under Lyme', 'Admiralty',\n",
       "       'Greenville, North Carolina', 'Bromley', 'Gilching', 'Fyshwick',\n",
       "       'Brunn Am Gebirge', 'San Salvador', 'Henley On Thames',\n",
       "       'Cheadle Hulme', 'Malvern Wells', 'Wilmslow', 'New Westminster',\n",
       "       'Terni', 'Kolbermoor', 'PRI - Other', 'Corby', 'Burnley',\n",
       "       'Illkirch-graffenstaden', 'Chisinau', 'Cannock', 'Balmain',\n",
       "       'MAF - Other'], dtype=object)"
      ]
     },
     "execution_count": 122,
     "metadata": {},
     "output_type": "execute_result"
    }
   ],
   "source": [
    "df['hq_region'].unique()"
   ]
  },
  {
   "cell_type": "code",
   "execution_count": 123,
   "metadata": {},
   "outputs": [],
   "source": [
    "df['hq_region'].replace(' http://www.dreamlines.nl ','NY',inplace=True)\n",
    "df['hq_region'].fillna('New York City',inplace = True)"
   ]
  },
  {
   "cell_type": "code",
   "execution_count": 124,
   "metadata": {},
   "outputs": [],
   "source": [
    "df['hq_region']= le.fit_transform(df['hq_region'])"
   ]
  },
  {
   "cell_type": "code",
   "execution_count": 131,
   "metadata": {},
   "outputs": [
    {
     "data": {
      "text/plain": [
       "ID                         int64\n",
       "comp_name                 object\n",
       "website                   object\n",
       "op_status                  int32\n",
       "domain                     int32\n",
       "founded_on                object\n",
       "hq_country_code            int32\n",
       "hq_state_code              int32\n",
       "hq_region                  int32\n",
       "hq_city                    int32\n",
       "total_funding_usd        float64\n",
       "funding_rounds             int64\n",
       "first_funding_date        object\n",
       "last_funding_date         object\n",
       "num_investors              int64\n",
       "funding_duration           int64\n",
       "first_funding_utc        float64\n",
       "last_funding_utc         float64\n",
       "successful_investment      int64\n",
       "dtype: object"
      ]
     },
     "execution_count": 131,
     "metadata": {},
     "output_type": "execute_result"
    }
   ],
   "source": [
    "df.dtypes"
   ]
  },
  {
   "cell_type": "code",
   "execution_count": 130,
   "metadata": {},
   "outputs": [],
   "source": [
    "df['hq_city'].fillna('New York',inplace = True)\n",
    "df['hq_city']= le.fit_transform(df['hq_city'])"
   ]
  },
  {
   "cell_type": "code",
   "execution_count": 132,
   "metadata": {},
   "outputs": [
    {
     "data": {
      "text/plain": [
       "ID                           0\n",
       "comp_name                    0\n",
       "website                   2467\n",
       "op_status                    0\n",
       "domain                       0\n",
       "founded_on               10214\n",
       "hq_country_code              0\n",
       "hq_state_code                0\n",
       "hq_region                    0\n",
       "hq_city                      0\n",
       "total_funding_usd            0\n",
       "funding_rounds               0\n",
       "first_funding_date           0\n",
       "last_funding_date            0\n",
       "num_investors                0\n",
       "funding_duration             0\n",
       "first_funding_utc            0\n",
       "last_funding_utc             0\n",
       "successful_investment        0\n",
       "dtype: int64"
      ]
     },
     "execution_count": 132,
     "metadata": {},
     "output_type": "execute_result"
    }
   ],
   "source": [
    "df.isna().sum()"
   ]
  },
  {
   "cell_type": "code",
   "execution_count": 133,
   "metadata": {},
   "outputs": [],
   "source": [
    "cols = ['comp_name','website']\n",
    "df.drop(columns = cols,inplace = True)"
   ]
  },
  {
   "cell_type": "code",
   "execution_count": 142,
   "metadata": {},
   "outputs": [
    {
     "data": {
      "text/plain": [
       "ID                         int64\n",
       "op_status                  int32\n",
       "domain                     int32\n",
       "founded_on                object\n",
       "hq_country_code            int32\n",
       "hq_state_code              int32\n",
       "hq_region                  int32\n",
       "hq_city                    int32\n",
       "total_funding_usd        float64\n",
       "funding_rounds             int64\n",
       "first_funding_date        object\n",
       "last_funding_date         object\n",
       "num_investors              int64\n",
       "funding_duration           int64\n",
       "first_funding_utc        float64\n",
       "last_funding_utc         float64\n",
       "successful_investment      int64\n",
       "dtype: object"
      ]
     },
     "execution_count": 142,
     "metadata": {},
     "output_type": "execute_result"
    }
   ],
   "source": [
    "df.dtypes"
   ]
  },
  {
   "cell_type": "code",
   "execution_count": 10,
   "metadata": {},
   "outputs": [
    {
     "data": {
      "text/plain": [
       "0           NaN\n",
       "1    1995-01-01\n",
       "2    2009-06-07\n",
       "3           NaN\n",
       "4    2014-06-01\n",
       "Name: founded_on, dtype: object"
      ]
     },
     "execution_count": 10,
     "metadata": {},
     "output_type": "execute_result"
    }
   ],
   "source": [
    "df['founded_on'].head()"
   ]
  },
  {
   "cell_type": "code",
   "execution_count": 21,
   "metadata": {},
   "outputs": [],
   "source": [
    "df['founded_on']= pd.to_datetime(df['founded_on'], dayfirst=True, errors='coerce')"
   ]
  },
  {
   "cell_type": "code",
   "execution_count": 12,
   "metadata": {},
   "outputs": [
    {
     "data": {
      "text/plain": [
       "0          NaT\n",
       "1   1995-01-01\n",
       "2   2009-06-07\n",
       "3          NaT\n",
       "4   2014-06-01\n",
       "Name: founded_on, dtype: datetime64[ns]"
      ]
     },
     "execution_count": 12,
     "metadata": {},
     "output_type": "execute_result"
    }
   ],
   "source": [
    "df['founded_on'].head()"
   ]
  },
  {
   "cell_type": "code",
   "execution_count": 16,
   "metadata": {},
   "outputs": [
    {
     "data": {
      "text/plain": [
       "Timestamp('2015-12-15 00:00:00')"
      ]
     },
     "execution_count": 16,
     "metadata": {},
     "output_type": "execute_result"
    }
   ],
   "source": [
    "df['founded_on'].max()"
   ]
  },
  {
   "cell_type": "code",
   "execution_count": 138,
   "metadata": {},
   "outputs": [
    {
     "data": {
      "text/plain": [
       "10218"
      ]
     },
     "execution_count": 138,
     "metadata": {},
     "output_type": "execute_result"
    }
   ],
   "source": [
    "df['founded_on'].isna().sum()"
   ]
  },
  {
   "cell_type": "code",
   "execution_count": 17,
   "metadata": {},
   "outputs": [],
   "source": [
    "df['founded_on'].fillna('2015-12-15 00:00:00', inplace = True)"
   ]
  },
  {
   "cell_type": "code",
   "execution_count": 18,
   "metadata": {},
   "outputs": [
    {
     "data": {
      "text/plain": [
       "0"
      ]
     },
     "execution_count": 18,
     "metadata": {},
     "output_type": "execute_result"
    }
   ],
   "source": [
    "df['founded_on'].isna().sum()"
   ]
  },
  {
   "cell_type": "code",
   "execution_count": 22,
   "metadata": {},
   "outputs": [],
   "source": [
    "df['founding_year'] = df.founded_on.dt.year"
   ]
  },
  {
   "cell_type": "code",
   "execution_count": 20,
   "metadata": {},
   "outputs": [
    {
     "data": {
      "text/plain": [
       "0           NaN\n",
       "1        1995.0\n",
       "2        2009.0\n",
       "3           NaN\n",
       "4        2014.0\n",
       "5        1994.0\n",
       "6           NaN\n",
       "7        2009.0\n",
       "8           NaN\n",
       "9           NaN\n",
       "10          NaN\n",
       "11       2002.0\n",
       "12       1999.0\n",
       "13       2014.0\n",
       "14       2000.0\n",
       "15          NaN\n",
       "16       2012.0\n",
       "17       2010.0\n",
       "18          NaN\n",
       "19       2006.0\n",
       "20       2009.0\n",
       "21       2003.0\n",
       "22          NaN\n",
       "23          NaN\n",
       "24       2010.0\n",
       "25       2010.0\n",
       "26       2010.0\n",
       "27       2007.0\n",
       "28       2000.0\n",
       "29       2010.0\n",
       "          ...  \n",
       "40183       NaN\n",
       "40184    1999.0\n",
       "40185       NaN\n",
       "40186       NaN\n",
       "40187    2002.0\n",
       "40188    2013.0\n",
       "40189    2002.0\n",
       "40190    2010.0\n",
       "40191    1996.0\n",
       "40192       NaN\n",
       "40193    2004.0\n",
       "40194    2013.0\n",
       "40195       NaN\n",
       "40196    2007.0\n",
       "40197       NaN\n",
       "40198       NaN\n",
       "40199    2008.0\n",
       "40200    2013.0\n",
       "40201       NaN\n",
       "40202       NaN\n",
       "40203       NaN\n",
       "40204    2013.0\n",
       "40205    2009.0\n",
       "40206    2001.0\n",
       "40207    1999.0\n",
       "40208    2014.0\n",
       "40209       NaN\n",
       "40210    2003.0\n",
       "40211    2012.0\n",
       "40212    2011.0\n",
       "Name: founding_year, Length: 40213, dtype: float64"
      ]
     },
     "execution_count": 20,
     "metadata": {},
     "output_type": "execute_result"
    }
   ],
   "source": [
    "df['founding_year']"
   ]
  },
  {
   "cell_type": "code",
   "execution_count": 23,
   "metadata": {},
   "outputs": [],
   "source": [
    "df['founding_year'].fillna(2015,inplace=True)"
   ]
  },
  {
   "cell_type": "code",
   "execution_count": 24,
   "metadata": {},
   "outputs": [
    {
     "data": {
      "text/plain": [
       "0        2015\n",
       "1        1995\n",
       "2        2009\n",
       "3        2015\n",
       "4        2014\n",
       "5        1994\n",
       "6        2015\n",
       "7        2009\n",
       "8        2015\n",
       "9        2015\n",
       "10       2015\n",
       "11       2002\n",
       "12       1999\n",
       "13       2014\n",
       "14       2000\n",
       "15       2015\n",
       "16       2012\n",
       "17       2010\n",
       "18       2015\n",
       "19       2006\n",
       "20       2009\n",
       "21       2003\n",
       "22       2015\n",
       "23       2015\n",
       "24       2010\n",
       "25       2010\n",
       "26       2010\n",
       "27       2007\n",
       "28       2000\n",
       "29       2010\n",
       "         ... \n",
       "40183    2015\n",
       "40184    1999\n",
       "40185    2015\n",
       "40186    2015\n",
       "40187    2002\n",
       "40188    2013\n",
       "40189    2002\n",
       "40190    2010\n",
       "40191    1996\n",
       "40192    2015\n",
       "40193    2004\n",
       "40194    2013\n",
       "40195    2015\n",
       "40196    2007\n",
       "40197    2015\n",
       "40198    2015\n",
       "40199    2008\n",
       "40200    2013\n",
       "40201    2015\n",
       "40202    2015\n",
       "40203    2015\n",
       "40204    2013\n",
       "40205    2009\n",
       "40206    2001\n",
       "40207    1999\n",
       "40208    2014\n",
       "40209    2015\n",
       "40210    2003\n",
       "40211    2012\n",
       "40212    2011\n",
       "Name: founding_year, Length: 40213, dtype: int64"
      ]
     },
     "execution_count": 24,
     "metadata": {},
     "output_type": "execute_result"
    }
   ],
   "source": [
    "df['founding_year']"
   ]
  },
  {
   "cell_type": "code",
   "execution_count": 25,
   "metadata": {},
   "outputs": [
    {
     "data": {
      "text/plain": [
       "0       2015-12-15\n",
       "1       1995-01-01\n",
       "2       2009-06-07\n",
       "3       2015-12-15\n",
       "4       2014-06-01\n",
       "5       1994-07-05\n",
       "6       2015-12-15\n",
       "7       2009-07-01\n",
       "8       2015-12-15\n",
       "9       2015-12-15\n",
       "10      2015-12-15\n",
       "11      2002-01-01\n",
       "12      1999-01-01\n",
       "13      2014-01-01\n",
       "14      2000-01-01\n",
       "15      2015-12-15\n",
       "16      2012-04-01\n",
       "17      2010-06-15\n",
       "18      2015-12-15\n",
       "19      2006-11-01\n",
       "20      2009-03-31\n",
       "21      2003-10-01\n",
       "22      2015-12-15\n",
       "23      2015-12-15\n",
       "24      2010-03-17\n",
       "25      2010-03-01\n",
       "26      2010-01-06\n",
       "27      2007-01-01\n",
       "28      2000-01-01\n",
       "29      2010-01-01\n",
       "           ...    \n",
       "40183   2015-12-15\n",
       "40184   1999-01-01\n",
       "40185   2015-12-15\n",
       "40186   2015-12-15\n",
       "40187   2002-01-01\n",
       "40188   2013-01-01\n",
       "40189   2002-01-01\n",
       "40190   2010-01-01\n",
       "40191   1996-01-01\n",
       "40192   2015-12-15\n",
       "40193   2004-01-01\n",
       "40194   2013-01-01\n",
       "40195   2015-12-15\n",
       "40196   2007-01-01\n",
       "40197   2015-12-15\n",
       "40198   2015-12-15\n",
       "40199   2008-01-01\n",
       "40200   2013-11-14\n",
       "40201   2015-12-15\n",
       "40202   2015-12-15\n",
       "40203   2015-12-15\n",
       "40204   2013-05-13\n",
       "40205   2009-01-01\n",
       "40206   2001-01-01\n",
       "40207   1999-01-01\n",
       "40208   2014-02-07\n",
       "40209   2015-12-15\n",
       "40210   2003-01-01\n",
       "40211   2012-01-01\n",
       "40212   2011-01-15\n",
       "Name: founded_on, Length: 40213, dtype: datetime64[ns]"
      ]
     },
     "execution_count": 25,
     "metadata": {},
     "output_type": "execute_result"
    }
   ],
   "source": [
    "df['founded_on']"
   ]
  },
  {
   "cell_type": "code",
   "execution_count": 148,
   "metadata": {},
   "outputs": [
    {
     "data": {
      "text/plain": [
       "ID                         int64\n",
       "op_status                  int32\n",
       "domain                     int32\n",
       "hq_country_code            int32\n",
       "hq_state_code              int32\n",
       "hq_region                  int32\n",
       "hq_city                    int32\n",
       "total_funding_usd        float64\n",
       "funding_rounds             int64\n",
       "first_funding_date        object\n",
       "last_funding_date         object\n",
       "num_investors              int64\n",
       "funding_duration           int64\n",
       "first_funding_utc        float64\n",
       "last_funding_utc         float64\n",
       "successful_investment      int64\n",
       "founding_year              int64\n",
       "dtype: object"
      ]
     },
     "execution_count": 148,
     "metadata": {},
     "output_type": "execute_result"
    }
   ],
   "source": [
    "df.dtypes"
   ]
  },
  {
   "cell_type": "code",
   "execution_count": 149,
   "metadata": {},
   "outputs": [
    {
     "data": {
      "text/plain": [
       "0"
      ]
     },
     "execution_count": 149,
     "metadata": {},
     "output_type": "execute_result"
    }
   ],
   "source": [
    "df['last_funding_date'].isna().sum()"
   ]
  },
  {
   "cell_type": "code",
   "execution_count": 151,
   "metadata": {},
   "outputs": [
    {
     "data": {
      "text/plain": [
       "dtype('O')"
      ]
     },
     "execution_count": 151,
     "metadata": {},
     "output_type": "execute_result"
    }
   ],
   "source": [
    "df['last_funding_date'].dtypes"
   ]
  },
  {
   "cell_type": "code",
   "execution_count": 152,
   "metadata": {},
   "outputs": [
    {
     "data": {
      "text/plain": [
       "array(['2005-05-04', '2001-03-30', '2014-05-27', ..., '2001-11-11',\n",
       "       '1999-11-15', '2002-12-27'], dtype=object)"
      ]
     },
     "execution_count": 152,
     "metadata": {},
     "output_type": "execute_result"
    }
   ],
   "source": [
    "df['last_funding_date'].unique()"
   ]
  },
  {
   "cell_type": "code",
   "execution_count": 153,
   "metadata": {},
   "outputs": [],
   "source": [
    "df['last_funding_date']= pd.to_datetime(df['last_funding_date'], dayfirst=True, errors='coerce')"
   ]
  },
  {
   "cell_type": "code",
   "execution_count": 154,
   "metadata": {},
   "outputs": [
    {
     "data": {
      "text/plain": [
       "0"
      ]
     },
     "execution_count": 154,
     "metadata": {},
     "output_type": "execute_result"
    }
   ],
   "source": [
    "df['last_funding_date'].isna().sum()"
   ]
  },
  {
   "cell_type": "code",
   "execution_count": 155,
   "metadata": {},
   "outputs": [],
   "source": [
    "df['last_funding_year'] = df.last_funding_date.dt.year"
   ]
  },
  {
   "cell_type": "code",
   "execution_count": 156,
   "metadata": {},
   "outputs": [
    {
     "data": {
      "text/plain": [
       "ID                                int64\n",
       "op_status                         int32\n",
       "domain                            int32\n",
       "hq_country_code                   int32\n",
       "hq_state_code                     int32\n",
       "hq_region                         int32\n",
       "hq_city                           int32\n",
       "total_funding_usd               float64\n",
       "funding_rounds                    int64\n",
       "first_funding_date               object\n",
       "last_funding_date        datetime64[ns]\n",
       "num_investors                     int64\n",
       "funding_duration                  int64\n",
       "first_funding_utc               float64\n",
       "last_funding_utc                float64\n",
       "successful_investment             int64\n",
       "founding_year                     int64\n",
       "last_funding_year                 int64\n",
       "dtype: object"
      ]
     },
     "execution_count": 156,
     "metadata": {},
     "output_type": "execute_result"
    }
   ],
   "source": [
    "df.dtypes"
   ]
  },
  {
   "cell_type": "code",
   "execution_count": 157,
   "metadata": {},
   "outputs": [],
   "source": [
    "cols = ['last_funding_date','first_funding_date']\n",
    "df = df.drop(columns = cols)"
   ]
  },
  {
   "cell_type": "code",
   "execution_count": 158,
   "metadata": {},
   "outputs": [
    {
     "data": {
      "text/plain": [
       "ID                       0\n",
       "op_status                0\n",
       "domain                   0\n",
       "hq_country_code          0\n",
       "hq_state_code            0\n",
       "hq_region                0\n",
       "hq_city                  0\n",
       "total_funding_usd        0\n",
       "funding_rounds           0\n",
       "num_investors            0\n",
       "funding_duration         0\n",
       "first_funding_utc        0\n",
       "last_funding_utc         0\n",
       "successful_investment    0\n",
       "founding_year            0\n",
       "last_funding_year        0\n",
       "dtype: int64"
      ]
     },
     "execution_count": 158,
     "metadata": {},
     "output_type": "execute_result"
    }
   ],
   "source": [
    "df.isna().sum()"
   ]
  },
  {
   "cell_type": "code",
   "execution_count": 159,
   "metadata": {},
   "outputs": [
    {
     "data": {
      "text/html": [
       "<style  type=\"text/css\" >\n",
       "    #T_674d7f0a_d1bd_11e9_850d_95e83037ebderow0_col0 {\n",
       "            background-color:  #b40426;\n",
       "            color:  #f1f1f1;\n",
       "        }    #T_674d7f0a_d1bd_11e9_850d_95e83037ebderow0_col1 {\n",
       "            background-color:  #6282ea;\n",
       "            color:  #000000;\n",
       "        }    #T_674d7f0a_d1bd_11e9_850d_95e83037ebderow0_col2 {\n",
       "            background-color:  #6282ea;\n",
       "            color:  #000000;\n",
       "        }    #T_674d7f0a_d1bd_11e9_850d_95e83037ebderow0_col3 {\n",
       "            background-color:  #6282ea;\n",
       "            color:  #000000;\n",
       "        }    #T_674d7f0a_d1bd_11e9_850d_95e83037ebderow0_col4 {\n",
       "            background-color:  #5470de;\n",
       "            color:  #000000;\n",
       "        }    #T_674d7f0a_d1bd_11e9_850d_95e83037ebderow0_col5 {\n",
       "            background-color:  #445acc;\n",
       "            color:  #f1f1f1;\n",
       "        }    #T_674d7f0a_d1bd_11e9_850d_95e83037ebderow0_col6 {\n",
       "            background-color:  #3e51c5;\n",
       "            color:  #f1f1f1;\n",
       "        }    #T_674d7f0a_d1bd_11e9_850d_95e83037ebderow0_col7 {\n",
       "            background-color:  #4c66d6;\n",
       "            color:  #000000;\n",
       "        }    #T_674d7f0a_d1bd_11e9_850d_95e83037ebderow0_col8 {\n",
       "            background-color:  #5470de;\n",
       "            color:  #000000;\n",
       "        }    #T_674d7f0a_d1bd_11e9_850d_95e83037ebderow0_col9 {\n",
       "            background-color:  #6a8bef;\n",
       "            color:  #000000;\n",
       "        }    #T_674d7f0a_d1bd_11e9_850d_95e83037ebderow0_col10 {\n",
       "            background-color:  #94b6ff;\n",
       "            color:  #000000;\n",
       "        }    #T_674d7f0a_d1bd_11e9_850d_95e83037ebderow0_col11 {\n",
       "            background-color:  #94b6ff;\n",
       "            color:  #000000;\n",
       "        }    #T_674d7f0a_d1bd_11e9_850d_95e83037ebderow0_col12 {\n",
       "            background-color:  #6485ec;\n",
       "            color:  #000000;\n",
       "        }    #T_674d7f0a_d1bd_11e9_850d_95e83037ebderow0_col13 {\n",
       "            background-color:  #4961d2;\n",
       "            color:  #f1f1f1;\n",
       "        }    #T_674d7f0a_d1bd_11e9_850d_95e83037ebderow0_col14 {\n",
       "            background-color:  #6a8bef;\n",
       "            color:  #000000;\n",
       "        }    #T_674d7f0a_d1bd_11e9_850d_95e83037ebderow0_col15 {\n",
       "            background-color:  #6485ec;\n",
       "            color:  #000000;\n",
       "        }    #T_674d7f0a_d1bd_11e9_850d_95e83037ebderow1_col0 {\n",
       "            background-color:  #3e51c5;\n",
       "            color:  #f1f1f1;\n",
       "        }    #T_674d7f0a_d1bd_11e9_850d_95e83037ebderow1_col1 {\n",
       "            background-color:  #b40426;\n",
       "            color:  #f1f1f1;\n",
       "        }    #T_674d7f0a_d1bd_11e9_850d_95e83037ebderow1_col2 {\n",
       "            background-color:  #5875e1;\n",
       "            color:  #000000;\n",
       "        }    #T_674d7f0a_d1bd_11e9_850d_95e83037ebderow1_col3 {\n",
       "            background-color:  #3b4cc0;\n",
       "            color:  #f1f1f1;\n",
       "        }    #T_674d7f0a_d1bd_11e9_850d_95e83037ebderow1_col4 {\n",
       "            background-color:  #3b4cc0;\n",
       "            color:  #f1f1f1;\n",
       "        }    #T_674d7f0a_d1bd_11e9_850d_95e83037ebderow1_col5 {\n",
       "            background-color:  #3b4cc0;\n",
       "            color:  #f1f1f1;\n",
       "        }    #T_674d7f0a_d1bd_11e9_850d_95e83037ebderow1_col6 {\n",
       "            background-color:  #3b4cc0;\n",
       "            color:  #f1f1f1;\n",
       "        }    #T_674d7f0a_d1bd_11e9_850d_95e83037ebderow1_col7 {\n",
       "            background-color:  #485fd1;\n",
       "            color:  #f1f1f1;\n",
       "        }    #T_674d7f0a_d1bd_11e9_850d_95e83037ebderow1_col8 {\n",
       "            background-color:  #536edd;\n",
       "            color:  #000000;\n",
       "        }    #T_674d7f0a_d1bd_11e9_850d_95e83037ebderow1_col9 {\n",
       "            background-color:  #5572df;\n",
       "            color:  #000000;\n",
       "        }    #T_674d7f0a_d1bd_11e9_850d_95e83037ebderow1_col10 {\n",
       "            background-color:  #86a9fc;\n",
       "            color:  #000000;\n",
       "        }    #T_674d7f0a_d1bd_11e9_850d_95e83037ebderow1_col11 {\n",
       "            background-color:  #e9d5cb;\n",
       "            color:  #000000;\n",
       "        }    #T_674d7f0a_d1bd_11e9_850d_95e83037ebderow1_col12 {\n",
       "            background-color:  #d2dbe8;\n",
       "            color:  #000000;\n",
       "        }    #T_674d7f0a_d1bd_11e9_850d_95e83037ebderow1_col13 {\n",
       "            background-color:  #4961d2;\n",
       "            color:  #f1f1f1;\n",
       "        }    #T_674d7f0a_d1bd_11e9_850d_95e83037ebderow1_col14 {\n",
       "            background-color:  #89acfd;\n",
       "            color:  #000000;\n",
       "        }    #T_674d7f0a_d1bd_11e9_850d_95e83037ebderow1_col15 {\n",
       "            background-color:  #d1dae9;\n",
       "            color:  #000000;\n",
       "        }    #T_674d7f0a_d1bd_11e9_850d_95e83037ebderow2_col0 {\n",
       "            background-color:  #3b4cc0;\n",
       "            color:  #f1f1f1;\n",
       "        }    #T_674d7f0a_d1bd_11e9_850d_95e83037ebderow2_col1 {\n",
       "            background-color:  #5470de;\n",
       "            color:  #000000;\n",
       "        }    #T_674d7f0a_d1bd_11e9_850d_95e83037ebderow2_col2 {\n",
       "            background-color:  #b40426;\n",
       "            color:  #f1f1f1;\n",
       "        }    #T_674d7f0a_d1bd_11e9_850d_95e83037ebderow2_col3 {\n",
       "            background-color:  #6180e9;\n",
       "            color:  #000000;\n",
       "        }    #T_674d7f0a_d1bd_11e9_850d_95e83037ebderow2_col4 {\n",
       "            background-color:  #5977e3;\n",
       "            color:  #000000;\n",
       "        }    #T_674d7f0a_d1bd_11e9_850d_95e83037ebderow2_col5 {\n",
       "            background-color:  #3f53c6;\n",
       "            color:  #f1f1f1;\n",
       "        }    #T_674d7f0a_d1bd_11e9_850d_95e83037ebderow2_col6 {\n",
       "            background-color:  #3d50c3;\n",
       "            color:  #f1f1f1;\n",
       "        }    #T_674d7f0a_d1bd_11e9_850d_95e83037ebderow2_col7 {\n",
       "            background-color:  #4a63d3;\n",
       "            color:  #f1f1f1;\n",
       "        }    #T_674d7f0a_d1bd_11e9_850d_95e83037ebderow2_col8 {\n",
       "            background-color:  #4b64d5;\n",
       "            color:  #f1f1f1;\n",
       "        }    #T_674d7f0a_d1bd_11e9_850d_95e83037ebderow2_col9 {\n",
       "            background-color:  #4e68d8;\n",
       "            color:  #000000;\n",
       "        }    #T_674d7f0a_d1bd_11e9_850d_95e83037ebderow2_col10 {\n",
       "            background-color:  #7b9ff9;\n",
       "            color:  #000000;\n",
       "        }    #T_674d7f0a_d1bd_11e9_850d_95e83037ebderow2_col11 {\n",
       "            background-color:  #7da0f9;\n",
       "            color:  #000000;\n",
       "        }    #T_674d7f0a_d1bd_11e9_850d_95e83037ebderow2_col12 {\n",
       "            background-color:  #3b4cc0;\n",
       "            color:  #f1f1f1;\n",
       "        }    #T_674d7f0a_d1bd_11e9_850d_95e83037ebderow2_col13 {\n",
       "            background-color:  #485fd1;\n",
       "            color:  #f1f1f1;\n",
       "        }    #T_674d7f0a_d1bd_11e9_850d_95e83037ebderow2_col14 {\n",
       "            background-color:  #5d7ce6;\n",
       "            color:  #000000;\n",
       "        }    #T_674d7f0a_d1bd_11e9_850d_95e83037ebderow2_col15 {\n",
       "            background-color:  #3b4cc0;\n",
       "            color:  #f1f1f1;\n",
       "        }    #T_674d7f0a_d1bd_11e9_850d_95e83037ebderow3_col0 {\n",
       "            background-color:  #3e51c5;\n",
       "            color:  #f1f1f1;\n",
       "        }    #T_674d7f0a_d1bd_11e9_850d_95e83037ebderow3_col1 {\n",
       "            background-color:  #3b4cc0;\n",
       "            color:  #f1f1f1;\n",
       "        }    #T_674d7f0a_d1bd_11e9_850d_95e83037ebderow3_col2 {\n",
       "            background-color:  #6485ec;\n",
       "            color:  #000000;\n",
       "        }    #T_674d7f0a_d1bd_11e9_850d_95e83037ebderow3_col3 {\n",
       "            background-color:  #b40426;\n",
       "            color:  #f1f1f1;\n",
       "        }    #T_674d7f0a_d1bd_11e9_850d_95e83037ebderow3_col4 {\n",
       "            background-color:  #efcfbf;\n",
       "            color:  #000000;\n",
       "        }    #T_674d7f0a_d1bd_11e9_850d_95e83037ebderow3_col5 {\n",
       "            background-color:  #6b8df0;\n",
       "            color:  #000000;\n",
       "        }    #T_674d7f0a_d1bd_11e9_850d_95e83037ebderow3_col6 {\n",
       "            background-color:  #5673e0;\n",
       "            color:  #000000;\n",
       "        }    #T_674d7f0a_d1bd_11e9_850d_95e83037ebderow3_col7 {\n",
       "            background-color:  #516ddb;\n",
       "            color:  #000000;\n",
       "        }    #T_674d7f0a_d1bd_11e9_850d_95e83037ebderow3_col8 {\n",
       "            background-color:  #5b7ae5;\n",
       "            color:  #000000;\n",
       "        }    #T_674d7f0a_d1bd_11e9_850d_95e83037ebderow3_col9 {\n",
       "            background-color:  #94b6ff;\n",
       "            color:  #000000;\n",
       "        }    #T_674d7f0a_d1bd_11e9_850d_95e83037ebderow3_col10 {\n",
       "            background-color:  #abc8fd;\n",
       "            color:  #000000;\n",
       "        }    #T_674d7f0a_d1bd_11e9_850d_95e83037ebderow3_col11 {\n",
       "            background-color:  #799cf8;\n",
       "            color:  #000000;\n",
       "        }    #T_674d7f0a_d1bd_11e9_850d_95e83037ebderow3_col12 {\n",
       "            background-color:  #536edd;\n",
       "            color:  #000000;\n",
       "        }    #T_674d7f0a_d1bd_11e9_850d_95e83037ebderow3_col13 {\n",
       "            background-color:  #4b64d5;\n",
       "            color:  #f1f1f1;\n",
       "        }    #T_674d7f0a_d1bd_11e9_850d_95e83037ebderow3_col14 {\n",
       "            background-color:  #5a78e4;\n",
       "            color:  #000000;\n",
       "        }    #T_674d7f0a_d1bd_11e9_850d_95e83037ebderow3_col15 {\n",
       "            background-color:  #5470de;\n",
       "            color:  #000000;\n",
       "        }    #T_674d7f0a_d1bd_11e9_850d_95e83037ebderow4_col0 {\n",
       "            background-color:  #3f53c6;\n",
       "            color:  #f1f1f1;\n",
       "        }    #T_674d7f0a_d1bd_11e9_850d_95e83037ebderow4_col1 {\n",
       "            background-color:  #4961d2;\n",
       "            color:  #f1f1f1;\n",
       "        }    #T_674d7f0a_d1bd_11e9_850d_95e83037ebderow4_col2 {\n",
       "            background-color:  #6b8df0;\n",
       "            color:  #000000;\n",
       "        }    #T_674d7f0a_d1bd_11e9_850d_95e83037ebderow4_col3 {\n",
       "            background-color:  #f2cbb7;\n",
       "            color:  #000000;\n",
       "        }    #T_674d7f0a_d1bd_11e9_850d_95e83037ebderow4_col4 {\n",
       "            background-color:  #b40426;\n",
       "            color:  #f1f1f1;\n",
       "        }    #T_674d7f0a_d1bd_11e9_850d_95e83037ebderow4_col5 {\n",
       "            background-color:  #5673e0;\n",
       "            color:  #000000;\n",
       "        }    #T_674d7f0a_d1bd_11e9_850d_95e83037ebderow4_col6 {\n",
       "            background-color:  #4358cb;\n",
       "            color:  #f1f1f1;\n",
       "        }    #T_674d7f0a_d1bd_11e9_850d_95e83037ebderow4_col7 {\n",
       "            background-color:  #4e68d8;\n",
       "            color:  #000000;\n",
       "        }    #T_674d7f0a_d1bd_11e9_850d_95e83037ebderow4_col8 {\n",
       "            background-color:  #5977e3;\n",
       "            color:  #000000;\n",
       "        }    #T_674d7f0a_d1bd_11e9_850d_95e83037ebderow4_col9 {\n",
       "            background-color:  #7093f3;\n",
       "            color:  #000000;\n",
       "        }    #T_674d7f0a_d1bd_11e9_850d_95e83037ebderow4_col10 {\n",
       "            background-color:  #9bbcff;\n",
       "            color:  #000000;\n",
       "        }    #T_674d7f0a_d1bd_11e9_850d_95e83037ebderow4_col11 {\n",
       "            background-color:  #81a4fb;\n",
       "            color:  #000000;\n",
       "        }    #T_674d7f0a_d1bd_11e9_850d_95e83037ebderow4_col12 {\n",
       "            background-color:  #536edd;\n",
       "            color:  #000000;\n",
       "        }    #T_674d7f0a_d1bd_11e9_850d_95e83037ebderow4_col13 {\n",
       "            background-color:  #4c66d6;\n",
       "            color:  #000000;\n",
       "        }    #T_674d7f0a_d1bd_11e9_850d_95e83037ebderow4_col14 {\n",
       "            background-color:  #5f7fe8;\n",
       "            color:  #000000;\n",
       "        }    #T_674d7f0a_d1bd_11e9_850d_95e83037ebderow4_col15 {\n",
       "            background-color:  #536edd;\n",
       "            color:  #000000;\n",
       "        }    #T_674d7f0a_d1bd_11e9_850d_95e83037ebderow5_col0 {\n",
       "            background-color:  #3b4cc0;\n",
       "            color:  #f1f1f1;\n",
       "        }    #T_674d7f0a_d1bd_11e9_850d_95e83037ebderow5_col1 {\n",
       "            background-color:  #5572df;\n",
       "            color:  #000000;\n",
       "        }    #T_674d7f0a_d1bd_11e9_850d_95e83037ebderow5_col2 {\n",
       "            background-color:  #5f7fe8;\n",
       "            color:  #000000;\n",
       "        }    #T_674d7f0a_d1bd_11e9_850d_95e83037ebderow5_col3 {\n",
       "            background-color:  #85a8fc;\n",
       "            color:  #000000;\n",
       "        }    #T_674d7f0a_d1bd_11e9_850d_95e83037ebderow5_col4 {\n",
       "            background-color:  #6384eb;\n",
       "            color:  #000000;\n",
       "        }    #T_674d7f0a_d1bd_11e9_850d_95e83037ebderow5_col5 {\n",
       "            background-color:  #b40426;\n",
       "            color:  #f1f1f1;\n",
       "        }    #T_674d7f0a_d1bd_11e9_850d_95e83037ebderow5_col6 {\n",
       "            background-color:  #f7ac8e;\n",
       "            color:  #000000;\n",
       "        }    #T_674d7f0a_d1bd_11e9_850d_95e83037ebderow5_col7 {\n",
       "            background-color:  #4b64d5;\n",
       "            color:  #f1f1f1;\n",
       "        }    #T_674d7f0a_d1bd_11e9_850d_95e83037ebderow5_col8 {\n",
       "            background-color:  #516ddb;\n",
       "            color:  #000000;\n",
       "        }    #T_674d7f0a_d1bd_11e9_850d_95e83037ebderow5_col9 {\n",
       "            background-color:  #7b9ff9;\n",
       "            color:  #000000;\n",
       "        }    #T_674d7f0a_d1bd_11e9_850d_95e83037ebderow5_col10 {\n",
       "            background-color:  #93b5fe;\n",
       "            color:  #000000;\n",
       "        }    #T_674d7f0a_d1bd_11e9_850d_95e83037ebderow5_col11 {\n",
       "            background-color:  #97b8ff;\n",
       "            color:  #000000;\n",
       "        }    #T_674d7f0a_d1bd_11e9_850d_95e83037ebderow5_col12 {\n",
       "            background-color:  #6687ed;\n",
       "            color:  #000000;\n",
       "        }    #T_674d7f0a_d1bd_11e9_850d_95e83037ebderow5_col13 {\n",
       "            background-color:  #4b64d5;\n",
       "            color:  #f1f1f1;\n",
       "        }    #T_674d7f0a_d1bd_11e9_850d_95e83037ebderow5_col14 {\n",
       "            background-color:  #6c8ff1;\n",
       "            color:  #000000;\n",
       "        }    #T_674d7f0a_d1bd_11e9_850d_95e83037ebderow5_col15 {\n",
       "            background-color:  #6788ee;\n",
       "            color:  #000000;\n",
       "        }    #T_674d7f0a_d1bd_11e9_850d_95e83037ebderow6_col0 {\n",
       "            background-color:  #3b4cc0;\n",
       "            color:  #f1f1f1;\n",
       "        }    #T_674d7f0a_d1bd_11e9_850d_95e83037ebderow6_col1 {\n",
       "            background-color:  #5a78e4;\n",
       "            color:  #000000;\n",
       "        }    #T_674d7f0a_d1bd_11e9_850d_95e83037ebderow6_col2 {\n",
       "            background-color:  #6180e9;\n",
       "            color:  #000000;\n",
       "        }    #T_674d7f0a_d1bd_11e9_850d_95e83037ebderow6_col3 {\n",
       "            background-color:  #7699f6;\n",
       "            color:  #000000;\n",
       "        }    #T_674d7f0a_d1bd_11e9_850d_95e83037ebderow6_col4 {\n",
       "            background-color:  #5470de;\n",
       "            color:  #000000;\n",
       "        }    #T_674d7f0a_d1bd_11e9_850d_95e83037ebderow6_col5 {\n",
       "            background-color:  #f7aa8c;\n",
       "            color:  #000000;\n",
       "        }    #T_674d7f0a_d1bd_11e9_850d_95e83037ebderow6_col6 {\n",
       "            background-color:  #b40426;\n",
       "            color:  #f1f1f1;\n",
       "        }    #T_674d7f0a_d1bd_11e9_850d_95e83037ebderow6_col7 {\n",
       "            background-color:  #4b64d5;\n",
       "            color:  #f1f1f1;\n",
       "        }    #T_674d7f0a_d1bd_11e9_850d_95e83037ebderow6_col8 {\n",
       "            background-color:  #5572df;\n",
       "            color:  #000000;\n",
       "        }    #T_674d7f0a_d1bd_11e9_850d_95e83037ebderow6_col9 {\n",
       "            background-color:  #7a9df8;\n",
       "            color:  #000000;\n",
       "        }    #T_674d7f0a_d1bd_11e9_850d_95e83037ebderow6_col10 {\n",
       "            background-color:  #90b2fe;\n",
       "            color:  #000000;\n",
       "        }    #T_674d7f0a_d1bd_11e9_850d_95e83037ebderow6_col11 {\n",
       "            background-color:  #96b7ff;\n",
       "            color:  #000000;\n",
       "        }    #T_674d7f0a_d1bd_11e9_850d_95e83037ebderow6_col12 {\n",
       "            background-color:  #6384eb;\n",
       "            color:  #000000;\n",
       "        }    #T_674d7f0a_d1bd_11e9_850d_95e83037ebderow6_col13 {\n",
       "            background-color:  #485fd1;\n",
       "            color:  #f1f1f1;\n",
       "        }    #T_674d7f0a_d1bd_11e9_850d_95e83037ebderow6_col14 {\n",
       "            background-color:  #6c8ff1;\n",
       "            color:  #000000;\n",
       "        }    #T_674d7f0a_d1bd_11e9_850d_95e83037ebderow6_col15 {\n",
       "            background-color:  #6485ec;\n",
       "            color:  #000000;\n",
       "        }    #T_674d7f0a_d1bd_11e9_850d_95e83037ebderow7_col0 {\n",
       "            background-color:  #3c4ec2;\n",
       "            color:  #f1f1f1;\n",
       "        }    #T_674d7f0a_d1bd_11e9_850d_95e83037ebderow7_col1 {\n",
       "            background-color:  #5b7ae5;\n",
       "            color:  #000000;\n",
       "        }    #T_674d7f0a_d1bd_11e9_850d_95e83037ebderow7_col2 {\n",
       "            background-color:  #6180e9;\n",
       "            color:  #000000;\n",
       "        }    #T_674d7f0a_d1bd_11e9_850d_95e83037ebderow7_col3 {\n",
       "            background-color:  #6485ec;\n",
       "            color:  #000000;\n",
       "        }    #T_674d7f0a_d1bd_11e9_850d_95e83037ebderow7_col4 {\n",
       "            background-color:  #536edd;\n",
       "            color:  #000000;\n",
       "        }    #T_674d7f0a_d1bd_11e9_850d_95e83037ebderow7_col5 {\n",
       "            background-color:  #4358cb;\n",
       "            color:  #f1f1f1;\n",
       "        }    #T_674d7f0a_d1bd_11e9_850d_95e83037ebderow7_col6 {\n",
       "            background-color:  #3e51c5;\n",
       "            color:  #f1f1f1;\n",
       "        }    #T_674d7f0a_d1bd_11e9_850d_95e83037ebderow7_col7 {\n",
       "            background-color:  #b40426;\n",
       "            color:  #f1f1f1;\n",
       "        }    #T_674d7f0a_d1bd_11e9_850d_95e83037ebderow7_col8 {\n",
       "            background-color:  #5e7de7;\n",
       "            color:  #000000;\n",
       "        }    #T_674d7f0a_d1bd_11e9_850d_95e83037ebderow7_col9 {\n",
       "            background-color:  #8db0fe;\n",
       "            color:  #000000;\n",
       "        }    #T_674d7f0a_d1bd_11e9_850d_95e83037ebderow7_col10 {\n",
       "            background-color:  #aec9fc;\n",
       "            color:  #000000;\n",
       "        }    #T_674d7f0a_d1bd_11e9_850d_95e83037ebderow7_col11 {\n",
       "            background-color:  #88abfd;\n",
       "            color:  #000000;\n",
       "        }    #T_674d7f0a_d1bd_11e9_850d_95e83037ebderow7_col12 {\n",
       "            background-color:  #6788ee;\n",
       "            color:  #000000;\n",
       "        }    #T_674d7f0a_d1bd_11e9_850d_95e83037ebderow7_col13 {\n",
       "            background-color:  #4a63d3;\n",
       "            color:  #f1f1f1;\n",
       "        }    #T_674d7f0a_d1bd_11e9_850d_95e83037ebderow7_col14 {\n",
       "            background-color:  #536edd;\n",
       "            color:  #000000;\n",
       "        }    #T_674d7f0a_d1bd_11e9_850d_95e83037ebderow7_col15 {\n",
       "            background-color:  #6788ee;\n",
       "            color:  #000000;\n",
       "        }    #T_674d7f0a_d1bd_11e9_850d_95e83037ebderow8_col0 {\n",
       "            background-color:  #3c4ec2;\n",
       "            color:  #f1f1f1;\n",
       "        }    #T_674d7f0a_d1bd_11e9_850d_95e83037ebderow8_col1 {\n",
       "            background-color:  #5f7fe8;\n",
       "            color:  #000000;\n",
       "        }    #T_674d7f0a_d1bd_11e9_850d_95e83037ebderow8_col2 {\n",
       "            background-color:  #5b7ae5;\n",
       "            color:  #000000;\n",
       "        }    #T_674d7f0a_d1bd_11e9_850d_95e83037ebderow8_col3 {\n",
       "            background-color:  #6788ee;\n",
       "            color:  #000000;\n",
       "        }    #T_674d7f0a_d1bd_11e9_850d_95e83037ebderow8_col4 {\n",
       "            background-color:  #5673e0;\n",
       "            color:  #000000;\n",
       "        }    #T_674d7f0a_d1bd_11e9_850d_95e83037ebderow8_col5 {\n",
       "            background-color:  #4358cb;\n",
       "            color:  #f1f1f1;\n",
       "        }    #T_674d7f0a_d1bd_11e9_850d_95e83037ebderow8_col6 {\n",
       "            background-color:  #4257c9;\n",
       "            color:  #f1f1f1;\n",
       "        }    #T_674d7f0a_d1bd_11e9_850d_95e83037ebderow8_col7 {\n",
       "            background-color:  #5875e1;\n",
       "            color:  #000000;\n",
       "        }    #T_674d7f0a_d1bd_11e9_850d_95e83037ebderow8_col8 {\n",
       "            background-color:  #b40426;\n",
       "            color:  #f1f1f1;\n",
       "        }    #T_674d7f0a_d1bd_11e9_850d_95e83037ebderow8_col9 {\n",
       "            background-color:  #9ebeff;\n",
       "            color:  #000000;\n",
       "        }    #T_674d7f0a_d1bd_11e9_850d_95e83037ebderow8_col10 {\n",
       "            background-color:  #c6d6f1;\n",
       "            color:  #000000;\n",
       "        }    #T_674d7f0a_d1bd_11e9_850d_95e83037ebderow8_col11 {\n",
       "            background-color:  #7b9ff9;\n",
       "            color:  #000000;\n",
       "        }    #T_674d7f0a_d1bd_11e9_850d_95e83037ebderow8_col12 {\n",
       "            background-color:  #7093f3;\n",
       "            color:  #000000;\n",
       "        }    #T_674d7f0a_d1bd_11e9_850d_95e83037ebderow8_col13 {\n",
       "            background-color:  #4a63d3;\n",
       "            color:  #f1f1f1;\n",
       "        }    #T_674d7f0a_d1bd_11e9_850d_95e83037ebderow8_col14 {\n",
       "            background-color:  #5e7de7;\n",
       "            color:  #000000;\n",
       "        }    #T_674d7f0a_d1bd_11e9_850d_95e83037ebderow8_col15 {\n",
       "            background-color:  #7093f3;\n",
       "            color:  #000000;\n",
       "        }    #T_674d7f0a_d1bd_11e9_850d_95e83037ebderow9_col0 {\n",
       "            background-color:  #3c4ec2;\n",
       "            color:  #f1f1f1;\n",
       "        }    #T_674d7f0a_d1bd_11e9_850d_95e83037ebderow9_col1 {\n",
       "            background-color:  #4b64d5;\n",
       "            color:  #f1f1f1;\n",
       "        }    #T_674d7f0a_d1bd_11e9_850d_95e83037ebderow9_col2 {\n",
       "            background-color:  #485fd1;\n",
       "            color:  #f1f1f1;\n",
       "        }    #T_674d7f0a_d1bd_11e9_850d_95e83037ebderow9_col3 {\n",
       "            background-color:  #8badfd;\n",
       "            color:  #000000;\n",
       "        }    #T_674d7f0a_d1bd_11e9_850d_95e83037ebderow9_col4 {\n",
       "            background-color:  #5875e1;\n",
       "            color:  #000000;\n",
       "        }    #T_674d7f0a_d1bd_11e9_850d_95e83037ebderow9_col5 {\n",
       "            background-color:  #5673e0;\n",
       "            color:  #000000;\n",
       "        }    #T_674d7f0a_d1bd_11e9_850d_95e83037ebderow9_col6 {\n",
       "            background-color:  #506bda;\n",
       "            color:  #000000;\n",
       "        }    #T_674d7f0a_d1bd_11e9_850d_95e83037ebderow9_col7 {\n",
       "            background-color:  #7093f3;\n",
       "            color:  #000000;\n",
       "        }    #T_674d7f0a_d1bd_11e9_850d_95e83037ebderow9_col8 {\n",
       "            background-color:  #8badfd;\n",
       "            color:  #000000;\n",
       "        }    #T_674d7f0a_d1bd_11e9_850d_95e83037ebderow9_col9 {\n",
       "            background-color:  #b40426;\n",
       "            color:  #f1f1f1;\n",
       "        }    #T_674d7f0a_d1bd_11e9_850d_95e83037ebderow9_col10 {\n",
       "            background-color:  #f5c0a7;\n",
       "            color:  #000000;\n",
       "        }    #T_674d7f0a_d1bd_11e9_850d_95e83037ebderow9_col11 {\n",
       "            background-color:  #6687ed;\n",
       "            color:  #000000;\n",
       "        }    #T_674d7f0a_d1bd_11e9_850d_95e83037ebderow9_col12 {\n",
       "            background-color:  #82a6fb;\n",
       "            color:  #000000;\n",
       "        }    #T_674d7f0a_d1bd_11e9_850d_95e83037ebderow9_col13 {\n",
       "            background-color:  #4a63d3;\n",
       "            color:  #f1f1f1;\n",
       "        }    #T_674d7f0a_d1bd_11e9_850d_95e83037ebderow9_col14 {\n",
       "            background-color:  #5572df;\n",
       "            color:  #000000;\n",
       "        }    #T_674d7f0a_d1bd_11e9_850d_95e83037ebderow9_col15 {\n",
       "            background-color:  #82a6fb;\n",
       "            color:  #000000;\n",
       "        }    #T_674d7f0a_d1bd_11e9_850d_95e83037ebderow10_col0 {\n",
       "            background-color:  #3c4ec2;\n",
       "            color:  #f1f1f1;\n",
       "        }    #T_674d7f0a_d1bd_11e9_850d_95e83037ebderow10_col1 {\n",
       "            background-color:  #516ddb;\n",
       "            color:  #000000;\n",
       "        }    #T_674d7f0a_d1bd_11e9_850d_95e83037ebderow10_col2 {\n",
       "            background-color:  #4961d2;\n",
       "            color:  #f1f1f1;\n",
       "        }    #T_674d7f0a_d1bd_11e9_850d_95e83037ebderow10_col3 {\n",
       "            background-color:  #7b9ff9;\n",
       "            color:  #000000;\n",
       "        }    #T_674d7f0a_d1bd_11e9_850d_95e83037ebderow10_col4 {\n",
       "            background-color:  #5a78e4;\n",
       "            color:  #000000;\n",
       "        }    #T_674d7f0a_d1bd_11e9_850d_95e83037ebderow10_col5 {\n",
       "            background-color:  #445acc;\n",
       "            color:  #f1f1f1;\n",
       "        }    #T_674d7f0a_d1bd_11e9_850d_95e83037ebderow10_col6 {\n",
       "            background-color:  #3d50c3;\n",
       "            color:  #f1f1f1;\n",
       "        }    #T_674d7f0a_d1bd_11e9_850d_95e83037ebderow10_col7 {\n",
       "            background-color:  #6e90f2;\n",
       "            color:  #000000;\n",
       "        }    #T_674d7f0a_d1bd_11e9_850d_95e83037ebderow10_col8 {\n",
       "            background-color:  #96b7ff;\n",
       "            color:  #000000;\n",
       "        }    #T_674d7f0a_d1bd_11e9_850d_95e83037ebderow10_col9 {\n",
       "            background-color:  #efcfbf;\n",
       "            color:  #000000;\n",
       "        }    #T_674d7f0a_d1bd_11e9_850d_95e83037ebderow10_col10 {\n",
       "            background-color:  #b40426;\n",
       "            color:  #f1f1f1;\n",
       "        }    #T_674d7f0a_d1bd_11e9_850d_95e83037ebderow10_col11 {\n",
       "            background-color:  #3b4cc0;\n",
       "            color:  #f1f1f1;\n",
       "        }    #T_674d7f0a_d1bd_11e9_850d_95e83037ebderow10_col12 {\n",
       "            background-color:  #9ebeff;\n",
       "            color:  #000000;\n",
       "        }    #T_674d7f0a_d1bd_11e9_850d_95e83037ebderow10_col13 {\n",
       "            background-color:  #4a63d3;\n",
       "            color:  #f1f1f1;\n",
       "        }    #T_674d7f0a_d1bd_11e9_850d_95e83037ebderow10_col14 {\n",
       "            background-color:  #3b4cc0;\n",
       "            color:  #f1f1f1;\n",
       "        }    #T_674d7f0a_d1bd_11e9_850d_95e83037ebderow10_col15 {\n",
       "            background-color:  #9dbdff;\n",
       "            color:  #000000;\n",
       "        }    #T_674d7f0a_d1bd_11e9_850d_95e83037ebderow11_col0 {\n",
       "            background-color:  #3d50c3;\n",
       "            color:  #f1f1f1;\n",
       "        }    #T_674d7f0a_d1bd_11e9_850d_95e83037ebderow11_col1 {\n",
       "            background-color:  #d2dbe8;\n",
       "            color:  #000000;\n",
       "        }    #T_674d7f0a_d1bd_11e9_850d_95e83037ebderow11_col2 {\n",
       "            background-color:  #4b64d5;\n",
       "            color:  #f1f1f1;\n",
       "        }    #T_674d7f0a_d1bd_11e9_850d_95e83037ebderow11_col3 {\n",
       "            background-color:  #4358cb;\n",
       "            color:  #f1f1f1;\n",
       "        }    #T_674d7f0a_d1bd_11e9_850d_95e83037ebderow11_col4 {\n",
       "            background-color:  #3d50c3;\n",
       "            color:  #f1f1f1;\n",
       "        }    #T_674d7f0a_d1bd_11e9_850d_95e83037ebderow11_col5 {\n",
       "            background-color:  #485fd1;\n",
       "            color:  #f1f1f1;\n",
       "        }    #T_674d7f0a_d1bd_11e9_850d_95e83037ebderow11_col6 {\n",
       "            background-color:  #4358cb;\n",
       "            color:  #f1f1f1;\n",
       "        }    #T_674d7f0a_d1bd_11e9_850d_95e83037ebderow11_col7 {\n",
       "            background-color:  #3f53c6;\n",
       "            color:  #f1f1f1;\n",
       "        }    #T_674d7f0a_d1bd_11e9_850d_95e83037ebderow11_col8 {\n",
       "            background-color:  #3b4cc0;\n",
       "            color:  #f1f1f1;\n",
       "        }    #T_674d7f0a_d1bd_11e9_850d_95e83037ebderow11_col9 {\n",
       "            background-color:  #3b4cc0;\n",
       "            color:  #f1f1f1;\n",
       "        }    #T_674d7f0a_d1bd_11e9_850d_95e83037ebderow11_col10 {\n",
       "            background-color:  #3b4cc0;\n",
       "            color:  #f1f1f1;\n",
       "        }    #T_674d7f0a_d1bd_11e9_850d_95e83037ebderow11_col11 {\n",
       "            background-color:  #b40426;\n",
       "            color:  #f1f1f1;\n",
       "        }    #T_674d7f0a_d1bd_11e9_850d_95e83037ebderow11_col12 {\n",
       "            background-color:  #e16751;\n",
       "            color:  #000000;\n",
       "        }    #T_674d7f0a_d1bd_11e9_850d_95e83037ebderow11_col13 {\n",
       "            background-color:  #3c4ec2;\n",
       "            color:  #f1f1f1;\n",
       "        }    #T_674d7f0a_d1bd_11e9_850d_95e83037ebderow11_col14 {\n",
       "            background-color:  #bbd1f8;\n",
       "            color:  #000000;\n",
       "        }    #T_674d7f0a_d1bd_11e9_850d_95e83037ebderow11_col15 {\n",
       "            background-color:  #e26952;\n",
       "            color:  #000000;\n",
       "        }    #T_674d7f0a_d1bd_11e9_850d_95e83037ebderow12_col0 {\n",
       "            background-color:  #3d50c3;\n",
       "            color:  #f1f1f1;\n",
       "        }    #T_674d7f0a_d1bd_11e9_850d_95e83037ebderow12_col1 {\n",
       "            background-color:  #cfdaea;\n",
       "            color:  #000000;\n",
       "        }    #T_674d7f0a_d1bd_11e9_850d_95e83037ebderow12_col2 {\n",
       "            background-color:  #3b4cc0;\n",
       "            color:  #f1f1f1;\n",
       "        }    #T_674d7f0a_d1bd_11e9_850d_95e83037ebderow12_col3 {\n",
       "            background-color:  #4f69d9;\n",
       "            color:  #000000;\n",
       "        }    #T_674d7f0a_d1bd_11e9_850d_95e83037ebderow12_col4 {\n",
       "            background-color:  #4055c8;\n",
       "            color:  #f1f1f1;\n",
       "        }    #T_674d7f0a_d1bd_11e9_850d_95e83037ebderow12_col5 {\n",
       "            background-color:  #485fd1;\n",
       "            color:  #f1f1f1;\n",
       "        }    #T_674d7f0a_d1bd_11e9_850d_95e83037ebderow12_col6 {\n",
       "            background-color:  #4055c8;\n",
       "            color:  #f1f1f1;\n",
       "        }    #T_674d7f0a_d1bd_11e9_850d_95e83037ebderow12_col7 {\n",
       "            background-color:  #506bda;\n",
       "            color:  #000000;\n",
       "        }    #T_674d7f0a_d1bd_11e9_850d_95e83037ebderow12_col8 {\n",
       "            background-color:  #6282ea;\n",
       "            color:  #000000;\n",
       "        }    #T_674d7f0a_d1bd_11e9_850d_95e83037ebderow12_col9 {\n",
       "            background-color:  #89acfd;\n",
       "            color:  #000000;\n",
       "        }    #T_674d7f0a_d1bd_11e9_850d_95e83037ebderow12_col10 {\n",
       "            background-color:  #c3d5f4;\n",
       "            color:  #000000;\n",
       "        }    #T_674d7f0a_d1bd_11e9_850d_95e83037ebderow12_col11 {\n",
       "            background-color:  #dc5d4a;\n",
       "            color:  #000000;\n",
       "        }    #T_674d7f0a_d1bd_11e9_850d_95e83037ebderow12_col12 {\n",
       "            background-color:  #b40426;\n",
       "            color:  #f1f1f1;\n",
       "        }    #T_674d7f0a_d1bd_11e9_850d_95e83037ebderow12_col13 {\n",
       "            background-color:  #3b4cc0;\n",
       "            color:  #f1f1f1;\n",
       "        }    #T_674d7f0a_d1bd_11e9_850d_95e83037ebderow12_col14 {\n",
       "            background-color:  #a5c3fe;\n",
       "            color:  #000000;\n",
       "        }    #T_674d7f0a_d1bd_11e9_850d_95e83037ebderow12_col15 {\n",
       "            background-color:  #b50927;\n",
       "            color:  #f1f1f1;\n",
       "        }    #T_674d7f0a_d1bd_11e9_850d_95e83037ebderow13_col0 {\n",
       "            background-color:  #3b4cc0;\n",
       "            color:  #f1f1f1;\n",
       "        }    #T_674d7f0a_d1bd_11e9_850d_95e83037ebderow13_col1 {\n",
       "            background-color:  #5e7de7;\n",
       "            color:  #000000;\n",
       "        }    #T_674d7f0a_d1bd_11e9_850d_95e83037ebderow13_col2 {\n",
       "            background-color:  #6180e9;\n",
       "            color:  #000000;\n",
       "        }    #T_674d7f0a_d1bd_11e9_850d_95e83037ebderow13_col3 {\n",
       "            background-color:  #6180e9;\n",
       "            color:  #000000;\n",
       "        }    #T_674d7f0a_d1bd_11e9_850d_95e83037ebderow13_col4 {\n",
       "            background-color:  #536edd;\n",
       "            color:  #000000;\n",
       "        }    #T_674d7f0a_d1bd_11e9_850d_95e83037ebderow13_col5 {\n",
       "            background-color:  #455cce;\n",
       "            color:  #f1f1f1;\n",
       "        }    #T_674d7f0a_d1bd_11e9_850d_95e83037ebderow13_col6 {\n",
       "            background-color:  #3e51c5;\n",
       "            color:  #f1f1f1;\n",
       "        }    #T_674d7f0a_d1bd_11e9_850d_95e83037ebderow13_col7 {\n",
       "            background-color:  #4c66d6;\n",
       "            color:  #000000;\n",
       "        }    #T_674d7f0a_d1bd_11e9_850d_95e83037ebderow13_col8 {\n",
       "            background-color:  #5470de;\n",
       "            color:  #000000;\n",
       "        }    #T_674d7f0a_d1bd_11e9_850d_95e83037ebderow13_col9 {\n",
       "            background-color:  #6a8bef;\n",
       "            color:  #000000;\n",
       "        }    #T_674d7f0a_d1bd_11e9_850d_95e83037ebderow13_col10 {\n",
       "            background-color:  #93b5fe;\n",
       "            color:  #000000;\n",
       "        }    #T_674d7f0a_d1bd_11e9_850d_95e83037ebderow13_col11 {\n",
       "            background-color:  #86a9fc;\n",
       "            color:  #000000;\n",
       "        }    #T_674d7f0a_d1bd_11e9_850d_95e83037ebderow13_col12 {\n",
       "            background-color:  #536edd;\n",
       "            color:  #000000;\n",
       "        }    #T_674d7f0a_d1bd_11e9_850d_95e83037ebderow13_col13 {\n",
       "            background-color:  #b40426;\n",
       "            color:  #f1f1f1;\n",
       "        }    #T_674d7f0a_d1bd_11e9_850d_95e83037ebderow13_col14 {\n",
       "            background-color:  #6788ee;\n",
       "            color:  #000000;\n",
       "        }    #T_674d7f0a_d1bd_11e9_850d_95e83037ebderow13_col15 {\n",
       "            background-color:  #6485ec;\n",
       "            color:  #000000;\n",
       "        }    #T_674d7f0a_d1bd_11e9_850d_95e83037ebderow14_col0 {\n",
       "            background-color:  #4055c8;\n",
       "            color:  #f1f1f1;\n",
       "        }    #T_674d7f0a_d1bd_11e9_850d_95e83037ebderow14_col1 {\n",
       "            background-color:  #85a8fc;\n",
       "            color:  #000000;\n",
       "        }    #T_674d7f0a_d1bd_11e9_850d_95e83037ebderow14_col2 {\n",
       "            background-color:  #5a78e4;\n",
       "            color:  #000000;\n",
       "        }    #T_674d7f0a_d1bd_11e9_850d_95e83037ebderow14_col3 {\n",
       "            background-color:  #5572df;\n",
       "            color:  #000000;\n",
       "        }    #T_674d7f0a_d1bd_11e9_850d_95e83037ebderow14_col4 {\n",
       "            background-color:  #4b64d5;\n",
       "            color:  #f1f1f1;\n",
       "        }    #T_674d7f0a_d1bd_11e9_850d_95e83037ebderow14_col5 {\n",
       "            background-color:  #4c66d6;\n",
       "            color:  #000000;\n",
       "        }    #T_674d7f0a_d1bd_11e9_850d_95e83037ebderow14_col6 {\n",
       "            background-color:  #485fd1;\n",
       "            color:  #f1f1f1;\n",
       "        }    #T_674d7f0a_d1bd_11e9_850d_95e83037ebderow14_col7 {\n",
       "            background-color:  #3b4cc0;\n",
       "            color:  #f1f1f1;\n",
       "        }    #T_674d7f0a_d1bd_11e9_850d_95e83037ebderow14_col8 {\n",
       "            background-color:  #4e68d8;\n",
       "            color:  #000000;\n",
       "        }    #T_674d7f0a_d1bd_11e9_850d_95e83037ebderow14_col9 {\n",
       "            background-color:  #5a78e4;\n",
       "            color:  #000000;\n",
       "        }    #T_674d7f0a_d1bd_11e9_850d_95e83037ebderow14_col10 {\n",
       "            background-color:  #6b8df0;\n",
       "            color:  #000000;\n",
       "        }    #T_674d7f0a_d1bd_11e9_850d_95e83037ebderow14_col11 {\n",
       "            background-color:  #d7dce3;\n",
       "            color:  #000000;\n",
       "        }    #T_674d7f0a_d1bd_11e9_850d_95e83037ebderow14_col12 {\n",
       "            background-color:  #a2c1ff;\n",
       "            color:  #000000;\n",
       "        }    #T_674d7f0a_d1bd_11e9_850d_95e83037ebderow14_col13 {\n",
       "            background-color:  #4b64d5;\n",
       "            color:  #f1f1f1;\n",
       "        }    #T_674d7f0a_d1bd_11e9_850d_95e83037ebderow14_col14 {\n",
       "            background-color:  #b40426;\n",
       "            color:  #f1f1f1;\n",
       "        }    #T_674d7f0a_d1bd_11e9_850d_95e83037ebderow14_col15 {\n",
       "            background-color:  #a3c2fe;\n",
       "            color:  #000000;\n",
       "        }    #T_674d7f0a_d1bd_11e9_850d_95e83037ebderow15_col0 {\n",
       "            background-color:  #3d50c3;\n",
       "            color:  #f1f1f1;\n",
       "        }    #T_674d7f0a_d1bd_11e9_850d_95e83037ebderow15_col1 {\n",
       "            background-color:  #cfdaea;\n",
       "            color:  #000000;\n",
       "        }    #T_674d7f0a_d1bd_11e9_850d_95e83037ebderow15_col2 {\n",
       "            background-color:  #3b4cc0;\n",
       "            color:  #f1f1f1;\n",
       "        }    #T_674d7f0a_d1bd_11e9_850d_95e83037ebderow15_col3 {\n",
       "            background-color:  #506bda;\n",
       "            color:  #000000;\n",
       "        }    #T_674d7f0a_d1bd_11e9_850d_95e83037ebderow15_col4 {\n",
       "            background-color:  #4055c8;\n",
       "            color:  #f1f1f1;\n",
       "        }    #T_674d7f0a_d1bd_11e9_850d_95e83037ebderow15_col5 {\n",
       "            background-color:  #485fd1;\n",
       "            color:  #f1f1f1;\n",
       "        }    #T_674d7f0a_d1bd_11e9_850d_95e83037ebderow15_col6 {\n",
       "            background-color:  #4055c8;\n",
       "            color:  #f1f1f1;\n",
       "        }    #T_674d7f0a_d1bd_11e9_850d_95e83037ebderow15_col7 {\n",
       "            background-color:  #506bda;\n",
       "            color:  #000000;\n",
       "        }    #T_674d7f0a_d1bd_11e9_850d_95e83037ebderow15_col8 {\n",
       "            background-color:  #6282ea;\n",
       "            color:  #000000;\n",
       "        }    #T_674d7f0a_d1bd_11e9_850d_95e83037ebderow15_col9 {\n",
       "            background-color:  #88abfd;\n",
       "            color:  #000000;\n",
       "        }    #T_674d7f0a_d1bd_11e9_850d_95e83037ebderow15_col10 {\n",
       "            background-color:  #c3d5f4;\n",
       "            color:  #000000;\n",
       "        }    #T_674d7f0a_d1bd_11e9_850d_95e83037ebderow15_col11 {\n",
       "            background-color:  #dc5d4a;\n",
       "            color:  #000000;\n",
       "        }    #T_674d7f0a_d1bd_11e9_850d_95e83037ebderow15_col12 {\n",
       "            background-color:  #b50927;\n",
       "            color:  #f1f1f1;\n",
       "        }    #T_674d7f0a_d1bd_11e9_850d_95e83037ebderow15_col13 {\n",
       "            background-color:  #4b64d5;\n",
       "            color:  #f1f1f1;\n",
       "        }    #T_674d7f0a_d1bd_11e9_850d_95e83037ebderow15_col14 {\n",
       "            background-color:  #a5c3fe;\n",
       "            color:  #000000;\n",
       "        }    #T_674d7f0a_d1bd_11e9_850d_95e83037ebderow15_col15 {\n",
       "            background-color:  #b40426;\n",
       "            color:  #f1f1f1;\n",
       "        }</style><table id=\"T_674d7f0a_d1bd_11e9_850d_95e83037ebde\" ><thead>    <tr>        <th class=\"blank level0\" ></th>        <th class=\"col_heading level0 col0\" >ID</th>        <th class=\"col_heading level0 col1\" >op_status</th>        <th class=\"col_heading level0 col2\" >domain</th>        <th class=\"col_heading level0 col3\" >hq_country_code</th>        <th class=\"col_heading level0 col4\" >hq_state_code</th>        <th class=\"col_heading level0 col5\" >hq_region</th>        <th class=\"col_heading level0 col6\" >hq_city</th>        <th class=\"col_heading level0 col7\" >total_funding_usd</th>        <th class=\"col_heading level0 col8\" >funding_rounds</th>        <th class=\"col_heading level0 col9\" >num_investors</th>        <th class=\"col_heading level0 col10\" >funding_duration</th>        <th class=\"col_heading level0 col11\" >first_funding_utc</th>        <th class=\"col_heading level0 col12\" >last_funding_utc</th>        <th class=\"col_heading level0 col13\" >successful_investment</th>        <th class=\"col_heading level0 col14\" >founding_year</th>        <th class=\"col_heading level0 col15\" >last_funding_year</th>    </tr></thead><tbody>\n",
       "                <tr>\n",
       "                        <th id=\"T_674d7f0a_d1bd_11e9_850d_95e83037ebdelevel0_row0\" class=\"row_heading level0 row0\" >ID</th>\n",
       "                        <td id=\"T_674d7f0a_d1bd_11e9_850d_95e83037ebderow0_col0\" class=\"data row0 col0\" >1</td>\n",
       "                        <td id=\"T_674d7f0a_d1bd_11e9_850d_95e83037ebderow0_col1\" class=\"data row0 col1\" >0.00424415</td>\n",
       "                        <td id=\"T_674d7f0a_d1bd_11e9_850d_95e83037ebderow0_col2\" class=\"data row0 col2\" >-0.00599266</td>\n",
       "                        <td id=\"T_674d7f0a_d1bd_11e9_850d_95e83037ebderow0_col3\" class=\"data row0 col3\" >0.00686741</td>\n",
       "                        <td id=\"T_674d7f0a_d1bd_11e9_850d_95e83037ebderow0_col4\" class=\"data row0 col4\" >0.00875614</td>\n",
       "                        <td id=\"T_674d7f0a_d1bd_11e9_850d_95e83037ebderow0_col5\" class=\"data row0 col5\" >-0.0040925</td>\n",
       "                        <td id=\"T_674d7f0a_d1bd_11e9_850d_95e83037ebderow0_col6\" class=\"data row0 col6\" >-0.007762</td>\n",
       "                        <td id=\"T_674d7f0a_d1bd_11e9_850d_95e83037ebderow0_col7\" class=\"data row0 col7\" >-0.00104318</td>\n",
       "                        <td id=\"T_674d7f0a_d1bd_11e9_850d_95e83037ebderow0_col8\" class=\"data row0 col8\" >-0.00215896</td>\n",
       "                        <td id=\"T_674d7f0a_d1bd_11e9_850d_95e83037ebderow0_col9\" class=\"data row0 col9\" >-0.00144497</td>\n",
       "                        <td id=\"T_674d7f0a_d1bd_11e9_850d_95e83037ebderow0_col10\" class=\"data row0 col10\" >-0.000545184</td>\n",
       "                        <td id=\"T_674d7f0a_d1bd_11e9_850d_95e83037ebderow0_col11\" class=\"data row0 col11\" >0.0024197</td>\n",
       "                        <td id=\"T_674d7f0a_d1bd_11e9_850d_95e83037ebderow0_col12\" class=\"data row0 col12\" >0.00244469</td>\n",
       "                        <td id=\"T_674d7f0a_d1bd_11e9_850d_95e83037ebderow0_col13\" class=\"data row0 col13\" >-0.00534896</td>\n",
       "                        <td id=\"T_674d7f0a_d1bd_11e9_850d_95e83037ebderow0_col14\" class=\"data row0 col14\" >0.0139882</td>\n",
       "                        <td id=\"T_674d7f0a_d1bd_11e9_850d_95e83037ebderow0_col15\" class=\"data row0 col15\" >0.00200758</td>\n",
       "            </tr>\n",
       "            <tr>\n",
       "                        <th id=\"T_674d7f0a_d1bd_11e9_850d_95e83037ebdelevel0_row1\" class=\"row_heading level0 row1\" >op_status</th>\n",
       "                        <td id=\"T_674d7f0a_d1bd_11e9_850d_95e83037ebderow1_col0\" class=\"data row1 col0\" >0.00424415</td>\n",
       "                        <td id=\"T_674d7f0a_d1bd_11e9_850d_95e83037ebderow1_col1\" class=\"data row1 col1\" >1</td>\n",
       "                        <td id=\"T_674d7f0a_d1bd_11e9_850d_95e83037ebderow1_col2\" class=\"data row1 col2\" >-0.042204</td>\n",
       "                        <td id=\"T_674d7f0a_d1bd_11e9_850d_95e83037ebderow1_col3\" class=\"data row1 col3\" >-0.138565</td>\n",
       "                        <td id=\"T_674d7f0a_d1bd_11e9_850d_95e83037ebderow1_col4\" class=\"data row1 col4\" >-0.0834098</td>\n",
       "                        <td id=\"T_674d7f0a_d1bd_11e9_850d_95e83037ebderow1_col5\" class=\"data row1 col5\" >-0.0373308</td>\n",
       "                        <td id=\"T_674d7f0a_d1bd_11e9_850d_95e83037ebderow1_col6\" class=\"data row1 col6\" >-0.0222305</td>\n",
       "                        <td id=\"T_674d7f0a_d1bd_11e9_850d_95e83037ebderow1_col7\" class=\"data row1 col7\" >-0.0183222</td>\n",
       "                        <td id=\"T_674d7f0a_d1bd_11e9_850d_95e83037ebderow1_col8\" class=\"data row1 col8\" >-0.00426099</td>\n",
       "                        <td id=\"T_674d7f0a_d1bd_11e9_850d_95e83037ebderow1_col9\" class=\"data row1 col9\" >-0.0757132</td>\n",
       "                        <td id=\"T_674d7f0a_d1bd_11e9_850d_95e83037ebderow1_col10\" class=\"data row1 col10\" >-0.0509091</td>\n",
       "                        <td id=\"T_674d7f0a_d1bd_11e9_850d_95e83037ebderow1_col11\" class=\"data row1 col11\" >0.382419</td>\n",
       "                        <td id=\"T_674d7f0a_d1bd_11e9_850d_95e83037ebderow1_col12\" class=\"data row1 col12\" >0.374952</td>\n",
       "                        <td id=\"T_674d7f0a_d1bd_11e9_850d_95e83037ebderow1_col13\" class=\"data row1 col13\" >-0.00692052</td>\n",
       "                        <td id=\"T_674d7f0a_d1bd_11e9_850d_95e83037ebderow1_col14\" class=\"data row1 col14\" >0.120127</td>\n",
       "                        <td id=\"T_674d7f0a_d1bd_11e9_850d_95e83037ebderow1_col15\" class=\"data row1 col15\" >0.373556</td>\n",
       "            </tr>\n",
       "            <tr>\n",
       "                        <th id=\"T_674d7f0a_d1bd_11e9_850d_95e83037ebdelevel0_row2\" class=\"row_heading level0 row2\" >domain</th>\n",
       "                        <td id=\"T_674d7f0a_d1bd_11e9_850d_95e83037ebderow2_col0\" class=\"data row2 col0\" >-0.00599266</td>\n",
       "                        <td id=\"T_674d7f0a_d1bd_11e9_850d_95e83037ebderow2_col1\" class=\"data row2 col1\" >-0.042204</td>\n",
       "                        <td id=\"T_674d7f0a_d1bd_11e9_850d_95e83037ebderow2_col2\" class=\"data row2 col2\" >1</td>\n",
       "                        <td id=\"T_674d7f0a_d1bd_11e9_850d_95e83037ebderow2_col3\" class=\"data row2 col3\" >0.00127206</td>\n",
       "                        <td id=\"T_674d7f0a_d1bd_11e9_850d_95e83037ebderow2_col4\" class=\"data row2 col4\" >0.0231557</td>\n",
       "                        <td id=\"T_674d7f0a_d1bd_11e9_850d_95e83037ebderow2_col5\" class=\"data row2 col5\" >-0.0176847</td>\n",
       "                        <td id=\"T_674d7f0a_d1bd_11e9_850d_95e83037ebderow2_col6\" class=\"data row2 col6\" >-0.0122791</td>\n",
       "                        <td id=\"T_674d7f0a_d1bd_11e9_850d_95e83037ebderow2_col7\" class=\"data row2 col7\" >-0.011979</td>\n",
       "                        <td id=\"T_674d7f0a_d1bd_11e9_850d_95e83037ebderow2_col8\" class=\"data row2 col8\" >-0.0305227</td>\n",
       "                        <td id=\"T_674d7f0a_d1bd_11e9_850d_95e83037ebderow2_col9\" class=\"data row2 col9\" >-0.101917</td>\n",
       "                        <td id=\"T_674d7f0a_d1bd_11e9_850d_95e83037ebderow2_col10\" class=\"data row2 col10\" >-0.0979349</td>\n",
       "                        <td id=\"T_674d7f0a_d1bd_11e9_850d_95e83037ebderow2_col11\" class=\"data row2 col11\" >-0.0896184</td>\n",
       "                        <td id=\"T_674d7f0a_d1bd_11e9_850d_95e83037ebderow2_col12\" class=\"data row2 col12\" >-0.151784</td>\n",
       "                        <td id=\"T_674d7f0a_d1bd_11e9_850d_95e83037ebderow2_col13\" class=\"data row2 col13\" >-0.0102708</td>\n",
       "                        <td id=\"T_674d7f0a_d1bd_11e9_850d_95e83037ebderow2_col14\" class=\"data row2 col14\" >-0.032276</td>\n",
       "                        <td id=\"T_674d7f0a_d1bd_11e9_850d_95e83037ebderow2_col15\" class=\"data row2 col15\" >-0.15316</td>\n",
       "            </tr>\n",
       "            <tr>\n",
       "                        <th id=\"T_674d7f0a_d1bd_11e9_850d_95e83037ebdelevel0_row3\" class=\"row_heading level0 row3\" >hq_country_code</th>\n",
       "                        <td id=\"T_674d7f0a_d1bd_11e9_850d_95e83037ebderow3_col0\" class=\"data row3 col0\" >0.00686741</td>\n",
       "                        <td id=\"T_674d7f0a_d1bd_11e9_850d_95e83037ebderow3_col1\" class=\"data row3 col1\" >-0.138565</td>\n",
       "                        <td id=\"T_674d7f0a_d1bd_11e9_850d_95e83037ebderow3_col2\" class=\"data row3 col2\" >0.00127206</td>\n",
       "                        <td id=\"T_674d7f0a_d1bd_11e9_850d_95e83037ebderow3_col3\" class=\"data row3 col3\" >1</td>\n",
       "                        <td id=\"T_674d7f0a_d1bd_11e9_850d_95e83037ebderow3_col4\" class=\"data row3 col4\" >0.542953</td>\n",
       "                        <td id=\"T_674d7f0a_d1bd_11e9_850d_95e83037ebderow3_col5\" class=\"data row3 col5\" >0.123171</td>\n",
       "                        <td id=\"T_674d7f0a_d1bd_11e9_850d_95e83037ebderow3_col6\" class=\"data row3 col6\" >0.0722513</td>\n",
       "                        <td id=\"T_674d7f0a_d1bd_11e9_850d_95e83037ebderow3_col7\" class=\"data row3 col7\" >0.0156205</td>\n",
       "                        <td id=\"T_674d7f0a_d1bd_11e9_850d_95e83037ebderow3_col8\" class=\"data row3 col8\" >0.0241277</td>\n",
       "                        <td id=\"T_674d7f0a_d1bd_11e9_850d_95e83037ebderow3_col9\" class=\"data row3 col9\" >0.138996</td>\n",
       "                        <td id=\"T_674d7f0a_d1bd_11e9_850d_95e83037ebderow3_col10\" class=\"data row3 col10\" >0.0920669</td>\n",
       "                        <td id=\"T_674d7f0a_d1bd_11e9_850d_95e83037ebderow3_col11\" class=\"data row3 col11\" >-0.105616</td>\n",
       "                        <td id=\"T_674d7f0a_d1bd_11e9_850d_95e83037ebderow3_col12\" class=\"data row3 col12\" >-0.0585335</td>\n",
       "                        <td id=\"T_674d7f0a_d1bd_11e9_850d_95e83037ebderow3_col13\" class=\"data row3 col13\" >0.000949127</td>\n",
       "                        <td id=\"T_674d7f0a_d1bd_11e9_850d_95e83037ebderow3_col14\" class=\"data row3 col14\" >-0.03983</td>\n",
       "                        <td id=\"T_674d7f0a_d1bd_11e9_850d_95e83037ebderow3_col15\" class=\"data row3 col15\" >-0.0573449</td>\n",
       "            </tr>\n",
       "            <tr>\n",
       "                        <th id=\"T_674d7f0a_d1bd_11e9_850d_95e83037ebdelevel0_row4\" class=\"row_heading level0 row4\" >hq_state_code</th>\n",
       "                        <td id=\"T_674d7f0a_d1bd_11e9_850d_95e83037ebderow4_col0\" class=\"data row4 col0\" >0.00875614</td>\n",
       "                        <td id=\"T_674d7f0a_d1bd_11e9_850d_95e83037ebderow4_col1\" class=\"data row4 col1\" >-0.0834098</td>\n",
       "                        <td id=\"T_674d7f0a_d1bd_11e9_850d_95e83037ebderow4_col2\" class=\"data row4 col2\" >0.0231557</td>\n",
       "                        <td id=\"T_674d7f0a_d1bd_11e9_850d_95e83037ebderow4_col3\" class=\"data row4 col3\" >0.542953</td>\n",
       "                        <td id=\"T_674d7f0a_d1bd_11e9_850d_95e83037ebderow4_col4\" class=\"data row4 col4\" >1</td>\n",
       "                        <td id=\"T_674d7f0a_d1bd_11e9_850d_95e83037ebderow4_col5\" class=\"data row4 col5\" >0.0573672</td>\n",
       "                        <td id=\"T_674d7f0a_d1bd_11e9_850d_95e83037ebderow4_col6\" class=\"data row4 col6\" >0.00808193</td>\n",
       "                        <td id=\"T_674d7f0a_d1bd_11e9_850d_95e83037ebderow4_col7\" class=\"data row4 col7\" >0.0029013</td>\n",
       "                        <td id=\"T_674d7f0a_d1bd_11e9_850d_95e83037ebderow4_col8\" class=\"data row4 col8\" >0.0180297</td>\n",
       "                        <td id=\"T_674d7f0a_d1bd_11e9_850d_95e83037ebderow4_col9\" class=\"data row4 col9\" >0.0192206</td>\n",
       "                        <td id=\"T_674d7f0a_d1bd_11e9_850d_95e83037ebderow4_col10\" class=\"data row4 col10\" >0.0280378</td>\n",
       "                        <td id=\"T_674d7f0a_d1bd_11e9_850d_95e83037ebderow4_col11\" class=\"data row4 col11\" >-0.0730989</td>\n",
       "                        <td id=\"T_674d7f0a_d1bd_11e9_850d_95e83037ebderow4_col12\" class=\"data row4 col12\" >-0.0605681</td>\n",
       "                        <td id=\"T_674d7f0a_d1bd_11e9_850d_95e83037ebderow4_col13\" class=\"data row4 col13\" >0.00485049</td>\n",
       "                        <td id=\"T_674d7f0a_d1bd_11e9_850d_95e83037ebderow4_col14\" class=\"data row4 col14\" >-0.0236546</td>\n",
       "                        <td id=\"T_674d7f0a_d1bd_11e9_850d_95e83037ebderow4_col15\" class=\"data row4 col15\" >-0.0592065</td>\n",
       "            </tr>\n",
       "            <tr>\n",
       "                        <th id=\"T_674d7f0a_d1bd_11e9_850d_95e83037ebdelevel0_row5\" class=\"row_heading level0 row5\" >hq_region</th>\n",
       "                        <td id=\"T_674d7f0a_d1bd_11e9_850d_95e83037ebderow5_col0\" class=\"data row5 col0\" >-0.0040925</td>\n",
       "                        <td id=\"T_674d7f0a_d1bd_11e9_850d_95e83037ebderow5_col1\" class=\"data row5 col1\" >-0.0373308</td>\n",
       "                        <td id=\"T_674d7f0a_d1bd_11e9_850d_95e83037ebderow5_col2\" class=\"data row5 col2\" >-0.0176847</td>\n",
       "                        <td id=\"T_674d7f0a_d1bd_11e9_850d_95e83037ebderow5_col3\" class=\"data row5 col3\" >0.123171</td>\n",
       "                        <td id=\"T_674d7f0a_d1bd_11e9_850d_95e83037ebderow5_col4\" class=\"data row5 col4\" >0.0573672</td>\n",
       "                        <td id=\"T_674d7f0a_d1bd_11e9_850d_95e83037ebderow5_col5\" class=\"data row5 col5\" >1</td>\n",
       "                        <td id=\"T_674d7f0a_d1bd_11e9_850d_95e83037ebderow5_col6\" class=\"data row5 col6\" >0.693861</td>\n",
       "                        <td id=\"T_674d7f0a_d1bd_11e9_850d_95e83037ebderow5_col7\" class=\"data row5 col7\" >-0.0057674</td>\n",
       "                        <td id=\"T_674d7f0a_d1bd_11e9_850d_95e83037ebderow5_col8\" class=\"data row5 col8\" >-0.00769403</td>\n",
       "                        <td id=\"T_674d7f0a_d1bd_11e9_850d_95e83037ebderow5_col9\" class=\"data row5 col9\" >0.0583401</td>\n",
       "                        <td id=\"T_674d7f0a_d1bd_11e9_850d_95e83037ebderow5_col10\" class=\"data row5 col10\" >-0.00208797</td>\n",
       "                        <td id=\"T_674d7f0a_d1bd_11e9_850d_95e83037ebderow5_col11\" class=\"data row5 col11\" >0.0105729</td>\n",
       "                        <td id=\"T_674d7f0a_d1bd_11e9_850d_95e83037ebderow5_col12\" class=\"data row5 col12\" >0.00984963</td>\n",
       "                        <td id=\"T_674d7f0a_d1bd_11e9_850d_95e83037ebderow5_col13\" class=\"data row5 col13\" >0.00106781</td>\n",
       "                        <td id=\"T_674d7f0a_d1bd_11e9_850d_95e83037ebderow5_col14\" class=\"data row5 col14\" >0.0248744</td>\n",
       "                        <td id=\"T_674d7f0a_d1bd_11e9_850d_95e83037ebderow5_col15\" class=\"data row5 col15\" >0.011069</td>\n",
       "            </tr>\n",
       "            <tr>\n",
       "                        <th id=\"T_674d7f0a_d1bd_11e9_850d_95e83037ebdelevel0_row6\" class=\"row_heading level0 row6\" >hq_city</th>\n",
       "                        <td id=\"T_674d7f0a_d1bd_11e9_850d_95e83037ebderow6_col0\" class=\"data row6 col0\" >-0.007762</td>\n",
       "                        <td id=\"T_674d7f0a_d1bd_11e9_850d_95e83037ebderow6_col1\" class=\"data row6 col1\" >-0.0222305</td>\n",
       "                        <td id=\"T_674d7f0a_d1bd_11e9_850d_95e83037ebderow6_col2\" class=\"data row6 col2\" >-0.0122791</td>\n",
       "                        <td id=\"T_674d7f0a_d1bd_11e9_850d_95e83037ebderow6_col3\" class=\"data row6 col3\" >0.0722513</td>\n",
       "                        <td id=\"T_674d7f0a_d1bd_11e9_850d_95e83037ebderow6_col4\" class=\"data row6 col4\" >0.00808193</td>\n",
       "                        <td id=\"T_674d7f0a_d1bd_11e9_850d_95e83037ebderow6_col5\" class=\"data row6 col5\" >0.693861</td>\n",
       "                        <td id=\"T_674d7f0a_d1bd_11e9_850d_95e83037ebderow6_col6\" class=\"data row6 col6\" >1</td>\n",
       "                        <td id=\"T_674d7f0a_d1bd_11e9_850d_95e83037ebderow6_col7\" class=\"data row6 col7\" >-0.00689841</td>\n",
       "                        <td id=\"T_674d7f0a_d1bd_11e9_850d_95e83037ebderow6_col8\" class=\"data row6 col8\" >0.00174888</td>\n",
       "                        <td id=\"T_674d7f0a_d1bd_11e9_850d_95e83037ebderow6_col9\" class=\"data row6 col9\" >0.0514547</td>\n",
       "                        <td id=\"T_674d7f0a_d1bd_11e9_850d_95e83037ebderow6_col10\" class=\"data row6 col10\" >-0.013936</td>\n",
       "                        <td id=\"T_674d7f0a_d1bd_11e9_850d_95e83037ebderow6_col11\" class=\"data row6 col11\" >0.00791769</td>\n",
       "                        <td id=\"T_674d7f0a_d1bd_11e9_850d_95e83037ebderow6_col12\" class=\"data row6 col12\" >0.000405213</td>\n",
       "                        <td id=\"T_674d7f0a_d1bd_11e9_850d_95e83037ebderow6_col13\" class=\"data row6 col13\" >-0.0101619</td>\n",
       "                        <td id=\"T_674d7f0a_d1bd_11e9_850d_95e83037ebderow6_col14\" class=\"data row6 col14\" >0.0234438</td>\n",
       "                        <td id=\"T_674d7f0a_d1bd_11e9_850d_95e83037ebderow6_col15\" class=\"data row6 col15\" >0.000562947</td>\n",
       "            </tr>\n",
       "            <tr>\n",
       "                        <th id=\"T_674d7f0a_d1bd_11e9_850d_95e83037ebdelevel0_row7\" class=\"row_heading level0 row7\" >total_funding_usd</th>\n",
       "                        <td id=\"T_674d7f0a_d1bd_11e9_850d_95e83037ebderow7_col0\" class=\"data row7 col0\" >-0.00104318</td>\n",
       "                        <td id=\"T_674d7f0a_d1bd_11e9_850d_95e83037ebderow7_col1\" class=\"data row7 col1\" >-0.0183222</td>\n",
       "                        <td id=\"T_674d7f0a_d1bd_11e9_850d_95e83037ebderow7_col2\" class=\"data row7 col2\" >-0.011979</td>\n",
       "                        <td id=\"T_674d7f0a_d1bd_11e9_850d_95e83037ebderow7_col3\" class=\"data row7 col3\" >0.0156205</td>\n",
       "                        <td id=\"T_674d7f0a_d1bd_11e9_850d_95e83037ebderow7_col4\" class=\"data row7 col4\" >0.0029013</td>\n",
       "                        <td id=\"T_674d7f0a_d1bd_11e9_850d_95e83037ebderow7_col5\" class=\"data row7 col5\" >-0.0057674</td>\n",
       "                        <td id=\"T_674d7f0a_d1bd_11e9_850d_95e83037ebderow7_col6\" class=\"data row7 col6\" >-0.00689841</td>\n",
       "                        <td id=\"T_674d7f0a_d1bd_11e9_850d_95e83037ebderow7_col7\" class=\"data row7 col7\" >1</td>\n",
       "                        <td id=\"T_674d7f0a_d1bd_11e9_850d_95e83037ebderow7_col8\" class=\"data row7 col8\" >0.0350028</td>\n",
       "                        <td id=\"T_674d7f0a_d1bd_11e9_850d_95e83037ebderow7_col9\" class=\"data row7 col9\" >0.11575</td>\n",
       "                        <td id=\"T_674d7f0a_d1bd_11e9_850d_95e83037ebderow7_col10\" class=\"data row7 col10\" >0.104682</td>\n",
       "                        <td id=\"T_674d7f0a_d1bd_11e9_850d_95e83037ebderow7_col11\" class=\"data row7 col11\" >-0.0473039</td>\n",
       "                        <td id=\"T_674d7f0a_d1bd_11e9_850d_95e83037ebderow7_col12\" class=\"data row7 col12\" >0.0110388</td>\n",
       "                        <td id=\"T_674d7f0a_d1bd_11e9_850d_95e83037ebderow7_col13\" class=\"data row7 col13\" >-0.000462764</td>\n",
       "                        <td id=\"T_674d7f0a_d1bd_11e9_850d_95e83037ebderow7_col14\" class=\"data row7 col14\" >-0.066397</td>\n",
       "                        <td id=\"T_674d7f0a_d1bd_11e9_850d_95e83037ebderow7_col15\" class=\"data row7 col15\" >0.0108476</td>\n",
       "            </tr>\n",
       "            <tr>\n",
       "                        <th id=\"T_674d7f0a_d1bd_11e9_850d_95e83037ebdelevel0_row8\" class=\"row_heading level0 row8\" >funding_rounds</th>\n",
       "                        <td id=\"T_674d7f0a_d1bd_11e9_850d_95e83037ebderow8_col0\" class=\"data row8 col0\" >-0.00215896</td>\n",
       "                        <td id=\"T_674d7f0a_d1bd_11e9_850d_95e83037ebderow8_col1\" class=\"data row8 col1\" >-0.00426099</td>\n",
       "                        <td id=\"T_674d7f0a_d1bd_11e9_850d_95e83037ebderow8_col2\" class=\"data row8 col2\" >-0.0305227</td>\n",
       "                        <td id=\"T_674d7f0a_d1bd_11e9_850d_95e83037ebderow8_col3\" class=\"data row8 col3\" >0.0241277</td>\n",
       "                        <td id=\"T_674d7f0a_d1bd_11e9_850d_95e83037ebderow8_col4\" class=\"data row8 col4\" >0.0180297</td>\n",
       "                        <td id=\"T_674d7f0a_d1bd_11e9_850d_95e83037ebderow8_col5\" class=\"data row8 col5\" >-0.00769403</td>\n",
       "                        <td id=\"T_674d7f0a_d1bd_11e9_850d_95e83037ebderow8_col6\" class=\"data row8 col6\" >0.00174888</td>\n",
       "                        <td id=\"T_674d7f0a_d1bd_11e9_850d_95e83037ebderow8_col7\" class=\"data row8 col7\" >0.0350028</td>\n",
       "                        <td id=\"T_674d7f0a_d1bd_11e9_850d_95e83037ebderow8_col8\" class=\"data row8 col8\" >1</td>\n",
       "                        <td id=\"T_674d7f0a_d1bd_11e9_850d_95e83037ebderow8_col9\" class=\"data row8 col9\" >0.17233</td>\n",
       "                        <td id=\"T_674d7f0a_d1bd_11e9_850d_95e83037ebderow8_col10\" class=\"data row8 col10\" >0.20677</td>\n",
       "                        <td id=\"T_674d7f0a_d1bd_11e9_850d_95e83037ebderow8_col11\" class=\"data row8 col11\" >-0.0928976</td>\n",
       "                        <td id=\"T_674d7f0a_d1bd_11e9_850d_95e83037ebderow8_col12\" class=\"data row8 col12\" >0.0442062</td>\n",
       "                        <td id=\"T_674d7f0a_d1bd_11e9_850d_95e83037ebderow8_col13\" class=\"data row8 col13\" >-0.000452419</td>\n",
       "                        <td id=\"T_674d7f0a_d1bd_11e9_850d_95e83037ebderow8_col14\" class=\"data row8 col14\" >-0.0245823</td>\n",
       "                        <td id=\"T_674d7f0a_d1bd_11e9_850d_95e83037ebderow8_col15\" class=\"data row8 col15\" >0.0441837</td>\n",
       "            </tr>\n",
       "            <tr>\n",
       "                        <th id=\"T_674d7f0a_d1bd_11e9_850d_95e83037ebdelevel0_row9\" class=\"row_heading level0 row9\" >num_investors</th>\n",
       "                        <td id=\"T_674d7f0a_d1bd_11e9_850d_95e83037ebderow9_col0\" class=\"data row9 col0\" >-0.00144497</td>\n",
       "                        <td id=\"T_674d7f0a_d1bd_11e9_850d_95e83037ebderow9_col1\" class=\"data row9 col1\" >-0.0757132</td>\n",
       "                        <td id=\"T_674d7f0a_d1bd_11e9_850d_95e83037ebderow9_col2\" class=\"data row9 col2\" >-0.101917</td>\n",
       "                        <td id=\"T_674d7f0a_d1bd_11e9_850d_95e83037ebderow9_col3\" class=\"data row9 col3\" >0.138996</td>\n",
       "                        <td id=\"T_674d7f0a_d1bd_11e9_850d_95e83037ebderow9_col4\" class=\"data row9 col4\" >0.0192206</td>\n",
       "                        <td id=\"T_674d7f0a_d1bd_11e9_850d_95e83037ebderow9_col5\" class=\"data row9 col5\" >0.0583401</td>\n",
       "                        <td id=\"T_674d7f0a_d1bd_11e9_850d_95e83037ebderow9_col6\" class=\"data row9 col6\" >0.0514547</td>\n",
       "                        <td id=\"T_674d7f0a_d1bd_11e9_850d_95e83037ebderow9_col7\" class=\"data row9 col7\" >0.11575</td>\n",
       "                        <td id=\"T_674d7f0a_d1bd_11e9_850d_95e83037ebderow9_col8\" class=\"data row9 col8\" >0.17233</td>\n",
       "                        <td id=\"T_674d7f0a_d1bd_11e9_850d_95e83037ebderow9_col9\" class=\"data row9 col9\" >1</td>\n",
       "                        <td id=\"T_674d7f0a_d1bd_11e9_850d_95e83037ebderow9_col10\" class=\"data row9 col10\" >0.502755</td>\n",
       "                        <td id=\"T_674d7f0a_d1bd_11e9_850d_95e83037ebderow9_col11\" class=\"data row9 col11\" >-0.18018</td>\n",
       "                        <td id=\"T_674d7f0a_d1bd_11e9_850d_95e83037ebderow9_col12\" class=\"data row9 col12\" >0.10278</td>\n",
       "                        <td id=\"T_674d7f0a_d1bd_11e9_850d_95e83037ebderow9_col13\" class=\"data row9 col13\" >-0.00281844</td>\n",
       "                        <td id=\"T_674d7f0a_d1bd_11e9_850d_95e83037ebderow9_col14\" class=\"data row9 col14\" >-0.0586563</td>\n",
       "                        <td id=\"T_674d7f0a_d1bd_11e9_850d_95e83037ebderow9_col15\" class=\"data row9 col15\" >0.100461</td>\n",
       "            </tr>\n",
       "            <tr>\n",
       "                        <th id=\"T_674d7f0a_d1bd_11e9_850d_95e83037ebdelevel0_row10\" class=\"row_heading level0 row10\" >funding_duration</th>\n",
       "                        <td id=\"T_674d7f0a_d1bd_11e9_850d_95e83037ebderow10_col0\" class=\"data row10 col0\" >-0.000545184</td>\n",
       "                        <td id=\"T_674d7f0a_d1bd_11e9_850d_95e83037ebderow10_col1\" class=\"data row10 col1\" >-0.0509091</td>\n",
       "                        <td id=\"T_674d7f0a_d1bd_11e9_850d_95e83037ebderow10_col2\" class=\"data row10 col2\" >-0.0979349</td>\n",
       "                        <td id=\"T_674d7f0a_d1bd_11e9_850d_95e83037ebderow10_col3\" class=\"data row10 col3\" >0.0920669</td>\n",
       "                        <td id=\"T_674d7f0a_d1bd_11e9_850d_95e83037ebderow10_col4\" class=\"data row10 col4\" >0.0280378</td>\n",
       "                        <td id=\"T_674d7f0a_d1bd_11e9_850d_95e83037ebderow10_col5\" class=\"data row10 col5\" >-0.00208797</td>\n",
       "                        <td id=\"T_674d7f0a_d1bd_11e9_850d_95e83037ebderow10_col6\" class=\"data row10 col6\" >-0.013936</td>\n",
       "                        <td id=\"T_674d7f0a_d1bd_11e9_850d_95e83037ebderow10_col7\" class=\"data row10 col7\" >0.104682</td>\n",
       "                        <td id=\"T_674d7f0a_d1bd_11e9_850d_95e83037ebderow10_col8\" class=\"data row10 col8\" >0.20677</td>\n",
       "                        <td id=\"T_674d7f0a_d1bd_11e9_850d_95e83037ebderow10_col9\" class=\"data row10 col9\" >0.502755</td>\n",
       "                        <td id=\"T_674d7f0a_d1bd_11e9_850d_95e83037ebderow10_col10\" class=\"data row10 col10\" >1</td>\n",
       "                        <td id=\"T_674d7f0a_d1bd_11e9_850d_95e83037ebderow10_col11\" class=\"data row10 col11\" >-0.371351</td>\n",
       "                        <td id=\"T_674d7f0a_d1bd_11e9_850d_95e83037ebderow10_col12\" class=\"data row10 col12\" >0.190895</td>\n",
       "                        <td id=\"T_674d7f0a_d1bd_11e9_850d_95e83037ebderow10_col13\" class=\"data row10 col13\" >-0.00276825</td>\n",
       "                        <td id=\"T_674d7f0a_d1bd_11e9_850d_95e83037ebderow10_col14\" class=\"data row10 col14\" >-0.160506</td>\n",
       "                        <td id=\"T_674d7f0a_d1bd_11e9_850d_95e83037ebderow10_col15\" class=\"data row10 col15\" >0.189018</td>\n",
       "            </tr>\n",
       "            <tr>\n",
       "                        <th id=\"T_674d7f0a_d1bd_11e9_850d_95e83037ebdelevel0_row11\" class=\"row_heading level0 row11\" >first_funding_utc</th>\n",
       "                        <td id=\"T_674d7f0a_d1bd_11e9_850d_95e83037ebderow11_col0\" class=\"data row11 col0\" >0.0024197</td>\n",
       "                        <td id=\"T_674d7f0a_d1bd_11e9_850d_95e83037ebderow11_col1\" class=\"data row11 col1\" >0.382419</td>\n",
       "                        <td id=\"T_674d7f0a_d1bd_11e9_850d_95e83037ebderow11_col2\" class=\"data row11 col2\" >-0.0896184</td>\n",
       "                        <td id=\"T_674d7f0a_d1bd_11e9_850d_95e83037ebderow11_col3\" class=\"data row11 col3\" >-0.105616</td>\n",
       "                        <td id=\"T_674d7f0a_d1bd_11e9_850d_95e83037ebderow11_col4\" class=\"data row11 col4\" >-0.0730989</td>\n",
       "                        <td id=\"T_674d7f0a_d1bd_11e9_850d_95e83037ebderow11_col5\" class=\"data row11 col5\" >0.0105729</td>\n",
       "                        <td id=\"T_674d7f0a_d1bd_11e9_850d_95e83037ebderow11_col6\" class=\"data row11 col6\" >0.00791769</td>\n",
       "                        <td id=\"T_674d7f0a_d1bd_11e9_850d_95e83037ebderow11_col7\" class=\"data row11 col7\" >-0.0473039</td>\n",
       "                        <td id=\"T_674d7f0a_d1bd_11e9_850d_95e83037ebderow11_col8\" class=\"data row11 col8\" >-0.0928976</td>\n",
       "                        <td id=\"T_674d7f0a_d1bd_11e9_850d_95e83037ebderow11_col9\" class=\"data row11 col9\" >-0.18018</td>\n",
       "                        <td id=\"T_674d7f0a_d1bd_11e9_850d_95e83037ebderow11_col10\" class=\"data row11 col10\" >-0.371351</td>\n",
       "                        <td id=\"T_674d7f0a_d1bd_11e9_850d_95e83037ebderow11_col11\" class=\"data row11 col11\" >1</td>\n",
       "                        <td id=\"T_674d7f0a_d1bd_11e9_850d_95e83037ebderow11_col12\" class=\"data row11 col12\" >0.839209</td>\n",
       "                        <td id=\"T_674d7f0a_d1bd_11e9_850d_95e83037ebderow11_col13\" class=\"data row11 col13\" >-0.0529381</td>\n",
       "                        <td id=\"T_674d7f0a_d1bd_11e9_850d_95e83037ebderow11_col14\" class=\"data row11 col14\" >0.283955</td>\n",
       "                        <td id=\"T_674d7f0a_d1bd_11e9_850d_95e83037ebderow11_col15\" class=\"data row11 col15\" >0.835659</td>\n",
       "            </tr>\n",
       "            <tr>\n",
       "                        <th id=\"T_674d7f0a_d1bd_11e9_850d_95e83037ebdelevel0_row12\" class=\"row_heading level0 row12\" >last_funding_utc</th>\n",
       "                        <td id=\"T_674d7f0a_d1bd_11e9_850d_95e83037ebderow12_col0\" class=\"data row12 col0\" >0.00244469</td>\n",
       "                        <td id=\"T_674d7f0a_d1bd_11e9_850d_95e83037ebderow12_col1\" class=\"data row12 col1\" >0.374952</td>\n",
       "                        <td id=\"T_674d7f0a_d1bd_11e9_850d_95e83037ebderow12_col2\" class=\"data row12 col2\" >-0.151784</td>\n",
       "                        <td id=\"T_674d7f0a_d1bd_11e9_850d_95e83037ebderow12_col3\" class=\"data row12 col3\" >-0.0585335</td>\n",
       "                        <td id=\"T_674d7f0a_d1bd_11e9_850d_95e83037ebderow12_col4\" class=\"data row12 col4\" >-0.0605681</td>\n",
       "                        <td id=\"T_674d7f0a_d1bd_11e9_850d_95e83037ebderow12_col5\" class=\"data row12 col5\" >0.00984963</td>\n",
       "                        <td id=\"T_674d7f0a_d1bd_11e9_850d_95e83037ebderow12_col6\" class=\"data row12 col6\" >0.000405213</td>\n",
       "                        <td id=\"T_674d7f0a_d1bd_11e9_850d_95e83037ebderow12_col7\" class=\"data row12 col7\" >0.0110388</td>\n",
       "                        <td id=\"T_674d7f0a_d1bd_11e9_850d_95e83037ebderow12_col8\" class=\"data row12 col8\" >0.0442062</td>\n",
       "                        <td id=\"T_674d7f0a_d1bd_11e9_850d_95e83037ebderow12_col9\" class=\"data row12 col9\" >0.10278</td>\n",
       "                        <td id=\"T_674d7f0a_d1bd_11e9_850d_95e83037ebderow12_col10\" class=\"data row12 col10\" >0.190895</td>\n",
       "                        <td id=\"T_674d7f0a_d1bd_11e9_850d_95e83037ebderow12_col11\" class=\"data row12 col11\" >0.839209</td>\n",
       "                        <td id=\"T_674d7f0a_d1bd_11e9_850d_95e83037ebderow12_col12\" class=\"data row12 col12\" >1</td>\n",
       "                        <td id=\"T_674d7f0a_d1bd_11e9_850d_95e83037ebderow12_col13\" class=\"data row12 col13\" >-0.0577016</td>\n",
       "                        <td id=\"T_674d7f0a_d1bd_11e9_850d_95e83037ebderow12_col14\" class=\"data row12 col14\" >0.207278</td>\n",
       "                        <td id=\"T_674d7f0a_d1bd_11e9_850d_95e83037ebderow12_col15\" class=\"data row12 col15\" >0.995182</td>\n",
       "            </tr>\n",
       "            <tr>\n",
       "                        <th id=\"T_674d7f0a_d1bd_11e9_850d_95e83037ebdelevel0_row13\" class=\"row_heading level0 row13\" >successful_investment</th>\n",
       "                        <td id=\"T_674d7f0a_d1bd_11e9_850d_95e83037ebderow13_col0\" class=\"data row13 col0\" >-0.00534896</td>\n",
       "                        <td id=\"T_674d7f0a_d1bd_11e9_850d_95e83037ebderow13_col1\" class=\"data row13 col1\" >-0.00692052</td>\n",
       "                        <td id=\"T_674d7f0a_d1bd_11e9_850d_95e83037ebderow13_col2\" class=\"data row13 col2\" >-0.0102708</td>\n",
       "                        <td id=\"T_674d7f0a_d1bd_11e9_850d_95e83037ebderow13_col3\" class=\"data row13 col3\" >0.000949127</td>\n",
       "                        <td id=\"T_674d7f0a_d1bd_11e9_850d_95e83037ebderow13_col4\" class=\"data row13 col4\" >0.00485049</td>\n",
       "                        <td id=\"T_674d7f0a_d1bd_11e9_850d_95e83037ebderow13_col5\" class=\"data row13 col5\" >0.00106781</td>\n",
       "                        <td id=\"T_674d7f0a_d1bd_11e9_850d_95e83037ebderow13_col6\" class=\"data row13 col6\" >-0.0101619</td>\n",
       "                        <td id=\"T_674d7f0a_d1bd_11e9_850d_95e83037ebderow13_col7\" class=\"data row13 col7\" >-0.000462764</td>\n",
       "                        <td id=\"T_674d7f0a_d1bd_11e9_850d_95e83037ebderow13_col8\" class=\"data row13 col8\" >-0.000452419</td>\n",
       "                        <td id=\"T_674d7f0a_d1bd_11e9_850d_95e83037ebderow13_col9\" class=\"data row13 col9\" >-0.00281844</td>\n",
       "                        <td id=\"T_674d7f0a_d1bd_11e9_850d_95e83037ebderow13_col10\" class=\"data row13 col10\" >-0.00276825</td>\n",
       "                        <td id=\"T_674d7f0a_d1bd_11e9_850d_95e83037ebderow13_col11\" class=\"data row13 col11\" >-0.0529381</td>\n",
       "                        <td id=\"T_674d7f0a_d1bd_11e9_850d_95e83037ebderow13_col12\" class=\"data row13 col12\" >-0.0577016</td>\n",
       "                        <td id=\"T_674d7f0a_d1bd_11e9_850d_95e83037ebderow13_col13\" class=\"data row13 col13\" >1</td>\n",
       "                        <td id=\"T_674d7f0a_d1bd_11e9_850d_95e83037ebderow13_col14\" class=\"data row13 col14\" >0.00321636</td>\n",
       "                        <td id=\"T_674d7f0a_d1bd_11e9_850d_95e83037ebderow13_col15\" class=\"data row13 col15\" >0.000326279</td>\n",
       "            </tr>\n",
       "            <tr>\n",
       "                        <th id=\"T_674d7f0a_d1bd_11e9_850d_95e83037ebdelevel0_row14\" class=\"row_heading level0 row14\" >founding_year</th>\n",
       "                        <td id=\"T_674d7f0a_d1bd_11e9_850d_95e83037ebderow14_col0\" class=\"data row14 col0\" >0.0139882</td>\n",
       "                        <td id=\"T_674d7f0a_d1bd_11e9_850d_95e83037ebderow14_col1\" class=\"data row14 col1\" >0.120127</td>\n",
       "                        <td id=\"T_674d7f0a_d1bd_11e9_850d_95e83037ebderow14_col2\" class=\"data row14 col2\" >-0.032276</td>\n",
       "                        <td id=\"T_674d7f0a_d1bd_11e9_850d_95e83037ebderow14_col3\" class=\"data row14 col3\" >-0.03983</td>\n",
       "                        <td id=\"T_674d7f0a_d1bd_11e9_850d_95e83037ebderow14_col4\" class=\"data row14 col4\" >-0.0236546</td>\n",
       "                        <td id=\"T_674d7f0a_d1bd_11e9_850d_95e83037ebderow14_col5\" class=\"data row14 col5\" >0.0248744</td>\n",
       "                        <td id=\"T_674d7f0a_d1bd_11e9_850d_95e83037ebderow14_col6\" class=\"data row14 col6\" >0.0234438</td>\n",
       "                        <td id=\"T_674d7f0a_d1bd_11e9_850d_95e83037ebderow14_col7\" class=\"data row14 col7\" >-0.066397</td>\n",
       "                        <td id=\"T_674d7f0a_d1bd_11e9_850d_95e83037ebderow14_col8\" class=\"data row14 col8\" >-0.0245823</td>\n",
       "                        <td id=\"T_674d7f0a_d1bd_11e9_850d_95e83037ebderow14_col9\" class=\"data row14 col9\" >-0.0586563</td>\n",
       "                        <td id=\"T_674d7f0a_d1bd_11e9_850d_95e83037ebderow14_col10\" class=\"data row14 col10\" >-0.160506</td>\n",
       "                        <td id=\"T_674d7f0a_d1bd_11e9_850d_95e83037ebderow14_col11\" class=\"data row14 col11\" >0.283955</td>\n",
       "                        <td id=\"T_674d7f0a_d1bd_11e9_850d_95e83037ebderow14_col12\" class=\"data row14 col12\" >0.207278</td>\n",
       "                        <td id=\"T_674d7f0a_d1bd_11e9_850d_95e83037ebderow14_col13\" class=\"data row14 col13\" >0.00321636</td>\n",
       "                        <td id=\"T_674d7f0a_d1bd_11e9_850d_95e83037ebderow14_col14\" class=\"data row14 col14\" >1</td>\n",
       "                        <td id=\"T_674d7f0a_d1bd_11e9_850d_95e83037ebderow14_col15\" class=\"data row14 col15\" >0.207929</td>\n",
       "            </tr>\n",
       "            <tr>\n",
       "                        <th id=\"T_674d7f0a_d1bd_11e9_850d_95e83037ebdelevel0_row15\" class=\"row_heading level0 row15\" >last_funding_year</th>\n",
       "                        <td id=\"T_674d7f0a_d1bd_11e9_850d_95e83037ebderow15_col0\" class=\"data row15 col0\" >0.00200758</td>\n",
       "                        <td id=\"T_674d7f0a_d1bd_11e9_850d_95e83037ebderow15_col1\" class=\"data row15 col1\" >0.373556</td>\n",
       "                        <td id=\"T_674d7f0a_d1bd_11e9_850d_95e83037ebderow15_col2\" class=\"data row15 col2\" >-0.15316</td>\n",
       "                        <td id=\"T_674d7f0a_d1bd_11e9_850d_95e83037ebderow15_col3\" class=\"data row15 col3\" >-0.0573449</td>\n",
       "                        <td id=\"T_674d7f0a_d1bd_11e9_850d_95e83037ebderow15_col4\" class=\"data row15 col4\" >-0.0592065</td>\n",
       "                        <td id=\"T_674d7f0a_d1bd_11e9_850d_95e83037ebderow15_col5\" class=\"data row15 col5\" >0.011069</td>\n",
       "                        <td id=\"T_674d7f0a_d1bd_11e9_850d_95e83037ebderow15_col6\" class=\"data row15 col6\" >0.000562947</td>\n",
       "                        <td id=\"T_674d7f0a_d1bd_11e9_850d_95e83037ebderow15_col7\" class=\"data row15 col7\" >0.0108476</td>\n",
       "                        <td id=\"T_674d7f0a_d1bd_11e9_850d_95e83037ebderow15_col8\" class=\"data row15 col8\" >0.0441837</td>\n",
       "                        <td id=\"T_674d7f0a_d1bd_11e9_850d_95e83037ebderow15_col9\" class=\"data row15 col9\" >0.100461</td>\n",
       "                        <td id=\"T_674d7f0a_d1bd_11e9_850d_95e83037ebderow15_col10\" class=\"data row15 col10\" >0.189018</td>\n",
       "                        <td id=\"T_674d7f0a_d1bd_11e9_850d_95e83037ebderow15_col11\" class=\"data row15 col11\" >0.835659</td>\n",
       "                        <td id=\"T_674d7f0a_d1bd_11e9_850d_95e83037ebderow15_col12\" class=\"data row15 col12\" >0.995182</td>\n",
       "                        <td id=\"T_674d7f0a_d1bd_11e9_850d_95e83037ebderow15_col13\" class=\"data row15 col13\" >0.000326279</td>\n",
       "                        <td id=\"T_674d7f0a_d1bd_11e9_850d_95e83037ebderow15_col14\" class=\"data row15 col14\" >0.207929</td>\n",
       "                        <td id=\"T_674d7f0a_d1bd_11e9_850d_95e83037ebderow15_col15\" class=\"data row15 col15\" >1</td>\n",
       "            </tr>\n",
       "    </tbody></table>"
      ],
      "text/plain": [
       "<pandas.io.formats.style.Styler at 0x15a423e71d0>"
      ]
     },
     "execution_count": 159,
     "metadata": {},
     "output_type": "execute_result"
    }
   ],
   "source": [
    "corr = df.corr()\n",
    "corr.style.background_gradient(cmap='coolwarm')"
   ]
  },
  {
   "cell_type": "code",
   "execution_count": 160,
   "metadata": {},
   "outputs": [],
   "source": [
    "del df['last_funding_year']"
   ]
  },
  {
   "cell_type": "markdown",
   "metadata": {},
   "source": [
    "# Training the classifier"
   ]
  },
  {
   "cell_type": "code",
   "execution_count": 163,
   "metadata": {},
   "outputs": [],
   "source": [
    "from sklearn.tree import DecisionTreeClassifier\n",
    "from sklearn.model_selection import train_test_split\n",
    "from sklearn.metrics import accuracy_score"
   ]
  },
  {
   "cell_type": "code",
   "execution_count": 164,
   "metadata": {},
   "outputs": [],
   "source": [
    "X = df\n",
    "y = df.pop('successful_investment')"
   ]
  },
  {
   "cell_type": "code",
   "execution_count": 165,
   "metadata": {},
   "outputs": [
    {
     "name": "stdout",
     "output_type": "stream",
     "text": [
      "(28149, 14)\n",
      "(12064, 14)\n",
      "(28149,)\n",
      "(12064,)\n"
     ]
    }
   ],
   "source": [
    "X_train,X_test,y_train,y_test = train_test_split(X,y,test_size=0.3)\n",
    "#X_train=X_train.reshape((X_train.shape[0],1))\n",
    "print(X_train.shape)\n",
    "print(X_test.shape)\n",
    "print(y_train.shape)\n",
    "print(y_test.shape)"
   ]
  },
  {
   "cell_type": "code",
   "execution_count": 168,
   "metadata": {},
   "outputs": [
    {
     "name": "stdout",
     "output_type": "stream",
     "text": [
      "0.9999171087533156\n"
     ]
    }
   ],
   "source": [
    "clf = DecisionTreeClassifier(max_depth=5)\n",
    "clf.fit(X_train,y_train)\n",
    "pred=clf.predict(X_test)\n",
    "acc = accuracy_score(y_test,pred)\n",
    "print(acc)"
   ]
  },
  {
   "cell_type": "markdown",
   "metadata": {},
   "source": [
    "# Cleaning the test data"
   ]
  },
  {
   "cell_type": "code",
   "execution_count": 169,
   "metadata": {},
   "outputs": [],
   "source": [
    "df2 = pd.read_csv('test.csv',low_memory=False)"
   ]
  },
  {
   "cell_type": "code",
   "execution_count": 170,
   "metadata": {},
   "outputs": [
    {
     "data": {
      "text/plain": [
       "(4469, 19)"
      ]
     },
     "execution_count": 170,
     "metadata": {},
     "output_type": "execute_result"
    }
   ],
   "source": [
    "df2.shape"
   ]
  },
  {
   "cell_type": "code",
   "execution_count": 171,
   "metadata": {},
   "outputs": [
    {
     "data": {
      "text/html": [
       "<div>\n",
       "<style scoped>\n",
       "    .dataframe tbody tr th:only-of-type {\n",
       "        vertical-align: middle;\n",
       "    }\n",
       "\n",
       "    .dataframe tbody tr th {\n",
       "        vertical-align: top;\n",
       "    }\n",
       "\n",
       "    .dataframe thead th {\n",
       "        text-align: right;\n",
       "    }\n",
       "</style>\n",
       "<table border=\"1\" class=\"dataframe\">\n",
       "  <thead>\n",
       "    <tr style=\"text-align: right;\">\n",
       "      <th></th>\n",
       "      <th>ID</th>\n",
       "      <th>comp_name</th>\n",
       "      <th>website</th>\n",
       "      <th>op_status</th>\n",
       "      <th>domain</th>\n",
       "      <th>founded_on</th>\n",
       "      <th>hq_country_code</th>\n",
       "      <th>hq_state_code</th>\n",
       "      <th>hq_region</th>\n",
       "      <th>hq_city</th>\n",
       "      <th>total_funding_usd</th>\n",
       "      <th>funding_rounds</th>\n",
       "      <th>first_funding_date</th>\n",
       "      <th>last_funding_date</th>\n",
       "      <th>num_investors</th>\n",
       "      <th>funding_duration</th>\n",
       "      <th>first_funding_utc</th>\n",
       "      <th>last_funding_utc</th>\n",
       "      <th>Unnamed: 18</th>\n",
       "    </tr>\n",
       "  </thead>\n",
       "  <tbody>\n",
       "    <tr>\n",
       "      <th>0</th>\n",
       "      <td>0</td>\n",
       "      <td>MDLIVE</td>\n",
       "      <td>http://mdlive.com</td>\n",
       "      <td>operating</td>\n",
       "      <td>Health Care</td>\n",
       "      <td>2009-01-01</td>\n",
       "      <td>USA</td>\n",
       "      <td>FL</td>\n",
       "      <td>Ft. Lauderdale</td>\n",
       "      <td>Fort Lauderdale</td>\n",
       "      <td>73600000</td>\n",
       "      <td>2</td>\n",
       "      <td>2014-01-22</td>\n",
       "      <td>2015-06-24</td>\n",
       "      <td>5</td>\n",
       "      <td>518</td>\n",
       "      <td>16092</td>\n",
       "      <td>16610</td>\n",
       "      <td>NaN</td>\n",
       "    </tr>\n",
       "    <tr>\n",
       "      <th>1</th>\n",
       "      <td>1</td>\n",
       "      <td>APX Labs</td>\n",
       "      <td>http://apx-labs.com</td>\n",
       "      <td>operating</td>\n",
       "      <td>Software</td>\n",
       "      <td>2010-01-01</td>\n",
       "      <td>USA</td>\n",
       "      <td>VA</td>\n",
       "      <td>Washington, D.C.</td>\n",
       "      <td>Herndon</td>\n",
       "      <td>28612936</td>\n",
       "      <td>3</td>\n",
       "      <td>2014-04-02</td>\n",
       "      <td>2015-11-18</td>\n",
       "      <td>7</td>\n",
       "      <td>595</td>\n",
       "      <td>16162</td>\n",
       "      <td>16757</td>\n",
       "      <td>NaN</td>\n",
       "    </tr>\n",
       "    <tr>\n",
       "      <th>2</th>\n",
       "      <td>2</td>\n",
       "      <td>9Cookies</td>\n",
       "      <td>http://www.9cookies.com/</td>\n",
       "      <td>acquired</td>\n",
       "      <td>Point of Sale|Restaurants</td>\n",
       "      <td>2012-01-01</td>\n",
       "      <td>DEU</td>\n",
       "      <td>16</td>\n",
       "      <td>Berlin</td>\n",
       "      <td>Berlin</td>\n",
       "      <td>NaN</td>\n",
       "      <td>1</td>\n",
       "      <td>2013-04-18</td>\n",
       "      <td>2013-04-18</td>\n",
       "      <td>1</td>\n",
       "      <td>0</td>\n",
       "      <td>15813</td>\n",
       "      <td>15813</td>\n",
       "      <td>NaN</td>\n",
       "    </tr>\n",
       "    <tr>\n",
       "      <th>3</th>\n",
       "      <td>3</td>\n",
       "      <td>Confluence Solar</td>\n",
       "      <td>http://www.confluencesolar.com</td>\n",
       "      <td>acquired</td>\n",
       "      <td>Clean Technology</td>\n",
       "      <td>NaN</td>\n",
       "      <td>USA</td>\n",
       "      <td>MO</td>\n",
       "      <td>St. Louis</td>\n",
       "      <td>Hazelwood</td>\n",
       "      <td>12700000</td>\n",
       "      <td>1</td>\n",
       "      <td>2008-09-24</td>\n",
       "      <td>2008-09-24</td>\n",
       "      <td>3</td>\n",
       "      <td>0</td>\n",
       "      <td>14146</td>\n",
       "      <td>14146</td>\n",
       "      <td>NaN</td>\n",
       "    </tr>\n",
       "    <tr>\n",
       "      <th>4</th>\n",
       "      <td>4</td>\n",
       "      <td>Dazo</td>\n",
       "      <td>http://dazo.in</td>\n",
       "      <td>operating</td>\n",
       "      <td>Mobile</td>\n",
       "      <td>2014-01-01</td>\n",
       "      <td>IND</td>\n",
       "      <td>19</td>\n",
       "      <td>Bangalore</td>\n",
       "      <td>Bangalore</td>\n",
       "      <td>NaN</td>\n",
       "      <td>1</td>\n",
       "      <td>2015-04-01</td>\n",
       "      <td>2015-04-01</td>\n",
       "      <td>7</td>\n",
       "      <td>0</td>\n",
       "      <td>16526</td>\n",
       "      <td>16526</td>\n",
       "      <td>NaN</td>\n",
       "    </tr>\n",
       "  </tbody>\n",
       "</table>\n",
       "</div>"
      ],
      "text/plain": [
       "   ID         comp_name                         website  op_status  \\\n",
       "0   0            MDLIVE               http://mdlive.com  operating   \n",
       "1   1          APX Labs             http://apx-labs.com  operating   \n",
       "2   2          9Cookies        http://www.9cookies.com/   acquired   \n",
       "3   3  Confluence Solar  http://www.confluencesolar.com   acquired   \n",
       "4   4              Dazo                  http://dazo.in  operating   \n",
       "\n",
       "                      domain  founded_on hq_country_code hq_state_code  \\\n",
       "0                Health Care  2009-01-01             USA            FL   \n",
       "1                   Software  2010-01-01             USA            VA   \n",
       "2  Point of Sale|Restaurants  2012-01-01             DEU            16   \n",
       "3           Clean Technology         NaN             USA            MO   \n",
       "4                     Mobile  2014-01-01             IND            19   \n",
       "\n",
       "          hq_region          hq_city total_funding_usd  funding_rounds  \\\n",
       "0    Ft. Lauderdale  Fort Lauderdale          73600000               2   \n",
       "1  Washington, D.C.          Herndon          28612936               3   \n",
       "2            Berlin           Berlin               NaN               1   \n",
       "3         St. Louis        Hazelwood          12700000               1   \n",
       "4         Bangalore        Bangalore               NaN               1   \n",
       "\n",
       "  first_funding_date last_funding_date num_investors  funding_duration  \\\n",
       "0         2014-01-22        2015-06-24             5               518   \n",
       "1         2014-04-02        2015-11-18             7               595   \n",
       "2         2013-04-18        2013-04-18             1                 0   \n",
       "3         2008-09-24        2008-09-24             3                 0   \n",
       "4         2015-04-01        2015-04-01             7                 0   \n",
       "\n",
       "   first_funding_utc  last_funding_utc  Unnamed: 18  \n",
       "0              16092             16610          NaN  \n",
       "1              16162             16757          NaN  \n",
       "2              15813             15813          NaN  \n",
       "3              14146             14146          NaN  \n",
       "4              16526             16526          NaN  "
      ]
     },
     "execution_count": 171,
     "metadata": {},
     "output_type": "execute_result"
    }
   ],
   "source": [
    "df2.head()"
   ]
  },
  {
   "cell_type": "code",
   "execution_count": 172,
   "metadata": {},
   "outputs": [
    {
     "data": {
      "text/plain": [
       "ID                      int64\n",
       "comp_name              object\n",
       "website                object\n",
       "op_status              object\n",
       "domain                 object\n",
       "founded_on             object\n",
       "hq_country_code        object\n",
       "hq_state_code          object\n",
       "hq_region              object\n",
       "hq_city                object\n",
       "total_funding_usd      object\n",
       "funding_rounds          int64\n",
       "first_funding_date     object\n",
       "last_funding_date      object\n",
       "num_investors          object\n",
       "funding_duration        int64\n",
       "first_funding_utc       int64\n",
       "last_funding_utc        int64\n",
       "Unnamed: 18           float64\n",
       "dtype: object"
      ]
     },
     "execution_count": 172,
     "metadata": {},
     "output_type": "execute_result"
    }
   ],
   "source": [
    "df2.dtypes"
   ]
  },
  {
   "cell_type": "code",
   "execution_count": 173,
   "metadata": {},
   "outputs": [
    {
     "data": {
      "text/plain": [
       "ID                       0\n",
       "comp_name                1\n",
       "website                284\n",
       "op_status                0\n",
       "domain                 213\n",
       "founded_on            1190\n",
       "hq_country_code        468\n",
       "hq_state_code          576\n",
       "hq_region              555\n",
       "hq_city                555\n",
       "total_funding_usd      850\n",
       "funding_rounds           0\n",
       "first_funding_date       0\n",
       "last_funding_date        0\n",
       "num_investors            0\n",
       "funding_duration         0\n",
       "first_funding_utc        0\n",
       "last_funding_utc         0\n",
       "Unnamed: 18           4468\n",
       "dtype: int64"
      ]
     },
     "execution_count": 173,
     "metadata": {},
     "output_type": "execute_result"
    }
   ],
   "source": [
    "df2.isna().sum()"
   ]
  },
  {
   "cell_type": "code",
   "execution_count": 174,
   "metadata": {},
   "outputs": [],
   "source": [
    "del df2['Unnamed: 18']"
   ]
  },
  {
   "cell_type": "code",
   "execution_count": 175,
   "metadata": {},
   "outputs": [
    {
     "data": {
      "text/plain": [
       "array(['5', '7', '1', '3', '2', '9', '6', '13', '4', '11', '16', '17',\n",
       "       '8', '14', '18', '12', '27', '21', '10', '15', '24', '19', '23',\n",
       "       '20', '26', '35', '34', '46', '36', '33', '37', '30', '25',\n",
       "       '2013-11-01', '45', '28', '39', '29', '22', '41', '31', '42', '53',\n",
       "       '57'], dtype=object)"
      ]
     },
     "execution_count": 175,
     "metadata": {},
     "output_type": "execute_result"
    }
   ],
   "source": [
    "df2['num_investors'].unique()"
   ]
  },
  {
   "cell_type": "code",
   "execution_count": 176,
   "metadata": {},
   "outputs": [
    {
     "data": {
      "text/plain": [
       "1             1937\n",
       "2              718\n",
       "3              432\n",
       "4              286\n",
       "5              218\n",
       "6              167\n",
       "7              127\n",
       "8               84\n",
       "9               82\n",
       "10              72\n",
       "11              55\n",
       "15              34\n",
       "12              33\n",
       "14              29\n",
       "13              27\n",
       "16              21\n",
       "17              18\n",
       "18              18\n",
       "21              17\n",
       "19              14\n",
       "23              11\n",
       "20               9\n",
       "27               8\n",
       "24               6\n",
       "26               6\n",
       "22               4\n",
       "30               4\n",
       "25               4\n",
       "29               4\n",
       "37               4\n",
       "34               3\n",
       "28               2\n",
       "39               2\n",
       "35               2\n",
       "31               2\n",
       "33               1\n",
       "36               1\n",
       "53               1\n",
       "45               1\n",
       "2013-11-01       1\n",
       "57               1\n",
       "42               1\n",
       "41               1\n",
       "46               1\n",
       "Name: num_investors, dtype: int64"
      ]
     },
     "execution_count": 176,
     "metadata": {},
     "output_type": "execute_result"
    }
   ],
   "source": [
    "df2['num_investors'].value_counts()"
   ]
  },
  {
   "cell_type": "code",
   "execution_count": 177,
   "metadata": {},
   "outputs": [],
   "source": [
    "df2['num_investors'].replace('2013-11-01','32',inplace=True)"
   ]
  },
  {
   "cell_type": "code",
   "execution_count": 178,
   "metadata": {},
   "outputs": [],
   "source": [
    "df2['num_investors'] = df2['num_investors'].apply(pd.to_numeric, errors='coerce')"
   ]
  },
  {
   "cell_type": "code",
   "execution_count": 179,
   "metadata": {},
   "outputs": [
    {
     "data": {
      "text/plain": [
       "0"
      ]
     },
     "execution_count": 179,
     "metadata": {},
     "output_type": "execute_result"
    }
   ],
   "source": [
    "df2['num_investors'].isna().sum()"
   ]
  },
  {
   "cell_type": "code",
   "execution_count": 180,
   "metadata": {},
   "outputs": [
    {
     "data": {
      "text/plain": [
       "ID                       0\n",
       "comp_name                1\n",
       "website                284\n",
       "op_status                0\n",
       "domain                 213\n",
       "founded_on            1190\n",
       "hq_country_code        468\n",
       "hq_state_code          576\n",
       "hq_region              555\n",
       "hq_city                555\n",
       "total_funding_usd      850\n",
       "funding_rounds           0\n",
       "first_funding_date       0\n",
       "last_funding_date        0\n",
       "num_investors            0\n",
       "funding_duration         0\n",
       "first_funding_utc        0\n",
       "last_funding_utc         0\n",
       "dtype: int64"
      ]
     },
     "execution_count": 180,
     "metadata": {},
     "output_type": "execute_result"
    }
   ],
   "source": [
    "df2.isna().sum()"
   ]
  },
  {
   "cell_type": "code",
   "execution_count": 181,
   "metadata": {},
   "outputs": [
    {
     "data": {
      "text/plain": [
       "ID                     int64\n",
       "comp_name             object\n",
       "website               object\n",
       "op_status             object\n",
       "domain                object\n",
       "founded_on            object\n",
       "hq_country_code       object\n",
       "hq_state_code         object\n",
       "hq_region             object\n",
       "hq_city               object\n",
       "total_funding_usd     object\n",
       "funding_rounds         int64\n",
       "first_funding_date    object\n",
       "last_funding_date     object\n",
       "num_investors          int64\n",
       "funding_duration       int64\n",
       "first_funding_utc      int64\n",
       "last_funding_utc       int64\n",
       "dtype: object"
      ]
     },
     "execution_count": 181,
     "metadata": {},
     "output_type": "execute_result"
    }
   ],
   "source": [
    "df2.dtypes"
   ]
  },
  {
   "cell_type": "code",
   "execution_count": 187,
   "metadata": {},
   "outputs": [],
   "source": [
    "df2['founded_on']= pd.to_datetime(df2['founded_on'], dayfirst=True, errors='coerce')"
   ]
  },
  {
   "cell_type": "code",
   "execution_count": 183,
   "metadata": {},
   "outputs": [
    {
     "data": {
      "text/plain": [
       "Timestamp('2015-10-10 00:00:00')"
      ]
     },
     "execution_count": 183,
     "metadata": {},
     "output_type": "execute_result"
    }
   ],
   "source": [
    "df2['founded_on'].max()"
   ]
  },
  {
   "cell_type": "code",
   "execution_count": 184,
   "metadata": {},
   "outputs": [],
   "source": [
    "df2['founded_on'].fillna('2015-10-10 00:00:00', inplace = True)"
   ]
  },
  {
   "cell_type": "code",
   "execution_count": 188,
   "metadata": {},
   "outputs": [
    {
     "data": {
      "text/plain": [
       "ID                      0\n",
       "comp_name               1\n",
       "website               284\n",
       "op_status               0\n",
       "domain                213\n",
       "founded_on              0\n",
       "hq_country_code       468\n",
       "hq_state_code         576\n",
       "hq_region             555\n",
       "hq_city               555\n",
       "total_funding_usd     850\n",
       "funding_rounds          0\n",
       "first_funding_date      0\n",
       "last_funding_date       0\n",
       "num_investors           0\n",
       "funding_duration        0\n",
       "first_funding_utc       0\n",
       "last_funding_utc        0\n",
       "dtype: int64"
      ]
     },
     "execution_count": 188,
     "metadata": {},
     "output_type": "execute_result"
    }
   ],
   "source": [
    "df2.isna().sum()"
   ]
  },
  {
   "cell_type": "code",
   "execution_count": 189,
   "metadata": {},
   "outputs": [],
   "source": [
    "df2['founding_year'] = df2.founded_on.dt.year"
   ]
  },
  {
   "cell_type": "code",
   "execution_count": 190,
   "metadata": {},
   "outputs": [
    {
     "data": {
      "text/plain": [
       "ID                             int64\n",
       "comp_name                     object\n",
       "website                       object\n",
       "op_status                     object\n",
       "domain                        object\n",
       "founded_on            datetime64[ns]\n",
       "hq_country_code               object\n",
       "hq_state_code                 object\n",
       "hq_region                     object\n",
       "hq_city                       object\n",
       "total_funding_usd             object\n",
       "funding_rounds                 int64\n",
       "first_funding_date            object\n",
       "last_funding_date             object\n",
       "num_investors                  int64\n",
       "funding_duration               int64\n",
       "first_funding_utc              int64\n",
       "last_funding_utc               int64\n",
       "founding_year                  int64\n",
       "dtype: object"
      ]
     },
     "execution_count": 190,
     "metadata": {},
     "output_type": "execute_result"
    }
   ],
   "source": [
    "df2.dtypes"
   ]
  },
  {
   "cell_type": "code",
   "execution_count": 191,
   "metadata": {},
   "outputs": [],
   "source": [
    "cols = ['comp_name','website','founded_on','first_funding_date','last_funding_date']"
   ]
  },
  {
   "cell_type": "code",
   "execution_count": 192,
   "metadata": {},
   "outputs": [],
   "source": [
    "df2.drop(columns = cols,inplace = True)"
   ]
  },
  {
   "cell_type": "code",
   "execution_count": 193,
   "metadata": {},
   "outputs": [
    {
     "data": {
      "text/plain": [
       "ID                    int64\n",
       "op_status            object\n",
       "domain               object\n",
       "hq_country_code      object\n",
       "hq_state_code        object\n",
       "hq_region            object\n",
       "hq_city              object\n",
       "total_funding_usd    object\n",
       "funding_rounds        int64\n",
       "num_investors         int64\n",
       "funding_duration      int64\n",
       "first_funding_utc     int64\n",
       "last_funding_utc      int64\n",
       "founding_year         int64\n",
       "dtype: object"
      ]
     },
     "execution_count": 193,
     "metadata": {},
     "output_type": "execute_result"
    }
   ],
   "source": [
    "df2.dtypes"
   ]
  },
  {
   "cell_type": "code",
   "execution_count": 194,
   "metadata": {},
   "outputs": [
    {
     "data": {
      "text/plain": [
       "array(['operating', 'acquired', 'closed', 'ipo',\n",
       "       'jsessionid=6575C51C75FD50441F3CA7510CC0BC3D.tomcatD'],\n",
       "      dtype=object)"
      ]
     },
     "execution_count": 194,
     "metadata": {},
     "output_type": "execute_result"
    }
   ],
   "source": [
    "df2['op_status'].unique()"
   ]
  },
  {
   "cell_type": "code",
   "execution_count": 195,
   "metadata": {},
   "outputs": [
    {
     "data": {
      "text/plain": [
       "operating                                              3440\n",
       "acquired                                                494\n",
       "closed                                                  438\n",
       "ipo                                                      96\n",
       "jsessionid=6575C51C75FD50441F3CA7510CC0BC3D.tomcatD       1\n",
       "Name: op_status, dtype: int64"
      ]
     },
     "execution_count": 195,
     "metadata": {},
     "output_type": "execute_result"
    }
   ],
   "source": [
    "df2['op_status'].value_counts()"
   ]
  },
  {
   "cell_type": "code",
   "execution_count": 196,
   "metadata": {},
   "outputs": [],
   "source": [
    "df2['op_status'].replace('jsessionid=6575C51C75FD50441F3CA7510CC0BC3D.tomcatD','operating',inplace=True)"
   ]
  },
  {
   "cell_type": "code",
   "execution_count": 197,
   "metadata": {},
   "outputs": [
    {
     "data": {
      "text/plain": [
       "operating    3441\n",
       "acquired      494\n",
       "closed        438\n",
       "ipo            96\n",
       "Name: op_status, dtype: int64"
      ]
     },
     "execution_count": 197,
     "metadata": {},
     "output_type": "execute_result"
    }
   ],
   "source": [
    "df2['op_status'].value_counts()"
   ]
  },
  {
   "cell_type": "code",
   "execution_count": 198,
   "metadata": {},
   "outputs": [],
   "source": [
    "df2['op_status'].replace('closed',0,inplace=True)\n",
    "df2['op_status'].replace('ipo',1,inplace=True)\n",
    "df2['op_status'].replace('acquired',2,inplace=True)\n",
    "df2['op_status'].replace('operating',3,inplace=True)"
   ]
  },
  {
   "cell_type": "code",
   "execution_count": 199,
   "metadata": {},
   "outputs": [],
   "source": [
    "df2['op_status'] = df2['op_status'].apply(pd.to_numeric, errors='coerce')"
   ]
  },
  {
   "cell_type": "code",
   "execution_count": 200,
   "metadata": {},
   "outputs": [
    {
     "data": {
      "text/plain": [
       "3    3441\n",
       "2     494\n",
       "0     438\n",
       "1      96\n",
       "Name: op_status, dtype: int64"
      ]
     },
     "execution_count": 200,
     "metadata": {},
     "output_type": "execute_result"
    }
   ],
   "source": [
    "df2['op_status'].value_counts()"
   ]
  },
  {
   "cell_type": "code",
   "execution_count": 201,
   "metadata": {},
   "outputs": [
    {
     "data": {
      "text/plain": [
       "0"
      ]
     },
     "execution_count": 201,
     "metadata": {},
     "output_type": "execute_result"
    }
   ],
   "source": [
    "df2['op_status'].isna().sum()"
   ]
  },
  {
   "cell_type": "code",
   "execution_count": 202,
   "metadata": {},
   "outputs": [
    {
     "data": {
      "text/plain": [
       "ID                    int64\n",
       "op_status             int64\n",
       "domain               object\n",
       "hq_country_code      object\n",
       "hq_state_code        object\n",
       "hq_region            object\n",
       "hq_city              object\n",
       "total_funding_usd    object\n",
       "funding_rounds        int64\n",
       "num_investors         int64\n",
       "funding_duration      int64\n",
       "first_funding_utc     int64\n",
       "last_funding_utc      int64\n",
       "founding_year         int64\n",
       "dtype: object"
      ]
     },
     "execution_count": 202,
     "metadata": {},
     "output_type": "execute_result"
    }
   ],
   "source": [
    "df2.dtypes"
   ]
  },
  {
   "cell_type": "code",
   "execution_count": 203,
   "metadata": {},
   "outputs": [
    {
     "data": {
      "text/plain": [
       "array(['Health Care', 'Software', 'Point of Sale|Restaurants', ...,\n",
       "       'Chat|Curated Web|Messaging|Search|Social Media',\n",
       "       'Analytics|Business Intelligence|Enterprise Software|SaaS|Social CRM|Social Media',\n",
       "       'Design|Digital Media|Publishing'], dtype=object)"
      ]
     },
     "execution_count": 203,
     "metadata": {},
     "output_type": "execute_result"
    }
   ],
   "source": [
    "df2['domain'].unique()"
   ]
  },
  {
   "cell_type": "code",
   "execution_count": 204,
   "metadata": {},
   "outputs": [
    {
     "data": {
      "text/plain": [
       "Software                                                                                                                                          262\n",
       "Biotechnology                                                                                                                                     202\n",
       "E-Commerce                                                                                                                                        109\n",
       "Clean Technology                                                                                                                                   91\n",
       "Curated Web                                                                                                                                        89\n",
       "Mobile                                                                                                                                             83\n",
       "Health Care                                                                                                                                        68\n",
       "Enterprise Software                                                                                                                                68\n",
       "Hardware + Software                                                                                                                                62\n",
       "Games                                                                                                                                              56\n",
       "Advertising                                                                                                                                        50\n",
       "Manufacturing                                                                                                                                      48\n",
       "Semiconductors                                                                                                                                     41\n",
       "Education                                                                                                                                          40\n",
       "Analytics                                                                                                                                          31\n",
       "Technology                                                                                                                                         31\n",
       "Security                                                                                                                                           29\n",
       "Social Media                                                                                                                                       28\n",
       "Web Hosting                                                                                                                                        25\n",
       "Finance                                                                                                                                            24\n",
       "Health and Wellness                                                                                                                                22\n",
       "Consulting                                                                                                                                         21\n",
       "Travel                                                                                                                                             19\n",
       "Real Estate                                                                                                                                        18\n",
       "Fashion                                                                                                                                            17\n",
       "Information Technology                                                                                                                             16\n",
       "Hospitality                                                                                                                                        16\n",
       "EdTech|Education                                                                                                                                   15\n",
       "Music                                                                                                                                              13\n",
       "Apps                                                                                                                                               13\n",
       "                                                                                                                                                 ... \n",
       "Health and Wellness|SaaS|Software                                                                                                                   1\n",
       "Photo Sharing|Public Relations                                                                                                                      1\n",
       "Analytics|Cloud Computing|SaaS|Software                                                                                                             1\n",
       "E-Commerce|Fitness|Health and Wellness|Internet|Spas                                                                                                1\n",
       "Cloud Computing|Content|Enterprise Software|News                                                                                                    1\n",
       "Finance Technology|Software                                                                                                                         1\n",
       "EdTech|Education|Software|Systems                                                                                                                   1\n",
       "Cars|E-Commerce                                                                                                                                     1\n",
       "Biotechnology|Health and Wellness|Health Care                                                                                                       1\n",
       "Advertising|Advertising Exchanges|Advertising Platforms|Algorithms|Mobile|Mobile Advertising|PaaS|SaaS                                              1\n",
       "Kids|Online Education|Tablets                                                                                                                       1\n",
       "Data Mining|Design|Development Platforms                                                                                                            1\n",
       "Beauty|E-Commerce|Marketplaces                                                                                                                      1\n",
       "iPhone|Location Based Services|Mobile|Software|Startups                                                                                             1\n",
       "Collaboration|Enterprise Software|Knowledge Management|Machine Learning|SaaS                                                                        1\n",
       "Biotechnology|Health Care|Innovation Management|Market Research                                                                                     1\n",
       "Advertising|Analytics|Market Research                                                                                                               1\n",
       "CRM|Presentations|Salesforce Killers                                                                                                                1\n",
       "Cyber Security                                                                                                                                      1\n",
       "Analytics|Apps|Mobile                                                                                                                               1\n",
       "Financial Services|Retail|Software                                                                                                                  1\n",
       "Dental|Doctors|Health and Wellness|Health Care                                                                                                      1\n",
       "Beauty|Cosmetic Surgery|Dental|Doctors|Health and Wellness|Lifestyle|Medical|Q&A|Reviews and Recommendations|Social Media|Social Network Media      1\n",
       "Messaging|SMS                                                                                                                                       1\n",
       "Cloud Computing|Emerging Markets|SaaS|Small and Medium Businesses|Software|Telephony                                                                1\n",
       "Brand Marketing|Photography|SaaS                                                                                                                    1\n",
       "Cloud Management|Enterprise Software                                                                                                                1\n",
       "Enterprise Software|Social Business|Social Media|Social Network Media                                                                               1\n",
       "Bio-Pharm|Biotechnology|Life Sciences                                                                                                               1\n",
       "Android|Digital Media|Mobile|Mobile Advertising                                                                                                     1\n",
       "Name: domain, Length: 2330, dtype: int64"
      ]
     },
     "execution_count": 204,
     "metadata": {},
     "output_type": "execute_result"
    }
   ],
   "source": [
    "df2['domain'].value_counts()"
   ]
  },
  {
   "cell_type": "code",
   "execution_count": 205,
   "metadata": {},
   "outputs": [
    {
     "data": {
      "text/plain": [
       "213"
      ]
     },
     "execution_count": 205,
     "metadata": {},
     "output_type": "execute_result"
    }
   ],
   "source": [
    "df2['domain'].isna().sum()"
   ]
  },
  {
   "cell_type": "code",
   "execution_count": 206,
   "metadata": {},
   "outputs": [],
   "source": [
    "df2['domain'].fillna('Software', inplace = True)"
   ]
  },
  {
   "cell_type": "code",
   "execution_count": 207,
   "metadata": {},
   "outputs": [
    {
     "data": {
      "text/plain": [
       "0"
      ]
     },
     "execution_count": 207,
     "metadata": {},
     "output_type": "execute_result"
    }
   ],
   "source": [
    "df2['domain'].isna().sum()"
   ]
  },
  {
   "cell_type": "code",
   "execution_count": 208,
   "metadata": {},
   "outputs": [
    {
     "data": {
      "text/plain": [
       "dtype('O')"
      ]
     },
     "execution_count": 208,
     "metadata": {},
     "output_type": "execute_result"
    }
   ],
   "source": [
    "df2['domain'].dtypes"
   ]
  },
  {
   "cell_type": "code",
   "execution_count": 209,
   "metadata": {},
   "outputs": [],
   "source": [
    "le2 = LabelEncoder() "
   ]
  },
  {
   "cell_type": "code",
   "execution_count": 210,
   "metadata": {},
   "outputs": [],
   "source": [
    "df2['domain']= le2.fit_transform(df2['domain'])"
   ]
  },
  {
   "cell_type": "code",
   "execution_count": 211,
   "metadata": {},
   "outputs": [
    {
     "data": {
      "text/plain": [
       "2278    475\n",
       "647     202\n",
       "1332    109\n",
       "832      91\n",
       "1141     89\n",
       "2093     83\n",
       "1817     68\n",
       "1535     68\n",
       "1793     62\n",
       "1752     56\n",
       "36       50\n",
       "2045     48\n",
       "2247     41\n",
       "1436     40\n",
       "2295     31\n",
       "203      31\n",
       "2241     29\n",
       "2270     28\n",
       "2319     25\n",
       "1658     24\n",
       "1863     22\n",
       "1005     21\n",
       "2308     19\n",
       "2209     18\n",
       "1635     17\n",
       "1906     16\n",
       "1948     16\n",
       "1423     15\n",
       "664      13\n",
       "2081     13\n",
       "       ... \n",
       "1118      1\n",
       "1114      1\n",
       "1110      1\n",
       "1106      1\n",
       "1098      1\n",
       "1202      1\n",
       "1094      1\n",
       "1090      1\n",
       "1086      1\n",
       "1082      1\n",
       "1078      1\n",
       "1074      1\n",
       "1130      1\n",
       "1134      1\n",
       "1138      1\n",
       "1142      1\n",
       "1150      1\n",
       "1154      1\n",
       "1158      1\n",
       "1162      1\n",
       "1166      1\n",
       "1170      1\n",
       "1174      1\n",
       "1178      1\n",
       "1182      1\n",
       "1186      1\n",
       "1190      1\n",
       "1194      1\n",
       "1198      1\n",
       "0         1\n",
       "Name: domain, Length: 2330, dtype: int64"
      ]
     },
     "execution_count": 211,
     "metadata": {},
     "output_type": "execute_result"
    }
   ],
   "source": [
    "df2['domain'].value_counts()"
   ]
  },
  {
   "cell_type": "code",
   "execution_count": 212,
   "metadata": {},
   "outputs": [],
   "source": [
    "df2['domain'] = df2['domain'].apply(pd.to_numeric, errors='coerce')"
   ]
  },
  {
   "cell_type": "code",
   "execution_count": 213,
   "metadata": {},
   "outputs": [
    {
     "data": {
      "text/plain": [
       "ID                    int64\n",
       "op_status             int64\n",
       "domain                int64\n",
       "hq_country_code      object\n",
       "hq_state_code        object\n",
       "hq_region            object\n",
       "hq_city              object\n",
       "total_funding_usd    object\n",
       "funding_rounds        int64\n",
       "num_investors         int64\n",
       "funding_duration      int64\n",
       "first_funding_utc     int64\n",
       "last_funding_utc      int64\n",
       "founding_year         int64\n",
       "dtype: object"
      ]
     },
     "execution_count": 213,
     "metadata": {},
     "output_type": "execute_result"
    }
   ],
   "source": [
    "df2.dtypes"
   ]
  },
  {
   "cell_type": "code",
   "execution_count": 214,
   "metadata": {},
   "outputs": [
    {
     "data": {
      "text/plain": [
       "ID                     0\n",
       "op_status              0\n",
       "domain                 0\n",
       "hq_country_code      468\n",
       "hq_state_code        576\n",
       "hq_region            555\n",
       "hq_city              555\n",
       "total_funding_usd    850\n",
       "funding_rounds         0\n",
       "num_investors          0\n",
       "funding_duration       0\n",
       "first_funding_utc      0\n",
       "last_funding_utc       0\n",
       "founding_year          0\n",
       "dtype: int64"
      ]
     },
     "execution_count": 214,
     "metadata": {},
     "output_type": "execute_result"
    }
   ],
   "source": [
    "df2.isna().sum()"
   ]
  },
  {
   "cell_type": "code",
   "execution_count": 215,
   "metadata": {},
   "outputs": [
    {
     "data": {
      "text/plain": [
       "count        3619\n",
       "unique       1912\n",
       "top       2000000\n",
       "freq           64\n",
       "Name: total_funding_usd, dtype: object"
      ]
     },
     "execution_count": 215,
     "metadata": {},
     "output_type": "execute_result"
    }
   ],
   "source": [
    "df2['total_funding_usd'].describe()"
   ]
  },
  {
   "cell_type": "code",
   "execution_count": 216,
   "metadata": {},
   "outputs": [],
   "source": [
    "df2['total_funding_usd'].fillna('0', inplace = True)"
   ]
  },
  {
   "cell_type": "code",
   "execution_count": 217,
   "metadata": {},
   "outputs": [
    {
     "data": {
      "text/plain": [
       "0"
      ]
     },
     "execution_count": 217,
     "metadata": {},
     "output_type": "execute_result"
    }
   ],
   "source": [
    "df2['total_funding_usd'].isna().sum()"
   ]
  },
  {
   "cell_type": "code",
   "execution_count": 218,
   "metadata": {},
   "outputs": [],
   "source": [
    "df2['total_funding_usd'] = df2['total_funding_usd'].apply(pd.to_numeric, errors='coerce')"
   ]
  },
  {
   "cell_type": "code",
   "execution_count": 219,
   "metadata": {},
   "outputs": [
    {
     "data": {
      "text/plain": [
       "dtype('float64')"
      ]
     },
     "execution_count": 219,
     "metadata": {},
     "output_type": "execute_result"
    }
   ],
   "source": [
    "df2['total_funding_usd'].dtypes"
   ]
  },
  {
   "cell_type": "code",
   "execution_count": 220,
   "metadata": {},
   "outputs": [
    {
     "data": {
      "text/plain": [
       "array(['USA', 'DEU', 'IND', 'CAN', 'JPN', nan, 'GBR', 'CHN', 'TWN', 'ZAF',\n",
       "       'KOR', 'ISR', 'BRA', 'AUT', 'AUS', 'ESP', 'IDN', 'NLD', 'CHE',\n",
       "       'SWE', 'POL', 'LUX', 'FRA', 'TUR', 'ITA', 'VNM', 'MEX', 'DNK',\n",
       "       'GRC', 'MYS', 'BLZ', 'IRL', 'FIN', 'KEN', 'CZE', 'BWA', 'PHL',\n",
       "       'SGP', 'COL', 'RUS', 'HKG', 'SVK', 'CHL', 'ARE', 'THA', 'SVN',\n",
       "       'BGR', 'ARG', 'PER', 'BEL', 'NGA', 'ROM', 'TAN', 'GEO', 'NOR',\n",
       "       'PRT', 'PAK', 'EST', 'SRB', 'LVA', 'JOR', 'ISL', 'UKR', 'HUN',\n",
       "       'NZL', 'GHA', 'LTU', 'PAN', 'ECU', '2012-04-30', 'CYP', 'GIB',\n",
       "       'LBN', 'OMN', 'EGY', 'VEN', 'GTM', 'MAR', 'BMU'], dtype=object)"
      ]
     },
     "execution_count": 220,
     "metadata": {},
     "output_type": "execute_result"
    }
   ],
   "source": [
    "df2['hq_country_code'].unique()"
   ]
  },
  {
   "cell_type": "code",
   "execution_count": 221,
   "metadata": {},
   "outputs": [
    {
     "data": {
      "text/plain": [
       "USA           2349\n",
       "GBR            290\n",
       "CAN            130\n",
       "CHN            126\n",
       "IND            120\n",
       "DEU             92\n",
       "FRA             86\n",
       "ISR             67\n",
       "ESP             64\n",
       "NLD             47\n",
       "BRA             38\n",
       "IRL             38\n",
       "ITA             35\n",
       "RUS             31\n",
       "SGP             31\n",
       "JPN             30\n",
       "DNK             30\n",
       "SWE             29\n",
       "AUS             29\n",
       "KOR             25\n",
       "CHE             23\n",
       "CHL             22\n",
       "FIN             21\n",
       "BEL             21\n",
       "POL             18\n",
       "MEX             15\n",
       "IDN             12\n",
       "HKG             12\n",
       "TUR             11\n",
       "PRT             11\n",
       "              ... \n",
       "HUN              3\n",
       "PAK              3\n",
       "CYP              3\n",
       "LTU              2\n",
       "NGA              2\n",
       "LUX              2\n",
       "BWA              2\n",
       "VNM              2\n",
       "ROM              2\n",
       "GHA              2\n",
       "ISL              2\n",
       "ECU              2\n",
       "2012-04-30       1\n",
       "SVN              1\n",
       "TAN              1\n",
       "NZL              1\n",
       "SRB              1\n",
       "GEO              1\n",
       "VEN              1\n",
       "MAR              1\n",
       "GIB              1\n",
       "EGY              1\n",
       "JOR              1\n",
       "BLZ              1\n",
       "UKR              1\n",
       "OMN              1\n",
       "LBN              1\n",
       "BMU              1\n",
       "PAN              1\n",
       "GTM              1\n",
       "Name: hq_country_code, Length: 78, dtype: int64"
      ]
     },
     "execution_count": 221,
     "metadata": {},
     "output_type": "execute_result"
    }
   ],
   "source": [
    "df2['hq_country_code'].value_counts()"
   ]
  },
  {
   "cell_type": "code",
   "execution_count": 222,
   "metadata": {},
   "outputs": [
    {
     "data": {
      "text/plain": [
       "468"
      ]
     },
     "execution_count": 222,
     "metadata": {},
     "output_type": "execute_result"
    }
   ],
   "source": [
    "df2['hq_country_code'].isna().sum()"
   ]
  },
  {
   "cell_type": "code",
   "execution_count": 223,
   "metadata": {},
   "outputs": [],
   "source": [
    "df2['hq_country_code'].fillna('USA', inplace = True)"
   ]
  },
  {
   "cell_type": "code",
   "execution_count": 224,
   "metadata": {},
   "outputs": [],
   "source": [
    "df2['hq_country_code'].replace('2012-04-30','IND',inplace=True)"
   ]
  },
  {
   "cell_type": "code",
   "execution_count": 225,
   "metadata": {},
   "outputs": [
    {
     "data": {
      "text/plain": [
       "array(['USA', 'DEU', 'IND', 'CAN', 'JPN', 'GBR', 'CHN', 'TWN', 'ZAF',\n",
       "       'KOR', 'ISR', 'BRA', 'AUT', 'AUS', 'ESP', 'IDN', 'NLD', 'CHE',\n",
       "       'SWE', 'POL', 'LUX', 'FRA', 'TUR', 'ITA', 'VNM', 'MEX', 'DNK',\n",
       "       'GRC', 'MYS', 'BLZ', 'IRL', 'FIN', 'KEN', 'CZE', 'BWA', 'PHL',\n",
       "       'SGP', 'COL', 'RUS', 'HKG', 'SVK', 'CHL', 'ARE', 'THA', 'SVN',\n",
       "       'BGR', 'ARG', 'PER', 'BEL', 'NGA', 'ROM', 'TAN', 'GEO', 'NOR',\n",
       "       'PRT', 'PAK', 'EST', 'SRB', 'LVA', 'JOR', 'ISL', 'UKR', 'HUN',\n",
       "       'NZL', 'GHA', 'LTU', 'PAN', 'ECU', 'CYP', 'GIB', 'LBN', 'OMN',\n",
       "       'EGY', 'VEN', 'GTM', 'MAR', 'BMU'], dtype=object)"
      ]
     },
     "execution_count": 225,
     "metadata": {},
     "output_type": "execute_result"
    }
   ],
   "source": [
    "df2['hq_country_code'].unique()"
   ]
  },
  {
   "cell_type": "code",
   "execution_count": 226,
   "metadata": {},
   "outputs": [
    {
     "data": {
      "text/plain": [
       "USA    2817\n",
       "GBR     290\n",
       "CAN     130\n",
       "CHN     126\n",
       "IND     121\n",
       "DEU      92\n",
       "FRA      86\n",
       "ISR      67\n",
       "ESP      64\n",
       "NLD      47\n",
       "BRA      38\n",
       "IRL      38\n",
       "ITA      35\n",
       "RUS      31\n",
       "SGP      31\n",
       "JPN      30\n",
       "DNK      30\n",
       "SWE      29\n",
       "AUS      29\n",
       "KOR      25\n",
       "CHE      23\n",
       "CHL      22\n",
       "FIN      21\n",
       "BEL      21\n",
       "POL      18\n",
       "MEX      15\n",
       "HKG      12\n",
       "IDN      12\n",
       "TUR      11\n",
       "PRT      11\n",
       "       ... \n",
       "GRC       3\n",
       "MYS       3\n",
       "CYP       3\n",
       "HUN       3\n",
       "BWA       2\n",
       "ROM       2\n",
       "LUX       2\n",
       "GHA       2\n",
       "ISL       2\n",
       "LTU       2\n",
       "NGA       2\n",
       "ECU       2\n",
       "VNM       2\n",
       "TAN       1\n",
       "VEN       1\n",
       "SVN       1\n",
       "SRB       1\n",
       "NZL       1\n",
       "GEO       1\n",
       "GTM       1\n",
       "LBN       1\n",
       "EGY       1\n",
       "GIB       1\n",
       "JOR       1\n",
       "BMU       1\n",
       "MAR       1\n",
       "PAN       1\n",
       "OMN       1\n",
       "BLZ       1\n",
       "UKR       1\n",
       "Name: hq_country_code, Length: 77, dtype: int64"
      ]
     },
     "execution_count": 226,
     "metadata": {},
     "output_type": "execute_result"
    }
   ],
   "source": [
    "df2['hq_country_code'].value_counts()"
   ]
  },
  {
   "cell_type": "code",
   "execution_count": 227,
   "metadata": {},
   "outputs": [],
   "source": [
    "df2['hq_country_code']= le2.fit_transform(df2['hq_country_code'])"
   ]
  },
  {
   "cell_type": "code",
   "execution_count": 228,
   "metadata": {},
   "outputs": [
    {
     "data": {
      "text/plain": [
       "73    2817\n",
       "25     290\n",
       "10     130\n",
       "13     126\n",
       "34     121\n",
       "17      92\n",
       "24      86\n",
       "37      67\n",
       "21      64\n",
       "51      47\n",
       "8       38\n",
       "35      38\n",
       "38      35\n",
       "63      31\n",
       "62      31\n",
       "18      30\n",
       "40      30\n",
       "67      29\n",
       "2       29\n",
       "42      25\n",
       "11      23\n",
       "12      22\n",
       "23      21\n",
       "4       21\n",
       "59      18\n",
       "48      15\n",
       "31      12\n",
       "33      12\n",
       "60      11\n",
       "70      11\n",
       "      ... \n",
       "29       3\n",
       "46       3\n",
       "15       3\n",
       "55       3\n",
       "27       2\n",
       "44       2\n",
       "19       2\n",
       "36       2\n",
       "9        2\n",
       "45       2\n",
       "50       2\n",
       "61       2\n",
       "75       2\n",
       "64       1\n",
       "28       1\n",
       "30       1\n",
       "47       1\n",
       "43       1\n",
       "6        1\n",
       "20       1\n",
       "39       1\n",
       "72       1\n",
       "74       1\n",
       "53       1\n",
       "26       1\n",
       "68       1\n",
       "54       1\n",
       "66       1\n",
       "56       1\n",
       "7        1\n",
       "Name: hq_country_code, Length: 77, dtype: int64"
      ]
     },
     "execution_count": 228,
     "metadata": {},
     "output_type": "execute_result"
    }
   ],
   "source": [
    "df2['hq_country_code'].value_counts()"
   ]
  },
  {
   "cell_type": "code",
   "execution_count": 229,
   "metadata": {},
   "outputs": [],
   "source": [
    "df2['hq_country_code'] = df2['hq_country_code'].apply(pd.to_numeric, errors='coerce')"
   ]
  },
  {
   "cell_type": "code",
   "execution_count": 230,
   "metadata": {},
   "outputs": [
    {
     "data": {
      "text/plain": [
       "ID                     0\n",
       "op_status              0\n",
       "domain                 0\n",
       "hq_country_code        0\n",
       "hq_state_code        576\n",
       "hq_region            555\n",
       "hq_city              555\n",
       "total_funding_usd      1\n",
       "funding_rounds         0\n",
       "num_investors          0\n",
       "funding_duration       0\n",
       "first_funding_utc      0\n",
       "last_funding_utc       0\n",
       "founding_year          0\n",
       "dtype: int64"
      ]
     },
     "execution_count": 230,
     "metadata": {},
     "output_type": "execute_result"
    }
   ],
   "source": [
    "df2.isna().sum()"
   ]
  },
  {
   "cell_type": "code",
   "execution_count": 231,
   "metadata": {},
   "outputs": [
    {
     "data": {
      "text/plain": [
       "ID                     int64\n",
       "op_status              int64\n",
       "domain                 int64\n",
       "hq_country_code        int64\n",
       "hq_state_code         object\n",
       "hq_region             object\n",
       "hq_city               object\n",
       "total_funding_usd    float64\n",
       "funding_rounds         int64\n",
       "num_investors          int64\n",
       "funding_duration       int64\n",
       "first_funding_utc      int64\n",
       "last_funding_utc       int64\n",
       "founding_year          int64\n",
       "dtype: object"
      ]
     },
     "execution_count": 231,
     "metadata": {},
     "output_type": "execute_result"
    }
   ],
   "source": [
    "df2.dtypes"
   ]
  },
  {
   "cell_type": "code",
   "execution_count": 232,
   "metadata": {},
   "outputs": [
    {
     "data": {
      "text/plain": [
       "array(['FL', 'VA', '16', 'MO', '19', 'BC', 'ON', '40', nan, 'PA', 'CA',\n",
       "       'NY', 'I7', '25', 'MA', '13', 'H9', 'TN', '4', 'NC', '11', 'QC',\n",
       "       '22', '5', '2', 'MN', '9', 'B7', '7', '29', '8', '26', 'SC', 'UT',\n",
       "       '24', '82', 'TX', 'DC', '3', '77', 'CO', 'HI', '23', 'A8', '34',\n",
       "       'OH', 'NJ', '56', 'P4', 'Q5', 'KY', 'GA', 'WA', 'IL', 'H3', 'K2',\n",
       "       '1', 'C5', '28', '18', '35', '12', 'RI', '27', 'NE', 'WI', 'DE',\n",
       "       'E4', '52', '17', '60', 'IN', 'C3', 'J8', 'N1', 'OR', 'K7', 'B4',\n",
       "       '66', 'Y9', 'NS', 'F2', 'AR', '15', 'H5', 'A6', 'N7', 'H8', 'OK',\n",
       "       'B8', '42', '48', '97', 'MI', '78', 'AZ', 'MD', 'IA', 'G7', '30',\n",
       "       '6', 'CT', 'C7', 'WV', '20', 'NB', '54', '36', 'V2', 'B9', 'NV',\n",
       "       '14', 'G5', 'Z7', '59', '10', '88', 'L6', 'P6', 'I9', 'M9', 'MS',\n",
       "       'AB', '87', 'P8', '58', '21', 'E6', 'NM', 'VT', 'D9', 'KS', 'E9',\n",
       "       'K4', '53', 'Y6', 'U8', '86', '32', 'E7', 'X7', 'ID', '57', 'I2',\n",
       "       'NH', 'H2', 'P3', 'A9', 'B3', 'A2', 'ME', 'Y4', 'R3', '68', 'L3',\n",
       "       '65', '72', 'F9', 'SAU', 'I5', 'B5', 'V8', 'X5', 'O1', 'A7', '73',\n",
       "       'D4', 'F8', '71', 'AL', 'M3', 'C9', 'I6', 'W9', '83', 'T5', '46',\n",
       "       '31', 'A4', 'G8', 'L9', 'M4', '45', 'E5', 'G3', 'B2', 'V9', 'N2',\n",
       "       'H4', 'D3', 'J7', 'R6', 'A3'], dtype=object)"
      ]
     },
     "execution_count": 232,
     "metadata": {},
     "output_type": "execute_result"
    }
   ],
   "source": [
    "df2['hq_state_code'].unique()"
   ]
  },
  {
   "cell_type": "code",
   "execution_count": 233,
   "metadata": {},
   "outputs": [
    {
     "data": {
      "text/plain": [
       "CA     931\n",
       "NY     269\n",
       "MA     195\n",
       "H9     142\n",
       "TX     116\n",
       "7      112\n",
       "2       98\n",
       "WA      83\n",
       "PA      71\n",
       "IL      62\n",
       "ON      61\n",
       "16      56\n",
       "FL      55\n",
       "5       55\n",
       "A8      54\n",
       "22      48\n",
       "GA      47\n",
       "CO      47\n",
       "9       42\n",
       "4       40\n",
       "OH      39\n",
       "23      39\n",
       "19      38\n",
       "12      37\n",
       "11      36\n",
       "NC      35\n",
       "NJ      31\n",
       "TN      31\n",
       "UT      31\n",
       "VA      30\n",
       "      ... \n",
       "A4       1\n",
       "Z7       1\n",
       "Y4       1\n",
       "H4       1\n",
       "45       1\n",
       "A7       1\n",
       "K4       1\n",
       "A3       1\n",
       "F9       1\n",
       "D4       1\n",
       "68       1\n",
       "71       1\n",
       "88       1\n",
       "E9       1\n",
       "I5       1\n",
       "O1       1\n",
       "C9       1\n",
       "73       1\n",
       "E7       1\n",
       "65       1\n",
       "G3       1\n",
       "L3       1\n",
       "SAU      1\n",
       "H3       1\n",
       "H5       1\n",
       "W9       1\n",
       "J7       1\n",
       "H2       1\n",
       "R3       1\n",
       "Y6       1\n",
       "Name: hq_state_code, Length: 192, dtype: int64"
      ]
     },
     "execution_count": 233,
     "metadata": {},
     "output_type": "execute_result"
    }
   ],
   "source": [
    "df2['hq_state_code'].value_counts()"
   ]
  },
  {
   "cell_type": "code",
   "execution_count": 234,
   "metadata": {},
   "outputs": [
    {
     "data": {
      "text/plain": [
       "576"
      ]
     },
     "execution_count": 234,
     "metadata": {},
     "output_type": "execute_result"
    }
   ],
   "source": [
    "df2['hq_state_code'].isna().sum()"
   ]
  },
  {
   "cell_type": "code",
   "execution_count": 235,
   "metadata": {},
   "outputs": [],
   "source": [
    "df2['hq_state_code'].fillna('NY', inplace = True)"
   ]
  },
  {
   "cell_type": "code",
   "execution_count": 236,
   "metadata": {},
   "outputs": [
    {
     "data": {
      "text/plain": [
       "0"
      ]
     },
     "execution_count": 236,
     "metadata": {},
     "output_type": "execute_result"
    }
   ],
   "source": [
    "df2['hq_state_code'].isna().sum()"
   ]
  },
  {
   "cell_type": "code",
   "execution_count": 237,
   "metadata": {},
   "outputs": [
    {
     "data": {
      "text/plain": [
       "CA     931\n",
       "NY     845\n",
       "MA     195\n",
       "H9     142\n",
       "TX     116\n",
       "7      112\n",
       "2       98\n",
       "WA      83\n",
       "PA      71\n",
       "IL      62\n",
       "ON      61\n",
       "16      56\n",
       "FL      55\n",
       "5       55\n",
       "A8      54\n",
       "22      48\n",
       "GA      47\n",
       "CO      47\n",
       "9       42\n",
       "4       40\n",
       "OH      39\n",
       "23      39\n",
       "19      38\n",
       "12      37\n",
       "11      36\n",
       "NC      35\n",
       "NJ      31\n",
       "TN      31\n",
       "UT      31\n",
       "VA      30\n",
       "      ... \n",
       "A4       1\n",
       "Z7       1\n",
       "Y4       1\n",
       "H4       1\n",
       "45       1\n",
       "A7       1\n",
       "K4       1\n",
       "A3       1\n",
       "F9       1\n",
       "D4       1\n",
       "68       1\n",
       "71       1\n",
       "88       1\n",
       "E9       1\n",
       "I5       1\n",
       "O1       1\n",
       "C9       1\n",
       "73       1\n",
       "E7       1\n",
       "65       1\n",
       "G3       1\n",
       "L3       1\n",
       "SAU      1\n",
       "H3       1\n",
       "H5       1\n",
       "W9       1\n",
       "J7       1\n",
       "H2       1\n",
       "R3       1\n",
       "Y6       1\n",
       "Name: hq_state_code, Length: 192, dtype: int64"
      ]
     },
     "execution_count": 237,
     "metadata": {},
     "output_type": "execute_result"
    }
   ],
   "source": [
    "df2['hq_state_code'].value_counts()"
   ]
  },
  {
   "cell_type": "code",
   "execution_count": 238,
   "metadata": {},
   "outputs": [],
   "source": [
    "df2['hq_state_code']= le2.fit_transform(df2['hq_state_code'])"
   ]
  },
  {
   "cell_type": "code",
   "execution_count": 239,
   "metadata": {},
   "outputs": [],
   "source": [
    "df2['hq_state_code'] = df2['hq_state_code'].apply(pd.to_numeric, errors='coerce')"
   ]
  },
  {
   "cell_type": "code",
   "execution_count": 240,
   "metadata": {},
   "outputs": [
    {
     "data": {
      "text/plain": [
       "85     931\n",
       "154    845\n",
       "136    195\n",
       "112    142\n",
       "174    116\n",
       "48     112\n",
       "11      98\n",
       "183     83\n",
       "164     71\n",
       "121     62\n",
       "158     61\n",
       "7       56\n",
       "35      55\n",
       "101     55\n",
       "67      54\n",
       "14      48\n",
       "86      47\n",
       "106     47\n",
       "60      42\n",
       "29      40\n",
       "156     39\n",
       "15      39\n",
       "10      38\n",
       "3       37\n",
       "2       36\n",
       "147     35\n",
       "173     31\n",
       "176     31\n",
       "150     31\n",
       "180     30\n",
       "      ... \n",
       "115      1\n",
       "123      1\n",
       "131      1\n",
       "135      1\n",
       "143      1\n",
       "155      1\n",
       "167      1\n",
       "179      1\n",
       "178      1\n",
       "162      1\n",
       "188      1\n",
       "130      1\n",
       "33       1\n",
       "41       1\n",
       "45       1\n",
       "49       1\n",
       "73       1\n",
       "89       1\n",
       "97       1\n",
       "105      1\n",
       "109      1\n",
       "187      1\n",
       "38       1\n",
       "58       1\n",
       "66       1\n",
       "94       1\n",
       "102      1\n",
       "110      1\n",
       "126      1\n",
       "189      1\n",
       "Name: hq_state_code, Length: 192, dtype: int64"
      ]
     },
     "execution_count": 240,
     "metadata": {},
     "output_type": "execute_result"
    }
   ],
   "source": [
    "df2['hq_state_code'].value_counts()"
   ]
  },
  {
   "cell_type": "code",
   "execution_count": 241,
   "metadata": {},
   "outputs": [
    {
     "data": {
      "text/plain": [
       "ID                     int64\n",
       "op_status              int64\n",
       "domain                 int64\n",
       "hq_country_code        int64\n",
       "hq_state_code          int64\n",
       "hq_region             object\n",
       "hq_city               object\n",
       "total_funding_usd    float64\n",
       "funding_rounds         int64\n",
       "num_investors          int64\n",
       "funding_duration       int64\n",
       "first_funding_utc      int64\n",
       "last_funding_utc       int64\n",
       "founding_year          int64\n",
       "dtype: object"
      ]
     },
     "execution_count": 241,
     "metadata": {},
     "output_type": "execute_result"
    }
   ],
   "source": [
    "df2.dtypes"
   ]
  },
  {
   "cell_type": "code",
   "execution_count": 242,
   "metadata": {},
   "outputs": [
    {
     "data": {
      "text/plain": [
       "array(['Ft. Lauderdale', 'Washington, D.C.', 'Berlin', 'St. Louis',\n",
       "       'Bangalore', 'Vancouver', 'Toronto', 'Tokyo', nan, 'Philadelphia',\n",
       "       'SF Bay Area', 'San Diego', 'New York City', 'Newcastle',\n",
       "       'Los Angeles', 'Norfolk - Virginia Beach', 'CHN - Other', 'Boston',\n",
       "       'DEU - Other', 'London', 'Nashville', 'Mumbai', 'Taiwan',\n",
       "       'Kansas City', 'Raleigh', 'Johannesburg', 'Seoul', 'Montreal',\n",
       "       'Beijing', 'Tel Aviv', 'Sao Paulo', 'Minneapolis', 'Vienna',\n",
       "       'Bristol', 'AUS - Other', 'Cologne', 'Madrid', 'Perth', 'Kelowna',\n",
       "       'Fortaleza', 'SC - Other', 'Salt Lake City', 'Sydney',\n",
       "       'CA - Other', 'IDN - Other', 'Utrecht', 'Zurich', 'Gdynia',\n",
       "       'Dallas', 'Esch-sur-alzette', 'Krakow', 'Denver', 'Honolulu',\n",
       "       'Orlando', 'Shanghai', 'Daytona Beach', 'Paris', 'Istanbul',\n",
       "       'Cincinnati', 'Bakersfield', 'NJ - Other', 'Barcelona',\n",
       "       'GBR - Other', 'York', 'KY - Other', 'Louisville', 'ISR - Other',\n",
       "       'Atlanta', 'Seattle', 'Chicago', 'Rome', 'Houston', 'Ho Chi Minh',\n",
       "       'BC - Other', 'Leeds', 'Stockholm', 'Ecublens', 'Geneva', 'Milan',\n",
       "       'Austin', 'Ulm', 'IND - Other', 'MEX - Other', 'DNK - Other',\n",
       "       'Athens', 'Harrisburg', 'Kuala Lumpur', 'Tampa', 'Cleveland',\n",
       "       'Providence', 'Pittsburgh', 'Newark', 'BLZ - Other', 'Malmo',\n",
       "       'Dublin', 'San Antonio', 'Munich', 'Elmira', 'Helsinki',\n",
       "       'NY - Other', 'Omaha', 'WI - Other', 'Nairobi',\n",
       "       'Wilmington, Delaware', 'Puteaux', 'Prague', 'Copenhagen', 'Orsay',\n",
       "       'Valencia', 'Indianapolis', 'Anaheim', 'Nottingham', 'Turin',\n",
       "       'Singapore', 'Bogota', 'Erlangen', 'Portland, Oregon', 'Leipzig',\n",
       "       'Milwaukee', 'Freiburg', 'FRA - Other', 'St. Petersburg',\n",
       "       'Hong Kong', 'Pontypridd', 'Halifax', 'Columbus, Ohio',\n",
       "       'Fayetteville', 'Bratislava', 'Santiago', 'Dubai', 'BRA - Other',\n",
       "       'Amsterdam', 'Liverpool', 'Levis', 'Bangkok', 'Oklahoma City',\n",
       "       'SVN - Other', 'Memphis', 'Springfield, Illinois', 'Gainesville',\n",
       "       'Nice', 'Sofia', 'Buenos Aires', 'Naples, Florida', 'Moscow',\n",
       "       'Madison', 'Bordeaux', 'Xiamen', 'Tulsa', 'Long Island', 'Detroit',\n",
       "       'Warsaw', 'New Delhi', 'Cork', 'Hamburg', 'Phoenix',\n",
       "       'Orange County, California', 'Des Moines', 'Dortmund',\n",
       "       'Kingston Upon Thames', 'Lexington', 'NLD - Other', 'Lima',\n",
       "       'Shenzhen', 'Hanover', 'Guangzhou', 'Hartford', 'Coventry',\n",
       "       'WV - Other', 'Venice', 'Sacramento', 'Tucson', 'Mexico City',\n",
       "       'ITA - Other', 'Fredericton', 'Santa Barbara', 'BEL - Other',\n",
       "       'NGA - Other', 'Stuttgart', 'Oulu', 'Roncade', 'Timisoara',\n",
       "       'CHE - Other', 'South Bend', 'Glasgow', 'Lyon', 'TZA - Other',\n",
       "       'Seongnam', 'Tbilisi', 'Las Vegas', 'Halle An Der Saale',\n",
       "       'San SebastiÃ¡n De Los Reyes', 'Jakarta', 'Frankfurt', 'Charlotte',\n",
       "       'CO - Other', 'Macclesfield', 'Unterhaching', 'JPN - Other',\n",
       "       'Kristiansand', 'Bilbao', 'Lisbon', 'Tarragona', 'Oxton', 'Miami',\n",
       "       'CZE - Other', 'NC - Other', 'Oslo', 'Toledo', 'NS - Other',\n",
       "       'Napa Valley', 'Brussels', 'Lahore', 'Grand Rapids', 'Eindhoven',\n",
       "       'Dusseldrof', 'Jacksonville', 'Dayton', 'Fort Collins', 'Zaragoza',\n",
       "       'Tallinn', 'Melbourne', 'Albany, Georgia', 'Grenoble', 'Belgrade',\n",
       "       'MS - Other', 'Calgary', 'Newbury', 'SWE - Other', 'Hyderabad',\n",
       "       'Sarasota - Bradenton', 'Szczecin', 'Swindon', 'A Coruna',\n",
       "       'Rio de Janeiro', 'Riga', 'Amman', 'Worcester', 'Muenchen',\n",
       "       'Allentown', 'Baltimore', 'Dorval', 'Albuquerque', 'VT - Other',\n",
       "       'Porto Alegre', 'Alexandria', 'Manila',\n",
       "       'Charleston, South Carolina', 'Palma De Mallorca', 'Scranton',\n",
       "       'Pensacola', 'KS - Other', 'Daresbury', 'CT - Other', 'Plymouth',\n",
       "       'Palm Beaches', 'ISL - Other', 'Kiev', 'Lappeenranta', 'Budapest',\n",
       "       'Colorado Springs', 'City Of London', 'Aarhus', 'Newport',\n",
       "       'Chennai', 'Greenville - Spartanburg', 'Burnaby', 'Catania',\n",
       "       'Wichita', 'Reno - Sparks', 'PA - Other', 'Edinburgh', 'Poznan',\n",
       "       'Delhi', 'TX - Other', 'Brossard', 'Auckland', 'Cross Hands',\n",
       "       'Reyjavik', 'Recife', 'Cape Cod', 'Accra', 'Ottawa', 'Marseille',\n",
       "       'Herlev', 'Idaho Falls', 'Kaunas', 'Chiang Mai', 'Knoxville',\n",
       "       'Hangzhou', 'Nasik', 'Aix-en-provence', 'Manchester', 'Portsmouth',\n",
       "       'Preston', 'Porto', 'Ismaning', 'Guwahati', 'Montpellier',\n",
       "       'Bolton Upon Dearne', 'Manchester, New Hampshire', 'Rotterdam',\n",
       "       'CHL - Other', 'Cochin', 'Rennes', 'Panama City', 'Vantaa',\n",
       "       'Portland, Maine', 'Chattanooga', 'Rochester, New York', 'Spokane',\n",
       "       'Belfast', 'Warwick', 'Haryana', 'Alcester', 'TUR - Other',\n",
       "       'Bologna', 'MD - Other', 'The Hague', 'Basel', 'Ã‡an', 'Palermo',\n",
       "       'PRT - Other', 'Jaipur', 'Camberwell South', 'Brisbane',\n",
       "       'Cape Town', 'Jena', 'Pune', 'Guayaquil', 'Vilnius', 'Curitiba',\n",
       "       'Wroclaw', 'PAK - Other', 'Lausanne', 'Henley On Thames',\n",
       "       'WA - Other', '10', 'Middlesbrough', 'Eugene', 'Coimbatore',\n",
       "       'Nantes', 'Dresden', 'Bellshill', 'Cardiff', 'Cyprus', 'Schlieren',\n",
       "       'Stalybridge', 'IRL - Other', 'PHL - Other', 'Winston-Salem',\n",
       "       'Birmingham', 'Kazan', 'GRC - Other', 'Bucharest', 'Netanya',\n",
       "       'Galway', 'GIB - Other', 'Exeter', 'ESP - Other', 'Greensboro',\n",
       "       'Brasilia', 'Perm', 'Beirut', 'Huntsville',\n",
       "       'Columbia, South Carolina', \"Florida's Space Coast\",\n",
       "       'San Luis Obispo', 'Frensham', 'Taunton', 'Peoria', 'Muscat',\n",
       "       'ARG - Other', 'Kolkata', 'Edmonton', 'Lugano', 'Firenze',\n",
       "       'Binton', 'Gdansk', 'Livingston', 'Cairo', 'TN - Other',\n",
       "       'POL - Other', 'Pessac', 'Guangdong', 'Aberdeen', 'THA - Other',\n",
       "       'Murcia', 'Kalamazoo', 'Cedar Rapids', 'HUN - Other', 'UT - Other',\n",
       "       'Bath', 'Orpington', 'EST - Other', 'COL - Other', 'Huddersfield',\n",
       "       'LUX - Other', 'Ontario - Inland Empire', 'AUT - Other',\n",
       "       'DÃºn Laoghaire', 'Trenton', 'Ahmedabad', 'HÃ¸rsholm', 'Bochum',\n",
       "       'Boise', 'Fresno', 'Kosice', 'Guatemala City', 'Akron - Canton',\n",
       "       'Green Bay', 'Quebec City', 'Sheffield', 'Richmond', 'Casablanca',\n",
       "       'Cheltenham', 'Nanjing', 'Carthage', 'IA - Other', 'Gateshead',\n",
       "       'Baracaldo', 'Chengdu', 'Umea', 'GA - Other', 'Jinan', 'Lansing',\n",
       "       'Vadodara', 'Jerusalem', 'Linkoping', 'Osaka', 'Lagos',\n",
       "       'Trondheim', 'Quito', 'ME - Other', 'Stockport', 'IL - Other',\n",
       "       'ID - Other', 'Montpelier', 'Beaconsfield', 'Tunbridge Wells',\n",
       "       'Admiralty', 'Jackson', 'Rochester, Minnesota', 'Syracuse',\n",
       "       'Haifa', 'Coleraine', 'Bergamo', 'Turku', 'Aldershot', 'Seminole',\n",
       "       'Bermuda'], dtype=object)"
      ]
     },
     "execution_count": 242,
     "metadata": {},
     "output_type": "execute_result"
    }
   ],
   "source": [
    "df2['hq_region'].unique()"
   ]
  },
  {
   "cell_type": "code",
   "execution_count": 243,
   "metadata": {},
   "outputs": [
    {
     "data": {
      "text/plain": [
       "SF Bay Area             694\n",
       "New York City           253\n",
       "Boston                  188\n",
       "London                  175\n",
       "Los Angeles             118\n",
       "Seattle                  80\n",
       "Austin                   56\n",
       "Tel Aviv                 55\n",
       "Washington, D.C.         55\n",
       "Toronto                  54\n",
       "Chicago                  53\n",
       "San Diego                52\n",
       "Paris                    49\n",
       "Beijing                  46\n",
       "Atlanta                  44\n",
       "Denver                   43\n",
       "Philadelphia             41\n",
       "Shanghai                 35\n",
       "Bangalore                34\n",
       "Singapore                31\n",
       "Houston                  30\n",
       "Salt Lake City           30\n",
       "New Delhi                29\n",
       "Dublin                   27\n",
       "Raleigh                  27\n",
       "Anaheim                  26\n",
       "Newark                   25\n",
       "Barcelona                24\n",
       "Tokyo                    24\n",
       "Mumbai                   24\n",
       "                       ... \n",
       "Lansing                   1\n",
       "The Hague                 1\n",
       "Haifa                     1\n",
       "UT - Other                1\n",
       "Sarasota - Bradenton      1\n",
       "Szczecin                  1\n",
       "Kiev                      1\n",
       "Osaka                     1\n",
       "GIB - Other               1\n",
       "Schlieren                 1\n",
       "Huddersfield              1\n",
       "Kelowna                   1\n",
       "Levis                     1\n",
       "Kristiansand              1\n",
       "Brasilia                  1\n",
       "Fort Collins              1\n",
       "Coleraine                 1\n",
       "Akron - Canton            1\n",
       "Cape Cod                  1\n",
       "CHL - Other               1\n",
       "BLZ - Other               1\n",
       "Venice                    1\n",
       "Newport                   1\n",
       "Aldershot                 1\n",
       "CZE - Other               1\n",
       "Chengdu                   1\n",
       "Palermo                   1\n",
       "Colorado Springs          1\n",
       "Green Bay                 1\n",
       "Portland, Maine           1\n",
       "Name: hq_region, Length: 450, dtype: int64"
      ]
     },
     "execution_count": 243,
     "metadata": {},
     "output_type": "execute_result"
    }
   ],
   "source": [
    "df2['hq_region'].value_counts()"
   ]
  },
  {
   "cell_type": "code",
   "execution_count": 244,
   "metadata": {},
   "outputs": [
    {
     "data": {
      "text/plain": [
       "555"
      ]
     },
     "execution_count": 244,
     "metadata": {},
     "output_type": "execute_result"
    }
   ],
   "source": [
    "df2['hq_region'].isna().sum()"
   ]
  },
  {
   "cell_type": "code",
   "execution_count": 245,
   "metadata": {},
   "outputs": [],
   "source": [
    "df2['hq_region'].fillna('New York City', inplace = True)"
   ]
  },
  {
   "cell_type": "code",
   "execution_count": 246,
   "metadata": {},
   "outputs": [
    {
     "data": {
      "text/plain": [
       "0"
      ]
     },
     "execution_count": 246,
     "metadata": {},
     "output_type": "execute_result"
    }
   ],
   "source": [
    "df2['hq_region'].isna().sum()"
   ]
  },
  {
   "cell_type": "code",
   "execution_count": 247,
   "metadata": {},
   "outputs": [],
   "source": [
    "df2['hq_region']= le2.fit_transform(df2['hq_region'])"
   ]
  },
  {
   "cell_type": "code",
   "execution_count": 248,
   "metadata": {},
   "outputs": [],
   "source": [
    "df2['hq_region'] = df2['hq_region'].apply(pd.to_numeric, errors='coerce')"
   ]
  },
  {
   "cell_type": "code",
   "execution_count": 249,
   "metadata": {},
   "outputs": [
    {
     "data": {
      "text/plain": [
       "ID                     0\n",
       "op_status              0\n",
       "domain                 0\n",
       "hq_country_code        0\n",
       "hq_state_code          0\n",
       "hq_region              0\n",
       "hq_city              555\n",
       "total_funding_usd      1\n",
       "funding_rounds         0\n",
       "num_investors          0\n",
       "funding_duration       0\n",
       "first_funding_utc      0\n",
       "last_funding_utc       0\n",
       "founding_year          0\n",
       "dtype: int64"
      ]
     },
     "execution_count": 249,
     "metadata": {},
     "output_type": "execute_result"
    }
   ],
   "source": [
    "df2.isna().sum()"
   ]
  },
  {
   "cell_type": "code",
   "execution_count": 250,
   "metadata": {},
   "outputs": [
    {
     "data": {
      "text/plain": [
       "ID                     int64\n",
       "op_status              int64\n",
       "domain                 int64\n",
       "hq_country_code        int64\n",
       "hq_state_code          int64\n",
       "hq_region              int64\n",
       "hq_city               object\n",
       "total_funding_usd    float64\n",
       "funding_rounds         int64\n",
       "num_investors          int64\n",
       "funding_duration       int64\n",
       "first_funding_utc      int64\n",
       "last_funding_utc       int64\n",
       "founding_year          int64\n",
       "dtype: object"
      ]
     },
     "execution_count": 250,
     "metadata": {},
     "output_type": "execute_result"
    }
   ],
   "source": [
    "df2.dtypes"
   ]
  },
  {
   "cell_type": "code",
   "execution_count": 251,
   "metadata": {},
   "outputs": [
    {
     "data": {
      "text/plain": [
       "array(['Fort Lauderdale', 'Herndon', 'Berlin', 'Hazelwood', 'Bangalore',\n",
       "       'Vancouver', 'Toronto', 'Tokyo', nan, 'Philadelphia',\n",
       "       'King Of Prussia', 'Palo Alto', 'San Diego', 'Brooklyn',\n",
       "       'Newcastle Upon Tyne', 'Walnut Creek', 'San Francisco',\n",
       "       'Los Angeles', 'Virginia Beach', 'Pudong', 'Torrance',\n",
       "       'Burlington', 'Oakland', 'Mittweida', 'London', 'Mountain View',\n",
       "       'San Jose', 'Cambridge', 'Nashville', 'Mumbai', 'Hsinchu',\n",
       "       'Independence', 'Boston', 'Raleigh', 'Johannesburg', 'Seoul',\n",
       "       'Laval', 'Beijing', 'Tel Aviv', 'São Paulo', 'Mill Valley',\n",
       "       'Forest Lake', 'Deutsch', 'Vienna', 'New York', 'Bristol',\n",
       "       'Yarraville', 'Cologne', 'Markham', 'Madrid', 'Del Mar',\n",
       "       'San Bruno', 'Perth', 'Kelowna', 'Santa Clara', 'Florianópolis',\n",
       "       'Texas', 'Lindon', 'Sydney', 'Sun Valley', 'Japan', 'Utrecht',\n",
       "       'Zug', 'Gdynia', 'Dallas', 'Washington', 'Montréal', 'Orem',\n",
       "       'Esch-sur-alzette', 'Kraków', 'Pleasanton', 'Boulder',\n",
       "       'Marlborough', 'Honolulu', 'Orlando', 'Shanghai', 'Palm Coast',\n",
       "       'Paris', 'Santa Monica', 'Mclean', 'Istanbul', 'Futian',\n",
       "       'Cincinnati', 'California City', 'Hampton', 'Barcelona',\n",
       "       'Aldermaston', 'York', 'Union Star', 'Louisville', 'Or Akiva',\n",
       "       'Lawrenceville', 'Woodinville', 'Palatine', 'Rome', 'Plano',\n",
       "       'Houston', 'Ho Chi Minh City', 'Littleton', 'Richmond', 'Highland',\n",
       "       'Leeds', 'San Mateo', 'Stockholm', 'Ecublens', 'Oxford', 'Geneva',\n",
       "       'Milan', 'Atlanta', 'St Louis', 'Redwood City', 'Austin',\n",
       "       'Morrisville', 'Ulm', 'Zürich', 'Wendelsheim', 'Darjeeling',\n",
       "       'Estado De México', 'Risskov', 'Plymouth', 'Athens', 'Hummelstown',\n",
       "       'Los Altos', 'Sandy', 'Selangor', 'Tampa', 'Cleveland',\n",
       "       'Providence', 'Pittsburgh', 'Rye', 'Burbank', 'Tenafly',\n",
       "       'Carlsbad', 'Middlesex', 'Chicago', 'Malmö', 'Potsdam', 'New Hope',\n",
       "       'Dublin', 'Provo', 'San Antonio', 'Feasterville Trevose',\n",
       "       'München', 'Ithaca', 'Seattle', 'Helsinki', 'Great River',\n",
       "       'Lincoln', 'Neshkoro', 'Hilversum', 'Nairobi', 'Wilmington',\n",
       "       'Sunnyvale', 'Sherman Oaks', 'Puteaux', 'Saffron Walden', 'Prague',\n",
       "       'Newton', 'Copenhagen', 'Orsay', 'Valencia', 'Itasca',\n",
       "       'West Lafayette', 'Brea', 'Lake Mary', 'Nottingham', 'Wayne',\n",
       "       'Haydock', 'Torino', 'Minneapolis', 'Woodland Hills', 'Menlo Park',\n",
       "       'Singapore', 'Bogotá', 'Kirkland', 'Erlangen', 'Milpitas',\n",
       "       'Hamilton', 'East Palo Alto', 'Portland', 'Leipzig', 'Beloit',\n",
       "       'Mooloolaba', 'Reading', 'Freiburg', 'Tourcoing', 'Berkeley',\n",
       "       'Saint Petersburg', 'Emeryville', 'Indianapolis', 'Hong Kong',\n",
       "       'Pontypridd', 'Minnetonka', 'Halifax', 'Basingstoke', 'Columbus',\n",
       "       'St. Petersburg', 'Fayetteville', 'Bratislava', 'Westlake Village',\n",
       "       'Santiago', 'Dubai', 'Jordânia', 'Guildford', 'Amsterdam',\n",
       "       'Liverpool', 'Kitchener', 'Lévis', 'Bangkok', 'Herzliya',\n",
       "       'Oklahoma City', 'Woodstock', 'Arlington', 'Gornja Radgona',\n",
       "       'Memphis', 'Springfield', 'Waltham', 'Jersey City', 'Framingham',\n",
       "       'Newberry', 'Valbonne', 'Sofia', 'Beachwood', 'Buenos Aires',\n",
       "       'Bonita Springs', 'Broomfield', 'Needham', 'Moscow',\n",
       "       'Stokenchurch', 'Madison', 'Long Island City', 'Bordeaux',\n",
       "       'Issaquah', 'Beaverton', 'Xiamen', 'Beverly Hills', 'Tulsa',\n",
       "       'Southampton', 'Lafayette', 'Paoli', 'Detroit', 'Warszawa',\n",
       "       'New Delhi', 'Shibuya', 'Cork', 'Hamburg', 'Parsippany',\n",
       "       'Chandler', 'Rockville', 'Espoo', 'Milano', 'San Juan Capistrano',\n",
       "       'Ames', 'Durham', 'Brighton', 'Dortmund', 'Kingston Upon Thames',\n",
       "       'Doylestown', 'Lexington', 'Fremont', 'Castricum', 'Lima',\n",
       "       'Shenzhen', 'Newtown', 'Hanover', 'Guangzhou', 'Milwaukee',\n",
       "       'Marietta', 'Malvern', 'Pleasant Grove', 'New Haven', 'San Rafael',\n",
       "       'Köln', 'Prospect', 'Coventry', 'Reston', 'Pacific Palisades',\n",
       "       'Teaneck', 'Kearneysville', 'Treviso', 'Silver Spring',\n",
       "       'Half Moon Bay', 'Mi Wuk Village', 'Tucson', 'Mexico City',\n",
       "       'Vimercate', 'Fredericton', 'Manhattan Beach', 'Santa Barbara',\n",
       "       'Alameda', 'Lommel', 'Glendale', 'San Ramon', 'Ilupeju', 'Lowell',\n",
       "       'Stuttgart', 'Oulu', 'Roncade', 'Newcastle', 'Munich', 'Timisoara',\n",
       "       'Cham', 'Elkhart', 'Mission Viejo', 'Glasgow', 'Irving', 'Lyon',\n",
       "       'Draper', 'Hasselager', 'Dar Es Salaam', 'Seongnam', 'Santa Cruz',\n",
       "       'Tbilisi', 'Suzhou', 'Franklin', 'San Clemente',\n",
       "       'Issy-les-moulineaux', 'Las Vegas', 'Freyung',\n",
       "       'Halle An Der Saale', 'Huins', 'Unterschleißheim',\n",
       "       'San Sebastián De Los Reyes', 'Jakarta', 'Concord', 'Richardson',\n",
       "       'Schwetzingen', 'Bloomington', 'Acton', 'Culver City',\n",
       "       'Costa Mesa', 'Brunnthal', 'Royal Tunbridge Wells', 'Englewood',\n",
       "       'Charlotte', 'Pueblo', 'Santa Ynez', 'Macclesfield',\n",
       "       'Salt Lake City', 'Unterhaching', 'Champaign', 'Yamato-minami',\n",
       "       'South San Francisco', 'Golden', 'Buena Park', 'El Segundo',\n",
       "       'Kristiansand', 'Denver', 'Bilbao', 'Lisbon', 'Gurgaon',\n",
       "       'Campbell', 'Cupertino', 'Ambler', 'Encino', 'Tarragona', 'Oxton',\n",
       "       'Aventura', 'Ma', 'Guarulhos', 'Zelenec', 'Omaha',\n",
       "       'El Dorado Hills', 'Bellevue', 'Coatesville', 'Thalheim',\n",
       "       'Ipswich', 'Los Gatos', 'Labbeck', 'Mooresville', 'Boskoop',\n",
       "       'Roswell', 'Oslo', 'Pampisford', 'Findlay', 'Irvine', 'Andover',\n",
       "       'New Waterford', 'Westford', 'Van Nuys', 'Petaluma', 'Leuven',\n",
       "       'Venice', 'Miami', 'San Luis Potosí', 'Lahore', 'Grand Rapids',\n",
       "       'Eindhoven', 'Düsseldorf', 'Worthing', 'Jacksonville', 'Dayton',\n",
       "       'Saint Bonaventure', 'Long Beach', 'San Carlos', 'Lavras',\n",
       "       'Croissy-beaubourg', 'Fort Collins', 'Aliso Viejo', 'Zaragoza',\n",
       "       'Charlottesville', 'Arenzano', 'Euthal', 'Brunswick', 'Tallinn',\n",
       "       'Foster City', 'Ness Ziona', 'Levallois-perret', 'Tempe',\n",
       "       'Burlingame', 'Melbourne', 'Albany', 'The Woodlands',\n",
       "       'Carpinteria', 'Grenoble', 'Belgrade', 'Laurel', 'Roma', 'Calgary',\n",
       "       'Genova', 'Liège', 'Taipei', 'Fullerton', 'Newbury',\n",
       "       \"Rosh Ha'ayin\", 'Karlstad', 'Hyderabad', 'Tyngsboro', 'Redmond',\n",
       "       'Sarasota', 'Toledo', 'Bengaluru', 'Szczecin', 'Grosse Pointe',\n",
       "       'Noida', 'Swindon', 'Taichung', 'Carlisle', 'A Coruña',\n",
       "       'Rio De Janeiro', 'Riga', 'Marina Del Rey', 'Amman', 'Wayland',\n",
       "       'Princeton', 'Worcester', 'Muenchen', 'Bethlehem', 'Norwell',\n",
       "       'Baltimore', 'Le Vaud', 'Ponte Vedra Beach', 'Surry Hills',\n",
       "       'Dorval', 'Conshohocken', 'Albuquerque', 'Fairfax', 'Elmhurst',\n",
       "       'Middlebury', 'Fort Worth', 'Porto Alegre', 'Harrisonburg',\n",
       "       'Duluth', 'San Juan', 'Charleston', 'Kista', 'Bountiful',\n",
       "       'Palma De Mallorca', 'Wilkes Barre', 'Miramar Beach', 'Sabetha',\n",
       "       \"Ra'anana\", 'Decatur', 'Daresbury', 'Lucerne Valley',\n",
       "       'Sun Prairie', 'Centerbrook', 'Boca Raton', 'Nordborg', 'Evanston',\n",
       "       'Alpharetta', 'Hafnarfjörður', 'North Billerica', 'Pasig', 'Kyiv',\n",
       "       'Lappeenranta', 'Melville', 'Budapest', 'Colorado Springs',\n",
       "       'City Of London', 'Gainesville', 'Aarhus', 'Fairfield', 'Newport',\n",
       "       'Iselin', 'Warsaw', 'Chennai', 'Williston', 'Makati', 'Greenville',\n",
       "       'Harvard', 'Burnaby', 'Catania', 'Schuyler Lake', 'Wichita',\n",
       "       'Reno', 'Pasadena', 'Haifa', 'Erie', 'Edinburgh', 'Poznan',\n",
       "       'Delhi', 'Tiverton', 'Milton', 'Flemington', 'Colorado',\n",
       "       'Brussels', 'New London', 'Rockdale', 'Lanham', 'Brossard',\n",
       "       'Auckland', 'Cross Hands', 'West Haven', 'Westborough', 'Phoenix',\n",
       "       'Reykjavík', 'American Fork', 'Härnösand', 'Rolling Meadows',\n",
       "       'Alachua', 'Recife', 'Hyannis Port', 'Port Townsend', 'Accra',\n",
       "       'Ottawa', 'Grand-rosière', 'Taiwan', 'Marseille', 'Newington',\n",
       "       'Herlev', 'Almere', 'Oeiras', 'Hayward', 'Waterloo', 'Rexburg',\n",
       "       'Kaunas', 'Kadima', 'Chiang Mai', 'Abingdon', 'Oak Ridge',\n",
       "       'Ann Arbor', 'Hangzhou', 'Brentwood', 'Nasik', 'Aix-en-provence',\n",
       "       'Tewksbury', 'Fishers', 'Lilburn', 'Manchester', 'Petah Tiqva',\n",
       "       'Lieshout', 'Portsmouth', 'Yardley', 'Amherst', 'Preston',\n",
       "       'Whitewater', 'West Hollywood', 'Aveiro', 'Hardwick', 'Maurepas',\n",
       "       'New Brunswick', 'Lund', 'Kfar Saba', 'Foothill Ranch', 'Ismaning',\n",
       "       'Tualatin', 'Midvale', 'Zwijnaarde', 'Guwahati', 'Warren',\n",
       "       'Scranton', 'Montpellier', 'Bolton Upon Dearne', 'Aschheim',\n",
       "       'Bedford', 'Rotterdam', 'Puerto Varas', 'Ramat Gan', 'Cochin',\n",
       "       'Bracknell', 'Rennes', 'Tomball', 'Mont-saint-guibert',\n",
       "       'Panama City', 'Stamford', 'Rende', 'Vantaa', 'Arlington Heights',\n",
       "       'Chattanooga', 'Rochester', 'Spokane', 'Fair Lawn', 'Chepstow',\n",
       "       'Belfast', 'Chantilly', 'Kenmore', 'Warwick', 'Haryana',\n",
       "       'Lawrence', 'Laguna Hills', 'Alcester', 'Sèvres', 'Beytepe',\n",
       "       'Belmont', 'Buderim', 'Cracow', 'Saint Gallen', 'Bologna',\n",
       "       'Slough', 'Suitland', 'The Hague', 'Basel', 'Napa', 'Çan',\n",
       "       'Palermo', 'Richmond Hill', 'Glenview', 'Deurle', 'Malma',\n",
       "       'Atlantic Highlands', 'New Albany', 'Ramalhal', 'Somerville',\n",
       "       'Eden Prairie', 'Jaipur', 'Camberwell South', 'Brisbane',\n",
       "       'Cape Town', 'Addison', 'Bièvres', \"L'union\", 'La Jolla', 'Malad',\n",
       "       'Northbrook', 'Jena', 'Encinitas', 'Mount Kisco', 'Or Yehuda',\n",
       "       'Pune', 'Blackburn', 'Wesley Chapel', 'Pullach', 'Guayaquil',\n",
       "       'Lille', 'Natick', 'Vilnius', 'Curitiba', 'Wroclaw', 'Warrington',\n",
       "       'Pakistan Kili', 'Lausanne', 'Henley On Thames', 'Jouy-en-josas',\n",
       "       'Guilford', 'Anacortes', 'Mason', 'Edmond', 'South Houston',\n",
       "       'East Hartford', 'Goleta', 'Hillingdon', 'SAU - Other',\n",
       "       'Middlesbrough', 'Eugene', 'Longmont', 'Coimbatore', 'Nantes',\n",
       "       'Dresden', 'Bellshill', 'Newport Beach', 'Fairmont', 'Ostend',\n",
       "       'Cardiff', 'Elk Grove Village', 'Spring', 'Limassol', 'Nuevo León',\n",
       "       'Middleton', 'Bondi', 'Valhalla', 'Schlieren', 'Stalybridge',\n",
       "       'Palaiseau', 'Celbridge', 'Muntinlupa City', 'Somerset',\n",
       "       'Woodridge', 'Jerusalem', 'China', 'Powai', 'Troy', 'Changsha',\n",
       "       'Winston Salem', 'Birmingham', 'Columbia', 'Kazan', 'Attikí',\n",
       "       'Anthée', 'Bunnik', 'Bucharest', 'Kefar Netter', 'Santa Rosa',\n",
       "       'Galway', 'Carrollton', 'Gibraltar', 'Nanshan', 'Skovlunde',\n",
       "       'Huntington Beach', 'Exeter', 'Hemel Hempstead', 'Lehi', 'Pontiac',\n",
       "       'Espina', 'High Point', 'Brasília', 'Tel Aviv-yafo', 'Morgan Hill',\n",
       "       'Ekaterinburg', 'Beirut', 'Melbourne Beach', 'Stevenson',\n",
       "       'Yarnton', 'Écully', 'Audubon', 'San Luis Obispo', 'Frensham',\n",
       "       'Downers Grove', 'Taunton', 'Chewton Mendip', 'Workington',\n",
       "       'Auburn Hills', 'Gland', 'Peoria', 'Saint Louis', 'Woburn',\n",
       "       'Wuxue', 'Larkspur', 'Montrouge', 'Vipperød', 'Muscat', 'Jujuy',\n",
       "       'Kolkata', 'Charbonnières-les-bains', 'Edmonton', 'Bunschoten',\n",
       "       'Kennesaw', 'Ranelagh', 'Jaffrey', 'Scottsdale', 'Palm Bay',\n",
       "       'Coral Gables', 'Hunt Valley', 'Goatstown', 'Mannheim', 'Lugano',\n",
       "       'Firenze', 'Binton', 'San Marcos', 'Frankfurt', 'Marriottsville',\n",
       "       'Pittsfield', 'Alexandria', 'Gdansk', 'Loughton', 'Livingston',\n",
       "       'Cairo', 'Quebeck', 'Bielsko-biala', 'Pessac', 'Nicosia',\n",
       "       'Watertown', 'Charlottenlund', 'Wixom', 'Mainz', 'Stony Brook',\n",
       "       'Guangdong', 'Montmeló', 'College Park', 'Changzhou', 'Amstelveen',\n",
       "       'Aberdeen', 'Chonburi', 'Murcia', 'Kalamazoo', 'Lakewood',\n",
       "       'Arbent', 'Valparaiso', 'Bethesda', 'North Vancouver', 'Guaporé',\n",
       "       'Brattleboro', 'Whippany', 'Iowa City', 'Bonheiden', 'Branford',\n",
       "       'Woodbridge', 'Sausalito', 'Porto', 'Cuajimalpa', 'Mountain Pass',\n",
       "       'Santa Ana', 'Budaörs', 'Brookline', 'Allentown', 'Mapleton',\n",
       "       'Olivet', 'Bath', 'Larnaca', 'Orpington', 'Tartu', 'Caracas',\n",
       "       'Huddersfield', 'Blaschette', 'Walnut', 'Perchtoldsdorf',\n",
       "       'Kansas City', 'Spicewood', 'Zeeland', 'Chapel Hill', 'Bel',\n",
       "       'Belvedere Tiburon', 'Hasselt', 'Besançon', 'Botany', 'Misgav',\n",
       "       'Dún Laoghaire', 'Trenton', 'Louvain-la-neuve', 'Ahmadabad',\n",
       "       'Roseville', 'Davie', \"'s-hertogenbosch\", 'Tacoma', 'Hørsholm',\n",
       "       'Calabasas', 'Brewster', 'Shangdong', 'Bochum', 'Boise', 'Canada',\n",
       "       'Lisboa', 'Beltsville', 'North Hollywood', 'Bridgewater', 'Ankeny',\n",
       "       'Loveland', 'Guadalajara', 'Ephrata', 'Ashkelon', 'Harlow',\n",
       "       'Scotts Valley', 'Admington', 'Hyogo', 'Clovis', 'Salvador',\n",
       "       'Kosice', 'Blue Bell', 'Vacaville', 'Randburg', 'Victoria',\n",
       "       'Cranbury', 'El Monte', 'Guatemala City', 'Tallmadge', 'Horsham',\n",
       "       'Neenah', 'Marysville', 'Quebec', 'Lake Forest', 'Billerica',\n",
       "       'Sheffield', 'Harpenden', 'North Palm Beach', 'Qingdao', 'Wexford',\n",
       "       'Casablanca', 'Dedham', 'Cheltenham', 'Palm Harbor', 'Xianglong',\n",
       "       'Nanjing', 'Misgav Dov', 'Silkeborg', 'Carthage', 'Winfield',\n",
       "       'Costa Rica', 'Gateshead', 'San Anselmo', 'Lod', 'Baracaldo',\n",
       "       'Chelmsford', 'Islington', 'Chengdu', 'Southfield', 'Umeå',\n",
       "       'Germany', 'Chippendale', 'Bournemouth', 'Old Saybrook', 'Jinan',\n",
       "       'Miami Beach', 'Edison', 'Lansing', 'Shawnee', 'Chilworth',\n",
       "       'Vadodara', 'Bet Shemesh', 'Winchester', 'Wakefield', 'Linköping',\n",
       "       'Osaka', 'Lagos', 'Trondheim', 'Fulton', 'Gaithersburg', 'Quito',\n",
       "       'Santiago De Cali', 'Roxbury', 'Stockport', 'Sun City Center',\n",
       "       'Stenløse', 'Enderby', 'Ballinasloe', 'Hampshire', 'Darien',\n",
       "       'Delray Beach', 'Heidelberg', 'Eagle', 'Ettlingen', 'Nærum',\n",
       "       'Ashburn', 'Jinhua', 'Norwich', 'Bothell', 'Barrie', 'Asheboro',\n",
       "       'Lochristi', 'Beaconsfield', 'Tunbridge Wells', 'Vaughan',\n",
       "       'Palm Beach Gardens', 'Vannes', 'Devizes', 'Timbaúba', 'Ambridge',\n",
       "       'Cary', 'Glassboro', 'Admiralty', 'Matlock', 'Hoboken', 'Euclid',\n",
       "       'Greenwood', 'Elkridge', 'Faribault', 'Deurne', 'Ripley',\n",
       "       'Syracuse', 'De Meern', 'Yoqne`am `illit', 'Germantown',\n",
       "       'Hawthorne', 'Coleraine', 'Bergamo', 'Park City', 'Stockton',\n",
       "       'Xian', 'Mafra', 'Turku', 'California', 'Aldershot', 'Tullahoma',\n",
       "       'Seminole', 'Avon-les-roches', 'Laguna Niguel', 'Naples',\n",
       "       'San Dimas'], dtype=object)"
      ]
     },
     "execution_count": 251,
     "metadata": {},
     "output_type": "execute_result"
    }
   ],
   "source": [
    "df2['hq_city'].unique()"
   ]
  },
  {
   "cell_type": "code",
   "execution_count": 252,
   "metadata": {},
   "outputs": [
    {
     "data": {
      "text/plain": [
       "San Francisco       277\n",
       "New York            233\n",
       "London              141\n",
       "Los Angeles          59\n",
       "Mountain View        58\n",
       "Cambridge            55\n",
       "Palo Alto            54\n",
       "Austin               54\n",
       "Boston               53\n",
       "Seattle              52\n",
       "Beijing              46\n",
       "Paris                42\n",
       "San Jose             42\n",
       "Sunnyvale            40\n",
       "Toronto              39\n",
       "San Diego            37\n",
       "Chicago              35\n",
       "Shanghai             32\n",
       "Singapore            31\n",
       "Bangalore            30\n",
       "Atlanta              29\n",
       "San Mateo            29\n",
       "Santa Clara          28\n",
       "Dublin               27\n",
       "Tel Aviv             27\n",
       "Houston              26\n",
       "Mumbai               24\n",
       "Menlo Park           24\n",
       "Barcelona            24\n",
       "Tokyo                23\n",
       "                   ... \n",
       "Aldermaston           1\n",
       "Brunswick             1\n",
       "Vantaa                1\n",
       "Arbent                1\n",
       "Stony Brook           1\n",
       "Louvain-la-neuve      1\n",
       "Wexford               1\n",
       "Kennesaw              1\n",
       "Pueblo                1\n",
       "Chengdu               1\n",
       "Billerica             1\n",
       "Southfield            1\n",
       "Xianglong             1\n",
       "Worthing              1\n",
       "Wichita               1\n",
       "Ashburn               1\n",
       "Colorado Springs      1\n",
       "Aldershot             1\n",
       "China                 1\n",
       "Hawthorne             1\n",
       "Kadima                1\n",
       "Reykjavík             1\n",
       "Germantown            1\n",
       "Blue Bell             1\n",
       "Mooloolaba            1\n",
       "Westlake Village      1\n",
       "Ames                  1\n",
       "Guarulhos             1\n",
       "Bet Shemesh           1\n",
       "Ma                    1\n",
       "Name: hq_city, Length: 986, dtype: int64"
      ]
     },
     "execution_count": 252,
     "metadata": {},
     "output_type": "execute_result"
    }
   ],
   "source": [
    "df2['hq_city'].value_counts()"
   ]
  },
  {
   "cell_type": "code",
   "execution_count": 253,
   "metadata": {},
   "outputs": [],
   "source": [
    "df2['hq_city'].fillna('New York', inplace = True)"
   ]
  },
  {
   "cell_type": "code",
   "execution_count": 254,
   "metadata": {},
   "outputs": [
    {
     "data": {
      "text/plain": [
       "0"
      ]
     },
     "execution_count": 254,
     "metadata": {},
     "output_type": "execute_result"
    }
   ],
   "source": [
    "df2['hq_city'].isna().sum()"
   ]
  },
  {
   "cell_type": "code",
   "execution_count": 255,
   "metadata": {},
   "outputs": [],
   "source": [
    "df2['hq_city']= le2.fit_transform(df2['hq_city'])"
   ]
  },
  {
   "cell_type": "code",
   "execution_count": 256,
   "metadata": {},
   "outputs": [],
   "source": [
    "df2['hq_city'] = df2['hq_city'].apply(pd.to_numeric, errors='coerce')"
   ]
  },
  {
   "cell_type": "code",
   "execution_count": 257,
   "metadata": {},
   "outputs": [
    {
     "data": {
      "text/plain": [
       "dtype('float64')"
      ]
     },
     "execution_count": 257,
     "metadata": {},
     "output_type": "execute_result"
    }
   ],
   "source": [
    "df2['total_funding_usd'].dtypes"
   ]
  },
  {
   "cell_type": "code",
   "execution_count": 258,
   "metadata": {},
   "outputs": [],
   "source": [
    "df2['total_funding_usd'].fillna(0, inplace = True)"
   ]
  },
  {
   "cell_type": "code",
   "execution_count": 259,
   "metadata": {},
   "outputs": [
    {
     "data": {
      "text/plain": [
       "ID                     int64\n",
       "op_status              int64\n",
       "domain                 int64\n",
       "hq_country_code        int64\n",
       "hq_state_code          int64\n",
       "hq_region              int64\n",
       "hq_city                int64\n",
       "total_funding_usd    float64\n",
       "funding_rounds         int64\n",
       "num_investors          int64\n",
       "funding_duration       int64\n",
       "first_funding_utc      int64\n",
       "last_funding_utc       int64\n",
       "founding_year          int64\n",
       "dtype: object"
      ]
     },
     "execution_count": 259,
     "metadata": {},
     "output_type": "execute_result"
    }
   ],
   "source": [
    "df2.dtypes"
   ]
  },
  {
   "cell_type": "code",
   "execution_count": 260,
   "metadata": {},
   "outputs": [
    {
     "data": {
      "text/plain": [
       "ID                   0\n",
       "op_status            0\n",
       "domain               0\n",
       "hq_country_code      0\n",
       "hq_state_code        0\n",
       "hq_region            0\n",
       "hq_city              0\n",
       "total_funding_usd    0\n",
       "funding_rounds       0\n",
       "num_investors        0\n",
       "funding_duration     0\n",
       "first_funding_utc    0\n",
       "last_funding_utc     0\n",
       "founding_year        0\n",
       "dtype: int64"
      ]
     },
     "execution_count": 260,
     "metadata": {},
     "output_type": "execute_result"
    }
   ],
   "source": [
    "df2.isna().sum()"
   ]
  },
  {
   "cell_type": "markdown",
   "metadata": {},
   "source": [
    "# Predicting the output on final training set"
   ]
  },
  {
   "cell_type": "code",
   "execution_count": 261,
   "metadata": {},
   "outputs": [],
   "source": [
    "X_TEST = df2"
   ]
  },
  {
   "cell_type": "code",
   "execution_count": 262,
   "metadata": {},
   "outputs": [],
   "source": [
    "pred = clf.predict(X_TEST)"
   ]
  },
  {
   "cell_type": "code",
   "execution_count": 264,
   "metadata": {},
   "outputs": [],
   "source": [
    "submission = pd.DataFrame({ 'Id': X_TEST.ID.values, 'successful_investment': pred })\n",
    "submission.to_csv(\"my_submission2.csv\", index=False)"
   ]
  },
  {
   "cell_type": "code",
   "execution_count": null,
   "metadata": {},
   "outputs": [],
   "source": []
  }
 ],
 "metadata": {
  "kernelspec": {
   "display_name": "Python 3",
   "language": "python",
   "name": "python3"
  },
  "language_info": {
   "codemirror_mode": {
    "name": "ipython",
    "version": 3
   },
   "file_extension": ".py",
   "mimetype": "text/x-python",
   "name": "python",
   "nbconvert_exporter": "python",
   "pygments_lexer": "ipython3",
   "version": "3.7.3"
  }
 },
 "nbformat": 4,
 "nbformat_minor": 2
}
